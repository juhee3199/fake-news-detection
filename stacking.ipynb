{
  "nbformat": 4,
  "nbformat_minor": 0,
  "metadata": {
    "colab": {
      "name": "주희 - stacking.ipynb",
      "provenance": [],
      "collapsed_sections": [
        "eGvB-9C1dT-F",
        "9XsyleuEe_H0",
        "Fh9-A5kki8pL",
        "aVIzTkFySP9x",
        "FPKiOiLAenlg",
        "vE2LIzwUWU7F",
        "a2Vqd61JSdLQ",
        "MbxuS9XGfi0-",
        "D2lgJxOJhB_8",
        "yvfhyUwNiRMP",
        "-7BaH2GTi2tV",
        "7_xlENgJjmZ_",
        "xHzJqErgFEMm",
        "U3Ghet-Dwiau",
        "QTGrQTG0_DcA"
      ]
    },
    "kernelspec": {
      "name": "python3",
      "display_name": "Python 3"
    }
  },
  "cells": [
    {
      "cell_type": "markdown",
      "metadata": {
        "id": "_3LcHWdoaKXK"
      },
      "source": [
        "#**EDA를 통한 변수 추가 모델**"
      ]
    },
    {
      "cell_type": "code",
      "metadata": {
        "colab": {
          "base_uri": "https://localhost:8080/"
        },
        "id": "Pxp2JcmbNN_l",
        "outputId": "037e3842-5bf8-44f7-cffd-de8bf164e6a7"
      },
      "source": [
        "# 내 드라이브에 대한 주소\r\n",
        "from google.colab import drive\r\n",
        "drive.mount('/content/drive')"
      ],
      "execution_count": 4,
      "outputs": [
        {
          "output_type": "stream",
          "text": [
            "Mounted at /content/drive\n"
          ],
          "name": "stdout"
        }
      ]
    },
    {
      "cell_type": "code",
      "metadata": {
        "id": "xH9XAIwVNM6i"
      },
      "source": [
        "import numpy as np\r\n",
        "import pandas as pd\r\n",
        "import tensorflow as tf\r\n",
        "from tensorflow import keras\r\n",
        "import seaborn as sns\r\n",
        "import matplotlib.pyplot as plt"
      ],
      "execution_count": 5,
      "outputs": []
    },
    {
      "cell_type": "code",
      "metadata": {
        "id": "tR74GZMCBBuz"
      },
      "source": [
        "# 내 드라이브에 대한 주소\r\n",
        "path = \"/content/drive/MyDrive/Colab Notebooks/dacon_news\"\r\n",
        "\r\n",
        "train = pd.read_csv(path + \"/data/news_train.csv\")\r\n",
        "#try_train = pd.read_csv(\"try_title_data.csv\")\r\n",
        "test = pd.read_csv(path + \"/data/news_test.csv\")"
      ],
      "execution_count": 38,
      "outputs": []
    },
    {
      "cell_type": "code",
      "metadata": {
        "colab": {
          "base_uri": "https://localhost:8080/",
          "height": 200
        },
        "id": "VH0uB590RJZ5",
        "outputId": "45f98eb3-c1a1-41c4-f3a2-9a31fdd11a39"
      },
      "source": [
        "train.head()"
      ],
      "execution_count": 39,
      "outputs": [
        {
          "output_type": "execute_result",
          "data": {
            "text/html": [
              "<div>\n",
              "<style scoped>\n",
              "    .dataframe tbody tr th:only-of-type {\n",
              "        vertical-align: middle;\n",
              "    }\n",
              "\n",
              "    .dataframe tbody tr th {\n",
              "        vertical-align: top;\n",
              "    }\n",
              "\n",
              "    .dataframe thead th {\n",
              "        text-align: right;\n",
              "    }\n",
              "</style>\n",
              "<table border=\"1\" class=\"dataframe\">\n",
              "  <thead>\n",
              "    <tr style=\"text-align: right;\">\n",
              "      <th></th>\n",
              "      <th>n_id</th>\n",
              "      <th>date</th>\n",
              "      <th>title</th>\n",
              "      <th>content</th>\n",
              "      <th>ord</th>\n",
              "      <th>info</th>\n",
              "    </tr>\n",
              "  </thead>\n",
              "  <tbody>\n",
              "    <tr>\n",
              "      <th>0</th>\n",
              "      <td>NEWS02580</td>\n",
              "      <td>20200605</td>\n",
              "      <td>[마감]코스닥 기관 678억 순매도</td>\n",
              "      <td>[이데일리 MARKETPOINT]15:32 현재 코스닥 기관 678억 순매도</td>\n",
              "      <td>1</td>\n",
              "      <td>0</td>\n",
              "    </tr>\n",
              "    <tr>\n",
              "      <th>1</th>\n",
              "      <td>NEWS02580</td>\n",
              "      <td>20200605</td>\n",
              "      <td>[마감]코스닥 기관 678억 순매도</td>\n",
              "      <td>\"실적기반\" 저가에 매집해야 할 8월 급등유망주 TOP 5 전격공개</td>\n",
              "      <td>2</td>\n",
              "      <td>1</td>\n",
              "    </tr>\n",
              "    <tr>\n",
              "      <th>2</th>\n",
              "      <td>NEWS02580</td>\n",
              "      <td>20200605</td>\n",
              "      <td>[마감]코스닥 기관 678억 순매도</td>\n",
              "      <td>하이스탁론, 선취수수료 없는 월 0.4% 최저금리 상품 출시</td>\n",
              "      <td>3</td>\n",
              "      <td>1</td>\n",
              "    </tr>\n",
              "    <tr>\n",
              "      <th>3</th>\n",
              "      <td>NEWS02580</td>\n",
              "      <td>20200605</td>\n",
              "      <td>[마감]코스닥 기관 678억 순매도</td>\n",
              "      <td>종합 경제정보 미디어 이데일리 - 무단전재 &amp; 재배포 금지</td>\n",
              "      <td>4</td>\n",
              "      <td>0</td>\n",
              "    </tr>\n",
              "    <tr>\n",
              "      <th>4</th>\n",
              "      <td>NEWS09727</td>\n",
              "      <td>20200626</td>\n",
              "      <td>롯데·공영 등 7개 TV 홈쇼핑들, 동행세일 동참</td>\n",
              "      <td>전국적인 소비 붐 조성에 기여할 예정</td>\n",
              "      <td>1</td>\n",
              "      <td>0</td>\n",
              "    </tr>\n",
              "  </tbody>\n",
              "</table>\n",
              "</div>"
            ],
            "text/plain": [
              "        n_id      date  ... ord info\n",
              "0  NEWS02580  20200605  ...   1    0\n",
              "1  NEWS02580  20200605  ...   2    1\n",
              "2  NEWS02580  20200605  ...   3    1\n",
              "3  NEWS02580  20200605  ...   4    0\n",
              "4  NEWS09727  20200626  ...   1    0\n",
              "\n",
              "[5 rows x 6 columns]"
            ]
          },
          "metadata": {
            "tags": []
          },
          "execution_count": 39
        }
      ]
    },
    {
      "cell_type": "markdown",
      "metadata": {
        "id": "o346VrtzZatW"
      },
      "source": [
        "# content 맨앞이 [이거나 (이면 0"
      ]
    },
    {
      "cell_type": "code",
      "metadata": {
        "id": "bcwUcZBRVEvd"
      },
      "source": [
        "train[\"content_startswith_[\"]=train.content.apply(lambda x : str(x).startswith(\"[\" ) or str(x).startswith(\"(\") or str(x).startswith(\"제목\"))+0"
      ],
      "execution_count": 40,
      "outputs": []
    },
    {
      "cell_type": "markdown",
      "metadata": {
        "id": "upG2RgbFWdeb"
      },
      "source": [
        "# 타이틀을 이용한 feature\r\n",
        "- 해당 title에 몇가지 단어가 들어갈 경우 약 90% 이상이 info가 1"
      ]
    },
    {
      "cell_type": "code",
      "metadata": {
        "id": "zKfe60qER799"
      },
      "source": [
        "title_noise = ['적중 100%', '글로벌 주요 뉴스', '[전문가 의견]', \r\n",
        "               '[포커스]', '※','■', '▶' ,'◆','★',' TOP', 'BEST',\r\n",
        "'전문가의 눈', '전문가선정', '전문가의견','】','후속주도 감사합니다',\r\n",
        "               '전문가추천', '주요이슈']\r\n",
        "\r\n",
        "def title_choose(x):\r\n",
        "  if (\"종목\" in x[-6:]) or (\"관련주\" in x[-5:]):\r\n",
        "    return 1\r\n",
        "  for noise in title_noise:\r\n",
        "    if noise in x.upper():\r\n",
        "        return 1\r\n",
        "  return 0"
      ],
      "execution_count": 41,
      "outputs": []
    },
    {
      "cell_type": "code",
      "metadata": {
        "id": "1scNCdG8ZWRy"
      },
      "source": [
        "train[\"info1_title\"]=train['title'].apply(title_choose)"
      ],
      "execution_count": 42,
      "outputs": []
    },
    {
      "cell_type": "markdown",
      "metadata": {
        "id": "JP_h-HL7RmvU"
      },
      "source": [
        "# content를 이용한 feature"
      ]
    },
    {
      "cell_type": "code",
      "metadata": {
        "id": "NlrmrsR1RqCo"
      },
      "source": [
        "content_noise = ['00%', '긴급공개', '긴급 공개','임상3상', 'TOP','BEST','# ','대장株','대장주','카톡','원\"만']\r\n",
        "\r\n",
        "def content_choose(x):\r\n",
        "  if (x.count(\"..\")>=2) or (x.count(\"+\")>=2) or (x.count(\"~\")>=2) :\r\n",
        "    return 1\r\n",
        "  elif (x=='관련기사') or (x==\"관련 테마분석\") or (x==\"코스피\") or (x==\"코스닥\"):\r\n",
        "    return 1\r\n",
        "  for noise in content_noise:\r\n",
        "    if noise in x.upper():\r\n",
        "        return 1\r\n",
        "  return 0"
      ],
      "execution_count": 43,
      "outputs": []
    },
    {
      "cell_type": "code",
      "metadata": {
        "id": "YWoQmRopTf79"
      },
      "source": [
        "train[\"info1_content\"]=train[\"content\"].apply(content_choose)"
      ],
      "execution_count": 44,
      "outputs": []
    },
    {
      "cell_type": "markdown",
      "metadata": {
        "id": "vbS7TN-xgARn"
      },
      "source": [
        "# Order을 이용한 feature"
      ]
    },
    {
      "cell_type": "code",
      "metadata": {
        "id": "P5Tf50Emf-39"
      },
      "source": [
        "title_group = (train.groupby([\"title\"]).count())[\"n_id\"]\r\n",
        "train[\"new_ord\"]=train.apply(lambda x: x[\"ord\"]/title_group[x[\"title\"]], axis=1)"
      ],
      "execution_count": 45,
      "outputs": []
    },
    {
      "cell_type": "code",
      "metadata": {
        "colab": {
          "base_uri": "https://localhost:8080/",
          "height": 472
        },
        "id": "SWM9950gXs8b",
        "outputId": "533b5fcb-9908-4684-aa59-d2f193dd436e"
      },
      "source": [
        "train.head()"
      ],
      "execution_count": 46,
      "outputs": [
        {
          "output_type": "execute_result",
          "data": {
            "text/html": [
              "<div>\n",
              "<style scoped>\n",
              "    .dataframe tbody tr th:only-of-type {\n",
              "        vertical-align: middle;\n",
              "    }\n",
              "\n",
              "    .dataframe tbody tr th {\n",
              "        vertical-align: top;\n",
              "    }\n",
              "\n",
              "    .dataframe thead th {\n",
              "        text-align: right;\n",
              "    }\n",
              "</style>\n",
              "<table border=\"1\" class=\"dataframe\">\n",
              "  <thead>\n",
              "    <tr style=\"text-align: right;\">\n",
              "      <th></th>\n",
              "      <th>n_id</th>\n",
              "      <th>date</th>\n",
              "      <th>title</th>\n",
              "      <th>content</th>\n",
              "      <th>ord</th>\n",
              "      <th>info</th>\n",
              "      <th>content_startswith_[</th>\n",
              "      <th>info1_title</th>\n",
              "      <th>info1_content</th>\n",
              "      <th>new_ord</th>\n",
              "    </tr>\n",
              "  </thead>\n",
              "  <tbody>\n",
              "    <tr>\n",
              "      <th>0</th>\n",
              "      <td>NEWS02580</td>\n",
              "      <td>20200605</td>\n",
              "      <td>[마감]코스닥 기관 678억 순매도</td>\n",
              "      <td>[이데일리 MARKETPOINT]15:32 현재 코스닥 기관 678억 순매도</td>\n",
              "      <td>1</td>\n",
              "      <td>0</td>\n",
              "      <td>1</td>\n",
              "      <td>0</td>\n",
              "      <td>0</td>\n",
              "      <td>0.250000</td>\n",
              "    </tr>\n",
              "    <tr>\n",
              "      <th>1</th>\n",
              "      <td>NEWS02580</td>\n",
              "      <td>20200605</td>\n",
              "      <td>[마감]코스닥 기관 678억 순매도</td>\n",
              "      <td>\"실적기반\" 저가에 매집해야 할 8월 급등유망주 TOP 5 전격공개</td>\n",
              "      <td>2</td>\n",
              "      <td>1</td>\n",
              "      <td>0</td>\n",
              "      <td>0</td>\n",
              "      <td>1</td>\n",
              "      <td>0.500000</td>\n",
              "    </tr>\n",
              "    <tr>\n",
              "      <th>2</th>\n",
              "      <td>NEWS02580</td>\n",
              "      <td>20200605</td>\n",
              "      <td>[마감]코스닥 기관 678억 순매도</td>\n",
              "      <td>하이스탁론, 선취수수료 없는 월 0.4% 최저금리 상품 출시</td>\n",
              "      <td>3</td>\n",
              "      <td>1</td>\n",
              "      <td>0</td>\n",
              "      <td>0</td>\n",
              "      <td>0</td>\n",
              "      <td>0.750000</td>\n",
              "    </tr>\n",
              "    <tr>\n",
              "      <th>3</th>\n",
              "      <td>NEWS02580</td>\n",
              "      <td>20200605</td>\n",
              "      <td>[마감]코스닥 기관 678억 순매도</td>\n",
              "      <td>종합 경제정보 미디어 이데일리 - 무단전재 &amp; 재배포 금지</td>\n",
              "      <td>4</td>\n",
              "      <td>0</td>\n",
              "      <td>0</td>\n",
              "      <td>0</td>\n",
              "      <td>0</td>\n",
              "      <td>1.000000</td>\n",
              "    </tr>\n",
              "    <tr>\n",
              "      <th>4</th>\n",
              "      <td>NEWS09727</td>\n",
              "      <td>20200626</td>\n",
              "      <td>롯데·공영 등 7개 TV 홈쇼핑들, 동행세일 동참</td>\n",
              "      <td>전국적인 소비 붐 조성에 기여할 예정</td>\n",
              "      <td>1</td>\n",
              "      <td>0</td>\n",
              "      <td>0</td>\n",
              "      <td>0</td>\n",
              "      <td>0</td>\n",
              "      <td>0.066667</td>\n",
              "    </tr>\n",
              "  </tbody>\n",
              "</table>\n",
              "</div>"
            ],
            "text/plain": [
              "        n_id      date  ... info1_content   new_ord\n",
              "0  NEWS02580  20200605  ...             0  0.250000\n",
              "1  NEWS02580  20200605  ...             1  0.500000\n",
              "2  NEWS02580  20200605  ...             0  0.750000\n",
              "3  NEWS02580  20200605  ...             0  1.000000\n",
              "4  NEWS09727  20200626  ...             0  0.066667\n",
              "\n",
              "[5 rows x 10 columns]"
            ]
          },
          "metadata": {
            "tags": []
          },
          "execution_count": 46
        }
      ]
    },
    {
      "cell_type": "markdown",
      "metadata": {
        "id": "0TOb5PyeZc40"
      },
      "source": [
        "# tokenization"
      ]
    },
    {
      "cell_type": "code",
      "metadata": {
        "id": "FwAQw1o2Av2C",
        "colab": {
          "base_uri": "https://localhost:8080/"
        },
        "outputId": "1883ba1a-8bb0-498b-f886-a4871ba1af20"
      },
      "source": [
        "# konlpy Mecab 사용하기\r\n",
        "\r\n",
        "!set -x \\\r\n",
        "&& pip install konlpy \\\r\n",
        "&& curl -s https://raw.githubusercontent.com/konlpy/konlpy/master/scripts/mecab.sh | bash -x"
      ],
      "execution_count": 47,
      "outputs": [
        {
          "output_type": "stream",
          "text": [
            "+ pip install konlpy\n",
            "Requirement already satisfied: konlpy in /usr/local/lib/python3.6/dist-packages (0.5.2)\n",
            "Requirement already satisfied: colorama in /usr/local/lib/python3.6/dist-packages (from konlpy) (0.4.4)\n",
            "Requirement already satisfied: tweepy>=3.7.0 in /usr/local/lib/python3.6/dist-packages (from konlpy) (3.10.0)\n",
            "Requirement already satisfied: beautifulsoup4==4.6.0 in /usr/local/lib/python3.6/dist-packages (from konlpy) (4.6.0)\n",
            "Requirement already satisfied: numpy>=1.6 in /usr/local/lib/python3.6/dist-packages (from konlpy) (1.19.4)\n",
            "Requirement already satisfied: JPype1>=0.7.0 in /usr/local/lib/python3.6/dist-packages (from konlpy) (1.2.0)\n",
            "Requirement already satisfied: lxml>=4.1.0 in /usr/local/lib/python3.6/dist-packages (from konlpy) (4.2.6)\n",
            "Requirement already satisfied: requests-oauthlib>=0.7.0 in /usr/local/lib/python3.6/dist-packages (from tweepy>=3.7.0->konlpy) (1.3.0)\n",
            "Requirement already satisfied: requests[socks]>=2.11.1 in /usr/local/lib/python3.6/dist-packages (from tweepy>=3.7.0->konlpy) (2.23.0)\n",
            "Requirement already satisfied: six>=1.10.0 in /usr/local/lib/python3.6/dist-packages (from tweepy>=3.7.0->konlpy) (1.15.0)\n",
            "Requirement already satisfied: typing-extensions; python_version < \"3.8\" in /usr/local/lib/python3.6/dist-packages (from JPype1>=0.7.0->konlpy) (3.7.4.3)\n",
            "Requirement already satisfied: oauthlib>=3.0.0 in /usr/local/lib/python3.6/dist-packages (from requests-oauthlib>=0.7.0->tweepy>=3.7.0->konlpy) (3.1.0)\n",
            "Requirement already satisfied: chardet<4,>=3.0.2 in /usr/local/lib/python3.6/dist-packages (from requests[socks]>=2.11.1->tweepy>=3.7.0->konlpy) (3.0.4)\n",
            "Requirement already satisfied: urllib3!=1.25.0,!=1.25.1,<1.26,>=1.21.1 in /usr/local/lib/python3.6/dist-packages (from requests[socks]>=2.11.1->tweepy>=3.7.0->konlpy) (1.24.3)\n",
            "Requirement already satisfied: idna<3,>=2.5 in /usr/local/lib/python3.6/dist-packages (from requests[socks]>=2.11.1->tweepy>=3.7.0->konlpy) (2.10)\n",
            "Requirement already satisfied: certifi>=2017.4.17 in /usr/local/lib/python3.6/dist-packages (from requests[socks]>=2.11.1->tweepy>=3.7.0->konlpy) (2020.12.5)\n",
            "Requirement already satisfied: PySocks!=1.5.7,>=1.5.6; extra == \"socks\" in /usr/local/lib/python3.6/dist-packages (from requests[socks]>=2.11.1->tweepy>=3.7.0->konlpy) (1.7.1)\n",
            "+ curl -s https://raw.githubusercontent.com/konlpy/konlpy/master/scripts/mecab.sh\n",
            "+ bash -x\n",
            "+ mecab_dicdir=/usr/local/lib/mecab/dic/mecab-ko-dic\n",
            "+ set -e\n",
            "++ uname\n",
            "+ os=Linux\n",
            "+ [[ ! Linux == \\L\\i\\n\\u\\x ]]\n",
            "+ hash sudo\n",
            "+ sudo=sudo\n",
            "+ python=python3\n",
            "+ hash pyenv\n",
            "+ at_user_site=\n",
            "++ check_python_site_location_is_writable\n",
            "++ python3 -\n",
            "+ [[ 1 == \\0 ]]\n",
            "+ hash automake\n",
            "+ hash mecab\n",
            "+ echo 'mecab-ko is already installed'\n",
            "mecab-ko is already installed\n",
            "+ [[ -d /usr/local/lib/mecab/dic/mecab-ko-dic ]]\n",
            "+ echo 'mecab-ko-dic is already installed'\n",
            "mecab-ko-dic is already installed\n",
            "++ python3 -c 'import pkgutil; print(1 if pkgutil.find_loader(\"MeCab\") else 0)'\n",
            "+ [[ 1 == \\1 ]]\n",
            "+ echo 'mecab-python is already installed'\n",
            "mecab-python is already installed\n",
            "+ echo Done.\n",
            "Done.\n"
          ],
          "name": "stdout"
        }
      ]
    },
    {
      "cell_type": "code",
      "metadata": {
        "id": "Piur47l5A1TI"
      },
      "source": [
        "from konlpy.tag import Mecab\r\n",
        "import re\r\n",
        "from konlpy.tag import Okt\r\n",
        "\r\n",
        "def text_preprocessing(text_list):\r\n",
        "    \r\n",
        "    stopwords = []\r\n",
        "    tokenizer = Mecab() #형태소 분석기\r\n",
        "\r\n",
        "    token_list = [] \r\n",
        "    \r\n",
        "    for text in text_list:\r\n",
        "        txt = re.sub(\"[a-zA-Z0-9]\", ' ', text) #영문, 숫자 제거 -> 특수문자는 제거하지 않음\r\n",
        "        txt = re.sub('[가-힣\\s]+기자]','기자', txt) #기자 이름 제거\r\n",
        "        token = tokenizer.morphs(txt) #형태소 분석\r\n",
        "\r\n",
        "        token = [t for t in token] \r\n",
        "        token_list.append(token)\r\n",
        "        \r\n",
        "    return token_list, tokenizer\r\n",
        "\r\n",
        "#형태소 분석기를 따로 저장한 이유는 후에 test 데이터 전처리를 진행할 때 이용해야 되기 때문입니다.\r\n",
        "train['new_article'], okt = text_preprocessing(train['content'])"
      ],
      "execution_count": 48,
      "outputs": []
    },
    {
      "cell_type": "code",
      "metadata": {
        "id": "9fJgEe3joxSc"
      },
      "source": [
        "# 결측치 제거\r\n",
        "train = train[train[\"new_article\"].apply(lambda x: False if len(x)==0 else True)]"
      ],
      "execution_count": 49,
      "outputs": []
    },
    {
      "cell_type": "code",
      "metadata": {
        "colab": {
          "base_uri": "https://localhost:8080/",
          "height": 765
        },
        "id": "cAVTxWTDSk_w",
        "outputId": "0e9edc77-8b9b-4036-cdda-7a71ad8f0cf3"
      },
      "source": [
        "train.head()"
      ],
      "execution_count": 50,
      "outputs": [
        {
          "output_type": "execute_result",
          "data": {
            "text/html": [
              "<div>\n",
              "<style scoped>\n",
              "    .dataframe tbody tr th:only-of-type {\n",
              "        vertical-align: middle;\n",
              "    }\n",
              "\n",
              "    .dataframe tbody tr th {\n",
              "        vertical-align: top;\n",
              "    }\n",
              "\n",
              "    .dataframe thead th {\n",
              "        text-align: right;\n",
              "    }\n",
              "</style>\n",
              "<table border=\"1\" class=\"dataframe\">\n",
              "  <thead>\n",
              "    <tr style=\"text-align: right;\">\n",
              "      <th></th>\n",
              "      <th>n_id</th>\n",
              "      <th>date</th>\n",
              "      <th>title</th>\n",
              "      <th>content</th>\n",
              "      <th>ord</th>\n",
              "      <th>info</th>\n",
              "      <th>content_startswith_[</th>\n",
              "      <th>info1_title</th>\n",
              "      <th>info1_content</th>\n",
              "      <th>new_ord</th>\n",
              "      <th>new_article</th>\n",
              "    </tr>\n",
              "  </thead>\n",
              "  <tbody>\n",
              "    <tr>\n",
              "      <th>0</th>\n",
              "      <td>NEWS02580</td>\n",
              "      <td>20200605</td>\n",
              "      <td>[마감]코스닥 기관 678억 순매도</td>\n",
              "      <td>[이데일리 MARKETPOINT]15:32 현재 코스닥 기관 678억 순매도</td>\n",
              "      <td>1</td>\n",
              "      <td>0</td>\n",
              "      <td>1</td>\n",
              "      <td>0</td>\n",
              "      <td>0</td>\n",
              "      <td>0.250000</td>\n",
              "      <td>[[, 이, 데일리, ], :, 현재, 코스닥, 기관, 억, 순매도]</td>\n",
              "    </tr>\n",
              "    <tr>\n",
              "      <th>1</th>\n",
              "      <td>NEWS02580</td>\n",
              "      <td>20200605</td>\n",
              "      <td>[마감]코스닥 기관 678억 순매도</td>\n",
              "      <td>\"실적기반\" 저가에 매집해야 할 8월 급등유망주 TOP 5 전격공개</td>\n",
              "      <td>2</td>\n",
              "      <td>1</td>\n",
              "      <td>0</td>\n",
              "      <td>0</td>\n",
              "      <td>1</td>\n",
              "      <td>0.500000</td>\n",
              "      <td>[\", 실적, 기반, \", 저, 가, 에, 매집, 해야, 할, 월, 급등, 유망주,...</td>\n",
              "    </tr>\n",
              "    <tr>\n",
              "      <th>2</th>\n",
              "      <td>NEWS02580</td>\n",
              "      <td>20200605</td>\n",
              "      <td>[마감]코스닥 기관 678억 순매도</td>\n",
              "      <td>하이스탁론, 선취수수료 없는 월 0.4% 최저금리 상품 출시</td>\n",
              "      <td>3</td>\n",
              "      <td>1</td>\n",
              "      <td>0</td>\n",
              "      <td>0</td>\n",
              "      <td>0</td>\n",
              "      <td>0.750000</td>\n",
              "      <td>[하이스, 탁론, ,, 선취, 수수료, 없, 는, 월, ., %, 최저, 금리, 상...</td>\n",
              "    </tr>\n",
              "    <tr>\n",
              "      <th>3</th>\n",
              "      <td>NEWS02580</td>\n",
              "      <td>20200605</td>\n",
              "      <td>[마감]코스닥 기관 678억 순매도</td>\n",
              "      <td>종합 경제정보 미디어 이데일리 - 무단전재 &amp; 재배포 금지</td>\n",
              "      <td>4</td>\n",
              "      <td>0</td>\n",
              "      <td>0</td>\n",
              "      <td>0</td>\n",
              "      <td>0</td>\n",
              "      <td>1.000000</td>\n",
              "      <td>[종합, 경제, 정보, 미디어, 이, 데일리, -, 무단, 전재, &amp;, 재, 배포,...</td>\n",
              "    </tr>\n",
              "    <tr>\n",
              "      <th>4</th>\n",
              "      <td>NEWS09727</td>\n",
              "      <td>20200626</td>\n",
              "      <td>롯데·공영 등 7개 TV 홈쇼핑들, 동행세일 동참</td>\n",
              "      <td>전국적인 소비 붐 조성에 기여할 예정</td>\n",
              "      <td>1</td>\n",
              "      <td>0</td>\n",
              "      <td>0</td>\n",
              "      <td>0</td>\n",
              "      <td>0</td>\n",
              "      <td>0.066667</td>\n",
              "      <td>[전국, 적, 인, 소비, 붐, 조성, 에, 기여, 할, 예정]</td>\n",
              "    </tr>\n",
              "  </tbody>\n",
              "</table>\n",
              "</div>"
            ],
            "text/plain": [
              "        n_id  ...                                        new_article\n",
              "0  NEWS02580  ...             [[, 이, 데일리, ], :, 현재, 코스닥, 기관, 억, 순매도]\n",
              "1  NEWS02580  ...  [\", 실적, 기반, \", 저, 가, 에, 매집, 해야, 할, 월, 급등, 유망주,...\n",
              "2  NEWS02580  ...  [하이스, 탁론, ,, 선취, 수수료, 없, 는, 월, ., %, 최저, 금리, 상...\n",
              "3  NEWS02580  ...  [종합, 경제, 정보, 미디어, 이, 데일리, -, 무단, 전재, &, 재, 배포,...\n",
              "4  NEWS09727  ...                [전국, 적, 인, 소비, 붐, 조성, 에, 기여, 할, 예정]\n",
              "\n",
              "[5 rows x 11 columns]"
            ]
          },
          "metadata": {
            "tags": []
          },
          "execution_count": 50
        }
      ]
    },
    {
      "cell_type": "markdown",
      "metadata": {
        "id": "Cyht3PbGT7SR"
      },
      "source": [
        "# Vectorization"
      ]
    },
    {
      "cell_type": "code",
      "metadata": {
        "id": "F5O1nOzRK2AR",
        "colab": {
          "base_uri": "https://localhost:8080/"
        },
        "outputId": "b883e790-69cf-43b4-8ba6-8c120ae11de2"
      },
      "source": [
        "from tensorflow.keras.preprocessing.text import Tokenizer\r\n",
        "from tensorflow.keras.preprocessing.sequence import pad_sequences\r\n",
        "max_len = 20\r\n",
        "\r\n",
        "def text2sequence(train_text, max_len=100):\r\n",
        "    \r\n",
        "    tokenizer = Tokenizer()\r\n",
        "    tokenizer.fit_on_texts(train_text)\r\n",
        "    train_X_seq = tokenizer.texts_to_sequences(train_text)\r\n",
        "    vocab_size = len(tokenizer.word_index) + 1\r\n",
        "    print('vocab_size : ', vocab_size)\r\n",
        "    X_train = pad_sequences(train_X_seq, maxlen = max_len, truncating=\"post\") # 길이를 맞춰줌\r\n",
        "    return X_train, vocab_size, tokenizer\r\n",
        "\r\n",
        "train_y = train['info']\r\n",
        "train_X, vocab_size, vectorizer = text2sequence(train['new_article'], max_len = max_len)\r\n",
        "\r\n",
        "print(train_X.shape, train_y.shape)\r\n",
        "\r\n",
        "# train_X new_article을 vectorizer"
      ],
      "execution_count": 66,
      "outputs": [
        {
          "output_type": "stream",
          "text": [
            "vocab_size :  33798\n",
            "(118676, 20) (118676,)\n"
          ],
          "name": "stdout"
        }
      ]
    },
    {
      "cell_type": "markdown",
      "metadata": {
        "id": "C8iGEGCizF2Z"
      },
      "source": [
        "# Word2Vec"
      ]
    },
    {
      "cell_type": "code",
      "metadata": {
        "id": "VD2cSguB8uG6"
      },
      "source": [
        "import gensim\r\n",
        "from gensim.models.keyedvectors import KeyedVectors"
      ],
      "execution_count": 52,
      "outputs": []
    },
    {
      "cell_type": "code",
      "metadata": {
        "id": "sW-x5RpSVORb"
      },
      "source": [
        "# 직접 만든 word2vec model\r\n",
        "#word2vec_customize = gensim.models.Word2Vec.load(\"embedding_300_10_10_all.model\")\r\n",
        "\r\n",
        "word2vec_customize = gensim.models.Word2Vec.load(\"/content/drive/MyDrive/Colab Notebooks/dacon_news/embedding/embedding_300_10_30_all.model\")\r\n",
        "embedding_size = 300"
      ],
      "execution_count": 53,
      "outputs": []
    },
    {
      "cell_type": "code",
      "metadata": {
        "id": "z_Q7-70BR5oO"
      },
      "source": [
        "# \"\"\"\r\n",
        "# 구글 word2vec 모델\r\n",
        "\r\n",
        "# word2vec_g = gensim.models.KeyedVectors.load_word2vec_format(path+'embedding/GoogleNews-vectors-negative300.bin.gz', binary = True)\r\n",
        "# embedding_size = 300\r\n",
        "# \"\"\""
      ],
      "execution_count": 33,
      "outputs": []
    },
    {
      "cell_type": "code",
      "metadata": {
        "id": "xd5zy8_5fwvT"
      },
      "source": [
        "# 한국어 word2vec model\r\n",
        "# word2vec2 = gensim.models.Word2Vec.load(path+'/embedding/ko.bin')\r\n",
        "# embedding_size = 200\r\n"
      ],
      "execution_count": 34,
      "outputs": []
    },
    {
      "cell_type": "code",
      "metadata": {
        "id": "EdSnbO4xWykD",
        "colab": {
          "base_uri": "https://localhost:8080/"
        },
        "outputId": "173e57e6-d390-4a84-f824-8b5ba6025fd5"
      },
      "source": [
        "embedding_matrix = np.zeros((vocab_size, embedding_size))\r\n",
        "vocab = vectorizer.word_index\r\n",
        "count = 0\r\n",
        "\r\n",
        "for idx, word in enumerate(vocab):\r\n",
        "    if word in word2vec_customize:\r\n",
        "      embedding_vector = word2vec_customize[word]\r\n",
        "      embedding_matrix[idx] = embedding_vector\r\n",
        "    else: # 임베딩 모델에 없는 것\r\n",
        "      #print(word, \"word2vec에 없는 단어입니다.\")\r\n",
        "      count += 1\r\n",
        "      pass\r\n",
        "\r\n",
        "print('count: ', count)  "
      ],
      "execution_count": 67,
      "outputs": [
        {
          "output_type": "stream",
          "text": [
            "count:  25472\n"
          ],
          "name": "stdout"
        },
        {
          "output_type": "stream",
          "text": [
            "/usr/local/lib/python3.6/dist-packages/ipykernel_launcher.py:6: DeprecationWarning: Call to deprecated `__contains__` (Method will be removed in 4.0.0, use self.wv.__contains__() instead).\n",
            "  \n",
            "/usr/local/lib/python3.6/dist-packages/ipykernel_launcher.py:7: DeprecationWarning: Call to deprecated `__getitem__` (Method will be removed in 4.0.0, use self.wv.__getitem__() instead).\n",
            "  import sys\n"
          ],
          "name": "stderr"
        }
      ]
    },
    {
      "cell_type": "code",
      "metadata": {
        "id": "dPK7Dzv8WWWP"
      },
      "source": [
        ""
      ],
      "execution_count": null,
      "outputs": []
    },
    {
      "cell_type": "markdown",
      "metadata": {
        "id": "6E9L7Gp6HcxM"
      },
      "source": [
        "#train test split"
      ]
    },
    {
      "cell_type": "code",
      "metadata": {
        "id": "OoqDYSIMXgSE"
      },
      "source": [
        "#concat\r\n",
        "feature_num = 4\r\n",
        "train_X = np.concatenate([train_X,train[[\"info1_title\",\"info1_content\",\"new_ord\",\"content_startswith_[\"]].values.reshape(-1,feature_num)], axis=1)\r\n",
        "train_X\r\n",
        "\r\n",
        "# 문장별로 train_test set 분리\r\n",
        "from sklearn.model_selection import train_test_split\r\n",
        "\r\n",
        "X_train, X_valid, y_train, y_valid = train_test_split(train_X, train_y, random_state = 42, test_size = 0.3)"
      ],
      "execution_count": 68,
      "outputs": []
    },
    {
      "cell_type": "code",
      "metadata": {
        "colab": {
          "base_uri": "https://localhost:8080/"
        },
        "id": "p1wCXGq1aAKX",
        "outputId": "8260234f-addb-4d38-ca6f-91fbf2220dac"
      },
      "source": [
        "X_train.shape"
      ],
      "execution_count": 69,
      "outputs": [
        {
          "output_type": "execute_result",
          "data": {
            "text/plain": [
              "(83073, 24)"
            ]
          },
          "metadata": {
            "tags": []
          },
          "execution_count": 69
        }
      ]
    },
    {
      "cell_type": "code",
      "metadata": {
        "id": "TPG9MRVr24ot"
      },
      "source": [
        "index_seq = (X_train.argmax(axis=1)).argsort(axis=0)  # 최대값 index를 반환하여 arry 정렬\r\n",
        "X_train = X_train[index_seq]\r\n",
        "y_train = y_train.iloc[index_seq]"
      ],
      "execution_count": 70,
      "outputs": []
    },
    {
      "cell_type": "code",
      "metadata": {
        "colab": {
          "base_uri": "https://localhost:8080/"
        },
        "id": "vs20YE0UbxzG",
        "outputId": "6ee93613-67b9-4f84-c3c6-e9222340e939"
      },
      "source": [
        "index_seq"
      ],
      "execution_count": 71,
      "outputs": [
        {
          "output_type": "execute_result",
          "data": {
            "text/plain": [
              "array([33419, 74506, 25139, ..., 48543, 48593, 28209])"
            ]
          },
          "metadata": {
            "tags": []
          },
          "execution_count": 71
        }
      ]
    },
    {
      "cell_type": "markdown",
      "metadata": {
        "id": "05aa4QSydL9n"
      },
      "source": [
        "# stacking 모델링\r\n",
        " GradientBoost,  AdaBoost, CatBoost, ExtraTree"
      ]
    },
    {
      "cell_type": "code",
      "metadata": {
        "colab": {
          "base_uri": "https://localhost:8080/"
        },
        "id": "X4gxrTcHQ1ZI",
        "outputId": "931c0a64-d9e6-4570-a870-b6f1b6832590"
      },
      "source": [
        "pip install catboost"
      ],
      "execution_count": 57,
      "outputs": [
        {
          "output_type": "stream",
          "text": [
            "Collecting catboost\n",
            "\u001b[?25l  Downloading https://files.pythonhosted.org/packages/20/37/bc4e0ddc30c07a96482abf1de7ed1ca54e59bba2026a33bca6d2ef286e5b/catboost-0.24.4-cp36-none-manylinux1_x86_64.whl (65.7MB)\n",
            "\u001b[K     |████████████████████████████████| 65.8MB 56kB/s \n",
            "\u001b[?25hRequirement already satisfied: graphviz in /usr/local/lib/python3.6/dist-packages (from catboost) (0.10.1)\n",
            "Requirement already satisfied: numpy>=1.16.0 in /usr/local/lib/python3.6/dist-packages (from catboost) (1.19.4)\n",
            "Requirement already satisfied: scipy in /usr/local/lib/python3.6/dist-packages (from catboost) (1.4.1)\n",
            "Requirement already satisfied: matplotlib in /usr/local/lib/python3.6/dist-packages (from catboost) (3.2.2)\n",
            "Requirement already satisfied: plotly in /usr/local/lib/python3.6/dist-packages (from catboost) (4.4.1)\n",
            "Requirement already satisfied: pandas>=0.24.0 in /usr/local/lib/python3.6/dist-packages (from catboost) (1.1.5)\n",
            "Requirement already satisfied: six in /usr/local/lib/python3.6/dist-packages (from catboost) (1.15.0)\n",
            "Requirement already satisfied: pyparsing!=2.0.4,!=2.1.2,!=2.1.6,>=2.0.1 in /usr/local/lib/python3.6/dist-packages (from matplotlib->catboost) (2.4.7)\n",
            "Requirement already satisfied: cycler>=0.10 in /usr/local/lib/python3.6/dist-packages (from matplotlib->catboost) (0.10.0)\n",
            "Requirement already satisfied: python-dateutil>=2.1 in /usr/local/lib/python3.6/dist-packages (from matplotlib->catboost) (2.8.1)\n",
            "Requirement already satisfied: kiwisolver>=1.0.1 in /usr/local/lib/python3.6/dist-packages (from matplotlib->catboost) (1.3.1)\n",
            "Requirement already satisfied: retrying>=1.3.3 in /usr/local/lib/python3.6/dist-packages (from plotly->catboost) (1.3.3)\n",
            "Requirement already satisfied: pytz>=2017.2 in /usr/local/lib/python3.6/dist-packages (from pandas>=0.24.0->catboost) (2018.9)\n",
            "Installing collected packages: catboost\n",
            "Successfully installed catboost-0.24.4\n"
          ],
          "name": "stdout"
        }
      ]
    },
    {
      "cell_type": "code",
      "metadata": {
        "id": "_loR1NcfrEhx"
      },
      "source": [
        "from sklearn.ensemble import GradientBoostingClassifier\r\n",
        "from sklearn.tree import DecisionTreeClassifier\r\n",
        "from sklearn.ensemble import AdaBoostClassifier\r\n",
        "import catboost\r\n",
        "from catboost import CatBoostClassifier\r\n",
        "from sklearn.ensemble import ExtraTreesClassifier\r\n",
        "from lightgbm import LGBMClassifier"
      ],
      "execution_count": 58,
      "outputs": []
    },
    {
      "cell_type": "code",
      "metadata": {
        "id": "2Tr66gmcq_-b"
      },
      "source": [
        "from sklearn.metrics import accuracy_score\r\n",
        "from sklearn.model_selection import GridSearchCV\r\n",
        "from sklearn.model_selection import StratifiedKFold\r\n",
        "\r\n",
        "from sklearn.externals import joblib\r\n",
        "import pickle"
      ],
      "execution_count": 59,
      "outputs": []
    },
    {
      "cell_type": "code",
      "metadata": {
        "id": "6sjDdMk-gdd_"
      },
      "source": [
        "\r\n",
        "# def auc(m, train, test): \r\n",
        "#     return (metrics.roc_auc_score(y_train,m.predict_proba(train)[:,1]),\r\n",
        "#                            metrics.roc_auc_score(y_test,m.predict_proba(test)[:,1]))\r\n",
        "    \r\n",
        "    \r\n",
        "# cv = StratifiedKFold(n_splits=5, shuffle=True, random_state=42)\r\n",
        "\r\n",
        "    "
      ],
      "execution_count": 27,
      "outputs": []
    },
    {
      "cell_type": "code",
      "metadata": {
        "id": "VyUadDePfdZc"
      },
      "source": [
        "# 모델 로드\r\n",
        "\r\n",
        "#with open('cb_clf.pkl', 'rb') as f:\r\n",
        "#  data = pickle.load(f)\r\n",
        "\r\n",
        "#data"
      ],
      "execution_count": null,
      "outputs": []
    },
    {
      "cell_type": "markdown",
      "metadata": {
        "id": "eGvB-9C1dT-F"
      },
      "source": [
        "### GradientBoost"
      ]
    },
    {
      "cell_type": "code",
      "metadata": {
        "colab": {
          "base_uri": "https://localhost:8080/"
        },
        "id": "r_CaeX4vdZNl",
        "outputId": "54e4fcad-65b4-4810-9384-06be7b59b337"
      },
      "source": [
        "from sklearn.ensemble import GradientBoostingClassifier\r\n",
        "\r\n",
        "gb_clf = GradientBoostingClassifier(random_state = 42) # 기본값: max_depth=3, learning_rate=0.1\r\n",
        "gb_clf.fit(X_train, y_train)\r\n"
      ],
      "execution_count": 72,
      "outputs": [
        {
          "output_type": "execute_result",
          "data": {
            "text/plain": [
              "GradientBoostingClassifier(ccp_alpha=0.0, criterion='friedman_mse', init=None,\n",
              "                           learning_rate=0.1, loss='deviance', max_depth=3,\n",
              "                           max_features=None, max_leaf_nodes=None,\n",
              "                           min_impurity_decrease=0.0, min_impurity_split=None,\n",
              "                           min_samples_leaf=1, min_samples_split=2,\n",
              "                           min_weight_fraction_leaf=0.0, n_estimators=100,\n",
              "                           n_iter_no_change=None, presort='deprecated',\n",
              "                           random_state=42, subsample=1.0, tol=0.0001,\n",
              "                           validation_fraction=0.1, verbose=0,\n",
              "                           warm_start=False)"
            ]
          },
          "metadata": {
            "tags": []
          },
          "execution_count": 72
        }
      ]
    },
    {
      "cell_type": "code",
      "metadata": {
        "colab": {
          "base_uri": "https://localhost:8080/"
        },
        "id": "mglvFV_jlSsq",
        "outputId": "3ae0774b-1e4c-4804-b68c-1690855b06a8"
      },
      "source": [
        "gb_pred = gb_clf.predict(X_valid)\r\n",
        "\r\n",
        "gb_acc = accuracy_score(y_valid, gb_pred)\r\n",
        "gb_acc"
      ],
      "execution_count": 73,
      "outputs": [
        {
          "output_type": "execute_result",
          "data": {
            "text/plain": [
              "0.9686824144032806"
            ]
          },
          "metadata": {
            "tags": []
          },
          "execution_count": 73
        }
      ]
    },
    {
      "cell_type": "code",
      "metadata": {
        "colab": {
          "base_uri": "https://localhost:8080/"
        },
        "id": "_4luByZchZLG",
        "outputId": "2a4286b2-f20d-4994-a00d-0fab683c39e0"
      },
      "source": [
        "gbm_params = {\r\n",
        "    'n_estimators' : [100, 1000],\r\n",
        "    'learning_rate' : [0.01, 0.1],\r\n",
        "}\r\n",
        "\r\n",
        "\r\n",
        "gb_grid = GridSearchCV(gb_clf, param_grid = gbm_params, cv = 3)\r\n",
        "gb_grid.fit(X_train, y_train)\r\n",
        "\r\n",
        "print('최적 하이퍼 파라미터:\\n', gb_grid.best_params_)\r\n",
        "print('최고 예측 정확도: {0:.6f}'.format(gb_grid.best_score_))"
      ],
      "execution_count": 102,
      "outputs": [
        {
          "output_type": "stream",
          "text": [
            "최적 하이퍼 파라미터:\n",
            " {'learning_rate': 0.1, 'n_estimators': 1000}\n",
            "최고 예측 정확도: 0.945277\n"
          ],
          "name": "stdout"
        }
      ]
    },
    {
      "cell_type": "code",
      "metadata": {
        "colab": {
          "base_uri": "https://localhost:8080/"
        },
        "id": "XoiYEhHtfoOc",
        "outputId": "20be7cd0-7d85-47b9-e5ac-5e78a7b067cb"
      },
      "source": [
        "joblib.dump(gb_grid,'gb_clf.pkl')"
      ],
      "execution_count": 103,
      "outputs": [
        {
          "output_type": "execute_result",
          "data": {
            "text/plain": [
              "['gb_clf.pkl']"
            ]
          },
          "metadata": {
            "tags": []
          },
          "execution_count": 103
        }
      ]
    },
    {
      "cell_type": "code",
      "metadata": {
        "colab": {
          "base_uri": "https://localhost:8080/"
        },
        "id": "LCRzIaCTgRig",
        "outputId": "751e5d9b-9c34-4e9b-90c3-9c36b5a129d5"
      },
      "source": [
        "gb_pred = gb_grid.best_estimator_.predict(X_valid)\r\n",
        "\r\n",
        "gb_acc = accuracy_score(y_valid, gb_pred)\r\n",
        "gb_acc\r\n"
      ],
      "execution_count": 104,
      "outputs": [
        {
          "output_type": "execute_result",
          "data": {
            "text/plain": [
              "0.9865741650984468"
            ]
          },
          "metadata": {
            "tags": []
          },
          "execution_count": 104
        }
      ]
    },
    {
      "cell_type": "code",
      "metadata": {
        "colab": {
          "base_uri": "https://localhost:8080/"
        },
        "id": "vBVGXIwZhZBV",
        "outputId": "e0583ff9-e155-4fc5-edf3-449c015e14e1"
      },
      "source": [
        "gb_pred"
      ],
      "execution_count": 105,
      "outputs": [
        {
          "output_type": "execute_result",
          "data": {
            "text/plain": [
              "array([0, 0, 1, ..., 0, 1, 1], dtype=int64)"
            ]
          },
          "metadata": {
            "tags": []
          },
          "execution_count": 105
        }
      ]
    },
    {
      "cell_type": "code",
      "metadata": {
        "id": "ZZJQX2Uwq8iS",
        "colab": {
          "base_uri": "https://localhost:8080/",
          "height": 411
        },
        "outputId": "edbcba93-e8d2-40a1-aea7-ef7116b6bd93"
      },
      "source": [
        "gb_valid_pred = pd.DataFrame(gb_pred, columns =['GradientBoosting'])\r\n",
        "gb_valid_pred"
      ],
      "execution_count": 106,
      "outputs": [
        {
          "output_type": "execute_result",
          "data": {
            "text/html": [
              "<div>\n",
              "<style scoped>\n",
              "    .dataframe tbody tr th:only-of-type {\n",
              "        vertical-align: middle;\n",
              "    }\n",
              "\n",
              "    .dataframe tbody tr th {\n",
              "        vertical-align: top;\n",
              "    }\n",
              "\n",
              "    .dataframe thead th {\n",
              "        text-align: right;\n",
              "    }\n",
              "</style>\n",
              "<table border=\"1\" class=\"dataframe\">\n",
              "  <thead>\n",
              "    <tr style=\"text-align: right;\">\n",
              "      <th></th>\n",
              "      <th>GradientBoosting</th>\n",
              "    </tr>\n",
              "  </thead>\n",
              "  <tbody>\n",
              "    <tr>\n",
              "      <th>0</th>\n",
              "      <td>0</td>\n",
              "    </tr>\n",
              "    <tr>\n",
              "      <th>1</th>\n",
              "      <td>0</td>\n",
              "    </tr>\n",
              "    <tr>\n",
              "      <th>2</th>\n",
              "      <td>1</td>\n",
              "    </tr>\n",
              "    <tr>\n",
              "      <th>3</th>\n",
              "      <td>0</td>\n",
              "    </tr>\n",
              "    <tr>\n",
              "      <th>4</th>\n",
              "      <td>1</td>\n",
              "    </tr>\n",
              "    <tr>\n",
              "      <th>...</th>\n",
              "      <td>...</td>\n",
              "    </tr>\n",
              "    <tr>\n",
              "      <th>35598</th>\n",
              "      <td>0</td>\n",
              "    </tr>\n",
              "    <tr>\n",
              "      <th>35599</th>\n",
              "      <td>0</td>\n",
              "    </tr>\n",
              "    <tr>\n",
              "      <th>35600</th>\n",
              "      <td>0</td>\n",
              "    </tr>\n",
              "    <tr>\n",
              "      <th>35601</th>\n",
              "      <td>1</td>\n",
              "    </tr>\n",
              "    <tr>\n",
              "      <th>35602</th>\n",
              "      <td>1</td>\n",
              "    </tr>\n",
              "  </tbody>\n",
              "</table>\n",
              "<p>35603 rows × 1 columns</p>\n",
              "</div>"
            ],
            "text/plain": [
              "       GradientBoosting\n",
              "0                     0\n",
              "1                     0\n",
              "2                     1\n",
              "3                     0\n",
              "4                     1\n",
              "...                 ...\n",
              "35598                 0\n",
              "35599                 0\n",
              "35600                 0\n",
              "35601                 1\n",
              "35602                 1\n",
              "\n",
              "[35603 rows x 1 columns]"
            ]
          },
          "metadata": {
            "tags": []
          },
          "execution_count": 106
        }
      ]
    },
    {
      "cell_type": "code",
      "metadata": {
        "id": "Ny16Txqhg9de"
      },
      "source": [
        "# submit\r\n",
        "\r\n",
        "gb_valid_pred.to_csv(\"gb_valid_pred1.csv\", encoding=\"utf-8-sig\",index=False)"
      ],
      "execution_count": 107,
      "outputs": []
    },
    {
      "cell_type": "markdown",
      "metadata": {
        "id": "9XsyleuEe_H0"
      },
      "source": [
        "### AdaBoost"
      ]
    },
    {
      "cell_type": "markdown",
      "metadata": {
        "id": "78wX0F5toAkT"
      },
      "source": [
        "- n_estimators를 늘린다면\r\n",
        "\r\n",
        "생성하는 weak learner의 수는 늘어남\r\n",
        "\r\n",
        "이 여러 학습기들의 decision boundary가 많아지면서 모델이 복잡해짐\r\n",
        "\r\n",
        "- learning_rate을 줄인다면\r\n",
        "\r\n",
        "가중치 갱신의 변동폭이 감소해서, 여러 학습기들의 decision boundary 차이가 줄어듦\r\n",
        "\r\n",
        "- n_estimoatrs와 learning_Rate는 trade-off 관계\r\n",
        "n_estimators(또는 learning_rate)를 늘리고, learning_rate(또는 n_estimators)을 줄인다면 서로 효과가 상쇄됌.\r\n",
        "\r\n",
        "→ 두 파라미터를 잘 조정하는 것이 알고리즘의 핵심."
      ]
    },
    {
      "cell_type": "code",
      "metadata": {
        "colab": {
          "base_uri": "https://localhost:8080/"
        },
        "id": "fWVzHfByVCnA",
        "outputId": "d8755bde-b086-433a-9736-d0c37eb9a65a"
      },
      "source": [
        "DTC = DecisionTreeClassifier(max_depth = 1, random_state=42)\r\n",
        "\r\n",
        "ada_clf = AdaBoostClassifier(base_estimator = DTC, random_state=42) # default: estimators = 50, lr =1\r\n",
        "ada_clf.fit(X_train, y_train)"
      ],
      "execution_count": 75,
      "outputs": [
        {
          "output_type": "execute_result",
          "data": {
            "text/plain": [
              "AdaBoostClassifier(algorithm='SAMME.R',\n",
              "                   base_estimator=DecisionTreeClassifier(ccp_alpha=0.0,\n",
              "                                                         class_weight=None,\n",
              "                                                         criterion='gini',\n",
              "                                                         max_depth=1,\n",
              "                                                         max_features=None,\n",
              "                                                         max_leaf_nodes=None,\n",
              "                                                         min_impurity_decrease=0.0,\n",
              "                                                         min_impurity_split=None,\n",
              "                                                         min_samples_leaf=1,\n",
              "                                                         min_samples_split=2,\n",
              "                                                         min_weight_fraction_leaf=0.0,\n",
              "                                                         presort='deprecated',\n",
              "                                                         random_state=42,\n",
              "                                                         splitter='best'),\n",
              "                   learning_rate=1.0, n_estimators=50, random_state=42)"
            ]
          },
          "metadata": {
            "tags": []
          },
          "execution_count": 75
        }
      ]
    },
    {
      "cell_type": "code",
      "metadata": {
        "colab": {
          "base_uri": "https://localhost:8080/"
        },
        "id": "tbBmSRVCfA35",
        "outputId": "d06fa631-9ff5-4a19-c3e4-b12f7e2de3dc"
      },
      "source": [
        "ada_pred = ada_clf.predict(X_valid)\r\n",
        "ada_acc = accuracy_score(y_valid, ada_pred)\r\n",
        "ada_acc\r\n"
      ],
      "execution_count": 76,
      "outputs": [
        {
          "output_type": "execute_result",
          "data": {
            "text/plain": [
              "0.9563239052888801"
            ]
          },
          "metadata": {
            "tags": []
          },
          "execution_count": 76
        }
      ]
    },
    {
      "cell_type": "code",
      "metadata": {
        "colab": {
          "base_uri": "https://localhost:8080/"
        },
        "id": "Cqt360yqfA_c",
        "outputId": "21e09eb9-28dd-41cb-ec69-62fb0846459c"
      },
      "source": [
        "ada_params = {\r\n",
        "    'n_estimators' : [100,1000],\r\n",
        "    'learning_rate' : [0.01, 0.1, 1],\r\n",
        "}\r\n",
        "\r\n",
        "\r\n",
        "ada_grid = GridSearchCV(ada_clf, param_grid = ada_params, cv = 3)\r\n",
        "ada_grid.fit(X_train, y_train)\r\n",
        "\r\n",
        "print('최적 하이퍼 파라미터:\\n', ada_grid.best_params_)\r\n",
        "print('최고 예측 정확도: {0:.6f}'.format(ada_grid.best_score_))"
      ],
      "execution_count": 89,
      "outputs": [
        {
          "output_type": "stream",
          "text": [
            "최적 하이퍼 파라미터:\n",
            " {'learning_rate': 1, 'n_estimators': 1000}\n",
            "최고 예측 정확도: 0.926065\n"
          ],
          "name": "stdout"
        }
      ]
    },
    {
      "cell_type": "code",
      "metadata": {
        "colab": {
          "base_uri": "https://localhost:8080/"
        },
        "id": "Ew_M5w5rgFuf",
        "outputId": "c8218fec-95f5-454c-da79-d983006388cb"
      },
      "source": [
        "joblib.dump(ada_grid,'ada_grid.pkl')"
      ],
      "execution_count": 90,
      "outputs": [
        {
          "output_type": "execute_result",
          "data": {
            "text/plain": [
              "['ada_grid.pkl']"
            ]
          },
          "metadata": {
            "tags": []
          },
          "execution_count": 90
        }
      ]
    },
    {
      "cell_type": "code",
      "metadata": {
        "colab": {
          "base_uri": "https://localhost:8080/"
        },
        "id": "F_aPIJEjpLEc",
        "outputId": "c8f279c9-37e2-4019-80ba-56a7860cf856"
      },
      "source": [
        "# predict\r\n",
        "ada_pred = ada_grid.best_estimator_.predict(X_valid)\r\n",
        "\r\n",
        "ada_acc = accuracy_score(y_valid, ada_pred)\r\n",
        "ada_acc\r\n"
      ],
      "execution_count": 91,
      "outputs": [
        {
          "output_type": "execute_result",
          "data": {
            "text/plain": [
              "0.9763222200376372"
            ]
          },
          "metadata": {
            "tags": []
          },
          "execution_count": 91
        }
      ]
    },
    {
      "cell_type": "code",
      "metadata": {
        "colab": {
          "base_uri": "https://localhost:8080/",
          "height": 411
        },
        "id": "4sNzgzRupWLI",
        "outputId": "2817285d-36a6-4cc2-87f5-6ff3262eca8d"
      },
      "source": [
        "ada_valid_pred = pd.DataFrame(ada_pred, columns =['AdaBoost'])\r\n",
        "ada_valid_pred"
      ],
      "execution_count": 95,
      "outputs": [
        {
          "output_type": "execute_result",
          "data": {
            "text/html": [
              "<div>\n",
              "<style scoped>\n",
              "    .dataframe tbody tr th:only-of-type {\n",
              "        vertical-align: middle;\n",
              "    }\n",
              "\n",
              "    .dataframe tbody tr th {\n",
              "        vertical-align: top;\n",
              "    }\n",
              "\n",
              "    .dataframe thead th {\n",
              "        text-align: right;\n",
              "    }\n",
              "</style>\n",
              "<table border=\"1\" class=\"dataframe\">\n",
              "  <thead>\n",
              "    <tr style=\"text-align: right;\">\n",
              "      <th></th>\n",
              "      <th>AdaBoost</th>\n",
              "    </tr>\n",
              "  </thead>\n",
              "  <tbody>\n",
              "    <tr>\n",
              "      <th>0</th>\n",
              "      <td>0</td>\n",
              "    </tr>\n",
              "    <tr>\n",
              "      <th>1</th>\n",
              "      <td>0</td>\n",
              "    </tr>\n",
              "    <tr>\n",
              "      <th>2</th>\n",
              "      <td>1</td>\n",
              "    </tr>\n",
              "    <tr>\n",
              "      <th>3</th>\n",
              "      <td>0</td>\n",
              "    </tr>\n",
              "    <tr>\n",
              "      <th>4</th>\n",
              "      <td>1</td>\n",
              "    </tr>\n",
              "    <tr>\n",
              "      <th>...</th>\n",
              "      <td>...</td>\n",
              "    </tr>\n",
              "    <tr>\n",
              "      <th>35598</th>\n",
              "      <td>0</td>\n",
              "    </tr>\n",
              "    <tr>\n",
              "      <th>35599</th>\n",
              "      <td>0</td>\n",
              "    </tr>\n",
              "    <tr>\n",
              "      <th>35600</th>\n",
              "      <td>0</td>\n",
              "    </tr>\n",
              "    <tr>\n",
              "      <th>35601</th>\n",
              "      <td>1</td>\n",
              "    </tr>\n",
              "    <tr>\n",
              "      <th>35602</th>\n",
              "      <td>1</td>\n",
              "    </tr>\n",
              "  </tbody>\n",
              "</table>\n",
              "<p>35603 rows × 1 columns</p>\n",
              "</div>"
            ],
            "text/plain": [
              "       AdaBoost\n",
              "0             0\n",
              "1             0\n",
              "2             1\n",
              "3             0\n",
              "4             1\n",
              "...         ...\n",
              "35598         0\n",
              "35599         0\n",
              "35600         0\n",
              "35601         1\n",
              "35602         1\n",
              "\n",
              "[35603 rows x 1 columns]"
            ]
          },
          "metadata": {
            "tags": []
          },
          "execution_count": 95
        }
      ]
    },
    {
      "cell_type": "code",
      "metadata": {
        "id": "6d_YfPZ2O2LW"
      },
      "source": [
        "# submit\r\n",
        "\r\n",
        "ada_valid_pred.to_csv(\"ada_valid_pred1.csv\", encoding=\"utf-8-sig\",index=False)"
      ],
      "execution_count": 96,
      "outputs": []
    },
    {
      "cell_type": "markdown",
      "metadata": {
        "id": "Fh9-A5kki8pL"
      },
      "source": [
        "### catBoost"
      ]
    },
    {
      "cell_type": "code",
      "metadata": {
        "colab": {
          "base_uri": "https://localhost:8080/"
        },
        "id": "pmGK8uHvuQ8g",
        "outputId": "420a545d-c079-4e45-b042-e2c1063b447d"
      },
      "source": [
        "cb_clf = CatBoostClassifier(random_state=42)\r\n",
        "cb_clf.fit(X_train, y_train)\r\n",
        "\r\n",
        "cb_pred = cb_clf.predict(X_valid)\r\n"
      ],
      "execution_count": 78,
      "outputs": [
        {
          "output_type": "stream",
          "text": [
            "Learning rate set to 0.068005\n",
            "0:\tlearn: 0.5920023\ttotal: 105ms\tremaining: 1m 44s\n",
            "1:\tlearn: 0.5195088\ttotal: 148ms\tremaining: 1m 13s\n",
            "2:\tlearn: 0.4491934\ttotal: 188ms\tremaining: 1m 2s\n",
            "3:\tlearn: 0.3974978\ttotal: 233ms\tremaining: 58.1s\n",
            "4:\tlearn: 0.3606706\ttotal: 274ms\tremaining: 54.5s\n",
            "5:\tlearn: 0.3327232\ttotal: 315ms\tremaining: 52.2s\n",
            "6:\tlearn: 0.3065909\ttotal: 357ms\tremaining: 50.7s\n",
            "7:\tlearn: 0.2837123\ttotal: 406ms\tremaining: 50.3s\n",
            "8:\tlearn: 0.2685990\ttotal: 451ms\tremaining: 49.7s\n",
            "9:\tlearn: 0.2563493\ttotal: 493ms\tremaining: 48.8s\n",
            "10:\tlearn: 0.2455583\ttotal: 531ms\tremaining: 47.7s\n",
            "11:\tlearn: 0.2322818\ttotal: 572ms\tremaining: 47.1s\n",
            "12:\tlearn: 0.2246313\ttotal: 618ms\tremaining: 46.9s\n",
            "13:\tlearn: 0.2162493\ttotal: 659ms\tremaining: 46.4s\n",
            "14:\tlearn: 0.2088295\ttotal: 712ms\tremaining: 46.7s\n",
            "15:\tlearn: 0.2018063\ttotal: 757ms\tremaining: 46.6s\n",
            "16:\tlearn: 0.1959765\ttotal: 798ms\tremaining: 46.2s\n",
            "17:\tlearn: 0.1897272\ttotal: 846ms\tremaining: 46.1s\n",
            "18:\tlearn: 0.1840163\ttotal: 886ms\tremaining: 45.7s\n",
            "19:\tlearn: 0.1797403\ttotal: 927ms\tremaining: 45.4s\n",
            "20:\tlearn: 0.1751887\ttotal: 970ms\tremaining: 45.2s\n",
            "21:\tlearn: 0.1715800\ttotal: 1.01s\tremaining: 45s\n",
            "22:\tlearn: 0.1659592\ttotal: 1.06s\tremaining: 45.1s\n",
            "23:\tlearn: 0.1618923\ttotal: 1.1s\tremaining: 44.8s\n",
            "24:\tlearn: 0.1583492\ttotal: 1.14s\tremaining: 44.6s\n",
            "25:\tlearn: 0.1558957\ttotal: 1.18s\tremaining: 44.4s\n",
            "26:\tlearn: 0.1517327\ttotal: 1.23s\tremaining: 44.2s\n",
            "27:\tlearn: 0.1488430\ttotal: 1.27s\tremaining: 44.1s\n",
            "28:\tlearn: 0.1455637\ttotal: 1.31s\tremaining: 43.9s\n",
            "29:\tlearn: 0.1435616\ttotal: 1.35s\tremaining: 43.7s\n",
            "30:\tlearn: 0.1411111\ttotal: 1.4s\tremaining: 43.8s\n",
            "31:\tlearn: 0.1383575\ttotal: 1.44s\tremaining: 43.7s\n",
            "32:\tlearn: 0.1357645\ttotal: 1.49s\tremaining: 43.7s\n",
            "33:\tlearn: 0.1338624\ttotal: 1.53s\tremaining: 43.6s\n",
            "34:\tlearn: 0.1319724\ttotal: 1.57s\tremaining: 43.4s\n",
            "35:\tlearn: 0.1300642\ttotal: 1.61s\tremaining: 43.2s\n",
            "36:\tlearn: 0.1281445\ttotal: 1.65s\tremaining: 43.1s\n",
            "37:\tlearn: 0.1253788\ttotal: 1.71s\tremaining: 43.3s\n",
            "38:\tlearn: 0.1236997\ttotal: 1.75s\tremaining: 43.2s\n",
            "39:\tlearn: 0.1223831\ttotal: 1.8s\tremaining: 43.1s\n",
            "40:\tlearn: 0.1210987\ttotal: 1.84s\tremaining: 43.1s\n",
            "41:\tlearn: 0.1186960\ttotal: 1.89s\tremaining: 43.1s\n",
            "42:\tlearn: 0.1172339\ttotal: 1.93s\tremaining: 43s\n",
            "43:\tlearn: 0.1156009\ttotal: 1.98s\tremaining: 43s\n",
            "44:\tlearn: 0.1142975\ttotal: 2.02s\tremaining: 42.9s\n",
            "45:\tlearn: 0.1131153\ttotal: 2.06s\tremaining: 42.8s\n",
            "46:\tlearn: 0.1118471\ttotal: 2.1s\tremaining: 42.7s\n",
            "47:\tlearn: 0.1109469\ttotal: 2.15s\tremaining: 42.6s\n",
            "48:\tlearn: 0.1091268\ttotal: 2.19s\tremaining: 42.5s\n",
            "49:\tlearn: 0.1078608\ttotal: 2.23s\tremaining: 42.5s\n",
            "50:\tlearn: 0.1070159\ttotal: 2.28s\tremaining: 42.4s\n",
            "51:\tlearn: 0.1061594\ttotal: 2.32s\tremaining: 42.3s\n",
            "52:\tlearn: 0.1052779\ttotal: 2.36s\tremaining: 42.2s\n",
            "53:\tlearn: 0.1045387\ttotal: 2.41s\tremaining: 42.2s\n",
            "54:\tlearn: 0.1033148\ttotal: 2.45s\tremaining: 42.1s\n",
            "55:\tlearn: 0.1025583\ttotal: 2.49s\tremaining: 42s\n",
            "56:\tlearn: 0.1016192\ttotal: 2.54s\tremaining: 42s\n",
            "57:\tlearn: 0.1003084\ttotal: 2.59s\tremaining: 42s\n",
            "58:\tlearn: 0.0995534\ttotal: 2.63s\tremaining: 41.9s\n",
            "59:\tlearn: 0.0988017\ttotal: 2.67s\tremaining: 41.8s\n",
            "60:\tlearn: 0.0980812\ttotal: 2.72s\tremaining: 41.9s\n",
            "61:\tlearn: 0.0973934\ttotal: 2.76s\tremaining: 41.8s\n",
            "62:\tlearn: 0.0964727\ttotal: 2.81s\tremaining: 41.8s\n",
            "63:\tlearn: 0.0958696\ttotal: 2.85s\tremaining: 41.6s\n",
            "64:\tlearn: 0.0952429\ttotal: 2.89s\tremaining: 41.5s\n",
            "65:\tlearn: 0.0945926\ttotal: 2.93s\tremaining: 41.5s\n",
            "66:\tlearn: 0.0940172\ttotal: 2.97s\tremaining: 41.4s\n",
            "67:\tlearn: 0.0930956\ttotal: 3.01s\tremaining: 41.3s\n",
            "68:\tlearn: 0.0924944\ttotal: 3.06s\tremaining: 41.2s\n",
            "69:\tlearn: 0.0917374\ttotal: 3.1s\tremaining: 41.1s\n",
            "70:\tlearn: 0.0908778\ttotal: 3.14s\tremaining: 41.1s\n",
            "71:\tlearn: 0.0903262\ttotal: 3.18s\tremaining: 41s\n",
            "72:\tlearn: 0.0897525\ttotal: 3.23s\tremaining: 41.1s\n",
            "73:\tlearn: 0.0891032\ttotal: 3.28s\tremaining: 41s\n",
            "74:\tlearn: 0.0882622\ttotal: 3.32s\tremaining: 40.9s\n",
            "75:\tlearn: 0.0878222\ttotal: 3.36s\tremaining: 40.9s\n",
            "76:\tlearn: 0.0873382\ttotal: 3.4s\tremaining: 40.8s\n",
            "77:\tlearn: 0.0869810\ttotal: 3.45s\tremaining: 40.8s\n",
            "78:\tlearn: 0.0862807\ttotal: 3.49s\tremaining: 40.7s\n",
            "79:\tlearn: 0.0857036\ttotal: 3.53s\tremaining: 40.6s\n",
            "80:\tlearn: 0.0852494\ttotal: 3.57s\tremaining: 40.5s\n",
            "81:\tlearn: 0.0848083\ttotal: 3.62s\tremaining: 40.5s\n",
            "82:\tlearn: 0.0842772\ttotal: 3.67s\tremaining: 40.5s\n",
            "83:\tlearn: 0.0839161\ttotal: 3.72s\tremaining: 40.6s\n",
            "84:\tlearn: 0.0834374\ttotal: 3.76s\tremaining: 40.5s\n",
            "85:\tlearn: 0.0830794\ttotal: 3.8s\tremaining: 40.4s\n",
            "86:\tlearn: 0.0827819\ttotal: 3.84s\tremaining: 40.3s\n",
            "87:\tlearn: 0.0823644\ttotal: 3.89s\tremaining: 40.3s\n",
            "88:\tlearn: 0.0820645\ttotal: 3.93s\tremaining: 40.2s\n",
            "89:\tlearn: 0.0817139\ttotal: 3.97s\tremaining: 40.2s\n",
            "90:\tlearn: 0.0813121\ttotal: 4.02s\tremaining: 40.1s\n",
            "91:\tlearn: 0.0808522\ttotal: 4.06s\tremaining: 40.1s\n",
            "92:\tlearn: 0.0805182\ttotal: 4.11s\tremaining: 40s\n",
            "93:\tlearn: 0.0802451\ttotal: 4.15s\tremaining: 40s\n",
            "94:\tlearn: 0.0799190\ttotal: 4.18s\tremaining: 39.9s\n",
            "95:\tlearn: 0.0792677\ttotal: 4.23s\tremaining: 39.8s\n",
            "96:\tlearn: 0.0789129\ttotal: 4.27s\tremaining: 39.8s\n",
            "97:\tlearn: 0.0785278\ttotal: 4.32s\tremaining: 39.8s\n",
            "98:\tlearn: 0.0778693\ttotal: 4.37s\tremaining: 39.7s\n",
            "99:\tlearn: 0.0775069\ttotal: 4.41s\tremaining: 39.7s\n",
            "100:\tlearn: 0.0773001\ttotal: 4.45s\tremaining: 39.6s\n",
            "101:\tlearn: 0.0769550\ttotal: 4.49s\tremaining: 39.5s\n",
            "102:\tlearn: 0.0766586\ttotal: 4.53s\tremaining: 39.5s\n",
            "103:\tlearn: 0.0764126\ttotal: 4.58s\tremaining: 39.5s\n",
            "104:\tlearn: 0.0761796\ttotal: 4.62s\tremaining: 39.4s\n",
            "105:\tlearn: 0.0758357\ttotal: 4.67s\tremaining: 39.4s\n",
            "106:\tlearn: 0.0752733\ttotal: 4.71s\tremaining: 39.3s\n",
            "107:\tlearn: 0.0750042\ttotal: 4.76s\tremaining: 39.3s\n",
            "108:\tlearn: 0.0747883\ttotal: 4.8s\tremaining: 39.2s\n",
            "109:\tlearn: 0.0744456\ttotal: 4.84s\tremaining: 39.2s\n",
            "110:\tlearn: 0.0741586\ttotal: 4.88s\tremaining: 39.1s\n",
            "111:\tlearn: 0.0738319\ttotal: 4.92s\tremaining: 39s\n",
            "112:\tlearn: 0.0732837\ttotal: 4.97s\tremaining: 39s\n",
            "113:\tlearn: 0.0731110\ttotal: 5.02s\tremaining: 39s\n",
            "114:\tlearn: 0.0727551\ttotal: 5.06s\tremaining: 39s\n",
            "115:\tlearn: 0.0724634\ttotal: 5.1s\tremaining: 38.9s\n",
            "116:\tlearn: 0.0722171\ttotal: 5.14s\tremaining: 38.8s\n",
            "117:\tlearn: 0.0719240\ttotal: 5.19s\tremaining: 38.8s\n",
            "118:\tlearn: 0.0717002\ttotal: 5.23s\tremaining: 38.7s\n",
            "119:\tlearn: 0.0714364\ttotal: 5.27s\tremaining: 38.6s\n",
            "120:\tlearn: 0.0712542\ttotal: 5.31s\tremaining: 38.6s\n",
            "121:\tlearn: 0.0709079\ttotal: 5.35s\tremaining: 38.5s\n",
            "122:\tlearn: 0.0706371\ttotal: 5.4s\tremaining: 38.5s\n",
            "123:\tlearn: 0.0703816\ttotal: 5.44s\tremaining: 38.4s\n",
            "124:\tlearn: 0.0699814\ttotal: 5.48s\tremaining: 38.4s\n",
            "125:\tlearn: 0.0695370\ttotal: 5.53s\tremaining: 38.3s\n",
            "126:\tlearn: 0.0693990\ttotal: 5.57s\tremaining: 38.3s\n",
            "127:\tlearn: 0.0690953\ttotal: 5.61s\tremaining: 38.2s\n",
            "128:\tlearn: 0.0687941\ttotal: 5.66s\tremaining: 38.2s\n",
            "129:\tlearn: 0.0683187\ttotal: 5.7s\tremaining: 38.2s\n",
            "130:\tlearn: 0.0681215\ttotal: 5.75s\tremaining: 38.2s\n",
            "131:\tlearn: 0.0679048\ttotal: 5.79s\tremaining: 38.1s\n",
            "132:\tlearn: 0.0677008\ttotal: 5.84s\tremaining: 38.1s\n",
            "133:\tlearn: 0.0675197\ttotal: 5.88s\tremaining: 38s\n",
            "134:\tlearn: 0.0672256\ttotal: 5.92s\tremaining: 37.9s\n",
            "135:\tlearn: 0.0670791\ttotal: 5.96s\tremaining: 37.9s\n",
            "136:\tlearn: 0.0668770\ttotal: 6s\tremaining: 37.8s\n",
            "137:\tlearn: 0.0667712\ttotal: 6.05s\tremaining: 37.8s\n",
            "138:\tlearn: 0.0663066\ttotal: 6.09s\tremaining: 37.7s\n",
            "139:\tlearn: 0.0661280\ttotal: 6.13s\tremaining: 37.7s\n",
            "140:\tlearn: 0.0659282\ttotal: 6.17s\tremaining: 37.6s\n",
            "141:\tlearn: 0.0656503\ttotal: 6.22s\tremaining: 37.6s\n",
            "142:\tlearn: 0.0654561\ttotal: 6.26s\tremaining: 37.5s\n",
            "143:\tlearn: 0.0652903\ttotal: 6.3s\tremaining: 37.5s\n",
            "144:\tlearn: 0.0651229\ttotal: 6.35s\tremaining: 37.4s\n",
            "145:\tlearn: 0.0648412\ttotal: 6.39s\tremaining: 37.4s\n",
            "146:\tlearn: 0.0646475\ttotal: 6.43s\tremaining: 37.3s\n",
            "147:\tlearn: 0.0644821\ttotal: 6.47s\tremaining: 37.3s\n",
            "148:\tlearn: 0.0642504\ttotal: 6.52s\tremaining: 37.2s\n",
            "149:\tlearn: 0.0640714\ttotal: 6.56s\tremaining: 37.2s\n",
            "150:\tlearn: 0.0638540\ttotal: 6.6s\tremaining: 37.1s\n",
            "151:\tlearn: 0.0637240\ttotal: 6.64s\tremaining: 37s\n",
            "152:\tlearn: 0.0636066\ttotal: 6.68s\tremaining: 37s\n",
            "153:\tlearn: 0.0634073\ttotal: 6.73s\tremaining: 37s\n",
            "154:\tlearn: 0.0631846\ttotal: 6.78s\tremaining: 36.9s\n",
            "155:\tlearn: 0.0630323\ttotal: 6.82s\tremaining: 36.9s\n",
            "156:\tlearn: 0.0628877\ttotal: 6.86s\tremaining: 36.8s\n",
            "157:\tlearn: 0.0625920\ttotal: 6.9s\tremaining: 36.8s\n",
            "158:\tlearn: 0.0624421\ttotal: 6.94s\tremaining: 36.7s\n",
            "159:\tlearn: 0.0622716\ttotal: 6.98s\tremaining: 36.7s\n",
            "160:\tlearn: 0.0621613\ttotal: 7.02s\tremaining: 36.6s\n",
            "161:\tlearn: 0.0620168\ttotal: 7.06s\tremaining: 36.5s\n",
            "162:\tlearn: 0.0619409\ttotal: 7.1s\tremaining: 36.5s\n",
            "163:\tlearn: 0.0616592\ttotal: 7.14s\tremaining: 36.4s\n",
            "164:\tlearn: 0.0615227\ttotal: 7.19s\tremaining: 36.4s\n",
            "165:\tlearn: 0.0614020\ttotal: 7.23s\tremaining: 36.3s\n",
            "166:\tlearn: 0.0612342\ttotal: 7.27s\tremaining: 36.3s\n",
            "167:\tlearn: 0.0610762\ttotal: 7.31s\tremaining: 36.2s\n",
            "168:\tlearn: 0.0608811\ttotal: 7.36s\tremaining: 36.2s\n",
            "169:\tlearn: 0.0607811\ttotal: 7.39s\tremaining: 36.1s\n",
            "170:\tlearn: 0.0606686\ttotal: 7.43s\tremaining: 36s\n",
            "171:\tlearn: 0.0604807\ttotal: 7.47s\tremaining: 36s\n",
            "172:\tlearn: 0.0603518\ttotal: 7.52s\tremaining: 36s\n",
            "173:\tlearn: 0.0601971\ttotal: 7.56s\tremaining: 35.9s\n",
            "174:\tlearn: 0.0600340\ttotal: 7.61s\tremaining: 35.9s\n",
            "175:\tlearn: 0.0597591\ttotal: 7.65s\tremaining: 35.8s\n",
            "176:\tlearn: 0.0596253\ttotal: 7.69s\tremaining: 35.8s\n",
            "177:\tlearn: 0.0595077\ttotal: 7.75s\tremaining: 35.8s\n",
            "178:\tlearn: 0.0592341\ttotal: 7.79s\tremaining: 35.7s\n",
            "179:\tlearn: 0.0590200\ttotal: 7.83s\tremaining: 35.7s\n",
            "180:\tlearn: 0.0588749\ttotal: 7.87s\tremaining: 35.6s\n",
            "181:\tlearn: 0.0587861\ttotal: 7.91s\tremaining: 35.6s\n",
            "182:\tlearn: 0.0586174\ttotal: 7.96s\tremaining: 35.5s\n",
            "183:\tlearn: 0.0585239\ttotal: 8.01s\tremaining: 35.5s\n",
            "184:\tlearn: 0.0583612\ttotal: 8.05s\tremaining: 35.5s\n",
            "185:\tlearn: 0.0582415\ttotal: 8.09s\tremaining: 35.4s\n",
            "186:\tlearn: 0.0581429\ttotal: 8.13s\tremaining: 35.3s\n",
            "187:\tlearn: 0.0580629\ttotal: 8.17s\tremaining: 35.3s\n",
            "188:\tlearn: 0.0578931\ttotal: 8.22s\tremaining: 35.3s\n",
            "189:\tlearn: 0.0575436\ttotal: 8.26s\tremaining: 35.2s\n",
            "190:\tlearn: 0.0572870\ttotal: 8.31s\tremaining: 35.2s\n",
            "191:\tlearn: 0.0570043\ttotal: 8.35s\tremaining: 35.2s\n",
            "192:\tlearn: 0.0569017\ttotal: 8.4s\tremaining: 35.1s\n",
            "193:\tlearn: 0.0567599\ttotal: 8.44s\tremaining: 35.1s\n",
            "194:\tlearn: 0.0566363\ttotal: 8.48s\tremaining: 35s\n",
            "195:\tlearn: 0.0565011\ttotal: 8.52s\tremaining: 34.9s\n",
            "196:\tlearn: 0.0563180\ttotal: 8.56s\tremaining: 34.9s\n",
            "197:\tlearn: 0.0561428\ttotal: 8.6s\tremaining: 34.8s\n",
            "198:\tlearn: 0.0560694\ttotal: 8.65s\tremaining: 34.8s\n",
            "199:\tlearn: 0.0559433\ttotal: 8.69s\tremaining: 34.8s\n",
            "200:\tlearn: 0.0557317\ttotal: 8.73s\tremaining: 34.7s\n",
            "201:\tlearn: 0.0555913\ttotal: 8.78s\tremaining: 34.7s\n",
            "202:\tlearn: 0.0554541\ttotal: 8.82s\tremaining: 34.6s\n",
            "203:\tlearn: 0.0552926\ttotal: 8.86s\tremaining: 34.6s\n",
            "204:\tlearn: 0.0552011\ttotal: 8.9s\tremaining: 34.5s\n",
            "205:\tlearn: 0.0550604\ttotal: 8.95s\tremaining: 34.5s\n",
            "206:\tlearn: 0.0549761\ttotal: 8.98s\tremaining: 34.4s\n",
            "207:\tlearn: 0.0548352\ttotal: 9.03s\tremaining: 34.4s\n",
            "208:\tlearn: 0.0546966\ttotal: 9.07s\tremaining: 34.3s\n",
            "209:\tlearn: 0.0545473\ttotal: 9.12s\tremaining: 34.3s\n",
            "210:\tlearn: 0.0544686\ttotal: 9.18s\tremaining: 34.3s\n",
            "211:\tlearn: 0.0543585\ttotal: 9.23s\tremaining: 34.3s\n",
            "212:\tlearn: 0.0542593\ttotal: 9.27s\tremaining: 34.3s\n",
            "213:\tlearn: 0.0539504\ttotal: 9.31s\tremaining: 34.2s\n",
            "214:\tlearn: 0.0537798\ttotal: 9.35s\tremaining: 34.2s\n",
            "215:\tlearn: 0.0536785\ttotal: 9.4s\tremaining: 34.1s\n",
            "216:\tlearn: 0.0536142\ttotal: 9.44s\tremaining: 34s\n",
            "217:\tlearn: 0.0534729\ttotal: 9.49s\tremaining: 34s\n",
            "218:\tlearn: 0.0533722\ttotal: 9.53s\tremaining: 34s\n",
            "219:\tlearn: 0.0532658\ttotal: 9.57s\tremaining: 33.9s\n",
            "220:\tlearn: 0.0531789\ttotal: 9.61s\tremaining: 33.9s\n",
            "221:\tlearn: 0.0531074\ttotal: 9.65s\tremaining: 33.8s\n",
            "222:\tlearn: 0.0529658\ttotal: 9.69s\tremaining: 33.8s\n",
            "223:\tlearn: 0.0527899\ttotal: 9.74s\tremaining: 33.7s\n",
            "224:\tlearn: 0.0527176\ttotal: 9.78s\tremaining: 33.7s\n",
            "225:\tlearn: 0.0525319\ttotal: 9.82s\tremaining: 33.6s\n",
            "226:\tlearn: 0.0523813\ttotal: 9.87s\tremaining: 33.6s\n",
            "227:\tlearn: 0.0522590\ttotal: 9.92s\tremaining: 33.6s\n",
            "228:\tlearn: 0.0521817\ttotal: 9.96s\tremaining: 33.5s\n",
            "229:\tlearn: 0.0520658\ttotal: 10s\tremaining: 33.5s\n",
            "230:\tlearn: 0.0519696\ttotal: 10s\tremaining: 33.4s\n",
            "231:\tlearn: 0.0518675\ttotal: 10.1s\tremaining: 33.4s\n",
            "232:\tlearn: 0.0517651\ttotal: 10.1s\tremaining: 33.4s\n",
            "233:\tlearn: 0.0517240\ttotal: 10.2s\tremaining: 33.3s\n",
            "234:\tlearn: 0.0515527\ttotal: 10.2s\tremaining: 33.2s\n",
            "235:\tlearn: 0.0515022\ttotal: 10.3s\tremaining: 33.2s\n",
            "236:\tlearn: 0.0513875\ttotal: 10.3s\tremaining: 33.1s\n",
            "237:\tlearn: 0.0512748\ttotal: 10.3s\tremaining: 33.1s\n",
            "238:\tlearn: 0.0512177\ttotal: 10.4s\tremaining: 33s\n",
            "239:\tlearn: 0.0510740\ttotal: 10.4s\tremaining: 33s\n",
            "240:\tlearn: 0.0510074\ttotal: 10.5s\tremaining: 32.9s\n",
            "241:\tlearn: 0.0507659\ttotal: 10.5s\tremaining: 32.9s\n",
            "242:\tlearn: 0.0506361\ttotal: 10.6s\tremaining: 32.9s\n",
            "243:\tlearn: 0.0505343\ttotal: 10.6s\tremaining: 32.8s\n",
            "244:\tlearn: 0.0504443\ttotal: 10.6s\tremaining: 32.8s\n",
            "245:\tlearn: 0.0503865\ttotal: 10.7s\tremaining: 32.7s\n",
            "246:\tlearn: 0.0502991\ttotal: 10.7s\tremaining: 32.7s\n",
            "247:\tlearn: 0.0502222\ttotal: 10.8s\tremaining: 32.7s\n",
            "248:\tlearn: 0.0501043\ttotal: 10.8s\tremaining: 32.6s\n",
            "249:\tlearn: 0.0499720\ttotal: 10.9s\tremaining: 32.6s\n",
            "250:\tlearn: 0.0499082\ttotal: 10.9s\tremaining: 32.5s\n",
            "251:\tlearn: 0.0498535\ttotal: 10.9s\tremaining: 32.5s\n",
            "252:\tlearn: 0.0497662\ttotal: 11s\tremaining: 32.4s\n",
            "253:\tlearn: 0.0497000\ttotal: 11s\tremaining: 32.4s\n",
            "254:\tlearn: 0.0494997\ttotal: 11.1s\tremaining: 32.3s\n",
            "255:\tlearn: 0.0493971\ttotal: 11.1s\tremaining: 32.3s\n",
            "256:\tlearn: 0.0493243\ttotal: 11.1s\tremaining: 32.2s\n",
            "257:\tlearn: 0.0492246\ttotal: 11.2s\tremaining: 32.2s\n",
            "258:\tlearn: 0.0491192\ttotal: 11.2s\tremaining: 32.1s\n",
            "259:\tlearn: 0.0490027\ttotal: 11.3s\tremaining: 32.1s\n",
            "260:\tlearn: 0.0489546\ttotal: 11.3s\tremaining: 32s\n",
            "261:\tlearn: 0.0487692\ttotal: 11.4s\tremaining: 32s\n",
            "262:\tlearn: 0.0486747\ttotal: 11.4s\tremaining: 32s\n",
            "263:\tlearn: 0.0485663\ttotal: 11.5s\tremaining: 31.9s\n",
            "264:\tlearn: 0.0484659\ttotal: 11.5s\tremaining: 31.9s\n",
            "265:\tlearn: 0.0484212\ttotal: 11.5s\tremaining: 31.8s\n",
            "266:\tlearn: 0.0483578\ttotal: 11.6s\tremaining: 31.8s\n",
            "267:\tlearn: 0.0482523\ttotal: 11.6s\tremaining: 31.8s\n",
            "268:\tlearn: 0.0481569\ttotal: 11.7s\tremaining: 31.7s\n",
            "269:\tlearn: 0.0480916\ttotal: 11.7s\tremaining: 31.7s\n",
            "270:\tlearn: 0.0480069\ttotal: 11.8s\tremaining: 31.6s\n",
            "271:\tlearn: 0.0479342\ttotal: 11.8s\tremaining: 31.6s\n",
            "272:\tlearn: 0.0477890\ttotal: 11.9s\tremaining: 31.6s\n",
            "273:\tlearn: 0.0477181\ttotal: 11.9s\tremaining: 31.5s\n",
            "274:\tlearn: 0.0476853\ttotal: 11.9s\tremaining: 31.5s\n",
            "275:\tlearn: 0.0475970\ttotal: 12s\tremaining: 31.4s\n",
            "276:\tlearn: 0.0475434\ttotal: 12s\tremaining: 31.4s\n",
            "277:\tlearn: 0.0474295\ttotal: 12.1s\tremaining: 31.3s\n",
            "278:\tlearn: 0.0472862\ttotal: 12.1s\tremaining: 31.3s\n",
            "279:\tlearn: 0.0472093\ttotal: 12.1s\tremaining: 31.2s\n",
            "280:\tlearn: 0.0471257\ttotal: 12.2s\tremaining: 31.2s\n",
            "281:\tlearn: 0.0470344\ttotal: 12.2s\tremaining: 31.1s\n",
            "282:\tlearn: 0.0469570\ttotal: 12.3s\tremaining: 31.1s\n",
            "283:\tlearn: 0.0468823\ttotal: 12.3s\tremaining: 31.1s\n",
            "284:\tlearn: 0.0468267\ttotal: 12.4s\tremaining: 31s\n",
            "285:\tlearn: 0.0467143\ttotal: 12.4s\tremaining: 31s\n",
            "286:\tlearn: 0.0466050\ttotal: 12.4s\tremaining: 30.9s\n",
            "287:\tlearn: 0.0465639\ttotal: 12.5s\tremaining: 30.9s\n",
            "288:\tlearn: 0.0464731\ttotal: 12.5s\tremaining: 30.8s\n",
            "289:\tlearn: 0.0464246\ttotal: 12.6s\tremaining: 30.8s\n",
            "290:\tlearn: 0.0463071\ttotal: 12.6s\tremaining: 30.7s\n",
            "291:\tlearn: 0.0462766\ttotal: 12.7s\tremaining: 30.7s\n",
            "292:\tlearn: 0.0462030\ttotal: 12.7s\tremaining: 30.6s\n",
            "293:\tlearn: 0.0461472\ttotal: 12.7s\tremaining: 30.6s\n",
            "294:\tlearn: 0.0460557\ttotal: 12.8s\tremaining: 30.6s\n",
            "295:\tlearn: 0.0459406\ttotal: 12.8s\tremaining: 30.5s\n",
            "296:\tlearn: 0.0459014\ttotal: 12.9s\tremaining: 30.5s\n",
            "297:\tlearn: 0.0457587\ttotal: 12.9s\tremaining: 30.4s\n",
            "298:\tlearn: 0.0456648\ttotal: 13s\tremaining: 30.4s\n",
            "299:\tlearn: 0.0455818\ttotal: 13s\tremaining: 30.3s\n",
            "300:\tlearn: 0.0454942\ttotal: 13s\tremaining: 30.3s\n",
            "301:\tlearn: 0.0454601\ttotal: 13.1s\tremaining: 30.2s\n",
            "302:\tlearn: 0.0453780\ttotal: 13.1s\tremaining: 30.2s\n",
            "303:\tlearn: 0.0453177\ttotal: 13.2s\tremaining: 30.1s\n",
            "304:\tlearn: 0.0452737\ttotal: 13.2s\tremaining: 30.1s\n",
            "305:\tlearn: 0.0451822\ttotal: 13.3s\tremaining: 30.1s\n",
            "306:\tlearn: 0.0451280\ttotal: 13.3s\tremaining: 30s\n",
            "307:\tlearn: 0.0450559\ttotal: 13.3s\tremaining: 30s\n",
            "308:\tlearn: 0.0450037\ttotal: 13.4s\tremaining: 29.9s\n",
            "309:\tlearn: 0.0449235\ttotal: 13.4s\tremaining: 29.9s\n",
            "310:\tlearn: 0.0448867\ttotal: 13.5s\tremaining: 29.8s\n",
            "311:\tlearn: 0.0448392\ttotal: 13.5s\tremaining: 29.8s\n",
            "312:\tlearn: 0.0447808\ttotal: 13.5s\tremaining: 29.7s\n",
            "313:\tlearn: 0.0446804\ttotal: 13.6s\tremaining: 29.7s\n",
            "314:\tlearn: 0.0446303\ttotal: 13.6s\tremaining: 29.6s\n",
            "315:\tlearn: 0.0445638\ttotal: 13.7s\tremaining: 29.6s\n",
            "316:\tlearn: 0.0444936\ttotal: 13.7s\tremaining: 29.5s\n",
            "317:\tlearn: 0.0444440\ttotal: 13.8s\tremaining: 29.5s\n",
            "318:\tlearn: 0.0443397\ttotal: 13.8s\tremaining: 29.5s\n",
            "319:\tlearn: 0.0442543\ttotal: 13.9s\tremaining: 29.4s\n",
            "320:\tlearn: 0.0441747\ttotal: 13.9s\tremaining: 29.4s\n",
            "321:\tlearn: 0.0440964\ttotal: 13.9s\tremaining: 29.3s\n",
            "322:\tlearn: 0.0440438\ttotal: 14s\tremaining: 29.3s\n",
            "323:\tlearn: 0.0439392\ttotal: 14s\tremaining: 29.2s\n",
            "324:\tlearn: 0.0438625\ttotal: 14.1s\tremaining: 29.2s\n",
            "325:\tlearn: 0.0438063\ttotal: 14.1s\tremaining: 29.2s\n",
            "326:\tlearn: 0.0437221\ttotal: 14.1s\tremaining: 29.1s\n",
            "327:\tlearn: 0.0436360\ttotal: 14.2s\tremaining: 29.1s\n",
            "328:\tlearn: 0.0435584\ttotal: 14.2s\tremaining: 29s\n",
            "329:\tlearn: 0.0434598\ttotal: 14.3s\tremaining: 29s\n",
            "330:\tlearn: 0.0433666\ttotal: 14.3s\tremaining: 28.9s\n",
            "331:\tlearn: 0.0432447\ttotal: 14.4s\tremaining: 28.9s\n",
            "332:\tlearn: 0.0431378\ttotal: 14.4s\tremaining: 28.9s\n",
            "333:\tlearn: 0.0430817\ttotal: 14.5s\tremaining: 28.8s\n",
            "334:\tlearn: 0.0430281\ttotal: 14.5s\tremaining: 28.8s\n",
            "335:\tlearn: 0.0429423\ttotal: 14.5s\tremaining: 28.7s\n",
            "336:\tlearn: 0.0428960\ttotal: 14.6s\tremaining: 28.7s\n",
            "337:\tlearn: 0.0428612\ttotal: 14.6s\tremaining: 28.6s\n",
            "338:\tlearn: 0.0427707\ttotal: 14.7s\tremaining: 28.6s\n",
            "339:\tlearn: 0.0427197\ttotal: 14.7s\tremaining: 28.6s\n",
            "340:\tlearn: 0.0426682\ttotal: 14.8s\tremaining: 28.5s\n",
            "341:\tlearn: 0.0426224\ttotal: 14.8s\tremaining: 28.5s\n",
            "342:\tlearn: 0.0425449\ttotal: 14.8s\tremaining: 28.4s\n",
            "343:\tlearn: 0.0424912\ttotal: 14.9s\tremaining: 28.4s\n",
            "344:\tlearn: 0.0424294\ttotal: 14.9s\tremaining: 28.3s\n",
            "345:\tlearn: 0.0424078\ttotal: 15s\tremaining: 28.3s\n",
            "346:\tlearn: 0.0423617\ttotal: 15s\tremaining: 28.2s\n",
            "347:\tlearn: 0.0422934\ttotal: 15s\tremaining: 28.2s\n",
            "348:\tlearn: 0.0421583\ttotal: 15.1s\tremaining: 28.1s\n",
            "349:\tlearn: 0.0420937\ttotal: 15.1s\tremaining: 28.1s\n",
            "350:\tlearn: 0.0420358\ttotal: 15.2s\tremaining: 28.1s\n",
            "351:\tlearn: 0.0420107\ttotal: 15.2s\tremaining: 28s\n",
            "352:\tlearn: 0.0419422\ttotal: 15.3s\tremaining: 28s\n",
            "353:\tlearn: 0.0419049\ttotal: 15.3s\tremaining: 27.9s\n",
            "354:\tlearn: 0.0418818\ttotal: 15.3s\tremaining: 27.9s\n",
            "355:\tlearn: 0.0417994\ttotal: 15.4s\tremaining: 27.8s\n",
            "356:\tlearn: 0.0416841\ttotal: 15.4s\tremaining: 27.8s\n",
            "357:\tlearn: 0.0416117\ttotal: 15.5s\tremaining: 27.7s\n",
            "358:\tlearn: 0.0415453\ttotal: 15.5s\tremaining: 27.7s\n",
            "359:\tlearn: 0.0415010\ttotal: 15.6s\tremaining: 27.7s\n",
            "360:\tlearn: 0.0414383\ttotal: 15.6s\tremaining: 27.6s\n",
            "361:\tlearn: 0.0413778\ttotal: 15.6s\tremaining: 27.6s\n",
            "362:\tlearn: 0.0413241\ttotal: 15.7s\tremaining: 27.5s\n",
            "363:\tlearn: 0.0412869\ttotal: 15.7s\tremaining: 27.5s\n",
            "364:\tlearn: 0.0412344\ttotal: 15.8s\tremaining: 27.4s\n",
            "365:\tlearn: 0.0411862\ttotal: 15.8s\tremaining: 27.4s\n",
            "366:\tlearn: 0.0410943\ttotal: 15.9s\tremaining: 27.4s\n",
            "367:\tlearn: 0.0410395\ttotal: 15.9s\tremaining: 27.3s\n",
            "368:\tlearn: 0.0409719\ttotal: 15.9s\tremaining: 27.3s\n",
            "369:\tlearn: 0.0409334\ttotal: 16s\tremaining: 27.2s\n",
            "370:\tlearn: 0.0409051\ttotal: 16s\tremaining: 27.2s\n",
            "371:\tlearn: 0.0408467\ttotal: 16.1s\tremaining: 27.1s\n",
            "372:\tlearn: 0.0407864\ttotal: 16.1s\tremaining: 27.1s\n",
            "373:\tlearn: 0.0407473\ttotal: 16.2s\tremaining: 27s\n",
            "374:\tlearn: 0.0406786\ttotal: 16.2s\tremaining: 27s\n",
            "375:\tlearn: 0.0406234\ttotal: 16.2s\tremaining: 27s\n",
            "376:\tlearn: 0.0404927\ttotal: 16.3s\tremaining: 26.9s\n",
            "377:\tlearn: 0.0404046\ttotal: 16.3s\tremaining: 26.9s\n",
            "378:\tlearn: 0.0403199\ttotal: 16.4s\tremaining: 26.8s\n",
            "379:\tlearn: 0.0402922\ttotal: 16.4s\tremaining: 26.8s\n",
            "380:\tlearn: 0.0402495\ttotal: 16.5s\tremaining: 26.7s\n",
            "381:\tlearn: 0.0401994\ttotal: 16.5s\tremaining: 26.7s\n",
            "382:\tlearn: 0.0401741\ttotal: 16.5s\tremaining: 26.6s\n",
            "383:\tlearn: 0.0401093\ttotal: 16.6s\tremaining: 26.6s\n",
            "384:\tlearn: 0.0400247\ttotal: 16.6s\tremaining: 26.6s\n",
            "385:\tlearn: 0.0399807\ttotal: 16.7s\tremaining: 26.5s\n",
            "386:\tlearn: 0.0399338\ttotal: 16.7s\tremaining: 26.5s\n",
            "387:\tlearn: 0.0398662\ttotal: 16.8s\tremaining: 26.4s\n",
            "388:\tlearn: 0.0398364\ttotal: 16.8s\tremaining: 26.4s\n",
            "389:\tlearn: 0.0397559\ttotal: 16.8s\tremaining: 26.4s\n",
            "390:\tlearn: 0.0397177\ttotal: 16.9s\tremaining: 26.3s\n",
            "391:\tlearn: 0.0396725\ttotal: 16.9s\tremaining: 26.3s\n",
            "392:\tlearn: 0.0396216\ttotal: 17s\tremaining: 26.2s\n",
            "393:\tlearn: 0.0395592\ttotal: 17s\tremaining: 26.2s\n",
            "394:\tlearn: 0.0394871\ttotal: 17.1s\tremaining: 26.1s\n",
            "395:\tlearn: 0.0394136\ttotal: 17.1s\tremaining: 26.1s\n",
            "396:\tlearn: 0.0393370\ttotal: 17.1s\tremaining: 26s\n",
            "397:\tlearn: 0.0393064\ttotal: 17.2s\tremaining: 26s\n",
            "398:\tlearn: 0.0392691\ttotal: 17.2s\tremaining: 25.9s\n",
            "399:\tlearn: 0.0392468\ttotal: 17.3s\tremaining: 25.9s\n",
            "400:\tlearn: 0.0392183\ttotal: 17.3s\tremaining: 25.8s\n",
            "401:\tlearn: 0.0391772\ttotal: 17.3s\tremaining: 25.8s\n",
            "402:\tlearn: 0.0390845\ttotal: 17.4s\tremaining: 25.8s\n",
            "403:\tlearn: 0.0390198\ttotal: 17.4s\tremaining: 25.7s\n",
            "404:\tlearn: 0.0389657\ttotal: 17.5s\tremaining: 25.7s\n",
            "405:\tlearn: 0.0389382\ttotal: 17.5s\tremaining: 25.6s\n",
            "406:\tlearn: 0.0388676\ttotal: 17.6s\tremaining: 25.6s\n",
            "407:\tlearn: 0.0388000\ttotal: 17.6s\tremaining: 25.5s\n",
            "408:\tlearn: 0.0387381\ttotal: 17.6s\tremaining: 25.5s\n",
            "409:\tlearn: 0.0386606\ttotal: 17.7s\tremaining: 25.4s\n",
            "410:\tlearn: 0.0385902\ttotal: 17.7s\tremaining: 25.4s\n",
            "411:\tlearn: 0.0385451\ttotal: 17.8s\tremaining: 25.4s\n",
            "412:\tlearn: 0.0385096\ttotal: 17.8s\tremaining: 25.3s\n",
            "413:\tlearn: 0.0384620\ttotal: 17.9s\tremaining: 25.3s\n",
            "414:\tlearn: 0.0384274\ttotal: 17.9s\tremaining: 25.2s\n",
            "415:\tlearn: 0.0383847\ttotal: 18s\tremaining: 25.2s\n",
            "416:\tlearn: 0.0383459\ttotal: 18s\tremaining: 25.2s\n",
            "417:\tlearn: 0.0382924\ttotal: 18s\tremaining: 25.1s\n",
            "418:\tlearn: 0.0382395\ttotal: 18.1s\tremaining: 25.1s\n",
            "419:\tlearn: 0.0381994\ttotal: 18.1s\tremaining: 25s\n",
            "420:\tlearn: 0.0381183\ttotal: 18.2s\tremaining: 25s\n",
            "421:\tlearn: 0.0380607\ttotal: 18.2s\tremaining: 24.9s\n",
            "422:\tlearn: 0.0379584\ttotal: 18.3s\tremaining: 24.9s\n",
            "423:\tlearn: 0.0379108\ttotal: 18.3s\tremaining: 24.9s\n",
            "424:\tlearn: 0.0378645\ttotal: 18.4s\tremaining: 24.8s\n",
            "425:\tlearn: 0.0377704\ttotal: 18.4s\tremaining: 24.8s\n",
            "426:\tlearn: 0.0377275\ttotal: 18.5s\tremaining: 24.8s\n",
            "427:\tlearn: 0.0376887\ttotal: 18.5s\tremaining: 24.7s\n",
            "428:\tlearn: 0.0376380\ttotal: 18.5s\tremaining: 24.7s\n",
            "429:\tlearn: 0.0375880\ttotal: 18.6s\tremaining: 24.6s\n",
            "430:\tlearn: 0.0374938\ttotal: 18.6s\tremaining: 24.6s\n",
            "431:\tlearn: 0.0374660\ttotal: 18.7s\tremaining: 24.6s\n",
            "432:\tlearn: 0.0373742\ttotal: 18.7s\tremaining: 24.5s\n",
            "433:\tlearn: 0.0373377\ttotal: 18.8s\tremaining: 24.5s\n",
            "434:\tlearn: 0.0373206\ttotal: 18.8s\tremaining: 24.4s\n",
            "435:\tlearn: 0.0372724\ttotal: 18.9s\tremaining: 24.4s\n",
            "436:\tlearn: 0.0372329\ttotal: 18.9s\tremaining: 24.3s\n",
            "437:\tlearn: 0.0371993\ttotal: 18.9s\tremaining: 24.3s\n",
            "438:\tlearn: 0.0371432\ttotal: 19s\tremaining: 24.3s\n",
            "439:\tlearn: 0.0370599\ttotal: 19s\tremaining: 24.2s\n",
            "440:\tlearn: 0.0370276\ttotal: 19.1s\tremaining: 24.2s\n",
            "441:\tlearn: 0.0369830\ttotal: 19.1s\tremaining: 24.1s\n",
            "442:\tlearn: 0.0368888\ttotal: 19.2s\tremaining: 24.1s\n",
            "443:\tlearn: 0.0368488\ttotal: 19.2s\tremaining: 24.1s\n",
            "444:\tlearn: 0.0367944\ttotal: 19.3s\tremaining: 24s\n",
            "445:\tlearn: 0.0367529\ttotal: 19.3s\tremaining: 24s\n",
            "446:\tlearn: 0.0366871\ttotal: 19.3s\tremaining: 23.9s\n",
            "447:\tlearn: 0.0366242\ttotal: 19.4s\tremaining: 23.9s\n",
            "448:\tlearn: 0.0365708\ttotal: 19.4s\tremaining: 23.8s\n",
            "449:\tlearn: 0.0365248\ttotal: 19.5s\tremaining: 23.8s\n",
            "450:\tlearn: 0.0364867\ttotal: 19.5s\tremaining: 23.8s\n",
            "451:\tlearn: 0.0364480\ttotal: 19.6s\tremaining: 23.7s\n",
            "452:\tlearn: 0.0364133\ttotal: 19.6s\tremaining: 23.7s\n",
            "453:\tlearn: 0.0363703\ttotal: 19.6s\tremaining: 23.6s\n",
            "454:\tlearn: 0.0363030\ttotal: 19.7s\tremaining: 23.6s\n",
            "455:\tlearn: 0.0362781\ttotal: 19.8s\tremaining: 23.6s\n",
            "456:\tlearn: 0.0362071\ttotal: 19.8s\tremaining: 23.5s\n",
            "457:\tlearn: 0.0361590\ttotal: 19.8s\tremaining: 23.5s\n",
            "458:\tlearn: 0.0361283\ttotal: 19.9s\tremaining: 23.4s\n",
            "459:\tlearn: 0.0361141\ttotal: 19.9s\tremaining: 23.4s\n",
            "460:\tlearn: 0.0360834\ttotal: 20s\tremaining: 23.3s\n",
            "461:\tlearn: 0.0360533\ttotal: 20s\tremaining: 23.3s\n",
            "462:\tlearn: 0.0360158\ttotal: 20.1s\tremaining: 23.3s\n",
            "463:\tlearn: 0.0359814\ttotal: 20.1s\tremaining: 23.2s\n",
            "464:\tlearn: 0.0359561\ttotal: 20.1s\tremaining: 23.2s\n",
            "465:\tlearn: 0.0358971\ttotal: 20.2s\tremaining: 23.1s\n",
            "466:\tlearn: 0.0358136\ttotal: 20.2s\tremaining: 23.1s\n",
            "467:\tlearn: 0.0357492\ttotal: 20.3s\tremaining: 23s\n",
            "468:\tlearn: 0.0357041\ttotal: 20.3s\tremaining: 23s\n",
            "469:\tlearn: 0.0356587\ttotal: 20.3s\tremaining: 22.9s\n",
            "470:\tlearn: 0.0356219\ttotal: 20.4s\tremaining: 22.9s\n",
            "471:\tlearn: 0.0356086\ttotal: 20.4s\tremaining: 22.8s\n",
            "472:\tlearn: 0.0355635\ttotal: 20.5s\tremaining: 22.8s\n",
            "473:\tlearn: 0.0355109\ttotal: 20.5s\tremaining: 22.7s\n",
            "474:\tlearn: 0.0354708\ttotal: 20.5s\tremaining: 22.7s\n",
            "475:\tlearn: 0.0354617\ttotal: 20.6s\tremaining: 22.7s\n",
            "476:\tlearn: 0.0354479\ttotal: 20.6s\tremaining: 22.6s\n",
            "477:\tlearn: 0.0354084\ttotal: 20.7s\tremaining: 22.6s\n",
            "478:\tlearn: 0.0353695\ttotal: 20.7s\tremaining: 22.5s\n",
            "479:\tlearn: 0.0353539\ttotal: 20.7s\tremaining: 22.5s\n",
            "480:\tlearn: 0.0353282\ttotal: 20.8s\tremaining: 22.4s\n",
            "481:\tlearn: 0.0353107\ttotal: 20.8s\tremaining: 22.4s\n",
            "482:\tlearn: 0.0352587\ttotal: 20.9s\tremaining: 22.3s\n",
            "483:\tlearn: 0.0352094\ttotal: 20.9s\tremaining: 22.3s\n",
            "484:\tlearn: 0.0351575\ttotal: 21s\tremaining: 22.3s\n",
            "485:\tlearn: 0.0350882\ttotal: 21s\tremaining: 22.2s\n",
            "486:\tlearn: 0.0350608\ttotal: 21s\tremaining: 22.2s\n",
            "487:\tlearn: 0.0350310\ttotal: 21.1s\tremaining: 22.1s\n",
            "488:\tlearn: 0.0349958\ttotal: 21.1s\tremaining: 22.1s\n",
            "489:\tlearn: 0.0349626\ttotal: 21.2s\tremaining: 22s\n",
            "490:\tlearn: 0.0349253\ttotal: 21.2s\tremaining: 22s\n",
            "491:\tlearn: 0.0348587\ttotal: 21.2s\tremaining: 21.9s\n",
            "492:\tlearn: 0.0348111\ttotal: 21.3s\tremaining: 21.9s\n",
            "493:\tlearn: 0.0347851\ttotal: 21.3s\tremaining: 21.8s\n",
            "494:\tlearn: 0.0347322\ttotal: 21.4s\tremaining: 21.8s\n",
            "495:\tlearn: 0.0347004\ttotal: 21.4s\tremaining: 21.8s\n",
            "496:\tlearn: 0.0346610\ttotal: 21.5s\tremaining: 21.7s\n",
            "497:\tlearn: 0.0346241\ttotal: 21.5s\tremaining: 21.7s\n",
            "498:\tlearn: 0.0345908\ttotal: 21.5s\tremaining: 21.6s\n",
            "499:\tlearn: 0.0345378\ttotal: 21.6s\tremaining: 21.6s\n",
            "500:\tlearn: 0.0344985\ttotal: 21.6s\tremaining: 21.5s\n",
            "501:\tlearn: 0.0344672\ttotal: 21.7s\tremaining: 21.5s\n",
            "502:\tlearn: 0.0344558\ttotal: 21.7s\tremaining: 21.5s\n",
            "503:\tlearn: 0.0344224\ttotal: 21.7s\tremaining: 21.4s\n",
            "504:\tlearn: 0.0343834\ttotal: 21.8s\tremaining: 21.4s\n",
            "505:\tlearn: 0.0343518\ttotal: 21.8s\tremaining: 21.3s\n",
            "506:\tlearn: 0.0343116\ttotal: 21.9s\tremaining: 21.3s\n",
            "507:\tlearn: 0.0342681\ttotal: 21.9s\tremaining: 21.2s\n",
            "508:\tlearn: 0.0342200\ttotal: 22s\tremaining: 21.2s\n",
            "509:\tlearn: 0.0341820\ttotal: 22s\tremaining: 21.1s\n",
            "510:\tlearn: 0.0341233\ttotal: 22s\tremaining: 21.1s\n",
            "511:\tlearn: 0.0341054\ttotal: 22.1s\tremaining: 21.1s\n",
            "512:\tlearn: 0.0340551\ttotal: 22.1s\tremaining: 21s\n",
            "513:\tlearn: 0.0340194\ttotal: 22.2s\tremaining: 21s\n",
            "514:\tlearn: 0.0340037\ttotal: 22.2s\tremaining: 20.9s\n",
            "515:\tlearn: 0.0339683\ttotal: 22.3s\tremaining: 20.9s\n",
            "516:\tlearn: 0.0339246\ttotal: 22.3s\tremaining: 20.8s\n",
            "517:\tlearn: 0.0339082\ttotal: 22.3s\tremaining: 20.8s\n",
            "518:\tlearn: 0.0338418\ttotal: 22.4s\tremaining: 20.8s\n",
            "519:\tlearn: 0.0337935\ttotal: 22.4s\tremaining: 20.7s\n",
            "520:\tlearn: 0.0337354\ttotal: 22.5s\tremaining: 20.7s\n",
            "521:\tlearn: 0.0336601\ttotal: 22.5s\tremaining: 20.6s\n",
            "522:\tlearn: 0.0335880\ttotal: 22.6s\tremaining: 20.6s\n",
            "523:\tlearn: 0.0335537\ttotal: 22.6s\tremaining: 20.5s\n",
            "524:\tlearn: 0.0335016\ttotal: 22.7s\tremaining: 20.5s\n",
            "525:\tlearn: 0.0334835\ttotal: 22.7s\tremaining: 20.4s\n",
            "526:\tlearn: 0.0334534\ttotal: 22.7s\tremaining: 20.4s\n",
            "527:\tlearn: 0.0333972\ttotal: 22.8s\tremaining: 20.4s\n",
            "528:\tlearn: 0.0333480\ttotal: 22.8s\tremaining: 20.3s\n",
            "529:\tlearn: 0.0333102\ttotal: 22.9s\tremaining: 20.3s\n",
            "530:\tlearn: 0.0332742\ttotal: 22.9s\tremaining: 20.2s\n",
            "531:\tlearn: 0.0332435\ttotal: 22.9s\tremaining: 20.2s\n",
            "532:\tlearn: 0.0332232\ttotal: 23s\tremaining: 20.1s\n",
            "533:\tlearn: 0.0331675\ttotal: 23s\tremaining: 20.1s\n",
            "534:\tlearn: 0.0331352\ttotal: 23.1s\tremaining: 20s\n",
            "535:\tlearn: 0.0331221\ttotal: 23.1s\tremaining: 20s\n",
            "536:\tlearn: 0.0330983\ttotal: 23.1s\tremaining: 19.9s\n",
            "537:\tlearn: 0.0330433\ttotal: 23.2s\tremaining: 19.9s\n",
            "538:\tlearn: 0.0330274\ttotal: 23.2s\tremaining: 19.9s\n",
            "539:\tlearn: 0.0330090\ttotal: 23.3s\tremaining: 19.8s\n",
            "540:\tlearn: 0.0329704\ttotal: 23.3s\tremaining: 19.8s\n",
            "541:\tlearn: 0.0329391\ttotal: 23.3s\tremaining: 19.7s\n",
            "542:\tlearn: 0.0329077\ttotal: 23.4s\tremaining: 19.7s\n",
            "543:\tlearn: 0.0328551\ttotal: 23.4s\tremaining: 19.6s\n",
            "544:\tlearn: 0.0328081\ttotal: 23.5s\tremaining: 19.6s\n",
            "545:\tlearn: 0.0327899\ttotal: 23.5s\tremaining: 19.6s\n",
            "546:\tlearn: 0.0327431\ttotal: 23.6s\tremaining: 19.5s\n",
            "547:\tlearn: 0.0327046\ttotal: 23.6s\tremaining: 19.5s\n",
            "548:\tlearn: 0.0326506\ttotal: 23.7s\tremaining: 19.4s\n",
            "549:\tlearn: 0.0326052\ttotal: 23.7s\tremaining: 19.4s\n",
            "550:\tlearn: 0.0325646\ttotal: 23.7s\tremaining: 19.3s\n",
            "551:\tlearn: 0.0325277\ttotal: 23.8s\tremaining: 19.3s\n",
            "552:\tlearn: 0.0324853\ttotal: 23.8s\tremaining: 19.3s\n",
            "553:\tlearn: 0.0324532\ttotal: 23.9s\tremaining: 19.2s\n",
            "554:\tlearn: 0.0324229\ttotal: 23.9s\tremaining: 19.2s\n",
            "555:\tlearn: 0.0323932\ttotal: 24s\tremaining: 19.1s\n",
            "556:\tlearn: 0.0323673\ttotal: 24s\tremaining: 19.1s\n",
            "557:\tlearn: 0.0323039\ttotal: 24s\tremaining: 19s\n",
            "558:\tlearn: 0.0322600\ttotal: 24.1s\tremaining: 19s\n",
            "559:\tlearn: 0.0322274\ttotal: 24.1s\tremaining: 19s\n",
            "560:\tlearn: 0.0321940\ttotal: 24.2s\tremaining: 18.9s\n",
            "561:\tlearn: 0.0321505\ttotal: 24.2s\tremaining: 18.9s\n",
            "562:\tlearn: 0.0321029\ttotal: 24.3s\tremaining: 18.8s\n",
            "563:\tlearn: 0.0320886\ttotal: 24.3s\tremaining: 18.8s\n",
            "564:\tlearn: 0.0320549\ttotal: 24.3s\tremaining: 18.7s\n",
            "565:\tlearn: 0.0320237\ttotal: 24.4s\tremaining: 18.7s\n",
            "566:\tlearn: 0.0320039\ttotal: 24.4s\tremaining: 18.6s\n",
            "567:\tlearn: 0.0319597\ttotal: 24.5s\tremaining: 18.6s\n",
            "568:\tlearn: 0.0319461\ttotal: 24.5s\tremaining: 18.6s\n",
            "569:\tlearn: 0.0319064\ttotal: 24.6s\tremaining: 18.5s\n",
            "570:\tlearn: 0.0318792\ttotal: 24.6s\tremaining: 18.5s\n",
            "571:\tlearn: 0.0318540\ttotal: 24.6s\tremaining: 18.4s\n",
            "572:\tlearn: 0.0318094\ttotal: 24.7s\tremaining: 18.4s\n",
            "573:\tlearn: 0.0317797\ttotal: 24.7s\tremaining: 18.3s\n",
            "574:\tlearn: 0.0317272\ttotal: 24.8s\tremaining: 18.3s\n",
            "575:\tlearn: 0.0317002\ttotal: 24.8s\tremaining: 18.3s\n",
            "576:\tlearn: 0.0316791\ttotal: 24.8s\tremaining: 18.2s\n",
            "577:\tlearn: 0.0316331\ttotal: 24.9s\tremaining: 18.2s\n",
            "578:\tlearn: 0.0315970\ttotal: 24.9s\tremaining: 18.1s\n",
            "579:\tlearn: 0.0315570\ttotal: 25s\tremaining: 18.1s\n",
            "580:\tlearn: 0.0315112\ttotal: 25s\tremaining: 18s\n",
            "581:\tlearn: 0.0314882\ttotal: 25.1s\tremaining: 18s\n",
            "582:\tlearn: 0.0314512\ttotal: 25.1s\tremaining: 17.9s\n",
            "583:\tlearn: 0.0313683\ttotal: 25.1s\tremaining: 17.9s\n",
            "584:\tlearn: 0.0313193\ttotal: 25.2s\tremaining: 17.9s\n",
            "585:\tlearn: 0.0312878\ttotal: 25.2s\tremaining: 17.8s\n",
            "586:\tlearn: 0.0312639\ttotal: 25.3s\tremaining: 17.8s\n",
            "587:\tlearn: 0.0312230\ttotal: 25.3s\tremaining: 17.7s\n",
            "588:\tlearn: 0.0311739\ttotal: 25.4s\tremaining: 17.7s\n",
            "589:\tlearn: 0.0311371\ttotal: 25.4s\tremaining: 17.6s\n",
            "590:\tlearn: 0.0310775\ttotal: 25.4s\tremaining: 17.6s\n",
            "591:\tlearn: 0.0310612\ttotal: 25.5s\tremaining: 17.6s\n",
            "592:\tlearn: 0.0310380\ttotal: 25.5s\tremaining: 17.5s\n",
            "593:\tlearn: 0.0310045\ttotal: 25.6s\tremaining: 17.5s\n",
            "594:\tlearn: 0.0309777\ttotal: 25.6s\tremaining: 17.4s\n",
            "595:\tlearn: 0.0309437\ttotal: 25.7s\tremaining: 17.4s\n",
            "596:\tlearn: 0.0309117\ttotal: 25.7s\tremaining: 17.3s\n",
            "597:\tlearn: 0.0308657\ttotal: 25.7s\tremaining: 17.3s\n",
            "598:\tlearn: 0.0308189\ttotal: 25.8s\tremaining: 17.3s\n",
            "599:\tlearn: 0.0308091\ttotal: 25.8s\tremaining: 17.2s\n",
            "600:\tlearn: 0.0307710\ttotal: 25.9s\tremaining: 17.2s\n",
            "601:\tlearn: 0.0307154\ttotal: 25.9s\tremaining: 17.1s\n",
            "602:\tlearn: 0.0306751\ttotal: 26s\tremaining: 17.1s\n",
            "603:\tlearn: 0.0306692\ttotal: 26s\tremaining: 17s\n",
            "604:\tlearn: 0.0306302\ttotal: 26s\tremaining: 17s\n",
            "605:\tlearn: 0.0306042\ttotal: 26.1s\tremaining: 17s\n",
            "606:\tlearn: 0.0305799\ttotal: 26.1s\tremaining: 16.9s\n",
            "607:\tlearn: 0.0305746\ttotal: 26.2s\tremaining: 16.9s\n",
            "608:\tlearn: 0.0305296\ttotal: 26.2s\tremaining: 16.8s\n",
            "609:\tlearn: 0.0304840\ttotal: 26.2s\tremaining: 16.8s\n",
            "610:\tlearn: 0.0304513\ttotal: 26.3s\tremaining: 16.7s\n",
            "611:\tlearn: 0.0304125\ttotal: 26.3s\tremaining: 16.7s\n",
            "612:\tlearn: 0.0303898\ttotal: 26.4s\tremaining: 16.6s\n",
            "613:\tlearn: 0.0303623\ttotal: 26.4s\tremaining: 16.6s\n",
            "614:\tlearn: 0.0303160\ttotal: 26.4s\tremaining: 16.6s\n",
            "615:\tlearn: 0.0302562\ttotal: 26.5s\tremaining: 16.5s\n",
            "616:\tlearn: 0.0302333\ttotal: 26.5s\tremaining: 16.5s\n",
            "617:\tlearn: 0.0301964\ttotal: 26.6s\tremaining: 16.4s\n",
            "618:\tlearn: 0.0301500\ttotal: 26.6s\tremaining: 16.4s\n",
            "619:\tlearn: 0.0301287\ttotal: 26.7s\tremaining: 16.3s\n",
            "620:\tlearn: 0.0300916\ttotal: 26.7s\tremaining: 16.3s\n",
            "621:\tlearn: 0.0300508\ttotal: 26.7s\tremaining: 16.3s\n",
            "622:\tlearn: 0.0300072\ttotal: 26.8s\tremaining: 16.2s\n",
            "623:\tlearn: 0.0299907\ttotal: 26.8s\tremaining: 16.2s\n",
            "624:\tlearn: 0.0299557\ttotal: 26.9s\tremaining: 16.1s\n",
            "625:\tlearn: 0.0299130\ttotal: 26.9s\tremaining: 16.1s\n",
            "626:\tlearn: 0.0298824\ttotal: 27s\tremaining: 16s\n",
            "627:\tlearn: 0.0298535\ttotal: 27s\tremaining: 16s\n",
            "628:\tlearn: 0.0298055\ttotal: 27s\tremaining: 16s\n",
            "629:\tlearn: 0.0297659\ttotal: 27.1s\tremaining: 15.9s\n",
            "630:\tlearn: 0.0297321\ttotal: 27.1s\tremaining: 15.9s\n",
            "631:\tlearn: 0.0296949\ttotal: 27.2s\tremaining: 15.8s\n",
            "632:\tlearn: 0.0296555\ttotal: 27.2s\tremaining: 15.8s\n",
            "633:\tlearn: 0.0295982\ttotal: 27.3s\tremaining: 15.7s\n",
            "634:\tlearn: 0.0295765\ttotal: 27.3s\tremaining: 15.7s\n",
            "635:\tlearn: 0.0295442\ttotal: 27.3s\tremaining: 15.6s\n",
            "636:\tlearn: 0.0295038\ttotal: 27.4s\tremaining: 15.6s\n",
            "637:\tlearn: 0.0294676\ttotal: 27.4s\tremaining: 15.6s\n",
            "638:\tlearn: 0.0294049\ttotal: 27.5s\tremaining: 15.5s\n",
            "639:\tlearn: 0.0293774\ttotal: 27.5s\tremaining: 15.5s\n",
            "640:\tlearn: 0.0293477\ttotal: 27.6s\tremaining: 15.4s\n",
            "641:\tlearn: 0.0293187\ttotal: 27.6s\tremaining: 15.4s\n",
            "642:\tlearn: 0.0292680\ttotal: 27.7s\tremaining: 15.4s\n",
            "643:\tlearn: 0.0292404\ttotal: 27.7s\tremaining: 15.3s\n",
            "644:\tlearn: 0.0292191\ttotal: 27.7s\tremaining: 15.3s\n",
            "645:\tlearn: 0.0291848\ttotal: 27.8s\tremaining: 15.2s\n",
            "646:\tlearn: 0.0291228\ttotal: 27.8s\tremaining: 15.2s\n",
            "647:\tlearn: 0.0290975\ttotal: 27.9s\tremaining: 15.1s\n",
            "648:\tlearn: 0.0290731\ttotal: 27.9s\tremaining: 15.1s\n",
            "649:\tlearn: 0.0290376\ttotal: 28s\tremaining: 15.1s\n",
            "650:\tlearn: 0.0289941\ttotal: 28s\tremaining: 15s\n",
            "651:\tlearn: 0.0289754\ttotal: 28.1s\tremaining: 15s\n",
            "652:\tlearn: 0.0289390\ttotal: 28.1s\tremaining: 14.9s\n",
            "653:\tlearn: 0.0289033\ttotal: 28.2s\tremaining: 14.9s\n",
            "654:\tlearn: 0.0288698\ttotal: 28.2s\tremaining: 14.9s\n",
            "655:\tlearn: 0.0288365\ttotal: 28.2s\tremaining: 14.8s\n",
            "656:\tlearn: 0.0288204\ttotal: 28.3s\tremaining: 14.8s\n",
            "657:\tlearn: 0.0287904\ttotal: 28.3s\tremaining: 14.7s\n",
            "658:\tlearn: 0.0287847\ttotal: 28.4s\tremaining: 14.7s\n",
            "659:\tlearn: 0.0287458\ttotal: 28.4s\tremaining: 14.6s\n",
            "660:\tlearn: 0.0287257\ttotal: 28.5s\tremaining: 14.6s\n",
            "661:\tlearn: 0.0287085\ttotal: 28.5s\tremaining: 14.5s\n",
            "662:\tlearn: 0.0286959\ttotal: 28.5s\tremaining: 14.5s\n",
            "663:\tlearn: 0.0286699\ttotal: 28.6s\tremaining: 14.5s\n",
            "664:\tlearn: 0.0286279\ttotal: 28.6s\tremaining: 14.4s\n",
            "665:\tlearn: 0.0285914\ttotal: 28.7s\tremaining: 14.4s\n",
            "666:\tlearn: 0.0285591\ttotal: 28.7s\tremaining: 14.3s\n",
            "667:\tlearn: 0.0285314\ttotal: 28.8s\tremaining: 14.3s\n",
            "668:\tlearn: 0.0285076\ttotal: 28.8s\tremaining: 14.3s\n",
            "669:\tlearn: 0.0285013\ttotal: 28.9s\tremaining: 14.2s\n",
            "670:\tlearn: 0.0284553\ttotal: 28.9s\tremaining: 14.2s\n",
            "671:\tlearn: 0.0284162\ttotal: 29s\tremaining: 14.1s\n",
            "672:\tlearn: 0.0283350\ttotal: 29s\tremaining: 14.1s\n",
            "673:\tlearn: 0.0283110\ttotal: 29s\tremaining: 14s\n",
            "674:\tlearn: 0.0282777\ttotal: 29.1s\tremaining: 14s\n",
            "675:\tlearn: 0.0282626\ttotal: 29.1s\tremaining: 14s\n",
            "676:\tlearn: 0.0282469\ttotal: 29.2s\tremaining: 13.9s\n",
            "677:\tlearn: 0.0282299\ttotal: 29.2s\tremaining: 13.9s\n",
            "678:\tlearn: 0.0281924\ttotal: 29.3s\tremaining: 13.8s\n",
            "679:\tlearn: 0.0281653\ttotal: 29.3s\tremaining: 13.8s\n",
            "680:\tlearn: 0.0281402\ttotal: 29.3s\tremaining: 13.7s\n",
            "681:\tlearn: 0.0280793\ttotal: 29.4s\tremaining: 13.7s\n",
            "682:\tlearn: 0.0280256\ttotal: 29.4s\tremaining: 13.7s\n",
            "683:\tlearn: 0.0279787\ttotal: 29.5s\tremaining: 13.6s\n",
            "684:\tlearn: 0.0279669\ttotal: 29.5s\tremaining: 13.6s\n",
            "685:\tlearn: 0.0279255\ttotal: 29.6s\tremaining: 13.5s\n",
            "686:\tlearn: 0.0278941\ttotal: 29.6s\tremaining: 13.5s\n",
            "687:\tlearn: 0.0278698\ttotal: 29.6s\tremaining: 13.4s\n",
            "688:\tlearn: 0.0278445\ttotal: 29.7s\tremaining: 13.4s\n",
            "689:\tlearn: 0.0278243\ttotal: 29.7s\tremaining: 13.4s\n",
            "690:\tlearn: 0.0277945\ttotal: 29.8s\tremaining: 13.3s\n",
            "691:\tlearn: 0.0277713\ttotal: 29.8s\tremaining: 13.3s\n",
            "692:\tlearn: 0.0277340\ttotal: 29.9s\tremaining: 13.2s\n",
            "693:\tlearn: 0.0277234\ttotal: 29.9s\tremaining: 13.2s\n",
            "694:\tlearn: 0.0276894\ttotal: 29.9s\tremaining: 13.1s\n",
            "695:\tlearn: 0.0276600\ttotal: 30s\tremaining: 13.1s\n",
            "696:\tlearn: 0.0276446\ttotal: 30s\tremaining: 13.1s\n",
            "697:\tlearn: 0.0276301\ttotal: 30.1s\tremaining: 13s\n",
            "698:\tlearn: 0.0276057\ttotal: 30.1s\tremaining: 13s\n",
            "699:\tlearn: 0.0275661\ttotal: 30.2s\tremaining: 12.9s\n",
            "700:\tlearn: 0.0275263\ttotal: 30.2s\tremaining: 12.9s\n",
            "701:\tlearn: 0.0274929\ttotal: 30.2s\tremaining: 12.8s\n",
            "702:\tlearn: 0.0274839\ttotal: 30.3s\tremaining: 12.8s\n",
            "703:\tlearn: 0.0274677\ttotal: 30.3s\tremaining: 12.7s\n",
            "704:\tlearn: 0.0274487\ttotal: 30.4s\tremaining: 12.7s\n",
            "705:\tlearn: 0.0274315\ttotal: 30.4s\tremaining: 12.7s\n",
            "706:\tlearn: 0.0273997\ttotal: 30.5s\tremaining: 12.6s\n",
            "707:\tlearn: 0.0273851\ttotal: 30.5s\tremaining: 12.6s\n",
            "708:\tlearn: 0.0273601\ttotal: 30.5s\tremaining: 12.5s\n",
            "709:\tlearn: 0.0273354\ttotal: 30.6s\tremaining: 12.5s\n",
            "710:\tlearn: 0.0272797\ttotal: 30.6s\tremaining: 12.4s\n",
            "711:\tlearn: 0.0272388\ttotal: 30.7s\tremaining: 12.4s\n",
            "712:\tlearn: 0.0272049\ttotal: 30.7s\tremaining: 12.4s\n",
            "713:\tlearn: 0.0271606\ttotal: 30.8s\tremaining: 12.3s\n",
            "714:\tlearn: 0.0271204\ttotal: 30.8s\tremaining: 12.3s\n",
            "715:\tlearn: 0.0270841\ttotal: 30.8s\tremaining: 12.2s\n",
            "716:\tlearn: 0.0270640\ttotal: 30.9s\tremaining: 12.2s\n",
            "717:\tlearn: 0.0270507\ttotal: 30.9s\tremaining: 12.1s\n",
            "718:\tlearn: 0.0270062\ttotal: 31s\tremaining: 12.1s\n",
            "719:\tlearn: 0.0269874\ttotal: 31s\tremaining: 12.1s\n",
            "720:\tlearn: 0.0269679\ttotal: 31.1s\tremaining: 12s\n",
            "721:\tlearn: 0.0269498\ttotal: 31.1s\tremaining: 12s\n",
            "722:\tlearn: 0.0269219\ttotal: 31.1s\tremaining: 11.9s\n",
            "723:\tlearn: 0.0268854\ttotal: 31.2s\tremaining: 11.9s\n",
            "724:\tlearn: 0.0268539\ttotal: 31.2s\tremaining: 11.8s\n",
            "725:\tlearn: 0.0268059\ttotal: 31.3s\tremaining: 11.8s\n",
            "726:\tlearn: 0.0267482\ttotal: 31.3s\tremaining: 11.8s\n",
            "727:\tlearn: 0.0266798\ttotal: 31.4s\tremaining: 11.7s\n",
            "728:\tlearn: 0.0266556\ttotal: 31.4s\tremaining: 11.7s\n",
            "729:\tlearn: 0.0266177\ttotal: 31.4s\tremaining: 11.6s\n",
            "730:\tlearn: 0.0266002\ttotal: 31.5s\tremaining: 11.6s\n",
            "731:\tlearn: 0.0265912\ttotal: 31.5s\tremaining: 11.5s\n",
            "732:\tlearn: 0.0265619\ttotal: 31.6s\tremaining: 11.5s\n",
            "733:\tlearn: 0.0265408\ttotal: 31.6s\tremaining: 11.5s\n",
            "734:\tlearn: 0.0265180\ttotal: 31.7s\tremaining: 11.4s\n",
            "735:\tlearn: 0.0265099\ttotal: 31.7s\tremaining: 11.4s\n",
            "736:\tlearn: 0.0264706\ttotal: 31.7s\tremaining: 11.3s\n",
            "737:\tlearn: 0.0264510\ttotal: 31.8s\tremaining: 11.3s\n",
            "738:\tlearn: 0.0264096\ttotal: 31.8s\tremaining: 11.2s\n",
            "739:\tlearn: 0.0263697\ttotal: 31.9s\tremaining: 11.2s\n",
            "740:\tlearn: 0.0263373\ttotal: 31.9s\tremaining: 11.2s\n",
            "741:\tlearn: 0.0262948\ttotal: 32s\tremaining: 11.1s\n",
            "742:\tlearn: 0.0262765\ttotal: 32s\tremaining: 11.1s\n",
            "743:\tlearn: 0.0262691\ttotal: 32s\tremaining: 11s\n",
            "744:\tlearn: 0.0262526\ttotal: 32.1s\tremaining: 11s\n",
            "745:\tlearn: 0.0262175\ttotal: 32.1s\tremaining: 10.9s\n",
            "746:\tlearn: 0.0262038\ttotal: 32.2s\tremaining: 10.9s\n",
            "747:\tlearn: 0.0261770\ttotal: 32.2s\tremaining: 10.9s\n",
            "748:\tlearn: 0.0261511\ttotal: 32.3s\tremaining: 10.8s\n",
            "749:\tlearn: 0.0261049\ttotal: 32.3s\tremaining: 10.8s\n",
            "750:\tlearn: 0.0260741\ttotal: 32.3s\tremaining: 10.7s\n",
            "751:\tlearn: 0.0260475\ttotal: 32.4s\tremaining: 10.7s\n",
            "752:\tlearn: 0.0260198\ttotal: 32.4s\tremaining: 10.6s\n",
            "753:\tlearn: 0.0259902\ttotal: 32.5s\tremaining: 10.6s\n",
            "754:\tlearn: 0.0259689\ttotal: 32.5s\tremaining: 10.6s\n",
            "755:\tlearn: 0.0259421\ttotal: 32.6s\tremaining: 10.5s\n",
            "756:\tlearn: 0.0259015\ttotal: 32.6s\tremaining: 10.5s\n",
            "757:\tlearn: 0.0258709\ttotal: 32.6s\tremaining: 10.4s\n",
            "758:\tlearn: 0.0258379\ttotal: 32.7s\tremaining: 10.4s\n",
            "759:\tlearn: 0.0257883\ttotal: 32.7s\tremaining: 10.3s\n",
            "760:\tlearn: 0.0257704\ttotal: 32.8s\tremaining: 10.3s\n",
            "761:\tlearn: 0.0257366\ttotal: 32.8s\tremaining: 10.3s\n",
            "762:\tlearn: 0.0257165\ttotal: 32.9s\tremaining: 10.2s\n",
            "763:\tlearn: 0.0256929\ttotal: 32.9s\tremaining: 10.2s\n",
            "764:\tlearn: 0.0256755\ttotal: 33s\tremaining: 10.1s\n",
            "765:\tlearn: 0.0256519\ttotal: 33s\tremaining: 10.1s\n",
            "766:\tlearn: 0.0256127\ttotal: 33s\tremaining: 10s\n",
            "767:\tlearn: 0.0255618\ttotal: 33.1s\tremaining: 9.99s\n",
            "768:\tlearn: 0.0255381\ttotal: 33.1s\tremaining: 9.95s\n",
            "769:\tlearn: 0.0255100\ttotal: 33.2s\tremaining: 9.9s\n",
            "770:\tlearn: 0.0254890\ttotal: 33.2s\tremaining: 9.86s\n",
            "771:\tlearn: 0.0254654\ttotal: 33.2s\tremaining: 9.82s\n",
            "772:\tlearn: 0.0254397\ttotal: 33.3s\tremaining: 9.77s\n",
            "773:\tlearn: 0.0254166\ttotal: 33.3s\tremaining: 9.73s\n",
            "774:\tlearn: 0.0253980\ttotal: 33.4s\tremaining: 9.69s\n",
            "775:\tlearn: 0.0253919\ttotal: 33.4s\tremaining: 9.64s\n",
            "776:\tlearn: 0.0253476\ttotal: 33.5s\tremaining: 9.6s\n",
            "777:\tlearn: 0.0253272\ttotal: 33.5s\tremaining: 9.56s\n",
            "778:\tlearn: 0.0253050\ttotal: 33.5s\tremaining: 9.52s\n",
            "779:\tlearn: 0.0252579\ttotal: 33.6s\tremaining: 9.47s\n",
            "780:\tlearn: 0.0252258\ttotal: 33.6s\tremaining: 9.43s\n",
            "781:\tlearn: 0.0251999\ttotal: 33.7s\tremaining: 9.39s\n",
            "782:\tlearn: 0.0251858\ttotal: 33.7s\tremaining: 9.34s\n",
            "783:\tlearn: 0.0251756\ttotal: 33.8s\tremaining: 9.3s\n",
            "784:\tlearn: 0.0251420\ttotal: 33.8s\tremaining: 9.26s\n",
            "785:\tlearn: 0.0251215\ttotal: 33.8s\tremaining: 9.21s\n",
            "786:\tlearn: 0.0250833\ttotal: 33.9s\tremaining: 9.17s\n",
            "787:\tlearn: 0.0250641\ttotal: 33.9s\tremaining: 9.12s\n",
            "788:\tlearn: 0.0250285\ttotal: 34s\tremaining: 9.09s\n",
            "789:\tlearn: 0.0250060\ttotal: 34s\tremaining: 9.04s\n",
            "790:\tlearn: 0.0249542\ttotal: 34.1s\tremaining: 9s\n",
            "791:\tlearn: 0.0249339\ttotal: 34.1s\tremaining: 8.96s\n",
            "792:\tlearn: 0.0248992\ttotal: 34.1s\tremaining: 8.91s\n",
            "793:\tlearn: 0.0248883\ttotal: 34.2s\tremaining: 8.87s\n",
            "794:\tlearn: 0.0248757\ttotal: 34.2s\tremaining: 8.83s\n",
            "795:\tlearn: 0.0248672\ttotal: 34.3s\tremaining: 8.79s\n",
            "796:\tlearn: 0.0248421\ttotal: 34.3s\tremaining: 8.74s\n",
            "797:\tlearn: 0.0248264\ttotal: 34.4s\tremaining: 8.7s\n",
            "798:\tlearn: 0.0247998\ttotal: 34.4s\tremaining: 8.66s\n",
            "799:\tlearn: 0.0247699\ttotal: 34.5s\tremaining: 8.62s\n",
            "800:\tlearn: 0.0247383\ttotal: 34.5s\tremaining: 8.57s\n",
            "801:\tlearn: 0.0247020\ttotal: 34.5s\tremaining: 8.53s\n",
            "802:\tlearn: 0.0246799\ttotal: 34.6s\tremaining: 8.48s\n",
            "803:\tlearn: 0.0246563\ttotal: 34.6s\tremaining: 8.44s\n",
            "804:\tlearn: 0.0246367\ttotal: 34.7s\tremaining: 8.4s\n",
            "805:\tlearn: 0.0246133\ttotal: 34.7s\tremaining: 8.36s\n",
            "806:\tlearn: 0.0245988\ttotal: 34.8s\tremaining: 8.31s\n",
            "807:\tlearn: 0.0245622\ttotal: 34.8s\tremaining: 8.27s\n",
            "808:\tlearn: 0.0245385\ttotal: 34.9s\tremaining: 8.23s\n",
            "809:\tlearn: 0.0245248\ttotal: 34.9s\tremaining: 8.19s\n",
            "810:\tlearn: 0.0245059\ttotal: 34.9s\tremaining: 8.14s\n",
            "811:\tlearn: 0.0244957\ttotal: 35s\tremaining: 8.1s\n",
            "812:\tlearn: 0.0244778\ttotal: 35s\tremaining: 8.06s\n",
            "813:\tlearn: 0.0244592\ttotal: 35.1s\tremaining: 8.01s\n",
            "814:\tlearn: 0.0244299\ttotal: 35.1s\tremaining: 7.97s\n",
            "815:\tlearn: 0.0244209\ttotal: 35.2s\tremaining: 7.93s\n",
            "816:\tlearn: 0.0244019\ttotal: 35.2s\tremaining: 7.88s\n",
            "817:\tlearn: 0.0243855\ttotal: 35.2s\tremaining: 7.84s\n",
            "818:\tlearn: 0.0243740\ttotal: 35.3s\tremaining: 7.8s\n",
            "819:\tlearn: 0.0243543\ttotal: 35.3s\tremaining: 7.75s\n",
            "820:\tlearn: 0.0243510\ttotal: 35.4s\tremaining: 7.71s\n",
            "821:\tlearn: 0.0243074\ttotal: 35.4s\tremaining: 7.67s\n",
            "822:\tlearn: 0.0242701\ttotal: 35.5s\tremaining: 7.62s\n",
            "823:\tlearn: 0.0242503\ttotal: 35.5s\tremaining: 7.58s\n",
            "824:\tlearn: 0.0242327\ttotal: 35.5s\tremaining: 7.54s\n",
            "825:\tlearn: 0.0242264\ttotal: 35.6s\tremaining: 7.49s\n",
            "826:\tlearn: 0.0242123\ttotal: 35.6s\tremaining: 7.45s\n",
            "827:\tlearn: 0.0241819\ttotal: 35.7s\tremaining: 7.41s\n",
            "828:\tlearn: 0.0241473\ttotal: 35.7s\tremaining: 7.37s\n",
            "829:\tlearn: 0.0241315\ttotal: 35.8s\tremaining: 7.32s\n",
            "830:\tlearn: 0.0241043\ttotal: 35.8s\tremaining: 7.28s\n",
            "831:\tlearn: 0.0240818\ttotal: 35.8s\tremaining: 7.24s\n",
            "832:\tlearn: 0.0240575\ttotal: 35.9s\tremaining: 7.19s\n",
            "833:\tlearn: 0.0240079\ttotal: 35.9s\tremaining: 7.15s\n",
            "834:\tlearn: 0.0239851\ttotal: 36s\tremaining: 7.11s\n",
            "835:\tlearn: 0.0239799\ttotal: 36s\tremaining: 7.06s\n",
            "836:\tlearn: 0.0239718\ttotal: 36.1s\tremaining: 7.02s\n",
            "837:\tlearn: 0.0239628\ttotal: 36.1s\tremaining: 6.98s\n",
            "838:\tlearn: 0.0239367\ttotal: 36.1s\tremaining: 6.93s\n",
            "839:\tlearn: 0.0238950\ttotal: 36.2s\tremaining: 6.89s\n",
            "840:\tlearn: 0.0238761\ttotal: 36.2s\tremaining: 6.85s\n",
            "841:\tlearn: 0.0238614\ttotal: 36.3s\tremaining: 6.8s\n",
            "842:\tlearn: 0.0238467\ttotal: 36.3s\tremaining: 6.76s\n",
            "843:\tlearn: 0.0238331\ttotal: 36.3s\tremaining: 6.72s\n",
            "844:\tlearn: 0.0237910\ttotal: 36.4s\tremaining: 6.67s\n",
            "845:\tlearn: 0.0237655\ttotal: 36.4s\tremaining: 6.63s\n",
            "846:\tlearn: 0.0237411\ttotal: 36.5s\tremaining: 6.59s\n",
            "847:\tlearn: 0.0237354\ttotal: 36.5s\tremaining: 6.54s\n",
            "848:\tlearn: 0.0237148\ttotal: 36.6s\tremaining: 6.5s\n",
            "849:\tlearn: 0.0236758\ttotal: 36.6s\tremaining: 6.46s\n",
            "850:\tlearn: 0.0236596\ttotal: 36.6s\tremaining: 6.42s\n",
            "851:\tlearn: 0.0236324\ttotal: 36.7s\tremaining: 6.37s\n",
            "852:\tlearn: 0.0236145\ttotal: 36.7s\tremaining: 6.33s\n",
            "853:\tlearn: 0.0235929\ttotal: 36.8s\tremaining: 6.29s\n",
            "854:\tlearn: 0.0235623\ttotal: 36.8s\tremaining: 6.24s\n",
            "855:\tlearn: 0.0235444\ttotal: 36.8s\tremaining: 6.2s\n",
            "856:\tlearn: 0.0235319\ttotal: 36.9s\tremaining: 6.16s\n",
            "857:\tlearn: 0.0235131\ttotal: 36.9s\tremaining: 6.11s\n",
            "858:\tlearn: 0.0234981\ttotal: 37s\tremaining: 6.07s\n",
            "859:\tlearn: 0.0234727\ttotal: 37s\tremaining: 6.03s\n",
            "860:\tlearn: 0.0234393\ttotal: 37.1s\tremaining: 5.99s\n",
            "861:\tlearn: 0.0234086\ttotal: 37.1s\tremaining: 5.94s\n",
            "862:\tlearn: 0.0233895\ttotal: 37.2s\tremaining: 5.9s\n",
            "863:\tlearn: 0.0233611\ttotal: 37.2s\tremaining: 5.86s\n",
            "864:\tlearn: 0.0233324\ttotal: 37.2s\tremaining: 5.81s\n",
            "865:\tlearn: 0.0233113\ttotal: 37.3s\tremaining: 5.77s\n",
            "866:\tlearn: 0.0233065\ttotal: 37.3s\tremaining: 5.72s\n",
            "867:\tlearn: 0.0232939\ttotal: 37.4s\tremaining: 5.68s\n",
            "868:\tlearn: 0.0232586\ttotal: 37.4s\tremaining: 5.64s\n",
            "869:\tlearn: 0.0232445\ttotal: 37.4s\tremaining: 5.59s\n",
            "870:\tlearn: 0.0232281\ttotal: 37.5s\tremaining: 5.55s\n",
            "871:\tlearn: 0.0231914\ttotal: 37.5s\tremaining: 5.51s\n",
            "872:\tlearn: 0.0231728\ttotal: 37.6s\tremaining: 5.47s\n",
            "873:\tlearn: 0.0231636\ttotal: 37.6s\tremaining: 5.42s\n",
            "874:\tlearn: 0.0231523\ttotal: 37.7s\tremaining: 5.38s\n",
            "875:\tlearn: 0.0231172\ttotal: 37.7s\tremaining: 5.34s\n",
            "876:\tlearn: 0.0231071\ttotal: 37.7s\tremaining: 5.29s\n",
            "877:\tlearn: 0.0230856\ttotal: 37.8s\tremaining: 5.25s\n",
            "878:\tlearn: 0.0230695\ttotal: 37.8s\tremaining: 5.21s\n",
            "879:\tlearn: 0.0230548\ttotal: 37.9s\tremaining: 5.16s\n",
            "880:\tlearn: 0.0230255\ttotal: 37.9s\tremaining: 5.12s\n",
            "881:\tlearn: 0.0230111\ttotal: 38s\tremaining: 5.08s\n",
            "882:\tlearn: 0.0229973\ttotal: 38s\tremaining: 5.04s\n",
            "883:\tlearn: 0.0229808\ttotal: 38s\tremaining: 4.99s\n",
            "884:\tlearn: 0.0229426\ttotal: 38.1s\tremaining: 4.95s\n",
            "885:\tlearn: 0.0229259\ttotal: 38.1s\tremaining: 4.91s\n",
            "886:\tlearn: 0.0228987\ttotal: 38.2s\tremaining: 4.86s\n",
            "887:\tlearn: 0.0228871\ttotal: 38.2s\tremaining: 4.82s\n",
            "888:\tlearn: 0.0228709\ttotal: 38.3s\tremaining: 4.78s\n",
            "889:\tlearn: 0.0228375\ttotal: 38.3s\tremaining: 4.73s\n",
            "890:\tlearn: 0.0228135\ttotal: 38.3s\tremaining: 4.69s\n",
            "891:\tlearn: 0.0227857\ttotal: 38.4s\tremaining: 4.65s\n",
            "892:\tlearn: 0.0227638\ttotal: 38.4s\tremaining: 4.6s\n",
            "893:\tlearn: 0.0227389\ttotal: 38.5s\tremaining: 4.56s\n",
            "894:\tlearn: 0.0227129\ttotal: 38.5s\tremaining: 4.52s\n",
            "895:\tlearn: 0.0226979\ttotal: 38.6s\tremaining: 4.47s\n",
            "896:\tlearn: 0.0226724\ttotal: 38.6s\tremaining: 4.43s\n",
            "897:\tlearn: 0.0226538\ttotal: 38.6s\tremaining: 4.39s\n",
            "898:\tlearn: 0.0226221\ttotal: 38.7s\tremaining: 4.34s\n",
            "899:\tlearn: 0.0225835\ttotal: 38.7s\tremaining: 4.3s\n",
            "900:\tlearn: 0.0225705\ttotal: 38.8s\tremaining: 4.26s\n",
            "901:\tlearn: 0.0225619\ttotal: 38.8s\tremaining: 4.22s\n",
            "902:\tlearn: 0.0225522\ttotal: 38.9s\tremaining: 4.17s\n",
            "903:\tlearn: 0.0225388\ttotal: 38.9s\tremaining: 4.13s\n",
            "904:\tlearn: 0.0225144\ttotal: 38.9s\tremaining: 4.09s\n",
            "905:\tlearn: 0.0224895\ttotal: 39s\tremaining: 4.04s\n",
            "906:\tlearn: 0.0224540\ttotal: 39s\tremaining: 4s\n",
            "907:\tlearn: 0.0224155\ttotal: 39.1s\tremaining: 3.96s\n",
            "908:\tlearn: 0.0223955\ttotal: 39.1s\tremaining: 3.92s\n",
            "909:\tlearn: 0.0223676\ttotal: 39.2s\tremaining: 3.87s\n",
            "910:\tlearn: 0.0223556\ttotal: 39.2s\tremaining: 3.83s\n",
            "911:\tlearn: 0.0223262\ttotal: 39.2s\tremaining: 3.79s\n",
            "912:\tlearn: 0.0223097\ttotal: 39.3s\tremaining: 3.74s\n",
            "913:\tlearn: 0.0222915\ttotal: 39.3s\tremaining: 3.7s\n",
            "914:\tlearn: 0.0222664\ttotal: 39.4s\tremaining: 3.66s\n",
            "915:\tlearn: 0.0222479\ttotal: 39.4s\tremaining: 3.61s\n",
            "916:\tlearn: 0.0222125\ttotal: 39.5s\tremaining: 3.57s\n",
            "917:\tlearn: 0.0221843\ttotal: 39.5s\tremaining: 3.53s\n",
            "918:\tlearn: 0.0221588\ttotal: 39.5s\tremaining: 3.48s\n",
            "919:\tlearn: 0.0221399\ttotal: 39.6s\tremaining: 3.44s\n",
            "920:\tlearn: 0.0221253\ttotal: 39.6s\tremaining: 3.4s\n",
            "921:\tlearn: 0.0221074\ttotal: 39.7s\tremaining: 3.36s\n",
            "922:\tlearn: 0.0220935\ttotal: 39.7s\tremaining: 3.31s\n",
            "923:\tlearn: 0.0220908\ttotal: 39.8s\tremaining: 3.27s\n",
            "924:\tlearn: 0.0220693\ttotal: 39.8s\tremaining: 3.23s\n",
            "925:\tlearn: 0.0220555\ttotal: 39.8s\tremaining: 3.18s\n",
            "926:\tlearn: 0.0220334\ttotal: 39.9s\tremaining: 3.14s\n",
            "927:\tlearn: 0.0220282\ttotal: 39.9s\tremaining: 3.1s\n",
            "928:\tlearn: 0.0219848\ttotal: 40s\tremaining: 3.05s\n",
            "929:\tlearn: 0.0219728\ttotal: 40s\tremaining: 3.01s\n",
            "930:\tlearn: 0.0219340\ttotal: 40.1s\tremaining: 2.97s\n",
            "931:\tlearn: 0.0219112\ttotal: 40.1s\tremaining: 2.92s\n",
            "932:\tlearn: 0.0218970\ttotal: 40.1s\tremaining: 2.88s\n",
            "933:\tlearn: 0.0218795\ttotal: 40.2s\tremaining: 2.84s\n",
            "934:\tlearn: 0.0218600\ttotal: 40.2s\tremaining: 2.8s\n",
            "935:\tlearn: 0.0218512\ttotal: 40.3s\tremaining: 2.75s\n",
            "936:\tlearn: 0.0218465\ttotal: 40.3s\tremaining: 2.71s\n",
            "937:\tlearn: 0.0218392\ttotal: 40.3s\tremaining: 2.67s\n",
            "938:\tlearn: 0.0218253\ttotal: 40.4s\tremaining: 2.62s\n",
            "939:\tlearn: 0.0217927\ttotal: 40.4s\tremaining: 2.58s\n",
            "940:\tlearn: 0.0217717\ttotal: 40.5s\tremaining: 2.54s\n",
            "941:\tlearn: 0.0217499\ttotal: 40.5s\tremaining: 2.49s\n",
            "942:\tlearn: 0.0217315\ttotal: 40.6s\tremaining: 2.45s\n",
            "943:\tlearn: 0.0216906\ttotal: 40.6s\tremaining: 2.41s\n",
            "944:\tlearn: 0.0216680\ttotal: 40.6s\tremaining: 2.37s\n",
            "945:\tlearn: 0.0216453\ttotal: 40.7s\tremaining: 2.32s\n",
            "946:\tlearn: 0.0216239\ttotal: 40.7s\tremaining: 2.28s\n",
            "947:\tlearn: 0.0215952\ttotal: 40.8s\tremaining: 2.24s\n",
            "948:\tlearn: 0.0215750\ttotal: 40.8s\tremaining: 2.19s\n",
            "949:\tlearn: 0.0215490\ttotal: 40.9s\tremaining: 2.15s\n",
            "950:\tlearn: 0.0215231\ttotal: 40.9s\tremaining: 2.11s\n",
            "951:\tlearn: 0.0215007\ttotal: 41s\tremaining: 2.06s\n",
            "952:\tlearn: 0.0214881\ttotal: 41s\tremaining: 2.02s\n",
            "953:\tlearn: 0.0214522\ttotal: 41s\tremaining: 1.98s\n",
            "954:\tlearn: 0.0214278\ttotal: 41.1s\tremaining: 1.94s\n",
            "955:\tlearn: 0.0213884\ttotal: 41.1s\tremaining: 1.89s\n",
            "956:\tlearn: 0.0213694\ttotal: 41.2s\tremaining: 1.85s\n",
            "957:\tlearn: 0.0213568\ttotal: 41.2s\tremaining: 1.81s\n",
            "958:\tlearn: 0.0213278\ttotal: 41.3s\tremaining: 1.76s\n",
            "959:\tlearn: 0.0213088\ttotal: 41.3s\tremaining: 1.72s\n",
            "960:\tlearn: 0.0212876\ttotal: 41.3s\tremaining: 1.68s\n",
            "961:\tlearn: 0.0212802\ttotal: 41.4s\tremaining: 1.63s\n",
            "962:\tlearn: 0.0212585\ttotal: 41.4s\tremaining: 1.59s\n",
            "963:\tlearn: 0.0212366\ttotal: 41.5s\tremaining: 1.55s\n",
            "964:\tlearn: 0.0212145\ttotal: 41.5s\tremaining: 1.5s\n",
            "965:\tlearn: 0.0211843\ttotal: 41.6s\tremaining: 1.46s\n",
            "966:\tlearn: 0.0211560\ttotal: 41.6s\tremaining: 1.42s\n",
            "967:\tlearn: 0.0211428\ttotal: 41.6s\tremaining: 1.38s\n",
            "968:\tlearn: 0.0211103\ttotal: 41.7s\tremaining: 1.33s\n",
            "969:\tlearn: 0.0210892\ttotal: 41.7s\tremaining: 1.29s\n",
            "970:\tlearn: 0.0210892\ttotal: 41.8s\tremaining: 1.25s\n",
            "971:\tlearn: 0.0210739\ttotal: 41.8s\tremaining: 1.2s\n",
            "972:\tlearn: 0.0210227\ttotal: 41.8s\tremaining: 1.16s\n",
            "973:\tlearn: 0.0209824\ttotal: 41.9s\tremaining: 1.12s\n",
            "974:\tlearn: 0.0209699\ttotal: 41.9s\tremaining: 1.07s\n",
            "975:\tlearn: 0.0209568\ttotal: 42s\tremaining: 1.03s\n",
            "976:\tlearn: 0.0209285\ttotal: 42s\tremaining: 989ms\n",
            "977:\tlearn: 0.0209285\ttotal: 42.1s\tremaining: 946ms\n",
            "978:\tlearn: 0.0209093\ttotal: 42.1s\tremaining: 903ms\n",
            "979:\tlearn: 0.0209014\ttotal: 42.2s\tremaining: 860ms\n",
            "980:\tlearn: 0.0209014\ttotal: 42.2s\tremaining: 817ms\n",
            "981:\tlearn: 0.0208954\ttotal: 42.2s\tremaining: 774ms\n",
            "982:\tlearn: 0.0208730\ttotal: 42.3s\tremaining: 731ms\n",
            "983:\tlearn: 0.0208730\ttotal: 42.3s\tremaining: 688ms\n",
            "984:\tlearn: 0.0208348\ttotal: 42.3s\tremaining: 645ms\n",
            "985:\tlearn: 0.0208199\ttotal: 42.4s\tremaining: 602ms\n",
            "986:\tlearn: 0.0207905\ttotal: 42.4s\tremaining: 559ms\n",
            "987:\tlearn: 0.0207858\ttotal: 42.5s\tremaining: 516ms\n",
            "988:\tlearn: 0.0207469\ttotal: 42.5s\tremaining: 473ms\n",
            "989:\tlearn: 0.0207291\ttotal: 42.6s\tremaining: 430ms\n",
            "990:\tlearn: 0.0207291\ttotal: 42.6s\tremaining: 387ms\n",
            "991:\tlearn: 0.0206864\ttotal: 42.6s\tremaining: 344ms\n",
            "992:\tlearn: 0.0206864\ttotal: 42.7s\tremaining: 301ms\n",
            "993:\tlearn: 0.0206783\ttotal: 42.7s\tremaining: 258ms\n",
            "994:\tlearn: 0.0206561\ttotal: 42.7s\tremaining: 215ms\n",
            "995:\tlearn: 0.0206426\ttotal: 42.8s\tremaining: 172ms\n",
            "996:\tlearn: 0.0206114\ttotal: 42.8s\tremaining: 129ms\n",
            "997:\tlearn: 0.0206009\ttotal: 42.9s\tremaining: 85.9ms\n",
            "998:\tlearn: 0.0205807\ttotal: 42.9s\tremaining: 43ms\n",
            "999:\tlearn: 0.0205646\ttotal: 42.9s\tremaining: 0us\n"
          ],
          "name": "stdout"
        }
      ]
    },
    {
      "cell_type": "code",
      "metadata": {
        "colab": {
          "base_uri": "https://localhost:8080/"
        },
        "id": "Ue0Oz11od2r_",
        "outputId": "29b10917-4d7e-42d3-ae67-708d248d41bb"
      },
      "source": [
        "joblib.dump(cb_clf,'cb_clf1.pkl')"
      ],
      "execution_count": 81,
      "outputs": [
        {
          "output_type": "execute_result",
          "data": {
            "text/plain": [
              "['cb_clf1.pkl']"
            ]
          },
          "metadata": {
            "tags": []
          },
          "execution_count": 81
        }
      ]
    },
    {
      "cell_type": "code",
      "metadata": {
        "colab": {
          "base_uri": "https://localhost:8080/"
        },
        "id": "Uau9zOeXeAwu",
        "outputId": "f1edd8f8-9f56-47ff-d9a7-7e5e0dcf3e29"
      },
      "source": [
        "cb_pred"
      ],
      "execution_count": 79,
      "outputs": [
        {
          "output_type": "execute_result",
          "data": {
            "text/plain": [
              "array([0, 0, 1, ..., 0, 1, 1])"
            ]
          },
          "metadata": {
            "tags": []
          },
          "execution_count": 79
        }
      ]
    },
    {
      "cell_type": "code",
      "metadata": {
        "colab": {
          "base_uri": "https://localhost:8080/"
        },
        "id": "tOdRl9Vnd2yb",
        "outputId": "0942fcad-a8cb-419d-a52e-ad0517bf40c7"
      },
      "source": [
        "cb_acc = accuracy_score(y_valid, cb_pred)\r\n",
        "cb_acc\r\n"
      ],
      "execution_count": 80,
      "outputs": [
        {
          "output_type": "execute_result",
          "data": {
            "text/plain": [
              "0.9878942785720305"
            ]
          },
          "metadata": {
            "tags": []
          },
          "execution_count": 80
        }
      ]
    },
    {
      "cell_type": "code",
      "metadata": {
        "colab": {
          "base_uri": "https://localhost:8080/",
          "height": 411
        },
        "id": "5gh6V3H7yc54",
        "outputId": "30ca097f-6277-41cb-df15-2b900bf80a75"
      },
      "source": [
        "cb_valid_pred = pd.DataFrame(cb_pred, columns =['catboost'])\r\n",
        "cb_valid_pred"
      ],
      "execution_count": 82,
      "outputs": [
        {
          "output_type": "execute_result",
          "data": {
            "text/html": [
              "<div>\n",
              "<style scoped>\n",
              "    .dataframe tbody tr th:only-of-type {\n",
              "        vertical-align: middle;\n",
              "    }\n",
              "\n",
              "    .dataframe tbody tr th {\n",
              "        vertical-align: top;\n",
              "    }\n",
              "\n",
              "    .dataframe thead th {\n",
              "        text-align: right;\n",
              "    }\n",
              "</style>\n",
              "<table border=\"1\" class=\"dataframe\">\n",
              "  <thead>\n",
              "    <tr style=\"text-align: right;\">\n",
              "      <th></th>\n",
              "      <th>catboost</th>\n",
              "    </tr>\n",
              "  </thead>\n",
              "  <tbody>\n",
              "    <tr>\n",
              "      <th>0</th>\n",
              "      <td>0</td>\n",
              "    </tr>\n",
              "    <tr>\n",
              "      <th>1</th>\n",
              "      <td>0</td>\n",
              "    </tr>\n",
              "    <tr>\n",
              "      <th>2</th>\n",
              "      <td>1</td>\n",
              "    </tr>\n",
              "    <tr>\n",
              "      <th>3</th>\n",
              "      <td>0</td>\n",
              "    </tr>\n",
              "    <tr>\n",
              "      <th>4</th>\n",
              "      <td>1</td>\n",
              "    </tr>\n",
              "    <tr>\n",
              "      <th>...</th>\n",
              "      <td>...</td>\n",
              "    </tr>\n",
              "    <tr>\n",
              "      <th>35598</th>\n",
              "      <td>0</td>\n",
              "    </tr>\n",
              "    <tr>\n",
              "      <th>35599</th>\n",
              "      <td>0</td>\n",
              "    </tr>\n",
              "    <tr>\n",
              "      <th>35600</th>\n",
              "      <td>0</td>\n",
              "    </tr>\n",
              "    <tr>\n",
              "      <th>35601</th>\n",
              "      <td>1</td>\n",
              "    </tr>\n",
              "    <tr>\n",
              "      <th>35602</th>\n",
              "      <td>1</td>\n",
              "    </tr>\n",
              "  </tbody>\n",
              "</table>\n",
              "<p>35603 rows × 1 columns</p>\n",
              "</div>"
            ],
            "text/plain": [
              "       catboost\n",
              "0             0\n",
              "1             0\n",
              "2             1\n",
              "3             0\n",
              "4             1\n",
              "...         ...\n",
              "35598         0\n",
              "35599         0\n",
              "35600         0\n",
              "35601         1\n",
              "35602         1\n",
              "\n",
              "[35603 rows x 1 columns]"
            ]
          },
          "metadata": {
            "tags": []
          },
          "execution_count": 82
        }
      ]
    },
    {
      "cell_type": "code",
      "metadata": {
        "id": "XYwAFoHERerA"
      },
      "source": [
        "# submit\r\n",
        "\r\n",
        "cb_valid_pred.to_csv(\"cb_valid_pred1.csv\", encoding=\"utf-8-sig\",index=False)"
      ],
      "execution_count": 83,
      "outputs": []
    },
    {
      "cell_type": "markdown",
      "metadata": {
        "id": "rkI9-l1kdqhb"
      },
      "source": [
        "cb_params = {\r\n",
        "    'n_estimators' : [100, 500, 1000],\r\n",
        "    'learning_rate' : [0.001, 0.01, 0.1],\r\n",
        "}\r\n",
        "\r\n",
        "\r\n",
        "grid_cv = GridSearchCV(cb_clf, param_grid = cb_params, cv = 3)\r\n",
        "grid_cv.fit(X_train, y_train)\r\n",
        "\r\n",
        "print('최적 하이퍼 파라미터:\\n', grid_cv.best_params_)\r\n",
        "print('최고 예측 정확도: {0:.6f}'.format(grid_cv.best_score_))\r\n",
        "\r\n",
        "- 최적 하이퍼 파라미터:\r\n",
        " {'learning_rate': 0.1, 'n_estimators': 100}\r\n",
        "  최고 예측 정확도: 0.887512\r\n",
        "\r\n",
        "\r\n",
        "- valid - acc = 0.9797607318789585"
      ]
    },
    {
      "cell_type": "markdown",
      "metadata": {
        "id": "aVIzTkFySP9x"
      },
      "source": [
        "### ExtraTree\r\n",
        "\r\n",
        "- gridCV를 사용했을 때, 오히려 과적합되는 것 같음.(이번 경우에만)"
      ]
    },
    {
      "cell_type": "code",
      "metadata": {
        "colab": {
          "base_uri": "https://localhost:8080/"
        },
        "id": "hpeEQOBOSUD-",
        "outputId": "c8d26284-7d70-4508-8ed5-a16e40fa4a6b"
      },
      "source": [
        "ext_clf =  ExtraTreesClassifier(random_state=42)\r\n",
        "ext_clf.fit(X_train, y_train)\r\n",
        "\r\n",
        "#default n_estimators = 100, max_depth=None"
      ],
      "execution_count": 84,
      "outputs": [
        {
          "output_type": "execute_result",
          "data": {
            "text/plain": [
              "ExtraTreesClassifier(bootstrap=False, ccp_alpha=0.0, class_weight=None,\n",
              "                     criterion='gini', max_depth=None, max_features='auto',\n",
              "                     max_leaf_nodes=None, max_samples=None,\n",
              "                     min_impurity_decrease=0.0, min_impurity_split=None,\n",
              "                     min_samples_leaf=1, min_samples_split=2,\n",
              "                     min_weight_fraction_leaf=0.0, n_estimators=100,\n",
              "                     n_jobs=None, oob_score=False, random_state=42, verbose=0,\n",
              "                     warm_start=False)"
            ]
          },
          "metadata": {
            "tags": []
          },
          "execution_count": 84
        }
      ]
    },
    {
      "cell_type": "code",
      "metadata": {
        "colab": {
          "base_uri": "https://localhost:8080/"
        },
        "id": "DmZTN5KRU1AC",
        "outputId": "9b8a9664-788c-487e-df51-75e05a357ffe"
      },
      "source": [
        "\r\n",
        "ext_pred = ext_clf.predict(X_valid)\r\n",
        "ext_acc = accuracy_score(y_valid, ext_pred)\r\n",
        "ext_acc\r\n"
      ],
      "execution_count": 85,
      "outputs": [
        {
          "output_type": "execute_result",
          "data": {
            "text/plain": [
              "0.9769401454933573"
            ]
          },
          "metadata": {
            "tags": []
          },
          "execution_count": 85
        }
      ]
    },
    {
      "cell_type": "code",
      "metadata": {
        "colab": {
          "base_uri": "https://localhost:8080/"
        },
        "id": "jXfFxMnESZB1",
        "outputId": "8b844661-d54b-4c6c-aa13-d971499f19f9"
      },
      "source": [
        "ext_params = {\r\n",
        "    'n_estimators' : [100, 1000]\r\n",
        "}\r\n",
        "\r\n",
        "\r\n",
        "ext_cv = GridSearchCV(ext_clf, param_grid = ext_params, cv = 3)\r\n",
        "ext_cv.fit(X_train, y_train)\r\n",
        "\r\n",
        "print('최적 하이퍼 파라미터:\\n', ext_cv.best_params_)\r\n",
        "print('최고 예측 정확도: {0:.6f}'.format(ext_cv.best_score_))"
      ],
      "execution_count": 86,
      "outputs": [
        {
          "output_type": "stream",
          "text": [
            "최적 하이퍼 파라미터:\n",
            " {'n_estimators': 1000}\n",
            "최고 예측 정확도: 0.891168\n"
          ],
          "name": "stdout"
        }
      ]
    },
    {
      "cell_type": "code",
      "metadata": {
        "colab": {
          "base_uri": "https://localhost:8080/"
        },
        "id": "NExyB_TWYvfj",
        "outputId": "e87b3491-ecf4-4498-f481-29f596c2236d"
      },
      "source": [
        "ext_cv.get_params"
      ],
      "execution_count": 88,
      "outputs": [
        {
          "output_type": "execute_result",
          "data": {
            "text/plain": [
              "<bound method BaseEstimator.get_params of GridSearchCV(cv=3, error_score=nan,\n",
              "             estimator=ExtraTreesClassifier(bootstrap=False, ccp_alpha=0.0,\n",
              "                                            class_weight=None, criterion='gini',\n",
              "                                            max_depth=None, max_features='auto',\n",
              "                                            max_leaf_nodes=None,\n",
              "                                            max_samples=None,\n",
              "                                            min_impurity_decrease=0.0,\n",
              "                                            min_impurity_split=None,\n",
              "                                            min_samples_leaf=1,\n",
              "                                            min_samples_split=2,\n",
              "                                            min_weight_fraction_leaf=0.0,\n",
              "                                            n_estimators=100, n_jobs=None,\n",
              "                                            oob_score=False, random_state=42,\n",
              "                                            verbose=0, warm_start=False),\n",
              "             iid='deprecated', n_jobs=None,\n",
              "             param_grid={'n_estimators': [100, 500, 1000]},\n",
              "             pre_dispatch='2*n_jobs', refit=True, return_train_score=False,\n",
              "             scoring=None, verbose=0)>"
            ]
          },
          "metadata": {
            "tags": []
          },
          "execution_count": 88
        }
      ]
    },
    {
      "cell_type": "code",
      "metadata": {
        "colab": {
          "base_uri": "https://localhost:8080/"
        },
        "id": "1H-3soGzdpOe",
        "outputId": "00b3eec9-ef8e-4b17-b763-cfa3ebaa81e7"
      },
      "source": [
        "joblib.dump(ext_cv,'ext_cv1.pkl')"
      ],
      "execution_count": 98,
      "outputs": [
        {
          "output_type": "execute_result",
          "data": {
            "text/plain": [
              "['ext_cv1.pkl']"
            ]
          },
          "metadata": {
            "tags": []
          },
          "execution_count": 98
        }
      ]
    },
    {
      "cell_type": "code",
      "metadata": {
        "colab": {
          "base_uri": "https://localhost:8080/"
        },
        "id": "WK15o5-3SZGC",
        "outputId": "fbce8f81-b04f-4731-aec9-5ae82ada75f5"
      },
      "source": [
        "# predict\r\n",
        "ext_pred = ext_cv.best_estimator_.predict(X_valid)\r\n",
        "\r\n",
        "ext_acc = accuracy_score(y_valid, ext_pred)\r\n",
        "ext_acc"
      ],
      "execution_count": 99,
      "outputs": [
        {
          "output_type": "execute_result",
          "data": {
            "text/plain": [
              "0.9771086706176446"
            ]
          },
          "metadata": {
            "tags": []
          },
          "execution_count": 99
        }
      ]
    },
    {
      "cell_type": "code",
      "metadata": {
        "colab": {
          "base_uri": "https://localhost:8080/",
          "height": 411
        },
        "id": "qqbM6zXvSctD",
        "outputId": "d6718ca5-77e4-4202-9fa7-9aaf7fb00d37"
      },
      "source": [
        "ext_valid_pred = pd.DataFrame(ext_pred, columns =['ExtraTree'])\r\n",
        "ext_valid_pred\r\n"
      ],
      "execution_count": 100,
      "outputs": [
        {
          "output_type": "execute_result",
          "data": {
            "text/html": [
              "<div>\n",
              "<style scoped>\n",
              "    .dataframe tbody tr th:only-of-type {\n",
              "        vertical-align: middle;\n",
              "    }\n",
              "\n",
              "    .dataframe tbody tr th {\n",
              "        vertical-align: top;\n",
              "    }\n",
              "\n",
              "    .dataframe thead th {\n",
              "        text-align: right;\n",
              "    }\n",
              "</style>\n",
              "<table border=\"1\" class=\"dataframe\">\n",
              "  <thead>\n",
              "    <tr style=\"text-align: right;\">\n",
              "      <th></th>\n",
              "      <th>ExtraTree</th>\n",
              "    </tr>\n",
              "  </thead>\n",
              "  <tbody>\n",
              "    <tr>\n",
              "      <th>0</th>\n",
              "      <td>0</td>\n",
              "    </tr>\n",
              "    <tr>\n",
              "      <th>1</th>\n",
              "      <td>0</td>\n",
              "    </tr>\n",
              "    <tr>\n",
              "      <th>2</th>\n",
              "      <td>1</td>\n",
              "    </tr>\n",
              "    <tr>\n",
              "      <th>3</th>\n",
              "      <td>0</td>\n",
              "    </tr>\n",
              "    <tr>\n",
              "      <th>4</th>\n",
              "      <td>1</td>\n",
              "    </tr>\n",
              "    <tr>\n",
              "      <th>...</th>\n",
              "      <td>...</td>\n",
              "    </tr>\n",
              "    <tr>\n",
              "      <th>35598</th>\n",
              "      <td>0</td>\n",
              "    </tr>\n",
              "    <tr>\n",
              "      <th>35599</th>\n",
              "      <td>0</td>\n",
              "    </tr>\n",
              "    <tr>\n",
              "      <th>35600</th>\n",
              "      <td>0</td>\n",
              "    </tr>\n",
              "    <tr>\n",
              "      <th>35601</th>\n",
              "      <td>1</td>\n",
              "    </tr>\n",
              "    <tr>\n",
              "      <th>35602</th>\n",
              "      <td>1</td>\n",
              "    </tr>\n",
              "  </tbody>\n",
              "</table>\n",
              "<p>35603 rows × 1 columns</p>\n",
              "</div>"
            ],
            "text/plain": [
              "       ExtraTree\n",
              "0              0\n",
              "1              0\n",
              "2              1\n",
              "3              0\n",
              "4              1\n",
              "...          ...\n",
              "35598          0\n",
              "35599          0\n",
              "35600          0\n",
              "35601          1\n",
              "35602          1\n",
              "\n",
              "[35603 rows x 1 columns]"
            ]
          },
          "metadata": {
            "tags": []
          },
          "execution_count": 100
        }
      ]
    },
    {
      "cell_type": "code",
      "metadata": {
        "id": "6d0ZgwKhSh4s"
      },
      "source": [
        "# submit\r\n",
        "\r\n",
        "ext_valid_pred.to_csv(\"ext_valid_pred1.csv\", encoding=\"utf-8-sig\",index=False)"
      ],
      "execution_count": 101,
      "outputs": []
    },
    {
      "cell_type": "markdown",
      "metadata": {
        "id": "FPKiOiLAenlg"
      },
      "source": [
        "### 스태킹\r\n",
        "\r\n",
        "- 스태킹할때, gridCV를 사용하면 과적합되는 것 같음."
      ]
    },
    {
      "cell_type": "code",
      "metadata": {
        "colab": {
          "base_uri": "https://localhost:8080/"
        },
        "id": "gbr5zVE_POKD",
        "outputId": "52bc7e9d-22b1-4429-9c3d-1ba499e1cdc0"
      },
      "source": [
        "# 아래 LSTM_add_feature()로 만든 예측값\r\n",
        "\r\n",
        "lstm_pred1 "
      ],
      "execution_count": 118,
      "outputs": [
        {
          "output_type": "execute_result",
          "data": {
            "text/plain": [
              "array([5.9819221e-04, 1.5429556e-03, 9.9947447e-01, ..., 7.1025491e-03,\n",
              "       9.9992704e-01, 9.9984050e-01], dtype=float32)"
            ]
          },
          "metadata": {
            "tags": []
          },
          "execution_count": 118
        }
      ]
    },
    {
      "cell_type": "code",
      "metadata": {
        "colab": {
          "base_uri": "https://localhost:8080/"
        },
        "id": "LvYNOy7ofS_0",
        "outputId": "940d79e8-fbfc-426c-e83c-c28244ddcd64"
      },
      "source": [
        "all_pred = np.array([ada_pred, cb_pred, lstm_pred1])\r\n",
        "all_pred.shape"
      ],
      "execution_count": 135,
      "outputs": [
        {
          "output_type": "execute_result",
          "data": {
            "text/plain": [
              "(3, 35603)"
            ]
          },
          "metadata": {
            "tags": []
          },
          "execution_count": 135
        }
      ]
    },
    {
      "cell_type": "code",
      "metadata": {
        "colab": {
          "base_uri": "https://localhost:8080/"
        },
        "id": "a-HBWADSfhvC",
        "outputId": "b388f5b2-8fcf-487d-c60a-7d7962419b1a"
      },
      "source": [
        "all_pred = np.transpose(all_pred)\r\n",
        "all_pred.shape"
      ],
      "execution_count": 136,
      "outputs": [
        {
          "output_type": "execute_result",
          "data": {
            "text/plain": [
              "(35603, 3)"
            ]
          },
          "metadata": {
            "tags": []
          },
          "execution_count": 136
        }
      ]
    },
    {
      "cell_type": "code",
      "metadata": {
        "colab": {
          "base_uri": "https://localhost:8080/"
        },
        "id": "uSBH7Hs6fqwd",
        "outputId": "d115063a-0fca-4c3e-a465-7e470bdfdf7d"
      },
      "source": [
        "lgbm_clf=LGBMClassifier(random_state=42)\r\n",
        "lgbm_clf.fit(all_pred, y_valid)"
      ],
      "execution_count": 137,
      "outputs": [
        {
          "output_type": "execute_result",
          "data": {
            "text/plain": [
              "LGBMClassifier(boosting_type='gbdt', class_weight=None, colsample_bytree=1.0,\n",
              "               importance_type='split', learning_rate=0.1, max_depth=-1,\n",
              "               min_child_samples=20, min_child_weight=0.001, min_split_gain=0.0,\n",
              "               n_estimators=100, n_jobs=-1, num_leaves=31, objective=None,\n",
              "               random_state=42, reg_alpha=0.0, reg_lambda=0.0, silent=True,\n",
              "               subsample=1.0, subsample_for_bin=200000, subsample_freq=0)"
            ]
          },
          "metadata": {
            "tags": []
          },
          "execution_count": 137
        }
      ]
    },
    {
      "cell_type": "code",
      "metadata": {
        "colab": {
          "base_uri": "https://localhost:8080/"
        },
        "id": "Dk58Hqrjgw-2",
        "outputId": "f4071718-08d7-4df7-f705-c0651adb1b17"
      },
      "source": [
        "\r\n",
        "lgbm_pred = lgbm_clf.predict(all_pred)\r\n",
        "lgbm_acc = accuracy_score(y_valid, lgbm_pred)\r\n",
        "lgbm_acc\r\n"
      ],
      "execution_count": 138,
      "outputs": [
        {
          "output_type": "execute_result",
          "data": {
            "text/plain": [
              "0.9925006319692161"
            ]
          },
          "metadata": {
            "tags": []
          },
          "execution_count": 138
        }
      ]
    },
    {
      "cell_type": "code",
      "metadata": {
        "colab": {
          "base_uri": "https://localhost:8080/"
        },
        "id": "crpUCQpcfq0Z",
        "outputId": "4d5520b5-e649-4600-d3dd-408f8762b34e"
      },
      "source": [
        "lgbm_params={'boosting':['gbdt'],\r\n",
        "               'objective':['binary'],\r\n",
        "               'learning_rate':[0.001,0.05,0.1],\r\n",
        "               'max_depth':[2,4,6,8],\r\n",
        "               'n_estimators':[100,500,1000]}\r\n",
        "\r\n",
        "grid_lgbm = GridSearchCV(lgbm_clf,param_grid=lgbm_params,cv=3)\r\n",
        "grid_lgbm.fit(all_pred,y_valid)\r\n",
        "\r\n",
        "\r\n",
        "print('최적 하이퍼 파라미터:\\n', grid_lgbm.best_params_)\r\n",
        "print('최고 예측 정확도: {0:.6f}'.format(grid_lgbm.best_score_))"
      ],
      "execution_count": 139,
      "outputs": [
        {
          "output_type": "stream",
          "text": [
            "최적 하이퍼 파라미터:\n",
            " {'boosting': 'gbdt', 'learning_rate': 0.05, 'max_depth': 2, 'n_estimators': 100, 'objective': 'binary'}\n",
            "최고 예측 정확도: 0.992107\n"
          ],
          "name": "stdout"
        }
      ]
    },
    {
      "cell_type": "code",
      "metadata": {
        "colab": {
          "base_uri": "https://localhost:8080/"
        },
        "id": "dozHxwVfczI4",
        "outputId": "f75a357b-67b0-440c-acc3-1f2ec5448909"
      },
      "source": [
        "joblib.dump(lgbm_clf,'lgbm_stacking_clf.pkl')"
      ],
      "execution_count": 140,
      "outputs": [
        {
          "output_type": "execute_result",
          "data": {
            "text/plain": [
              "['lgbm_stacking_clf.pkl']"
            ]
          },
          "metadata": {
            "tags": []
          },
          "execution_count": 140
        }
      ]
    },
    {
      "cell_type": "code",
      "metadata": {
        "colab": {
          "base_uri": "https://localhost:8080/"
        },
        "id": "XzygWaiShTS0",
        "outputId": "efe0bbb2-3e95-4232-e449-fc65f2e476aa"
      },
      "source": [
        "stacking_pred=grid_lgbm.predict(all_pred)\r\n",
        "stacking_pred\r\n"
      ],
      "execution_count": 141,
      "outputs": [
        {
          "output_type": "execute_result",
          "data": {
            "text/plain": [
              "array([0, 0, 1, ..., 0, 1, 1], dtype=int64)"
            ]
          },
          "metadata": {
            "tags": []
          },
          "execution_count": 141
        }
      ]
    },
    {
      "cell_type": "code",
      "metadata": {
        "colab": {
          "base_uri": "https://localhost:8080/"
        },
        "id": "Usc9DgLWh59f",
        "outputId": "f4fb337c-bc9d-4f7d-bb14-bb0858185893"
      },
      "source": [
        "stacking_acc = accuracy_score(y_valid, stacking_pred)\r\n",
        "stacking_acc"
      ],
      "execution_count": 142,
      "outputs": [
        {
          "output_type": "execute_result",
          "data": {
            "text/plain": [
              "0.9922759318034997"
            ]
          },
          "metadata": {
            "tags": []
          },
          "execution_count": 142
        }
      ]
    },
    {
      "cell_type": "code",
      "metadata": {
        "colab": {
          "base_uri": "https://localhost:8080/",
          "height": 411
        },
        "id": "5sjWjKIPh5Xp",
        "outputId": "cdf376a9-9774-4a7b-c6a1-68e31ff34b53"
      },
      "source": [
        "stacking_valid_pred = pd.DataFrame(ext_pred, columns =['gb, cb'])\r\n",
        "stacking_valid_pred\r\n"
      ],
      "execution_count": 219,
      "outputs": [
        {
          "output_type": "execute_result",
          "data": {
            "text/html": [
              "<div>\n",
              "<style scoped>\n",
              "    .dataframe tbody tr th:only-of-type {\n",
              "        vertical-align: middle;\n",
              "    }\n",
              "\n",
              "    .dataframe tbody tr th {\n",
              "        vertical-align: top;\n",
              "    }\n",
              "\n",
              "    .dataframe thead th {\n",
              "        text-align: right;\n",
              "    }\n",
              "</style>\n",
              "<table border=\"1\" class=\"dataframe\">\n",
              "  <thead>\n",
              "    <tr style=\"text-align: right;\">\n",
              "      <th></th>\n",
              "      <th>gb, cb</th>\n",
              "    </tr>\n",
              "  </thead>\n",
              "  <tbody>\n",
              "    <tr>\n",
              "      <th>0</th>\n",
              "      <td>1</td>\n",
              "    </tr>\n",
              "    <tr>\n",
              "      <th>1</th>\n",
              "      <td>0</td>\n",
              "    </tr>\n",
              "    <tr>\n",
              "      <th>2</th>\n",
              "      <td>1</td>\n",
              "    </tr>\n",
              "    <tr>\n",
              "      <th>3</th>\n",
              "      <td>1</td>\n",
              "    </tr>\n",
              "    <tr>\n",
              "      <th>4</th>\n",
              "      <td>1</td>\n",
              "    </tr>\n",
              "    <tr>\n",
              "      <th>...</th>\n",
              "      <td>...</td>\n",
              "    </tr>\n",
              "    <tr>\n",
              "      <th>35520</th>\n",
              "      <td>1</td>\n",
              "    </tr>\n",
              "    <tr>\n",
              "      <th>35521</th>\n",
              "      <td>0</td>\n",
              "    </tr>\n",
              "    <tr>\n",
              "      <th>35522</th>\n",
              "      <td>1</td>\n",
              "    </tr>\n",
              "    <tr>\n",
              "      <th>35523</th>\n",
              "      <td>1</td>\n",
              "    </tr>\n",
              "    <tr>\n",
              "      <th>35524</th>\n",
              "      <td>1</td>\n",
              "    </tr>\n",
              "  </tbody>\n",
              "</table>\n",
              "<p>35525 rows × 1 columns</p>\n",
              "</div>"
            ],
            "text/plain": [
              "       gb, cb\n",
              "0           1\n",
              "1           0\n",
              "2           1\n",
              "3           1\n",
              "4           1\n",
              "...       ...\n",
              "35520       1\n",
              "35521       0\n",
              "35522       1\n",
              "35523       1\n",
              "35524       1\n",
              "\n",
              "[35525 rows x 1 columns]"
            ]
          },
          "metadata": {
            "tags": []
          },
          "execution_count": 219
        }
      ]
    },
    {
      "cell_type": "code",
      "metadata": {
        "id": "CoUEhmK0jWsO"
      },
      "source": [
        "# submit\r\n",
        "\r\n",
        "stacking_valid_pred.to_csv(\"stacking_valid_pred.csv\", encoding=\"utf-8-sig\",index=False)"
      ],
      "execution_count": 108,
      "outputs": []
    },
    {
      "cell_type": "markdown",
      "metadata": {
        "id": "vE2LIzwUWU7F"
      },
      "source": [
        "### cv기반 스태킹\r\n",
        "- Kfold\r\n"
      ]
    },
    {
      "cell_type": "code",
      "metadata": {
        "id": "Q3TIhX9mWT1K"
      },
      "source": [
        "from sklearn.model_selection import KFold\r\n",
        "from sklearn.metrics import mean_absolute_error\r\n",
        "\r\n",
        "\r\n",
        "\r\n",
        "# 개별 기반 모델에서 최종 모델이 사용할 train, test 데이터를 생성하기 위한 함수. \r\n",
        "def get_stacking_base_datasets(model, X_train_n, y_train_n, X_test_n, n_folds ):\r\n",
        "\r\n",
        "    kf = KFold(n_splits=n_folds, shuffle=False, random_state=42)\r\n",
        "    #추후에 메타 모델이 사용할 학습 데이터 반환을 위한 넘파이 배열 초기화 \r\n",
        "    train_fold_pred = np.zeros((X_train_n.shape[0] ,1 ))\r\n",
        "    test_pred = np.zeros((X_test_n.shape[0],n_folds))\r\n",
        "    print(model.__class__.__name__ , ' model 시작 ')\r\n",
        "    \r\n",
        "    for folder_counter , (train_index, valid_index) in enumerate(kf.split(X_train_n)):\r\n",
        "        #입력된 학습 데이터에서 기반 모델이 학습/예측할 폴드 데이터 셋 추출 \r\n",
        "        print('\\t 폴드 세트: ',folder_counter,' 시작 ')\r\n",
        "        X_tr = X_train_n[train_index] \r\n",
        "        y_tr = y_train_n[train_index] \r\n",
        "        X_te = X_train_n[valid_index]  \r\n",
        "        \r\n",
        "        \r\n",
        "        model.fit(X_tr , y_tr)       \r\n",
        "        \r\n",
        "        train_fold_pred[valid_index, :] = model.predict(X_te).reshape(-1,1)\r\n",
        "       \r\n",
        "        test_pred[:, folder_counter] = model.predict(X_test_n)\r\n",
        "            \r\n",
        "    # 폴드 세트 내에서 원본 테스트 데이터를 예측한 데이터를 평균하여 테스트 데이터로 생성 \r\n",
        "    test_pred_mean = np.mean(test_pred, axis=1).reshape(-1,1)    \r\n",
        "    \r\n",
        "    #train_fold_pred는 최종 메타 모델이 사용하는 학습 데이터, test_pred_mean은 테스트 데이터\r\n",
        "    return train_fold_pred , test_pred_mean"
      ],
      "execution_count": 1,
      "outputs": []
    },
    {
      "cell_type": "code",
      "metadata": {
        "colab": {
          "base_uri": "https://localhost:8080/",
          "height": 241
        },
        "id": "mWuiXIgTY_L0",
        "outputId": "04ed7e4f-f1fe-40d7-acff-2725d986e250"
      },
      "source": [
        "\r\n",
        "\r\n",
        "# gb, ada, cb, ext, lstm \r\n",
        "\r\n",
        "gb_train, gb_test = get_stacking_base_datasets(gb_clf, X_train, y_train, X_valid, 5)\r\n",
        "ada_train, ada_test = get_stacking_base_datasets(ada_clf, X_train, y_train, X_valid, 5)\r\n",
        "cb_train, cb_test = get_stacking_base_datasets(cb_clf, X_train, y_train, X_valid, 5)\r\n",
        "ext_train, ext_test = get_stacking_base_datasets(ext_clf, X_train, y_train, X_valid,  5)    \r\n",
        "lstm_train, lstm_test = get_stacking_base_datasets(lstm_clf, X_train, y_train, X_valid,  5)    \r\n"
      ],
      "execution_count": 2,
      "outputs": [
        {
          "output_type": "error",
          "ename": "NameError",
          "evalue": "ignored",
          "traceback": [
            "\u001b[0;31m---------------------------------------------------------------------------\u001b[0m",
            "\u001b[0;31mNameError\u001b[0m                                 Traceback (most recent call last)",
            "\u001b[0;32m<ipython-input-2-75d452bff31c>\u001b[0m in \u001b[0;36m<module>\u001b[0;34m()\u001b[0m\n\u001b[1;32m      1\u001b[0m \u001b[0;31m# gb, ada, cb, ext, lstm\u001b[0m\u001b[0;34m\u001b[0m\u001b[0;34m\u001b[0m\u001b[0;34m\u001b[0m\u001b[0m\n\u001b[1;32m      2\u001b[0m \u001b[0;34m\u001b[0m\u001b[0m\n\u001b[0;32m----> 3\u001b[0;31m \u001b[0mgb_train\u001b[0m\u001b[0;34m,\u001b[0m \u001b[0mgb_test\u001b[0m \u001b[0;34m=\u001b[0m \u001b[0mget_stacking_base_datasets\u001b[0m\u001b[0;34m(\u001b[0m\u001b[0mgb_clf\u001b[0m\u001b[0;34m,\u001b[0m \u001b[0mX_train\u001b[0m\u001b[0;34m,\u001b[0m \u001b[0my_train\u001b[0m\u001b[0;34m,\u001b[0m \u001b[0mX_valid\u001b[0m\u001b[0;34m,\u001b[0m \u001b[0;36m5\u001b[0m\u001b[0;34m)\u001b[0m\u001b[0;34m\u001b[0m\u001b[0;34m\u001b[0m\u001b[0m\n\u001b[0m\u001b[1;32m      4\u001b[0m \u001b[0mada_train\u001b[0m\u001b[0;34m,\u001b[0m \u001b[0mada_test\u001b[0m \u001b[0;34m=\u001b[0m \u001b[0mget_stacking_base_datasets\u001b[0m\u001b[0;34m(\u001b[0m\u001b[0mada_clf\u001b[0m\u001b[0;34m,\u001b[0m \u001b[0mX_train\u001b[0m\u001b[0;34m,\u001b[0m \u001b[0my_train\u001b[0m\u001b[0;34m,\u001b[0m \u001b[0mX_valid\u001b[0m\u001b[0;34m,\u001b[0m \u001b[0;36m5\u001b[0m\u001b[0;34m)\u001b[0m\u001b[0;34m\u001b[0m\u001b[0;34m\u001b[0m\u001b[0m\n\u001b[1;32m      5\u001b[0m \u001b[0mcb_train\u001b[0m\u001b[0;34m,\u001b[0m \u001b[0mcb_test\u001b[0m \u001b[0;34m=\u001b[0m \u001b[0mget_stacking_base_datasets\u001b[0m\u001b[0;34m(\u001b[0m\u001b[0mcb_clf\u001b[0m\u001b[0;34m,\u001b[0m \u001b[0mX_train\u001b[0m\u001b[0;34m,\u001b[0m \u001b[0my_train\u001b[0m\u001b[0;34m,\u001b[0m \u001b[0mX_valid\u001b[0m\u001b[0;34m,\u001b[0m \u001b[0;36m5\u001b[0m\u001b[0;34m)\u001b[0m\u001b[0;34m\u001b[0m\u001b[0;34m\u001b[0m\u001b[0m\n",
            "\u001b[0;31mNameError\u001b[0m: name 'gb_clf' is not defined"
          ]
        }
      ]
    },
    {
      "cell_type": "markdown",
      "metadata": {
        "id": "SvlkD1saZfcF"
      },
      "source": [
        "- StratifiedKFold"
      ]
    },
    {
      "cell_type": "markdown",
      "metadata": {
        "id": "a2Vqd61JSdLQ"
      },
      "source": [
        "#모델링"
      ]
    },
    {
      "cell_type": "code",
      "metadata": {
        "id": "IOrznz_nNk33"
      },
      "source": [
        "# EDA기반으로 만든 feature 예측변수로 추가\r\n",
        "from keras import regularizers\r\n",
        "\r\n",
        "def LSTM_add_feature(vocab_size, embedding_size = 100, max_len=100):\r\n",
        "  input1 = keras.layers.Input(shape = [max_len,]) #문장 단어 input\r\n",
        "  input2 = keras.layers.Input(shape = [feature_num,]) # EDA기반 feature input\r\n",
        "\r\n",
        "  # LSTM\r\n",
        "  embedding = keras.layers.Embedding(vocab_size, embedding_size, weights = [embedding_matrix], input_length = max_len)(input1) # 임베딩 가중치 적용\r\n",
        "  dropout1 = keras.layers.SpatialDropout1D(0.3)(embedding)\r\n",
        "  lstm1 = keras.layers.LSTM(32, return_sequences = True)(dropout1)\r\n",
        "  lstm2 = keras.layers.LSTM(32)(lstm1)\r\n",
        "  dropout2 = keras.layers.Dropout(0.5)(lstm2)\r\n",
        "  #lstm_output = keras.layers.Dense(16, activation = \"selu\")(dropout2)\r\n",
        "\r\n",
        "  # MLP\r\n",
        "  concat = keras.layers.concatenate([dropout2,input2])\r\n",
        "  hidden = keras.layers.Dense(32, activation = \"selu\")(concat)\r\n",
        "  output = keras.layers.Dense(1, activation = \"sigmoid\")(hidden)\r\n",
        "\r\n",
        "  model = keras.Model(inputs = [input1, input2], outputs = [output])\r\n",
        "\r\n",
        "  model.compile(optimizer=keras.optimizers.Adam(lr=learning_rate), loss=\"binary_crossentropy\", metrics = \"accuracy\")\r\n",
        "  model.summary()\r\n",
        "  return model\r\n"
      ],
      "execution_count": 157,
      "outputs": []
    },
    {
      "cell_type": "code",
      "metadata": {
        "id": "vLyta-R27x7b",
        "colab": {
          "base_uri": "https://localhost:8080/"
        },
        "outputId": "406c4ded-51ba-48f1-b581-e9ad2b0995c2"
      },
      "source": [
        "# 훈련 시\r\n",
        "tf.random.set_seed(42)\r\n",
        "\r\n",
        "\r\n",
        "checkpoint_cb = keras.callbacks.ModelCheckpoint(\"lstm_stacking_valid_model.h5\",\r\n",
        "                                               save_best_only = True)\r\n",
        "\r\n",
        "# 하이퍼파라미터\r\n",
        "max_epoch = 5\r\n",
        "batch_size = 32\r\n",
        "learning_rate = 0.001\r\n",
        "\r\n",
        "model = LSTM_add_feature(vocab_size, max_len = max_len, embedding_size = embedding_size)\r\n",
        "history = model.fit(x=[X_train[:,:max_len],X_train[:,-feature_num:]], y=y_train, epochs=max_epoch,\r\n",
        "                batch_size = batch_size,  validation_data = ((X_valid[:,:max_len],X_valid[:,-feature_num:]),y_valid), validation_batch_size = batch_size,\r\n",
        "                 callbacks = [checkpoint_cb])"
      ],
      "execution_count": 109,
      "outputs": [
        {
          "output_type": "stream",
          "text": [
            "Model: \"model\"\n",
            "__________________________________________________________________________________________________\n",
            "Layer (type)                    Output Shape         Param #     Connected to                     \n",
            "==================================================================================================\n",
            "input_1 (InputLayer)            [(None, 20)]         0                                            \n",
            "__________________________________________________________________________________________________\n",
            "embedding (Embedding)           (None, 20, 300)      10139400    input_1[0][0]                    \n",
            "__________________________________________________________________________________________________\n",
            "spatial_dropout1d (SpatialDropo (None, 20, 300)      0           embedding[0][0]                  \n",
            "__________________________________________________________________________________________________\n",
            "lstm (LSTM)                     (None, 20, 32)       42624       spatial_dropout1d[0][0]          \n",
            "__________________________________________________________________________________________________\n",
            "lstm_1 (LSTM)                   (None, 32)           8320        lstm[0][0]                       \n",
            "__________________________________________________________________________________________________\n",
            "dropout (Dropout)               (None, 32)           0           lstm_1[0][0]                     \n",
            "__________________________________________________________________________________________________\n",
            "input_2 (InputLayer)            [(None, 4)]          0                                            \n",
            "__________________________________________________________________________________________________\n",
            "concatenate (Concatenate)       (None, 36)           0           dropout[0][0]                    \n",
            "                                                                 input_2[0][0]                    \n",
            "__________________________________________________________________________________________________\n",
            "dense (Dense)                   (None, 32)           1184        concatenate[0][0]                \n",
            "__________________________________________________________________________________________________\n",
            "dense_1 (Dense)                 (None, 1)            33          dense[0][0]                      \n",
            "==================================================================================================\n",
            "Total params: 10,191,561\n",
            "Trainable params: 10,191,561\n",
            "Non-trainable params: 0\n",
            "__________________________________________________________________________________________________\n",
            "Epoch 1/5\n",
            "2597/2597 [==============================] - 344s 131ms/step - loss: 0.0949 - accuracy: 0.9654 - val_loss: 0.0277 - val_accuracy: 0.9912\n",
            "Epoch 2/5\n",
            "2597/2597 [==============================] - 334s 129ms/step - loss: 0.0157 - accuracy: 0.9951 - val_loss: 0.0323 - val_accuracy: 0.9898\n",
            "Epoch 3/5\n",
            "2597/2597 [==============================] - 332s 128ms/step - loss: 0.0077 - accuracy: 0.9980 - val_loss: 0.0409 - val_accuracy: 0.9903\n",
            "Epoch 4/5\n",
            "2597/2597 [==============================] - 327s 126ms/step - loss: 0.0041 - accuracy: 0.9988 - val_loss: 0.0449 - val_accuracy: 0.9898\n",
            "Epoch 5/5\n",
            "2597/2597 [==============================] - 327s 126ms/step - loss: 0.0034 - accuracy: 0.9991 - val_loss: 0.0684 - val_accuracy: 0.9869\n"
          ],
          "name": "stdout"
        }
      ]
    },
    {
      "cell_type": "code",
      "metadata": {
        "id": "JUSGWJvkDgiD",
        "colab": {
          "base_uri": "https://localhost:8080/",
          "height": 336
        },
        "outputId": "e307fba8-5696-457e-84dd-75b9acfc713a"
      },
      "source": [
        "best_model = keras.models.load_model(\"lstm_stacking_valid_model.h5\") # 저장된 모델 불러오기\r\n",
        "plt.plot(pd.DataFrame(history.history)) # 0.0249 0.0211"
      ],
      "execution_count": 111,
      "outputs": [
        {
          "output_type": "execute_result",
          "data": {
            "text/plain": [
              "[<matplotlib.lines.Line2D at 0x7fd970b54a90>,\n",
              " <matplotlib.lines.Line2D at 0x7fd970b54ac8>,\n",
              " <matplotlib.lines.Line2D at 0x7fd970b54828>,\n",
              " <matplotlib.lines.Line2D at 0x7fd970b54780>]"
            ]
          },
          "metadata": {
            "tags": []
          },
          "execution_count": 111
        },
        {
          "output_type": "display_data",
          "data": {
            "image/png": "[encoded data removed]",
            "text/plain": [
              "<Figure size 432x288 with 1 Axes>"
            ]
          },
          "metadata": {
            "tags": [],
            "needs_background": "light"
          }
        }
      ]
    },
    {
      "cell_type": "code",
      "metadata": {
        "colab": {
          "base_uri": "https://localhost:8080/"
        },
        "id": "O3X-721afCH9",
        "outputId": "ef33bc25-6253-4fd7-a519-db04d08478bd"
      },
      "source": [
        "# 성능\r\n",
        "best_model.evaluate((X_valid[:,:-feature_num],X_valid[:,-feature_num:]),y_valid)"
      ],
      "execution_count": 112,
      "outputs": [
        {
          "output_type": "stream",
          "text": [
            "1113/1113 [==============================] - 8s 6ms/step - loss: 0.0277 - accuracy: 0.9912\n"
          ],
          "name": "stdout"
        },
        {
          "output_type": "execute_result",
          "data": {
            "text/plain": [
              "[0.02765706554055214, 0.9912086129188538]"
            ]
          },
          "metadata": {
            "tags": []
          },
          "execution_count": 112
        }
      ]
    },
    {
      "cell_type": "code",
      "metadata": {
        "colab": {
          "base_uri": "https://localhost:8080/"
        },
        "id": "IQYpSLq4GQxc",
        "outputId": "2125f3d1-8e7e-4e60-d41e-50e3846c0596"
      },
      "source": [
        "lstm_pred = best_model.predict((X_valid[:,:-feature_num],X_valid[:,-feature_num:]))\r\n",
        "lstm_pred"
      ],
      "execution_count": 113,
      "outputs": [
        {
          "output_type": "execute_result",
          "data": {
            "text/plain": [
              "array([[5.9819221e-04],\n",
              "       [1.5429556e-03],\n",
              "       [9.9947447e-01],\n",
              "       ...,\n",
              "       [7.1025491e-03],\n",
              "       [9.9992704e-01],\n",
              "       [9.9984050e-01]], dtype=float32)"
            ]
          },
          "metadata": {
            "tags": []
          },
          "execution_count": 113
        }
      ]
    },
    {
      "cell_type": "code",
      "metadata": {
        "colab": {
          "base_uri": "https://localhost:8080/"
        },
        "id": "lYFhoyd7SXdm",
        "outputId": "d8b8269d-b5ec-4b4f-e393-48260bef143d"
      },
      "source": [
        "lstm_pred1 = lstm_pred.reshape(-1)\r\n",
        "lstm_pred1.shape"
      ],
      "execution_count": 114,
      "outputs": [
        {
          "output_type": "execute_result",
          "data": {
            "text/plain": [
              "(35603,)"
            ]
          },
          "metadata": {
            "tags": []
          },
          "execution_count": 114
        }
      ]
    },
    {
      "cell_type": "code",
      "metadata": {
        "colab": {
          "base_uri": "https://localhost:8080/",
          "height": 411
        },
        "id": "3TgG3c7MSdaE",
        "outputId": "21fc7046-d2dc-4adb-fac3-f8ba09e34aac"
      },
      "source": [
        "lstm_valid_pred = pd.DataFrame(lstm_pred1, columns =['LSTM'])\r\n",
        "lstm_valid_pred\r\n"
      ],
      "execution_count": 115,
      "outputs": [
        {
          "output_type": "execute_result",
          "data": {
            "text/html": [
              "<div>\n",
              "<style scoped>\n",
              "    .dataframe tbody tr th:only-of-type {\n",
              "        vertical-align: middle;\n",
              "    }\n",
              "\n",
              "    .dataframe tbody tr th {\n",
              "        vertical-align: top;\n",
              "    }\n",
              "\n",
              "    .dataframe thead th {\n",
              "        text-align: right;\n",
              "    }\n",
              "</style>\n",
              "<table border=\"1\" class=\"dataframe\">\n",
              "  <thead>\n",
              "    <tr style=\"text-align: right;\">\n",
              "      <th></th>\n",
              "      <th>LSTM</th>\n",
              "    </tr>\n",
              "  </thead>\n",
              "  <tbody>\n",
              "    <tr>\n",
              "      <th>0</th>\n",
              "      <td>0.000598</td>\n",
              "    </tr>\n",
              "    <tr>\n",
              "      <th>1</th>\n",
              "      <td>0.001543</td>\n",
              "    </tr>\n",
              "    <tr>\n",
              "      <th>2</th>\n",
              "      <td>0.999474</td>\n",
              "    </tr>\n",
              "    <tr>\n",
              "      <th>3</th>\n",
              "      <td>0.001084</td>\n",
              "    </tr>\n",
              "    <tr>\n",
              "      <th>4</th>\n",
              "      <td>0.999927</td>\n",
              "    </tr>\n",
              "    <tr>\n",
              "      <th>...</th>\n",
              "      <td>...</td>\n",
              "    </tr>\n",
              "    <tr>\n",
              "      <th>35598</th>\n",
              "      <td>0.000387</td>\n",
              "    </tr>\n",
              "    <tr>\n",
              "      <th>35599</th>\n",
              "      <td>0.009572</td>\n",
              "    </tr>\n",
              "    <tr>\n",
              "      <th>35600</th>\n",
              "      <td>0.007103</td>\n",
              "    </tr>\n",
              "    <tr>\n",
              "      <th>35601</th>\n",
              "      <td>0.999927</td>\n",
              "    </tr>\n",
              "    <tr>\n",
              "      <th>35602</th>\n",
              "      <td>0.999840</td>\n",
              "    </tr>\n",
              "  </tbody>\n",
              "</table>\n",
              "<p>35603 rows × 1 columns</p>\n",
              "</div>"
            ],
            "text/plain": [
              "           LSTM\n",
              "0      0.000598\n",
              "1      0.001543\n",
              "2      0.999474\n",
              "3      0.001084\n",
              "4      0.999927\n",
              "...         ...\n",
              "35598  0.000387\n",
              "35599  0.009572\n",
              "35600  0.007103\n",
              "35601  0.999927\n",
              "35602  0.999840\n",
              "\n",
              "[35603 rows x 1 columns]"
            ]
          },
          "metadata": {
            "tags": []
          },
          "execution_count": 115
        }
      ]
    },
    {
      "cell_type": "code",
      "metadata": {
        "id": "JMhQSTLuSxAF"
      },
      "source": [
        "# submit\r\n",
        "\r\n",
        "lstm_valid_pred.to_csv(\"lstm_valid_pred1.csv\", encoding=\"utf-8-sig\",index=False)"
      ],
      "execution_count": 116,
      "outputs": []
    },
    {
      "cell_type": "markdown",
      "metadata": {
        "id": "Zzq4b5BrfYBQ"
      },
      "source": [
        "# 전체 train 스태킹 + test"
      ]
    },
    {
      "cell_type": "markdown",
      "metadata": {
        "id": "jaBckYhwiJR_"
      },
      "source": [
        "##### test셋 전처리"
      ]
    },
    {
      "cell_type": "code",
      "metadata": {
        "id": "V8AfnSdRiJmd"
      },
      "source": [
        "\r\n",
        "feature_num = 4\r\n",
        "test = pd.read_csv(\"/content/drive/MyDrive/Colab Notebooks/dacon_news/data/news_test.csv\")\r\n",
        "\r\n",
        "# EDA 기반 feature 추가\r\n",
        "test[\"info1_title\"]=test[\"title\"].apply(title_choose)\r\n",
        "test[\"info1_content\"]=test[\"content\"].apply(content_choose)\r\n",
        "test[\"content_startswith_[\"]=test.content.apply(lambda x : str(x).startswith(\"[\" ) or str(x).startswith(\"(\") or str(x).startswith(\"제목\"))+0\r\n",
        "title_group = (test.groupby([\"title\"]).count())[\"n_id\"]\r\n",
        "test[\"new_ord\"]=test.apply(lambda x: x[\"ord\"]/title_group[x[\"title\"]], axis=1)\r\n",
        "#test[\"info1_words\"]=test[\"content\"].apply(in_bull)\r\n",
        "\r\n",
        "# 전처리\r\n",
        "test['new_article'], okt = text_preprocessing(test['content'])\r\n",
        "test_X_seq = vectorizer.texts_to_sequences(test[\"new_article\"])\r\n",
        "test_X = pad_sequences(test_X_seq, maxlen = max_len, truncating=\"post\") # 길이를 맞춰줌\r\n",
        "\r\n",
        "# concat\r\n",
        "test_X = np.concatenate([test_X,test[[\"info1_title\",\"info1_content\",\"new_ord\",\"content_startswith_[\"]].values.reshape(-1,feature_num)], axis=1)"
      ],
      "execution_count": 348,
      "outputs": []
    },
    {
      "cell_type": "code",
      "metadata": {
        "colab": {
          "base_uri": "https://localhost:8080/"
        },
        "id": "lUHEzqOkERCj",
        "outputId": "9233e2ff-001e-4017-daae-a6fbc8a52ddf"
      },
      "source": [
        "test_X.shape"
      ],
      "execution_count": 300,
      "outputs": [
        {
          "output_type": "execute_result",
          "data": {
            "text/plain": [
              "(142565, 24)"
            ]
          },
          "metadata": {
            "tags": []
          },
          "execution_count": 300
        }
      ]
    },
    {
      "cell_type": "markdown",
      "metadata": {
        "id": "MbxuS9XGfi0-"
      },
      "source": [
        "##### GBM"
      ]
    },
    {
      "cell_type": "code",
      "metadata": {
        "colab": {
          "base_uri": "https://localhost:8080/",
          "height": 464
        },
        "id": "tM0pEwrrfqVD",
        "outputId": "526ea197-9323-4b0c-be3a-b84ba5057056"
      },
      "source": [
        "gb_clf = GradientBoostingClassifier(random_state = 42) # 기본값: max_depth=3, learning_rate=0.1\r\n",
        "\r\n",
        "gbm_params = {\r\n",
        "    'n_estimators' : [100, 1000],\r\n",
        "    'learning_rate' : [0.01, 0.1],\r\n",
        "}\r\n",
        "\r\n",
        "gb_grid_tst = GridSearchCV(gb_clf, param_grid = gbm_params, cv = 3)\r\n",
        "gb_grid_tst.fit(train_X, train_y)\r\n",
        "\r\n",
        "print('최적 하이퍼 파라미터:\\n', gb_grid_tst.best_params_)\r\n",
        "print('최고 예측 정확도: {0:.6f}'.format(gb_grid_tst.best_score_))\r\n",
        "\r\n",
        "joblib.dump(gb_grid_tst,'gb_grid_tst.pkl')\r\n",
        "\r\n",
        "gb_pred_tst = gb_grid_tst.best_estimator_.predict(test_X)\r\n",
        "\r\n",
        "gb_test_predict = pd.DataFrame(gb_pred_tst, columns =['GradientBoosting'])\r\n",
        "gb_test_predict"
      ],
      "execution_count": 144,
      "outputs": [
        {
          "output_type": "stream",
          "text": [
            "최적 하이퍼 파라미터:\n",
            " {'learning_rate': 0.1, 'n_estimators': 1000}\n",
            "최고 예측 정확도: 0.932118\n"
          ],
          "name": "stdout"
        },
        {
          "output_type": "execute_result",
          "data": {
            "text/html": [
              "<div>\n",
              "<style scoped>\n",
              "    .dataframe tbody tr th:only-of-type {\n",
              "        vertical-align: middle;\n",
              "    }\n",
              "\n",
              "    .dataframe tbody tr th {\n",
              "        vertical-align: top;\n",
              "    }\n",
              "\n",
              "    .dataframe thead th {\n",
              "        text-align: right;\n",
              "    }\n",
              "</style>\n",
              "<table border=\"1\" class=\"dataframe\">\n",
              "  <thead>\n",
              "    <tr style=\"text-align: right;\">\n",
              "      <th></th>\n",
              "      <th>GradientBoosting</th>\n",
              "    </tr>\n",
              "  </thead>\n",
              "  <tbody>\n",
              "    <tr>\n",
              "      <th>0</th>\n",
              "      <td>0</td>\n",
              "    </tr>\n",
              "    <tr>\n",
              "      <th>1</th>\n",
              "      <td>0</td>\n",
              "    </tr>\n",
              "    <tr>\n",
              "      <th>2</th>\n",
              "      <td>0</td>\n",
              "    </tr>\n",
              "    <tr>\n",
              "      <th>3</th>\n",
              "      <td>0</td>\n",
              "    </tr>\n",
              "    <tr>\n",
              "      <th>4</th>\n",
              "      <td>0</td>\n",
              "    </tr>\n",
              "    <tr>\n",
              "      <th>...</th>\n",
              "      <td>...</td>\n",
              "    </tr>\n",
              "    <tr>\n",
              "      <th>142560</th>\n",
              "      <td>1</td>\n",
              "    </tr>\n",
              "    <tr>\n",
              "      <th>142561</th>\n",
              "      <td>1</td>\n",
              "    </tr>\n",
              "    <tr>\n",
              "      <th>142562</th>\n",
              "      <td>1</td>\n",
              "    </tr>\n",
              "    <tr>\n",
              "      <th>142563</th>\n",
              "      <td>1</td>\n",
              "    </tr>\n",
              "    <tr>\n",
              "      <th>142564</th>\n",
              "      <td>1</td>\n",
              "    </tr>\n",
              "  </tbody>\n",
              "</table>\n",
              "<p>142565 rows × 1 columns</p>\n",
              "</div>"
            ],
            "text/plain": [
              "        GradientBoosting\n",
              "0                      0\n",
              "1                      0\n",
              "2                      0\n",
              "3                      0\n",
              "4                      0\n",
              "...                  ...\n",
              "142560                 1\n",
              "142561                 1\n",
              "142562                 1\n",
              "142563                 1\n",
              "142564                 1\n",
              "\n",
              "[142565 rows x 1 columns]"
            ]
          },
          "metadata": {
            "tags": []
          },
          "execution_count": 144
        }
      ]
    },
    {
      "cell_type": "code",
      "metadata": {
        "id": "LVot0F35f3WU"
      },
      "source": [
        "# submit\r\n",
        "\r\n",
        "gb_test_predict.to_csv(\"gb_test_predict.csv\", encoding=\"utf-8-sig\",index=False)"
      ],
      "execution_count": 145,
      "outputs": []
    },
    {
      "cell_type": "markdown",
      "metadata": {
        "id": "D2lgJxOJhB_8"
      },
      "source": [
        "##### AdaBoost"
      ]
    },
    {
      "cell_type": "code",
      "metadata": {
        "colab": {
          "base_uri": "https://localhost:8080/",
          "height": 464
        },
        "id": "sNwhu0mShEbN",
        "outputId": "82e6150f-5853-4674-e6c3-359ca8d4a7dd"
      },
      "source": [
        "DTC = DecisionTreeClassifier(max_depth = 1, random_state=42)\r\n",
        "ada_clf = AdaBoostClassifier(base_estimator = DTC, random_state=42) # default: estimators = 50, lr =1\r\n",
        "\r\n",
        "ada_params = {\r\n",
        "    'n_estimators' : [100,1000],\r\n",
        "    'learning_rate' : [0.01, 0.1, 1],\r\n",
        "}\r\n",
        "\r\n",
        "ada_grid_tst = GridSearchCV(ada_clf, param_grid = ada_params, cv = 3)\r\n",
        "ada_grid_tst.fit(train_X, train_y)\r\n",
        "\r\n",
        "print('최적 하이퍼 파라미터:\\n', ada_grid_tst.best_params_)\r\n",
        "print('최고 예측 정확도: {0:.6f}'.format(ada_grid_tst.best_score_))\r\n",
        "\r\n",
        "joblib.dump(ada_grid_tst,'ada_grid_tst.pkl')\r\n",
        "\r\n",
        "# predict\r\n",
        "ada_pred_tst = ada_grid_tst.best_estimator_.predict(test_X)\r\n",
        "\r\n",
        "ada_test_pred = pd.DataFrame(ada_pred_tst, columns =['AdaBoost'])\r\n",
        "ada_test_pred\r\n"
      ],
      "execution_count": 146,
      "outputs": [
        {
          "output_type": "stream",
          "text": [
            "최적 하이퍼 파라미터:\n",
            " {'learning_rate': 1, 'n_estimators': 1000}\n",
            "최고 예측 정확도: 0.925487\n"
          ],
          "name": "stdout"
        },
        {
          "output_type": "execute_result",
          "data": {
            "text/html": [
              "<div>\n",
              "<style scoped>\n",
              "    .dataframe tbody tr th:only-of-type {\n",
              "        vertical-align: middle;\n",
              "    }\n",
              "\n",
              "    .dataframe tbody tr th {\n",
              "        vertical-align: top;\n",
              "    }\n",
              "\n",
              "    .dataframe thead th {\n",
              "        text-align: right;\n",
              "    }\n",
              "</style>\n",
              "<table border=\"1\" class=\"dataframe\">\n",
              "  <thead>\n",
              "    <tr style=\"text-align: right;\">\n",
              "      <th></th>\n",
              "      <th>AdaBoost</th>\n",
              "    </tr>\n",
              "  </thead>\n",
              "  <tbody>\n",
              "    <tr>\n",
              "      <th>0</th>\n",
              "      <td>0</td>\n",
              "    </tr>\n",
              "    <tr>\n",
              "      <th>1</th>\n",
              "      <td>0</td>\n",
              "    </tr>\n",
              "    <tr>\n",
              "      <th>2</th>\n",
              "      <td>0</td>\n",
              "    </tr>\n",
              "    <tr>\n",
              "      <th>3</th>\n",
              "      <td>0</td>\n",
              "    </tr>\n",
              "    <tr>\n",
              "      <th>4</th>\n",
              "      <td>0</td>\n",
              "    </tr>\n",
              "    <tr>\n",
              "      <th>...</th>\n",
              "      <td>...</td>\n",
              "    </tr>\n",
              "    <tr>\n",
              "      <th>142560</th>\n",
              "      <td>1</td>\n",
              "    </tr>\n",
              "    <tr>\n",
              "      <th>142561</th>\n",
              "      <td>1</td>\n",
              "    </tr>\n",
              "    <tr>\n",
              "      <th>142562</th>\n",
              "      <td>1</td>\n",
              "    </tr>\n",
              "    <tr>\n",
              "      <th>142563</th>\n",
              "      <td>1</td>\n",
              "    </tr>\n",
              "    <tr>\n",
              "      <th>142564</th>\n",
              "      <td>1</td>\n",
              "    </tr>\n",
              "  </tbody>\n",
              "</table>\n",
              "<p>142565 rows × 1 columns</p>\n",
              "</div>"
            ],
            "text/plain": [
              "        AdaBoost\n",
              "0              0\n",
              "1              0\n",
              "2              0\n",
              "3              0\n",
              "4              0\n",
              "...          ...\n",
              "142560         1\n",
              "142561         1\n",
              "142562         1\n",
              "142563         1\n",
              "142564         1\n",
              "\n",
              "[142565 rows x 1 columns]"
            ]
          },
          "metadata": {
            "tags": []
          },
          "execution_count": 146
        }
      ]
    },
    {
      "cell_type": "code",
      "metadata": {
        "id": "cVx3NqfXhw0m"
      },
      "source": [
        "\r\n",
        "# submit\r\n",
        "ada_test_pred.to_csv(\"ada_test_pred.csv\", encoding=\"utf-8-sig\",index=False)"
      ],
      "execution_count": 147,
      "outputs": []
    },
    {
      "cell_type": "markdown",
      "metadata": {
        "id": "yvfhyUwNiRMP"
      },
      "source": [
        "##### catBoost"
      ]
    },
    {
      "cell_type": "code",
      "metadata": {
        "colab": {
          "base_uri": "https://localhost:8080/",
          "height": 1000
        },
        "id": "kgLup61SiRbI",
        "outputId": "7abfb4d3-9b7c-4d12-eab5-ad55e186e956"
      },
      "source": [
        "cb_clf_tst = CatBoostClassifier(random_state=42)\r\n",
        "cb_clf_tst.fit(train_X, train_y)\r\n",
        "\r\n",
        "joblib.dump(cb_clf_tst,'cb_clf_tst.pkl')\r\n",
        "\r\n",
        "cb_pred_tst = cb_clf_tst.predict(test_X)\r\n",
        "cb_test_pred = pd.DataFrame(cb_pred_tst, columns =['catboost'])\r\n",
        "cb_test_pred\r\n"
      ],
      "execution_count": 148,
      "outputs": [
        {
          "output_type": "stream",
          "text": [
            "Learning rate set to 0.079193\n",
            "0:\tlearn: 0.5820076\ttotal: 82.1ms\tremaining: 1m 22s\n",
            "1:\tlearn: 0.5019297\ttotal: 141ms\tremaining: 1m 10s\n",
            "2:\tlearn: 0.4434577\ttotal: 220ms\tremaining: 1m 13s\n",
            "3:\tlearn: 0.3825817\ttotal: 292ms\tremaining: 1m 12s\n",
            "4:\tlearn: 0.3405990\ttotal: 349ms\tremaining: 1m 9s\n",
            "5:\tlearn: 0.3069599\ttotal: 403ms\tremaining: 1m 6s\n",
            "6:\tlearn: 0.2844353\ttotal: 472ms\tremaining: 1m 7s\n",
            "7:\tlearn: 0.2621565\ttotal: 529ms\tremaining: 1m 5s\n",
            "8:\tlearn: 0.2503998\ttotal: 581ms\tremaining: 1m 3s\n",
            "9:\tlearn: 0.2351713\ttotal: 640ms\tremaining: 1m 3s\n",
            "10:\tlearn: 0.2246149\ttotal: 701ms\tremaining: 1m 3s\n",
            "11:\tlearn: 0.2148019\ttotal: 760ms\tremaining: 1m 2s\n",
            "12:\tlearn: 0.2063760\ttotal: 818ms\tremaining: 1m 2s\n",
            "13:\tlearn: 0.1985910\ttotal: 871ms\tremaining: 1m 1s\n",
            "14:\tlearn: 0.1925711\ttotal: 931ms\tremaining: 1m 1s\n",
            "15:\tlearn: 0.1862906\ttotal: 992ms\tremaining: 1m\n",
            "16:\tlearn: 0.1817410\ttotal: 1.05s\tremaining: 1m\n",
            "17:\tlearn: 0.1753903\ttotal: 1.12s\tremaining: 1m\n",
            "18:\tlearn: 0.1684143\ttotal: 1.18s\tremaining: 1m 1s\n",
            "19:\tlearn: 0.1646892\ttotal: 1.24s\tremaining: 1m\n",
            "20:\tlearn: 0.1604968\ttotal: 1.3s\tremaining: 1m\n",
            "21:\tlearn: 0.1571757\ttotal: 1.36s\tremaining: 1m\n",
            "22:\tlearn: 0.1538895\ttotal: 1.43s\tremaining: 1m\n",
            "23:\tlearn: 0.1507646\ttotal: 1.51s\tremaining: 1m 1s\n",
            "24:\tlearn: 0.1483641\ttotal: 1.56s\tremaining: 1m\n",
            "25:\tlearn: 0.1459580\ttotal: 1.62s\tremaining: 1m\n",
            "26:\tlearn: 0.1419730\ttotal: 1.69s\tremaining: 1m\n",
            "27:\tlearn: 0.1380627\ttotal: 1.75s\tremaining: 1m\n",
            "28:\tlearn: 0.1346154\ttotal: 1.81s\tremaining: 1m\n",
            "29:\tlearn: 0.1323144\ttotal: 1.87s\tremaining: 1m\n",
            "30:\tlearn: 0.1302714\ttotal: 1.94s\tremaining: 1m\n",
            "31:\tlearn: 0.1284795\ttotal: 2s\tremaining: 1m\n",
            "32:\tlearn: 0.1264544\ttotal: 2.06s\tremaining: 1m\n",
            "33:\tlearn: 0.1243832\ttotal: 2.12s\tremaining: 1m\n",
            "34:\tlearn: 0.1228520\ttotal: 2.18s\tremaining: 1m\n",
            "35:\tlearn: 0.1209487\ttotal: 2.24s\tremaining: 1m\n",
            "36:\tlearn: 0.1190112\ttotal: 2.3s\tremaining: 59.9s\n",
            "37:\tlearn: 0.1173991\ttotal: 2.36s\tremaining: 59.8s\n",
            "38:\tlearn: 0.1150077\ttotal: 2.43s\tremaining: 59.9s\n",
            "39:\tlearn: 0.1136233\ttotal: 2.5s\tremaining: 1m\n",
            "40:\tlearn: 0.1116911\ttotal: 2.56s\tremaining: 59.9s\n",
            "41:\tlearn: 0.1103022\ttotal: 2.62s\tremaining: 59.8s\n",
            "42:\tlearn: 0.1088200\ttotal: 2.69s\tremaining: 59.8s\n",
            "43:\tlearn: 0.1076323\ttotal: 2.74s\tremaining: 59.6s\n",
            "44:\tlearn: 0.1066246\ttotal: 2.8s\tremaining: 59.5s\n",
            "45:\tlearn: 0.1057316\ttotal: 2.87s\tremaining: 59.4s\n",
            "46:\tlearn: 0.1047236\ttotal: 2.93s\tremaining: 59.4s\n",
            "47:\tlearn: 0.1038952\ttotal: 2.98s\tremaining: 59.2s\n",
            "48:\tlearn: 0.1026951\ttotal: 3.04s\tremaining: 59s\n",
            "49:\tlearn: 0.1016666\ttotal: 3.11s\tremaining: 59s\n",
            "50:\tlearn: 0.1005109\ttotal: 3.17s\tremaining: 58.9s\n",
            "51:\tlearn: 0.0995322\ttotal: 3.23s\tremaining: 58.8s\n",
            "52:\tlearn: 0.0980858\ttotal: 3.29s\tremaining: 58.8s\n",
            "53:\tlearn: 0.0966514\ttotal: 3.35s\tremaining: 58.7s\n",
            "54:\tlearn: 0.0959748\ttotal: 3.41s\tremaining: 58.6s\n",
            "55:\tlearn: 0.0952830\ttotal: 3.47s\tremaining: 58.5s\n",
            "56:\tlearn: 0.0944074\ttotal: 3.54s\tremaining: 58.6s\n",
            "57:\tlearn: 0.0938895\ttotal: 3.6s\tremaining: 58.4s\n",
            "58:\tlearn: 0.0925940\ttotal: 3.67s\tremaining: 58.5s\n",
            "59:\tlearn: 0.0917102\ttotal: 3.73s\tremaining: 58.5s\n",
            "60:\tlearn: 0.0908778\ttotal: 3.79s\tremaining: 58.4s\n",
            "61:\tlearn: 0.0902481\ttotal: 3.85s\tremaining: 58.3s\n",
            "62:\tlearn: 0.0895513\ttotal: 3.92s\tremaining: 58.3s\n",
            "63:\tlearn: 0.0891155\ttotal: 3.99s\tremaining: 58.3s\n",
            "64:\tlearn: 0.0884200\ttotal: 4.05s\tremaining: 58.2s\n",
            "65:\tlearn: 0.0877573\ttotal: 4.11s\tremaining: 58.1s\n",
            "66:\tlearn: 0.0873125\ttotal: 4.17s\tremaining: 58s\n",
            "67:\tlearn: 0.0867964\ttotal: 4.23s\tremaining: 58s\n",
            "68:\tlearn: 0.0861166\ttotal: 4.29s\tremaining: 57.9s\n",
            "69:\tlearn: 0.0853875\ttotal: 4.36s\tremaining: 57.9s\n",
            "70:\tlearn: 0.0848100\ttotal: 4.42s\tremaining: 57.9s\n",
            "71:\tlearn: 0.0843148\ttotal: 4.48s\tremaining: 57.8s\n",
            "72:\tlearn: 0.0838806\ttotal: 4.55s\tremaining: 57.9s\n",
            "73:\tlearn: 0.0831890\ttotal: 4.62s\tremaining: 57.8s\n",
            "74:\tlearn: 0.0826565\ttotal: 4.68s\tremaining: 57.7s\n",
            "75:\tlearn: 0.0822593\ttotal: 4.75s\tremaining: 57.7s\n",
            "76:\tlearn: 0.0818388\ttotal: 4.81s\tremaining: 57.6s\n",
            "77:\tlearn: 0.0813837\ttotal: 4.87s\tremaining: 57.5s\n",
            "78:\tlearn: 0.0809232\ttotal: 4.93s\tremaining: 57.5s\n",
            "79:\tlearn: 0.0806541\ttotal: 4.99s\tremaining: 57.4s\n",
            "80:\tlearn: 0.0802349\ttotal: 5.06s\tremaining: 57.4s\n",
            "81:\tlearn: 0.0797342\ttotal: 5.12s\tremaining: 57.3s\n",
            "82:\tlearn: 0.0793387\ttotal: 5.18s\tremaining: 57.3s\n",
            "83:\tlearn: 0.0789965\ttotal: 5.24s\tremaining: 57.1s\n",
            "84:\tlearn: 0.0786694\ttotal: 5.3s\tremaining: 57s\n",
            "85:\tlearn: 0.0781137\ttotal: 5.36s\tremaining: 56.9s\n",
            "86:\tlearn: 0.0777543\ttotal: 5.42s\tremaining: 56.9s\n",
            "87:\tlearn: 0.0772909\ttotal: 5.48s\tremaining: 56.8s\n",
            "88:\tlearn: 0.0768072\ttotal: 5.55s\tremaining: 56.8s\n",
            "89:\tlearn: 0.0764481\ttotal: 5.61s\tremaining: 56.7s\n",
            "90:\tlearn: 0.0760516\ttotal: 5.68s\tremaining: 56.7s\n",
            "91:\tlearn: 0.0757887\ttotal: 5.73s\tremaining: 56.6s\n",
            "92:\tlearn: 0.0755101\ttotal: 5.79s\tremaining: 56.5s\n",
            "93:\tlearn: 0.0751931\ttotal: 5.84s\tremaining: 56.3s\n",
            "94:\tlearn: 0.0746423\ttotal: 5.91s\tremaining: 56.3s\n",
            "95:\tlearn: 0.0743290\ttotal: 5.98s\tremaining: 56.3s\n",
            "96:\tlearn: 0.0740285\ttotal: 6.03s\tremaining: 56.1s\n",
            "97:\tlearn: 0.0736132\ttotal: 6.09s\tremaining: 56s\n",
            "98:\tlearn: 0.0732214\ttotal: 6.14s\tremaining: 55.9s\n",
            "99:\tlearn: 0.0725680\ttotal: 6.2s\tremaining: 55.8s\n",
            "100:\tlearn: 0.0723213\ttotal: 6.26s\tremaining: 55.7s\n",
            "101:\tlearn: 0.0721459\ttotal: 6.31s\tremaining: 55.6s\n",
            "102:\tlearn: 0.0718718\ttotal: 6.37s\tremaining: 55.5s\n",
            "103:\tlearn: 0.0717601\ttotal: 6.42s\tremaining: 55.3s\n",
            "104:\tlearn: 0.0713217\ttotal: 6.48s\tremaining: 55.2s\n",
            "105:\tlearn: 0.0710123\ttotal: 6.55s\tremaining: 55.2s\n",
            "106:\tlearn: 0.0708052\ttotal: 6.61s\tremaining: 55.2s\n",
            "107:\tlearn: 0.0702572\ttotal: 6.66s\tremaining: 55s\n",
            "108:\tlearn: 0.0699341\ttotal: 6.72s\tremaining: 54.9s\n",
            "109:\tlearn: 0.0696204\ttotal: 6.78s\tremaining: 54.9s\n",
            "110:\tlearn: 0.0692835\ttotal: 6.84s\tremaining: 54.8s\n",
            "111:\tlearn: 0.0691593\ttotal: 6.9s\tremaining: 54.7s\n",
            "112:\tlearn: 0.0689032\ttotal: 6.95s\tremaining: 54.6s\n",
            "113:\tlearn: 0.0686833\ttotal: 7.01s\tremaining: 54.5s\n",
            "114:\tlearn: 0.0684392\ttotal: 7.07s\tremaining: 54.4s\n",
            "115:\tlearn: 0.0680928\ttotal: 7.13s\tremaining: 54.3s\n",
            "116:\tlearn: 0.0678320\ttotal: 7.19s\tremaining: 54.2s\n",
            "117:\tlearn: 0.0676723\ttotal: 7.24s\tremaining: 54.1s\n",
            "118:\tlearn: 0.0674786\ttotal: 7.3s\tremaining: 54.1s\n",
            "119:\tlearn: 0.0671842\ttotal: 7.36s\tremaining: 54s\n",
            "120:\tlearn: 0.0669047\ttotal: 7.42s\tremaining: 53.9s\n",
            "121:\tlearn: 0.0666354\ttotal: 7.47s\tremaining: 53.8s\n",
            "122:\tlearn: 0.0663201\ttotal: 7.54s\tremaining: 53.8s\n",
            "123:\tlearn: 0.0660074\ttotal: 7.6s\tremaining: 53.7s\n",
            "124:\tlearn: 0.0658303\ttotal: 7.66s\tremaining: 53.6s\n",
            "125:\tlearn: 0.0656609\ttotal: 7.71s\tremaining: 53.5s\n",
            "126:\tlearn: 0.0654835\ttotal: 7.77s\tremaining: 53.4s\n",
            "127:\tlearn: 0.0652850\ttotal: 7.83s\tremaining: 53.3s\n",
            "128:\tlearn: 0.0650151\ttotal: 7.88s\tremaining: 53.2s\n",
            "129:\tlearn: 0.0648939\ttotal: 7.93s\tremaining: 53.1s\n",
            "130:\tlearn: 0.0646300\ttotal: 7.99s\tremaining: 53s\n",
            "131:\tlearn: 0.0644144\ttotal: 8.06s\tremaining: 53s\n",
            "132:\tlearn: 0.0641988\ttotal: 8.12s\tremaining: 53s\n",
            "133:\tlearn: 0.0640060\ttotal: 8.18s\tremaining: 52.9s\n",
            "134:\tlearn: 0.0635821\ttotal: 8.25s\tremaining: 52.9s\n",
            "135:\tlearn: 0.0634243\ttotal: 8.31s\tremaining: 52.8s\n",
            "136:\tlearn: 0.0632257\ttotal: 8.37s\tremaining: 52.7s\n",
            "137:\tlearn: 0.0630163\ttotal: 8.43s\tremaining: 52.6s\n",
            "138:\tlearn: 0.0628691\ttotal: 8.49s\tremaining: 52.6s\n",
            "139:\tlearn: 0.0627043\ttotal: 8.55s\tremaining: 52.5s\n",
            "140:\tlearn: 0.0625704\ttotal: 8.62s\tremaining: 52.5s\n",
            "141:\tlearn: 0.0623612\ttotal: 8.68s\tremaining: 52.4s\n",
            "142:\tlearn: 0.0621798\ttotal: 8.74s\tremaining: 52.4s\n",
            "143:\tlearn: 0.0619088\ttotal: 8.8s\tremaining: 52.3s\n",
            "144:\tlearn: 0.0615910\ttotal: 8.86s\tremaining: 52.2s\n",
            "145:\tlearn: 0.0613430\ttotal: 8.92s\tremaining: 52.2s\n",
            "146:\tlearn: 0.0611054\ttotal: 8.98s\tremaining: 52.1s\n",
            "147:\tlearn: 0.0609777\ttotal: 9.03s\tremaining: 52s\n",
            "148:\tlearn: 0.0608605\ttotal: 9.09s\tremaining: 51.9s\n",
            "149:\tlearn: 0.0607519\ttotal: 9.15s\tremaining: 51.8s\n",
            "150:\tlearn: 0.0605919\ttotal: 9.21s\tremaining: 51.8s\n",
            "151:\tlearn: 0.0604594\ttotal: 9.26s\tremaining: 51.7s\n",
            "152:\tlearn: 0.0603349\ttotal: 9.31s\tremaining: 51.6s\n",
            "153:\tlearn: 0.0600048\ttotal: 9.38s\tremaining: 51.5s\n",
            "154:\tlearn: 0.0597372\ttotal: 9.44s\tremaining: 51.5s\n",
            "155:\tlearn: 0.0595479\ttotal: 9.49s\tremaining: 51.4s\n",
            "156:\tlearn: 0.0593892\ttotal: 9.55s\tremaining: 51.3s\n",
            "157:\tlearn: 0.0592409\ttotal: 9.61s\tremaining: 51.2s\n",
            "158:\tlearn: 0.0590233\ttotal: 9.67s\tremaining: 51.2s\n",
            "159:\tlearn: 0.0589002\ttotal: 9.72s\tremaining: 51s\n",
            "160:\tlearn: 0.0587815\ttotal: 9.78s\tremaining: 51s\n",
            "161:\tlearn: 0.0586604\ttotal: 9.84s\tremaining: 50.9s\n",
            "162:\tlearn: 0.0585355\ttotal: 9.9s\tremaining: 50.9s\n",
            "163:\tlearn: 0.0584146\ttotal: 9.96s\tremaining: 50.8s\n",
            "164:\tlearn: 0.0582477\ttotal: 10s\tremaining: 50.7s\n",
            "165:\tlearn: 0.0581168\ttotal: 10.1s\tremaining: 50.6s\n",
            "166:\tlearn: 0.0579994\ttotal: 10.1s\tremaining: 50.5s\n",
            "167:\tlearn: 0.0577946\ttotal: 10.2s\tremaining: 50.5s\n",
            "168:\tlearn: 0.0575779\ttotal: 10.3s\tremaining: 50.5s\n",
            "169:\tlearn: 0.0574081\ttotal: 10.3s\tremaining: 50.4s\n",
            "170:\tlearn: 0.0571791\ttotal: 10.4s\tremaining: 50.4s\n",
            "171:\tlearn: 0.0571136\ttotal: 10.5s\tremaining: 50.3s\n",
            "172:\tlearn: 0.0569907\ttotal: 10.5s\tremaining: 50.3s\n",
            "173:\tlearn: 0.0569055\ttotal: 10.6s\tremaining: 50.3s\n",
            "174:\tlearn: 0.0567510\ttotal: 10.7s\tremaining: 50.4s\n",
            "175:\tlearn: 0.0566161\ttotal: 10.8s\tremaining: 50.4s\n",
            "176:\tlearn: 0.0564741\ttotal: 10.8s\tremaining: 50.3s\n",
            "177:\tlearn: 0.0563563\ttotal: 10.9s\tremaining: 50.2s\n",
            "178:\tlearn: 0.0562207\ttotal: 10.9s\tremaining: 50.2s\n",
            "179:\tlearn: 0.0561235\ttotal: 11s\tremaining: 50.1s\n",
            "180:\tlearn: 0.0560338\ttotal: 11s\tremaining: 50s\n",
            "181:\tlearn: 0.0559084\ttotal: 11.1s\tremaining: 49.9s\n",
            "182:\tlearn: 0.0557768\ttotal: 11.2s\tremaining: 49.9s\n",
            "183:\tlearn: 0.0556332\ttotal: 11.2s\tremaining: 49.8s\n",
            "184:\tlearn: 0.0554711\ttotal: 11.3s\tremaining: 49.7s\n",
            "185:\tlearn: 0.0553352\ttotal: 11.3s\tremaining: 49.6s\n",
            "186:\tlearn: 0.0552474\ttotal: 11.4s\tremaining: 49.5s\n",
            "187:\tlearn: 0.0551515\ttotal: 11.5s\tremaining: 49.5s\n",
            "188:\tlearn: 0.0550093\ttotal: 11.5s\tremaining: 49.4s\n",
            "189:\tlearn: 0.0549263\ttotal: 11.6s\tremaining: 49.3s\n",
            "190:\tlearn: 0.0548446\ttotal: 11.6s\tremaining: 49.3s\n",
            "191:\tlearn: 0.0545870\ttotal: 11.7s\tremaining: 49.2s\n",
            "192:\tlearn: 0.0544704\ttotal: 11.7s\tremaining: 49.1s\n",
            "193:\tlearn: 0.0543597\ttotal: 11.8s\tremaining: 49s\n",
            "194:\tlearn: 0.0541675\ttotal: 11.9s\tremaining: 49s\n",
            "195:\tlearn: 0.0540928\ttotal: 11.9s\tremaining: 48.9s\n",
            "196:\tlearn: 0.0540090\ttotal: 12s\tremaining: 48.8s\n",
            "197:\tlearn: 0.0538990\ttotal: 12s\tremaining: 48.7s\n",
            "198:\tlearn: 0.0537283\ttotal: 12.1s\tremaining: 48.6s\n",
            "199:\tlearn: 0.0535430\ttotal: 12.1s\tremaining: 48.5s\n",
            "200:\tlearn: 0.0534425\ttotal: 12.2s\tremaining: 48.5s\n",
            "201:\tlearn: 0.0533030\ttotal: 12.2s\tremaining: 48.4s\n",
            "202:\tlearn: 0.0531311\ttotal: 12.3s\tremaining: 48.3s\n",
            "203:\tlearn: 0.0530696\ttotal: 12.4s\tremaining: 48.2s\n",
            "204:\tlearn: 0.0530008\ttotal: 12.4s\tremaining: 48.1s\n",
            "205:\tlearn: 0.0528918\ttotal: 12.5s\tremaining: 48s\n",
            "206:\tlearn: 0.0528195\ttotal: 12.5s\tremaining: 48s\n",
            "207:\tlearn: 0.0527265\ttotal: 12.6s\tremaining: 47.9s\n",
            "208:\tlearn: 0.0525642\ttotal: 12.6s\tremaining: 47.8s\n",
            "209:\tlearn: 0.0523796\ttotal: 12.7s\tremaining: 47.7s\n",
            "210:\tlearn: 0.0522292\ttotal: 12.8s\tremaining: 47.7s\n",
            "211:\tlearn: 0.0521653\ttotal: 12.8s\tremaining: 47.6s\n",
            "212:\tlearn: 0.0520400\ttotal: 12.9s\tremaining: 47.5s\n",
            "213:\tlearn: 0.0519495\ttotal: 12.9s\tremaining: 47.4s\n",
            "214:\tlearn: 0.0518697\ttotal: 13s\tremaining: 47.3s\n",
            "215:\tlearn: 0.0517379\ttotal: 13s\tremaining: 47.3s\n",
            "216:\tlearn: 0.0516397\ttotal: 13.1s\tremaining: 47.2s\n",
            "217:\tlearn: 0.0515213\ttotal: 13.1s\tremaining: 47.1s\n",
            "218:\tlearn: 0.0513900\ttotal: 13.2s\tremaining: 47s\n",
            "219:\tlearn: 0.0512523\ttotal: 13.2s\tremaining: 46.9s\n",
            "220:\tlearn: 0.0510947\ttotal: 13.3s\tremaining: 46.9s\n",
            "221:\tlearn: 0.0510209\ttotal: 13.4s\tremaining: 46.8s\n",
            "222:\tlearn: 0.0508288\ttotal: 13.4s\tremaining: 46.7s\n",
            "223:\tlearn: 0.0507293\ttotal: 13.5s\tremaining: 46.7s\n",
            "224:\tlearn: 0.0505992\ttotal: 13.5s\tremaining: 46.6s\n",
            "225:\tlearn: 0.0505359\ttotal: 13.6s\tremaining: 46.5s\n",
            "226:\tlearn: 0.0504719\ttotal: 13.6s\tremaining: 46.5s\n",
            "227:\tlearn: 0.0504110\ttotal: 13.7s\tremaining: 46.4s\n",
            "228:\tlearn: 0.0501603\ttotal: 13.8s\tremaining: 46.3s\n",
            "229:\tlearn: 0.0500883\ttotal: 13.8s\tremaining: 46.3s\n",
            "230:\tlearn: 0.0500132\ttotal: 13.9s\tremaining: 46.2s\n",
            "231:\tlearn: 0.0499254\ttotal: 13.9s\tremaining: 46.1s\n",
            "232:\tlearn: 0.0497583\ttotal: 14s\tremaining: 46s\n",
            "233:\tlearn: 0.0496322\ttotal: 14s\tremaining: 46s\n",
            "234:\tlearn: 0.0495562\ttotal: 14.1s\tremaining: 45.9s\n",
            "235:\tlearn: 0.0494087\ttotal: 14.2s\tremaining: 45.8s\n",
            "236:\tlearn: 0.0492900\ttotal: 14.2s\tremaining: 45.8s\n",
            "237:\tlearn: 0.0492165\ttotal: 14.3s\tremaining: 45.7s\n",
            "238:\tlearn: 0.0491507\ttotal: 14.3s\tremaining: 45.6s\n",
            "239:\tlearn: 0.0490430\ttotal: 14.4s\tremaining: 45.6s\n",
            "240:\tlearn: 0.0489616\ttotal: 14.4s\tremaining: 45.5s\n",
            "241:\tlearn: 0.0488341\ttotal: 14.5s\tremaining: 45.5s\n",
            "242:\tlearn: 0.0487669\ttotal: 14.6s\tremaining: 45.4s\n",
            "243:\tlearn: 0.0486923\ttotal: 14.6s\tremaining: 45.4s\n",
            "244:\tlearn: 0.0486032\ttotal: 14.7s\tremaining: 45.3s\n",
            "245:\tlearn: 0.0485350\ttotal: 14.7s\tremaining: 45.2s\n",
            "246:\tlearn: 0.0483061\ttotal: 14.8s\tremaining: 45.1s\n",
            "247:\tlearn: 0.0481275\ttotal: 14.9s\tremaining: 45.1s\n",
            "248:\tlearn: 0.0480234\ttotal: 14.9s\tremaining: 45s\n",
            "249:\tlearn: 0.0479718\ttotal: 15s\tremaining: 44.9s\n",
            "250:\tlearn: 0.0479029\ttotal: 15s\tremaining: 44.8s\n",
            "251:\tlearn: 0.0478185\ttotal: 15.1s\tremaining: 44.8s\n",
            "252:\tlearn: 0.0477453\ttotal: 15.1s\tremaining: 44.7s\n",
            "253:\tlearn: 0.0476634\ttotal: 15.2s\tremaining: 44.6s\n",
            "254:\tlearn: 0.0475921\ttotal: 15.3s\tremaining: 44.6s\n",
            "255:\tlearn: 0.0475439\ttotal: 15.3s\tremaining: 44.5s\n",
            "256:\tlearn: 0.0474541\ttotal: 15.4s\tremaining: 44.4s\n",
            "257:\tlearn: 0.0473843\ttotal: 15.4s\tremaining: 44.4s\n",
            "258:\tlearn: 0.0473205\ttotal: 15.5s\tremaining: 44.3s\n",
            "259:\tlearn: 0.0471971\ttotal: 15.5s\tremaining: 44.2s\n",
            "260:\tlearn: 0.0471208\ttotal: 15.6s\tremaining: 44.2s\n",
            "261:\tlearn: 0.0470565\ttotal: 15.7s\tremaining: 44.1s\n",
            "262:\tlearn: 0.0470000\ttotal: 15.7s\tremaining: 44s\n",
            "263:\tlearn: 0.0469129\ttotal: 15.8s\tremaining: 44s\n",
            "264:\tlearn: 0.0468296\ttotal: 15.8s\tremaining: 43.9s\n",
            "265:\tlearn: 0.0467814\ttotal: 15.9s\tremaining: 43.8s\n",
            "266:\tlearn: 0.0466531\ttotal: 15.9s\tremaining: 43.8s\n",
            "267:\tlearn: 0.0465969\ttotal: 16s\tremaining: 43.7s\n",
            "268:\tlearn: 0.0465591\ttotal: 16s\tremaining: 43.6s\n",
            "269:\tlearn: 0.0464537\ttotal: 16.1s\tremaining: 43.5s\n",
            "270:\tlearn: 0.0463898\ttotal: 16.2s\tremaining: 43.5s\n",
            "271:\tlearn: 0.0462933\ttotal: 16.2s\tremaining: 43.4s\n",
            "272:\tlearn: 0.0462186\ttotal: 16.3s\tremaining: 43.3s\n",
            "273:\tlearn: 0.0461558\ttotal: 16.3s\tremaining: 43.3s\n",
            "274:\tlearn: 0.0460514\ttotal: 16.4s\tremaining: 43.2s\n",
            "275:\tlearn: 0.0459278\ttotal: 16.5s\tremaining: 43.2s\n",
            "276:\tlearn: 0.0458651\ttotal: 16.5s\tremaining: 43.1s\n",
            "277:\tlearn: 0.0458284\ttotal: 16.6s\tremaining: 43s\n",
            "278:\tlearn: 0.0457252\ttotal: 16.6s\tremaining: 43s\n",
            "279:\tlearn: 0.0456841\ttotal: 16.7s\tremaining: 42.9s\n",
            "280:\tlearn: 0.0456205\ttotal: 16.8s\tremaining: 42.9s\n",
            "281:\tlearn: 0.0455678\ttotal: 16.8s\tremaining: 42.8s\n",
            "282:\tlearn: 0.0454718\ttotal: 16.9s\tremaining: 42.8s\n",
            "283:\tlearn: 0.0453919\ttotal: 16.9s\tremaining: 42.7s\n",
            "284:\tlearn: 0.0452824\ttotal: 17s\tremaining: 42.6s\n",
            "285:\tlearn: 0.0452363\ttotal: 17.1s\tremaining: 42.6s\n",
            "286:\tlearn: 0.0450783\ttotal: 17.1s\tremaining: 42.5s\n",
            "287:\tlearn: 0.0449823\ttotal: 17.2s\tremaining: 42.5s\n",
            "288:\tlearn: 0.0449233\ttotal: 17.2s\tremaining: 42.4s\n",
            "289:\tlearn: 0.0448421\ttotal: 17.3s\tremaining: 42.3s\n",
            "290:\tlearn: 0.0447948\ttotal: 17.4s\tremaining: 42.3s\n",
            "291:\tlearn: 0.0447128\ttotal: 17.4s\tremaining: 42.2s\n",
            "292:\tlearn: 0.0446274\ttotal: 17.5s\tremaining: 42.2s\n",
            "293:\tlearn: 0.0445248\ttotal: 17.5s\tremaining: 42.1s\n",
            "294:\tlearn: 0.0444505\ttotal: 17.6s\tremaining: 42.1s\n",
            "295:\tlearn: 0.0443437\ttotal: 17.7s\tremaining: 42s\n",
            "296:\tlearn: 0.0442908\ttotal: 17.7s\tremaining: 42s\n",
            "297:\tlearn: 0.0442201\ttotal: 17.8s\tremaining: 41.9s\n",
            "298:\tlearn: 0.0440914\ttotal: 17.9s\tremaining: 41.9s\n",
            "299:\tlearn: 0.0439791\ttotal: 17.9s\tremaining: 41.8s\n",
            "300:\tlearn: 0.0439235\ttotal: 18s\tremaining: 41.7s\n",
            "301:\tlearn: 0.0438540\ttotal: 18s\tremaining: 41.7s\n",
            "302:\tlearn: 0.0437976\ttotal: 18.1s\tremaining: 41.6s\n",
            "303:\tlearn: 0.0436739\ttotal: 18.1s\tremaining: 41.6s\n",
            "304:\tlearn: 0.0436236\ttotal: 18.2s\tremaining: 41.5s\n",
            "305:\tlearn: 0.0435691\ttotal: 18.3s\tremaining: 41.4s\n",
            "306:\tlearn: 0.0435010\ttotal: 18.3s\tremaining: 41.4s\n",
            "307:\tlearn: 0.0434584\ttotal: 18.4s\tremaining: 41.3s\n",
            "308:\tlearn: 0.0434079\ttotal: 18.4s\tremaining: 41.2s\n",
            "309:\tlearn: 0.0433689\ttotal: 18.5s\tremaining: 41.2s\n",
            "310:\tlearn: 0.0433034\ttotal: 18.6s\tremaining: 41.1s\n",
            "311:\tlearn: 0.0431934\ttotal: 18.6s\tremaining: 41.1s\n",
            "312:\tlearn: 0.0430906\ttotal: 18.7s\tremaining: 41s\n",
            "313:\tlearn: 0.0430186\ttotal: 18.7s\tremaining: 40.9s\n",
            "314:\tlearn: 0.0429580\ttotal: 18.8s\tremaining: 40.9s\n",
            "315:\tlearn: 0.0428685\ttotal: 18.9s\tremaining: 40.8s\n",
            "316:\tlearn: 0.0427606\ttotal: 18.9s\tremaining: 40.8s\n",
            "317:\tlearn: 0.0427341\ttotal: 19s\tremaining: 40.7s\n",
            "318:\tlearn: 0.0427065\ttotal: 19s\tremaining: 40.6s\n",
            "319:\tlearn: 0.0426667\ttotal: 19.1s\tremaining: 40.6s\n",
            "320:\tlearn: 0.0426493\ttotal: 19.1s\tremaining: 40.5s\n",
            "321:\tlearn: 0.0425744\ttotal: 19.2s\tremaining: 40.4s\n",
            "322:\tlearn: 0.0425316\ttotal: 19.3s\tremaining: 40.4s\n",
            "323:\tlearn: 0.0424648\ttotal: 19.3s\tremaining: 40.4s\n",
            "324:\tlearn: 0.0423650\ttotal: 19.4s\tremaining: 40.3s\n",
            "325:\tlearn: 0.0423311\ttotal: 19.5s\tremaining: 40.2s\n",
            "326:\tlearn: 0.0422908\ttotal: 19.5s\tremaining: 40.1s\n",
            "327:\tlearn: 0.0422180\ttotal: 19.6s\tremaining: 40.1s\n",
            "328:\tlearn: 0.0421841\ttotal: 19.6s\tremaining: 40s\n",
            "329:\tlearn: 0.0420629\ttotal: 19.7s\tremaining: 39.9s\n",
            "330:\tlearn: 0.0419939\ttotal: 19.7s\tremaining: 39.9s\n",
            "331:\tlearn: 0.0419376\ttotal: 19.8s\tremaining: 39.8s\n",
            "332:\tlearn: 0.0418873\ttotal: 19.8s\tremaining: 39.7s\n",
            "333:\tlearn: 0.0418340\ttotal: 19.9s\tremaining: 39.7s\n",
            "334:\tlearn: 0.0417947\ttotal: 19.9s\tremaining: 39.6s\n",
            "335:\tlearn: 0.0417288\ttotal: 20s\tremaining: 39.5s\n",
            "336:\tlearn: 0.0416309\ttotal: 20.1s\tremaining: 39.5s\n",
            "337:\tlearn: 0.0415717\ttotal: 20.1s\tremaining: 39.4s\n",
            "338:\tlearn: 0.0415044\ttotal: 20.2s\tremaining: 39.3s\n",
            "339:\tlearn: 0.0414513\ttotal: 20.2s\tremaining: 39.3s\n",
            "340:\tlearn: 0.0413625\ttotal: 20.3s\tremaining: 39.2s\n",
            "341:\tlearn: 0.0413194\ttotal: 20.3s\tremaining: 39.1s\n",
            "342:\tlearn: 0.0412964\ttotal: 20.4s\tremaining: 39.1s\n",
            "343:\tlearn: 0.0412324\ttotal: 20.5s\tremaining: 39s\n",
            "344:\tlearn: 0.0411520\ttotal: 20.5s\tremaining: 38.9s\n",
            "345:\tlearn: 0.0410553\ttotal: 20.6s\tremaining: 38.9s\n",
            "346:\tlearn: 0.0410097\ttotal: 20.6s\tremaining: 38.8s\n",
            "347:\tlearn: 0.0409345\ttotal: 20.7s\tremaining: 38.8s\n",
            "348:\tlearn: 0.0408838\ttotal: 20.8s\tremaining: 38.7s\n",
            "349:\tlearn: 0.0408579\ttotal: 20.8s\tremaining: 38.7s\n",
            "350:\tlearn: 0.0407746\ttotal: 20.9s\tremaining: 38.6s\n",
            "351:\tlearn: 0.0406304\ttotal: 20.9s\tremaining: 38.6s\n",
            "352:\tlearn: 0.0405688\ttotal: 21s\tremaining: 38.5s\n",
            "353:\tlearn: 0.0405373\ttotal: 21.1s\tremaining: 38.5s\n",
            "354:\tlearn: 0.0404506\ttotal: 21.1s\tremaining: 38.4s\n",
            "355:\tlearn: 0.0403742\ttotal: 21.2s\tremaining: 38.4s\n",
            "356:\tlearn: 0.0402564\ttotal: 21.3s\tremaining: 38.3s\n",
            "357:\tlearn: 0.0401985\ttotal: 21.3s\tremaining: 38.2s\n",
            "358:\tlearn: 0.0401246\ttotal: 21.4s\tremaining: 38.2s\n",
            "359:\tlearn: 0.0400813\ttotal: 21.4s\tremaining: 38.1s\n",
            "360:\tlearn: 0.0400131\ttotal: 21.5s\tremaining: 38.1s\n",
            "361:\tlearn: 0.0399790\ttotal: 21.6s\tremaining: 38s\n",
            "362:\tlearn: 0.0399394\ttotal: 21.6s\tremaining: 38s\n",
            "363:\tlearn: 0.0398865\ttotal: 21.7s\tremaining: 37.9s\n",
            "364:\tlearn: 0.0397858\ttotal: 21.8s\tremaining: 37.8s\n",
            "365:\tlearn: 0.0397708\ttotal: 21.8s\tremaining: 37.8s\n",
            "366:\tlearn: 0.0396723\ttotal: 21.9s\tremaining: 37.7s\n",
            "367:\tlearn: 0.0396242\ttotal: 21.9s\tremaining: 37.7s\n",
            "368:\tlearn: 0.0395744\ttotal: 22s\tremaining: 37.6s\n",
            "369:\tlearn: 0.0395069\ttotal: 22s\tremaining: 37.5s\n",
            "370:\tlearn: 0.0394719\ttotal: 22.1s\tremaining: 37.5s\n",
            "371:\tlearn: 0.0394107\ttotal: 22.2s\tremaining: 37.4s\n",
            "372:\tlearn: 0.0393433\ttotal: 22.2s\tremaining: 37.3s\n",
            "373:\tlearn: 0.0393206\ttotal: 22.3s\tremaining: 37.3s\n",
            "374:\tlearn: 0.0392861\ttotal: 22.3s\tremaining: 37.2s\n",
            "375:\tlearn: 0.0392665\ttotal: 22.4s\tremaining: 37.1s\n",
            "376:\tlearn: 0.0392283\ttotal: 22.4s\tremaining: 37.1s\n",
            "377:\tlearn: 0.0391980\ttotal: 22.5s\tremaining: 37s\n",
            "378:\tlearn: 0.0391663\ttotal: 22.6s\tremaining: 37s\n",
            "379:\tlearn: 0.0390957\ttotal: 22.6s\tremaining: 36.9s\n",
            "380:\tlearn: 0.0390290\ttotal: 22.7s\tremaining: 36.9s\n",
            "381:\tlearn: 0.0389592\ttotal: 22.8s\tremaining: 36.8s\n",
            "382:\tlearn: 0.0389000\ttotal: 22.8s\tremaining: 36.8s\n",
            "383:\tlearn: 0.0388548\ttotal: 22.9s\tremaining: 36.7s\n",
            "384:\tlearn: 0.0388033\ttotal: 22.9s\tremaining: 36.6s\n",
            "385:\tlearn: 0.0387107\ttotal: 23s\tremaining: 36.6s\n",
            "386:\tlearn: 0.0386629\ttotal: 23.1s\tremaining: 36.5s\n",
            "387:\tlearn: 0.0386348\ttotal: 23.1s\tremaining: 36.5s\n",
            "388:\tlearn: 0.0385973\ttotal: 23.2s\tremaining: 36.4s\n",
            "389:\tlearn: 0.0385629\ttotal: 23.2s\tremaining: 36.3s\n",
            "390:\tlearn: 0.0385083\ttotal: 23.3s\tremaining: 36.2s\n",
            "391:\tlearn: 0.0384842\ttotal: 23.3s\tremaining: 36.2s\n",
            "392:\tlearn: 0.0384410\ttotal: 23.4s\tremaining: 36.1s\n",
            "393:\tlearn: 0.0384008\ttotal: 23.4s\tremaining: 36s\n",
            "394:\tlearn: 0.0383607\ttotal: 23.5s\tremaining: 36s\n",
            "395:\tlearn: 0.0383256\ttotal: 23.5s\tremaining: 35.9s\n",
            "396:\tlearn: 0.0382217\ttotal: 23.6s\tremaining: 35.8s\n",
            "397:\tlearn: 0.0381466\ttotal: 23.6s\tremaining: 35.8s\n",
            "398:\tlearn: 0.0381077\ttotal: 23.7s\tremaining: 35.7s\n",
            "399:\tlearn: 0.0380694\ttotal: 23.8s\tremaining: 35.7s\n",
            "400:\tlearn: 0.0380278\ttotal: 23.8s\tremaining: 35.6s\n",
            "401:\tlearn: 0.0379384\ttotal: 23.9s\tremaining: 35.5s\n",
            "402:\tlearn: 0.0379210\ttotal: 23.9s\tremaining: 35.5s\n",
            "403:\tlearn: 0.0378408\ttotal: 24s\tremaining: 35.4s\n",
            "404:\tlearn: 0.0377926\ttotal: 24.1s\tremaining: 35.3s\n",
            "405:\tlearn: 0.0377766\ttotal: 24.1s\tremaining: 35.3s\n",
            "406:\tlearn: 0.0377276\ttotal: 24.2s\tremaining: 35.2s\n",
            "407:\tlearn: 0.0376886\ttotal: 24.2s\tremaining: 35.1s\n",
            "408:\tlearn: 0.0376352\ttotal: 24.3s\tremaining: 35.1s\n",
            "409:\tlearn: 0.0375707\ttotal: 24.3s\tremaining: 35s\n",
            "410:\tlearn: 0.0375504\ttotal: 24.4s\tremaining: 35s\n",
            "411:\tlearn: 0.0374696\ttotal: 24.4s\tremaining: 34.9s\n",
            "412:\tlearn: 0.0374166\ttotal: 24.5s\tremaining: 34.8s\n",
            "413:\tlearn: 0.0373638\ttotal: 24.6s\tremaining: 34.8s\n",
            "414:\tlearn: 0.0372847\ttotal: 24.6s\tremaining: 34.7s\n",
            "415:\tlearn: 0.0372159\ttotal: 24.7s\tremaining: 34.6s\n",
            "416:\tlearn: 0.0371706\ttotal: 24.7s\tremaining: 34.6s\n",
            "417:\tlearn: 0.0371409\ttotal: 24.8s\tremaining: 34.5s\n",
            "418:\tlearn: 0.0370701\ttotal: 24.8s\tremaining: 34.5s\n",
            "419:\tlearn: 0.0370232\ttotal: 24.9s\tremaining: 34.4s\n",
            "420:\tlearn: 0.0369377\ttotal: 25s\tremaining: 34.3s\n",
            "421:\tlearn: 0.0369141\ttotal: 25s\tremaining: 34.3s\n",
            "422:\tlearn: 0.0368983\ttotal: 25.1s\tremaining: 34.2s\n",
            "423:\tlearn: 0.0368644\ttotal: 25.1s\tremaining: 34.1s\n",
            "424:\tlearn: 0.0368379\ttotal: 25.2s\tremaining: 34.1s\n",
            "425:\tlearn: 0.0368002\ttotal: 25.2s\tremaining: 34s\n",
            "426:\tlearn: 0.0367521\ttotal: 25.3s\tremaining: 33.9s\n",
            "427:\tlearn: 0.0366722\ttotal: 25.3s\tremaining: 33.9s\n",
            "428:\tlearn: 0.0366280\ttotal: 25.4s\tremaining: 33.8s\n",
            "429:\tlearn: 0.0365711\ttotal: 25.5s\tremaining: 33.8s\n",
            "430:\tlearn: 0.0365072\ttotal: 25.5s\tremaining: 33.7s\n",
            "431:\tlearn: 0.0364728\ttotal: 25.6s\tremaining: 33.6s\n",
            "432:\tlearn: 0.0364319\ttotal: 25.6s\tremaining: 33.6s\n",
            "433:\tlearn: 0.0363836\ttotal: 25.7s\tremaining: 33.5s\n",
            "434:\tlearn: 0.0363132\ttotal: 25.7s\tremaining: 33.4s\n",
            "435:\tlearn: 0.0362528\ttotal: 25.8s\tremaining: 33.4s\n",
            "436:\tlearn: 0.0361881\ttotal: 25.9s\tremaining: 33.3s\n",
            "437:\tlearn: 0.0361270\ttotal: 25.9s\tremaining: 33.3s\n",
            "438:\tlearn: 0.0360622\ttotal: 26s\tremaining: 33.2s\n",
            "439:\tlearn: 0.0360163\ttotal: 26s\tremaining: 33.1s\n",
            "440:\tlearn: 0.0359685\ttotal: 26.1s\tremaining: 33.1s\n",
            "441:\tlearn: 0.0359602\ttotal: 26.2s\tremaining: 33s\n",
            "442:\tlearn: 0.0359056\ttotal: 26.2s\tremaining: 33s\n",
            "443:\tlearn: 0.0358737\ttotal: 26.3s\tremaining: 32.9s\n",
            "444:\tlearn: 0.0358364\ttotal: 26.3s\tremaining: 32.8s\n",
            "445:\tlearn: 0.0358067\ttotal: 26.4s\tremaining: 32.8s\n",
            "446:\tlearn: 0.0357385\ttotal: 26.4s\tremaining: 32.7s\n",
            "447:\tlearn: 0.0357175\ttotal: 26.5s\tremaining: 32.6s\n",
            "448:\tlearn: 0.0356731\ttotal: 26.5s\tremaining: 32.6s\n",
            "449:\tlearn: 0.0356089\ttotal: 26.6s\tremaining: 32.5s\n",
            "450:\tlearn: 0.0355588\ttotal: 26.7s\tremaining: 32.4s\n",
            "451:\tlearn: 0.0355263\ttotal: 26.7s\tremaining: 32.4s\n",
            "452:\tlearn: 0.0355176\ttotal: 26.8s\tremaining: 32.3s\n",
            "453:\tlearn: 0.0354319\ttotal: 26.8s\tremaining: 32.3s\n",
            "454:\tlearn: 0.0353869\ttotal: 26.9s\tremaining: 32.2s\n",
            "455:\tlearn: 0.0353249\ttotal: 26.9s\tremaining: 32.1s\n",
            "456:\tlearn: 0.0353010\ttotal: 27s\tremaining: 32.1s\n",
            "457:\tlearn: 0.0352556\ttotal: 27s\tremaining: 32s\n",
            "458:\tlearn: 0.0352249\ttotal: 27.1s\tremaining: 31.9s\n",
            "459:\tlearn: 0.0351754\ttotal: 27.2s\tremaining: 31.9s\n",
            "460:\tlearn: 0.0351495\ttotal: 27.2s\tremaining: 31.8s\n",
            "461:\tlearn: 0.0350827\ttotal: 27.3s\tremaining: 31.7s\n",
            "462:\tlearn: 0.0350287\ttotal: 27.3s\tremaining: 31.7s\n",
            "463:\tlearn: 0.0349712\ttotal: 27.4s\tremaining: 31.6s\n",
            "464:\tlearn: 0.0349355\ttotal: 27.5s\tremaining: 31.6s\n",
            "465:\tlearn: 0.0349088\ttotal: 27.5s\tremaining: 31.5s\n",
            "466:\tlearn: 0.0348637\ttotal: 27.6s\tremaining: 31.5s\n",
            "467:\tlearn: 0.0348105\ttotal: 27.6s\tremaining: 31.4s\n",
            "468:\tlearn: 0.0348002\ttotal: 27.7s\tremaining: 31.3s\n",
            "469:\tlearn: 0.0347401\ttotal: 27.7s\tremaining: 31.3s\n",
            "470:\tlearn: 0.0346878\ttotal: 27.8s\tremaining: 31.2s\n",
            "471:\tlearn: 0.0346505\ttotal: 27.9s\tremaining: 31.2s\n",
            "472:\tlearn: 0.0346284\ttotal: 27.9s\tremaining: 31.1s\n",
            "473:\tlearn: 0.0345918\ttotal: 28s\tremaining: 31.1s\n",
            "474:\tlearn: 0.0345320\ttotal: 28s\tremaining: 31s\n",
            "475:\tlearn: 0.0344728\ttotal: 28.1s\tremaining: 30.9s\n",
            "476:\tlearn: 0.0344137\ttotal: 28.2s\tremaining: 30.9s\n",
            "477:\tlearn: 0.0343650\ttotal: 28.2s\tremaining: 30.8s\n",
            "478:\tlearn: 0.0343169\ttotal: 28.3s\tremaining: 30.8s\n",
            "479:\tlearn: 0.0342548\ttotal: 28.4s\tremaining: 30.7s\n",
            "480:\tlearn: 0.0342257\ttotal: 28.4s\tremaining: 30.7s\n",
            "481:\tlearn: 0.0341798\ttotal: 28.5s\tremaining: 30.6s\n",
            "482:\tlearn: 0.0341626\ttotal: 28.5s\tremaining: 30.5s\n",
            "483:\tlearn: 0.0341325\ttotal: 28.6s\tremaining: 30.5s\n",
            "484:\tlearn: 0.0341199\ttotal: 28.6s\tremaining: 30.4s\n",
            "485:\tlearn: 0.0340845\ttotal: 28.7s\tremaining: 30.3s\n",
            "486:\tlearn: 0.0340568\ttotal: 28.8s\tremaining: 30.3s\n",
            "487:\tlearn: 0.0340241\ttotal: 28.8s\tremaining: 30.2s\n",
            "488:\tlearn: 0.0339818\ttotal: 28.9s\tremaining: 30.2s\n",
            "489:\tlearn: 0.0339333\ttotal: 28.9s\tremaining: 30.1s\n",
            "490:\tlearn: 0.0339079\ttotal: 29s\tremaining: 30.1s\n",
            "491:\tlearn: 0.0338435\ttotal: 29.1s\tremaining: 30s\n",
            "492:\tlearn: 0.0338318\ttotal: 29.1s\tremaining: 29.9s\n",
            "493:\tlearn: 0.0337770\ttotal: 29.2s\tremaining: 29.9s\n",
            "494:\tlearn: 0.0337502\ttotal: 29.2s\tremaining: 29.8s\n",
            "495:\tlearn: 0.0336841\ttotal: 29.3s\tremaining: 29.8s\n",
            "496:\tlearn: 0.0336446\ttotal: 29.4s\tremaining: 29.7s\n",
            "497:\tlearn: 0.0336113\ttotal: 29.4s\tremaining: 29.6s\n",
            "498:\tlearn: 0.0335724\ttotal: 29.5s\tremaining: 29.6s\n",
            "499:\tlearn: 0.0335143\ttotal: 29.5s\tremaining: 29.5s\n",
            "500:\tlearn: 0.0335034\ttotal: 29.6s\tremaining: 29.5s\n",
            "501:\tlearn: 0.0334611\ttotal: 29.6s\tremaining: 29.4s\n",
            "502:\tlearn: 0.0334117\ttotal: 29.7s\tremaining: 29.3s\n",
            "503:\tlearn: 0.0333614\ttotal: 29.8s\tremaining: 29.3s\n",
            "504:\tlearn: 0.0333226\ttotal: 29.8s\tremaining: 29.2s\n",
            "505:\tlearn: 0.0332543\ttotal: 29.9s\tremaining: 29.2s\n",
            "506:\tlearn: 0.0332240\ttotal: 29.9s\tremaining: 29.1s\n",
            "507:\tlearn: 0.0332138\ttotal: 30s\tremaining: 29s\n",
            "508:\tlearn: 0.0331924\ttotal: 30s\tremaining: 29s\n",
            "509:\tlearn: 0.0331356\ttotal: 30.1s\tremaining: 28.9s\n",
            "510:\tlearn: 0.0331005\ttotal: 30.1s\tremaining: 28.9s\n",
            "511:\tlearn: 0.0330196\ttotal: 30.2s\tremaining: 28.8s\n",
            "512:\tlearn: 0.0329510\ttotal: 30.3s\tremaining: 28.7s\n",
            "513:\tlearn: 0.0329342\ttotal: 30.3s\tremaining: 28.7s\n",
            "514:\tlearn: 0.0328907\ttotal: 30.4s\tremaining: 28.6s\n",
            "515:\tlearn: 0.0328596\ttotal: 30.4s\tremaining: 28.5s\n",
            "516:\tlearn: 0.0328071\ttotal: 30.5s\tremaining: 28.5s\n",
            "517:\tlearn: 0.0327599\ttotal: 30.5s\tremaining: 28.4s\n",
            "518:\tlearn: 0.0327005\ttotal: 30.6s\tremaining: 28.4s\n",
            "519:\tlearn: 0.0326717\ttotal: 30.7s\tremaining: 28.3s\n",
            "520:\tlearn: 0.0326238\ttotal: 30.7s\tremaining: 28.2s\n",
            "521:\tlearn: 0.0325815\ttotal: 30.8s\tremaining: 28.2s\n",
            "522:\tlearn: 0.0325238\ttotal: 30.8s\tremaining: 28.1s\n",
            "523:\tlearn: 0.0324993\ttotal: 30.9s\tremaining: 28.1s\n",
            "524:\tlearn: 0.0324881\ttotal: 30.9s\tremaining: 28s\n",
            "525:\tlearn: 0.0324577\ttotal: 31s\tremaining: 27.9s\n",
            "526:\tlearn: 0.0324266\ttotal: 31s\tremaining: 27.9s\n",
            "527:\tlearn: 0.0323780\ttotal: 31.1s\tremaining: 27.8s\n",
            "528:\tlearn: 0.0323429\ttotal: 31.2s\tremaining: 27.7s\n",
            "529:\tlearn: 0.0323173\ttotal: 31.2s\tremaining: 27.7s\n",
            "530:\tlearn: 0.0322884\ttotal: 31.3s\tremaining: 27.6s\n",
            "531:\tlearn: 0.0322274\ttotal: 31.3s\tremaining: 27.6s\n",
            "532:\tlearn: 0.0321487\ttotal: 31.4s\tremaining: 27.5s\n",
            "533:\tlearn: 0.0321191\ttotal: 31.5s\tremaining: 27.4s\n",
            "534:\tlearn: 0.0321021\ttotal: 31.5s\tremaining: 27.4s\n",
            "535:\tlearn: 0.0320506\ttotal: 31.6s\tremaining: 27.3s\n",
            "536:\tlearn: 0.0320001\ttotal: 31.6s\tremaining: 27.3s\n",
            "537:\tlearn: 0.0319791\ttotal: 31.7s\tremaining: 27.2s\n",
            "538:\tlearn: 0.0319485\ttotal: 31.7s\tremaining: 27.1s\n",
            "539:\tlearn: 0.0319157\ttotal: 31.8s\tremaining: 27.1s\n",
            "540:\tlearn: 0.0318751\ttotal: 31.9s\tremaining: 27s\n",
            "541:\tlearn: 0.0318280\ttotal: 31.9s\tremaining: 27s\n",
            "542:\tlearn: 0.0318040\ttotal: 32s\tremaining: 26.9s\n",
            "543:\tlearn: 0.0317726\ttotal: 32s\tremaining: 26.8s\n",
            "544:\tlearn: 0.0317246\ttotal: 32.1s\tremaining: 26.8s\n",
            "545:\tlearn: 0.0316851\ttotal: 32.1s\tremaining: 26.7s\n",
            "546:\tlearn: 0.0316315\ttotal: 32.2s\tremaining: 26.7s\n",
            "547:\tlearn: 0.0315881\ttotal: 32.3s\tremaining: 26.6s\n",
            "548:\tlearn: 0.0315399\ttotal: 32.3s\tremaining: 26.5s\n",
            "549:\tlearn: 0.0315150\ttotal: 32.4s\tremaining: 26.5s\n",
            "550:\tlearn: 0.0314983\ttotal: 32.4s\tremaining: 26.4s\n",
            "551:\tlearn: 0.0314594\ttotal: 32.5s\tremaining: 26.4s\n",
            "552:\tlearn: 0.0314242\ttotal: 32.5s\tremaining: 26.3s\n",
            "553:\tlearn: 0.0313745\ttotal: 32.6s\tremaining: 26.2s\n",
            "554:\tlearn: 0.0313545\ttotal: 32.6s\tremaining: 26.2s\n",
            "555:\tlearn: 0.0312909\ttotal: 32.7s\tremaining: 26.1s\n",
            "556:\tlearn: 0.0312488\ttotal: 32.8s\tremaining: 26s\n",
            "557:\tlearn: 0.0311853\ttotal: 32.8s\tremaining: 26s\n",
            "558:\tlearn: 0.0311457\ttotal: 32.9s\tremaining: 25.9s\n",
            "559:\tlearn: 0.0311056\ttotal: 32.9s\tremaining: 25.9s\n",
            "560:\tlearn: 0.0310697\ttotal: 33s\tremaining: 25.8s\n",
            "561:\tlearn: 0.0310416\ttotal: 33s\tremaining: 25.8s\n",
            "562:\tlearn: 0.0310083\ttotal: 33.1s\tremaining: 25.7s\n",
            "563:\tlearn: 0.0309636\ttotal: 33.2s\tremaining: 25.6s\n",
            "564:\tlearn: 0.0309277\ttotal: 33.2s\tremaining: 25.6s\n",
            "565:\tlearn: 0.0309099\ttotal: 33.3s\tremaining: 25.5s\n",
            "566:\tlearn: 0.0308705\ttotal: 33.3s\tremaining: 25.4s\n",
            "567:\tlearn: 0.0308376\ttotal: 33.4s\tremaining: 25.4s\n",
            "568:\tlearn: 0.0307969\ttotal: 33.4s\tremaining: 25.3s\n",
            "569:\tlearn: 0.0307637\ttotal: 33.5s\tremaining: 25.3s\n",
            "570:\tlearn: 0.0307365\ttotal: 33.6s\tremaining: 25.2s\n",
            "571:\tlearn: 0.0306906\ttotal: 33.6s\tremaining: 25.1s\n",
            "572:\tlearn: 0.0306352\ttotal: 33.7s\tremaining: 25.1s\n",
            "573:\tlearn: 0.0306113\ttotal: 33.7s\tremaining: 25s\n",
            "574:\tlearn: 0.0306028\ttotal: 33.8s\tremaining: 25s\n",
            "575:\tlearn: 0.0305754\ttotal: 33.9s\tremaining: 24.9s\n",
            "576:\tlearn: 0.0305670\ttotal: 33.9s\tremaining: 24.9s\n",
            "577:\tlearn: 0.0305453\ttotal: 34s\tremaining: 24.8s\n",
            "578:\tlearn: 0.0305203\ttotal: 34s\tremaining: 24.8s\n",
            "579:\tlearn: 0.0304659\ttotal: 34.1s\tremaining: 24.7s\n",
            "580:\tlearn: 0.0304262\ttotal: 34.2s\tremaining: 24.6s\n",
            "581:\tlearn: 0.0304096\ttotal: 34.2s\tremaining: 24.6s\n",
            "582:\tlearn: 0.0303774\ttotal: 34.3s\tremaining: 24.5s\n",
            "583:\tlearn: 0.0303389\ttotal: 34.3s\tremaining: 24.5s\n",
            "584:\tlearn: 0.0302958\ttotal: 34.4s\tremaining: 24.4s\n",
            "585:\tlearn: 0.0302454\ttotal: 34.5s\tremaining: 24.3s\n",
            "586:\tlearn: 0.0302102\ttotal: 34.5s\tremaining: 24.3s\n",
            "587:\tlearn: 0.0301831\ttotal: 34.6s\tremaining: 24.2s\n",
            "588:\tlearn: 0.0301535\ttotal: 34.6s\tremaining: 24.2s\n",
            "589:\tlearn: 0.0301243\ttotal: 34.7s\tremaining: 24.1s\n",
            "590:\tlearn: 0.0300970\ttotal: 34.8s\tremaining: 24.1s\n",
            "591:\tlearn: 0.0300670\ttotal: 34.8s\tremaining: 24s\n",
            "592:\tlearn: 0.0300216\ttotal: 34.9s\tremaining: 23.9s\n",
            "593:\tlearn: 0.0299963\ttotal: 34.9s\tremaining: 23.9s\n",
            "594:\tlearn: 0.0299738\ttotal: 35s\tremaining: 23.8s\n",
            "595:\tlearn: 0.0299034\ttotal: 35.1s\tremaining: 23.8s\n",
            "596:\tlearn: 0.0298722\ttotal: 35.1s\tremaining: 23.7s\n",
            "597:\tlearn: 0.0298633\ttotal: 35.2s\tremaining: 23.6s\n",
            "598:\tlearn: 0.0298071\ttotal: 35.3s\tremaining: 23.6s\n",
            "599:\tlearn: 0.0297510\ttotal: 35.3s\tremaining: 23.5s\n",
            "600:\tlearn: 0.0296962\ttotal: 35.4s\tremaining: 23.5s\n",
            "601:\tlearn: 0.0296570\ttotal: 35.4s\tremaining: 23.4s\n",
            "602:\tlearn: 0.0295945\ttotal: 35.5s\tremaining: 23.4s\n",
            "603:\tlearn: 0.0295711\ttotal: 35.6s\tremaining: 23.3s\n",
            "604:\tlearn: 0.0295240\ttotal: 35.6s\tremaining: 23.3s\n",
            "605:\tlearn: 0.0294891\ttotal: 35.7s\tremaining: 23.2s\n",
            "606:\tlearn: 0.0294643\ttotal: 35.7s\tremaining: 23.1s\n",
            "607:\tlearn: 0.0294207\ttotal: 35.8s\tremaining: 23.1s\n",
            "608:\tlearn: 0.0294151\ttotal: 35.9s\tremaining: 23s\n",
            "609:\tlearn: 0.0293710\ttotal: 35.9s\tremaining: 23s\n",
            "610:\tlearn: 0.0293611\ttotal: 36s\tremaining: 22.9s\n",
            "611:\tlearn: 0.0292959\ttotal: 36.1s\tremaining: 22.9s\n",
            "612:\tlearn: 0.0292482\ttotal: 36.1s\tremaining: 22.8s\n",
            "613:\tlearn: 0.0292142\ttotal: 36.2s\tremaining: 22.7s\n",
            "614:\tlearn: 0.0291737\ttotal: 36.2s\tremaining: 22.7s\n",
            "615:\tlearn: 0.0291673\ttotal: 36.3s\tremaining: 22.6s\n",
            "616:\tlearn: 0.0291196\ttotal: 36.4s\tremaining: 22.6s\n",
            "617:\tlearn: 0.0290847\ttotal: 36.4s\tremaining: 22.5s\n",
            "618:\tlearn: 0.0290567\ttotal: 36.5s\tremaining: 22.4s\n",
            "619:\tlearn: 0.0290123\ttotal: 36.5s\tremaining: 22.4s\n",
            "620:\tlearn: 0.0289828\ttotal: 36.6s\tremaining: 22.3s\n",
            "621:\tlearn: 0.0289644\ttotal: 36.6s\tremaining: 22.3s\n",
            "622:\tlearn: 0.0289289\ttotal: 36.7s\tremaining: 22.2s\n",
            "623:\tlearn: 0.0289054\ttotal: 36.8s\tremaining: 22.2s\n",
            "624:\tlearn: 0.0288917\ttotal: 36.8s\tremaining: 22.1s\n",
            "625:\tlearn: 0.0288556\ttotal: 36.9s\tremaining: 22s\n",
            "626:\tlearn: 0.0288495\ttotal: 37s\tremaining: 22s\n",
            "627:\tlearn: 0.0288277\ttotal: 37s\tremaining: 21.9s\n",
            "628:\tlearn: 0.0287896\ttotal: 37.1s\tremaining: 21.9s\n",
            "629:\tlearn: 0.0287421\ttotal: 37.1s\tremaining: 21.8s\n",
            "630:\tlearn: 0.0287167\ttotal: 37.2s\tremaining: 21.8s\n",
            "631:\tlearn: 0.0286498\ttotal: 37.3s\tremaining: 21.7s\n",
            "632:\tlearn: 0.0286222\ttotal: 37.3s\tremaining: 21.6s\n",
            "633:\tlearn: 0.0285747\ttotal: 37.4s\tremaining: 21.6s\n",
            "634:\tlearn: 0.0285306\ttotal: 37.4s\tremaining: 21.5s\n",
            "635:\tlearn: 0.0285152\ttotal: 37.5s\tremaining: 21.5s\n",
            "636:\tlearn: 0.0284771\ttotal: 37.5s\tremaining: 21.4s\n",
            "637:\tlearn: 0.0284200\ttotal: 37.6s\tremaining: 21.3s\n",
            "638:\tlearn: 0.0284035\ttotal: 37.7s\tremaining: 21.3s\n",
            "639:\tlearn: 0.0283800\ttotal: 37.7s\tremaining: 21.2s\n",
            "640:\tlearn: 0.0283644\ttotal: 37.8s\tremaining: 21.2s\n",
            "641:\tlearn: 0.0283041\ttotal: 37.8s\tremaining: 21.1s\n",
            "642:\tlearn: 0.0282597\ttotal: 37.9s\tremaining: 21s\n",
            "643:\tlearn: 0.0282406\ttotal: 38s\tremaining: 21s\n",
            "644:\tlearn: 0.0282024\ttotal: 38s\tremaining: 20.9s\n",
            "645:\tlearn: 0.0281663\ttotal: 38.1s\tremaining: 20.9s\n",
            "646:\tlearn: 0.0281513\ttotal: 38.1s\tremaining: 20.8s\n",
            "647:\tlearn: 0.0281442\ttotal: 38.2s\tremaining: 20.7s\n",
            "648:\tlearn: 0.0281094\ttotal: 38.2s\tremaining: 20.7s\n",
            "649:\tlearn: 0.0280617\ttotal: 38.3s\tremaining: 20.6s\n",
            "650:\tlearn: 0.0280260\ttotal: 38.3s\tremaining: 20.6s\n",
            "651:\tlearn: 0.0279856\ttotal: 38.4s\tremaining: 20.5s\n",
            "652:\tlearn: 0.0279576\ttotal: 38.5s\tremaining: 20.4s\n",
            "653:\tlearn: 0.0279367\ttotal: 38.5s\tremaining: 20.4s\n",
            "654:\tlearn: 0.0279131\ttotal: 38.6s\tremaining: 20.3s\n",
            "655:\tlearn: 0.0279004\ttotal: 38.6s\tremaining: 20.3s\n",
            "656:\tlearn: 0.0278680\ttotal: 38.7s\tremaining: 20.2s\n",
            "657:\tlearn: 0.0278156\ttotal: 38.7s\tremaining: 20.1s\n",
            "658:\tlearn: 0.0277757\ttotal: 38.8s\tremaining: 20.1s\n",
            "659:\tlearn: 0.0277519\ttotal: 38.8s\tremaining: 20s\n",
            "660:\tlearn: 0.0276782\ttotal: 38.9s\tremaining: 19.9s\n",
            "661:\tlearn: 0.0276435\ttotal: 39s\tremaining: 19.9s\n",
            "662:\tlearn: 0.0276150\ttotal: 39s\tremaining: 19.8s\n",
            "663:\tlearn: 0.0275740\ttotal: 39.1s\tremaining: 19.8s\n",
            "664:\tlearn: 0.0275583\ttotal: 39.1s\tremaining: 19.7s\n",
            "665:\tlearn: 0.0275236\ttotal: 39.2s\tremaining: 19.7s\n",
            "666:\tlearn: 0.0274769\ttotal: 39.2s\tremaining: 19.6s\n",
            "667:\tlearn: 0.0274547\ttotal: 39.3s\tremaining: 19.5s\n",
            "668:\tlearn: 0.0274342\ttotal: 39.4s\tremaining: 19.5s\n",
            "669:\tlearn: 0.0274161\ttotal: 39.4s\tremaining: 19.4s\n",
            "670:\tlearn: 0.0274101\ttotal: 39.5s\tremaining: 19.3s\n",
            "671:\tlearn: 0.0274068\ttotal: 39.5s\tremaining: 19.3s\n",
            "672:\tlearn: 0.0273819\ttotal: 39.6s\tremaining: 19.2s\n",
            "673:\tlearn: 0.0273709\ttotal: 39.6s\tremaining: 19.2s\n",
            "674:\tlearn: 0.0273286\ttotal: 39.7s\tremaining: 19.1s\n",
            "675:\tlearn: 0.0272983\ttotal: 39.7s\tremaining: 19s\n",
            "676:\tlearn: 0.0272745\ttotal: 39.8s\tremaining: 19s\n",
            "677:\tlearn: 0.0272362\ttotal: 39.8s\tremaining: 18.9s\n",
            "678:\tlearn: 0.0272174\ttotal: 39.9s\tremaining: 18.9s\n",
            "679:\tlearn: 0.0271960\ttotal: 40s\tremaining: 18.8s\n",
            "680:\tlearn: 0.0271680\ttotal: 40s\tremaining: 18.7s\n",
            "681:\tlearn: 0.0271312\ttotal: 40.1s\tremaining: 18.7s\n",
            "682:\tlearn: 0.0271032\ttotal: 40.1s\tremaining: 18.6s\n",
            "683:\tlearn: 0.0270545\ttotal: 40.2s\tremaining: 18.6s\n",
            "684:\tlearn: 0.0270413\ttotal: 40.2s\tremaining: 18.5s\n",
            "685:\tlearn: 0.0270136\ttotal: 40.3s\tremaining: 18.4s\n",
            "686:\tlearn: 0.0269952\ttotal: 40.3s\tremaining: 18.4s\n",
            "687:\tlearn: 0.0269905\ttotal: 40.4s\tremaining: 18.3s\n",
            "688:\tlearn: 0.0269657\ttotal: 40.5s\tremaining: 18.3s\n",
            "689:\tlearn: 0.0269165\ttotal: 40.5s\tremaining: 18.2s\n",
            "690:\tlearn: 0.0268957\ttotal: 40.6s\tremaining: 18.1s\n",
            "691:\tlearn: 0.0268801\ttotal: 40.6s\tremaining: 18.1s\n",
            "692:\tlearn: 0.0268349\ttotal: 40.7s\tremaining: 18s\n",
            "693:\tlearn: 0.0267912\ttotal: 40.7s\tremaining: 18s\n",
            "694:\tlearn: 0.0267318\ttotal: 40.8s\tremaining: 17.9s\n",
            "695:\tlearn: 0.0267169\ttotal: 40.9s\tremaining: 17.9s\n",
            "696:\tlearn: 0.0266983\ttotal: 40.9s\tremaining: 17.8s\n",
            "697:\tlearn: 0.0266604\ttotal: 41s\tremaining: 17.7s\n",
            "698:\tlearn: 0.0266340\ttotal: 41.1s\tremaining: 17.7s\n",
            "699:\tlearn: 0.0266278\ttotal: 41.1s\tremaining: 17.6s\n",
            "700:\tlearn: 0.0265941\ttotal: 41.2s\tremaining: 17.6s\n",
            "701:\tlearn: 0.0265649\ttotal: 41.2s\tremaining: 17.5s\n",
            "702:\tlearn: 0.0265296\ttotal: 41.3s\tremaining: 17.4s\n",
            "703:\tlearn: 0.0265234\ttotal: 41.3s\tremaining: 17.4s\n",
            "704:\tlearn: 0.0264897\ttotal: 41.4s\tremaining: 17.3s\n",
            "705:\tlearn: 0.0264423\ttotal: 41.5s\tremaining: 17.3s\n",
            "706:\tlearn: 0.0264072\ttotal: 41.5s\tremaining: 17.2s\n",
            "707:\tlearn: 0.0263839\ttotal: 41.6s\tremaining: 17.1s\n",
            "708:\tlearn: 0.0263505\ttotal: 41.6s\tremaining: 17.1s\n",
            "709:\tlearn: 0.0263348\ttotal: 41.7s\tremaining: 17s\n",
            "710:\tlearn: 0.0262888\ttotal: 41.8s\tremaining: 17s\n",
            "711:\tlearn: 0.0262817\ttotal: 41.9s\tremaining: 16.9s\n",
            "712:\tlearn: 0.0262576\ttotal: 41.9s\tremaining: 16.9s\n",
            "713:\tlearn: 0.0262257\ttotal: 42s\tremaining: 16.8s\n",
            "714:\tlearn: 0.0262059\ttotal: 42s\tremaining: 16.8s\n",
            "715:\tlearn: 0.0261753\ttotal: 42.1s\tremaining: 16.7s\n",
            "716:\tlearn: 0.0261299\ttotal: 42.2s\tremaining: 16.6s\n",
            "717:\tlearn: 0.0261100\ttotal: 42.2s\tremaining: 16.6s\n",
            "718:\tlearn: 0.0260670\ttotal: 42.3s\tremaining: 16.5s\n",
            "719:\tlearn: 0.0260486\ttotal: 42.3s\tremaining: 16.5s\n",
            "720:\tlearn: 0.0260209\ttotal: 42.4s\tremaining: 16.4s\n",
            "721:\tlearn: 0.0260084\ttotal: 42.5s\tremaining: 16.3s\n",
            "722:\tlearn: 0.0259791\ttotal: 42.5s\tremaining: 16.3s\n",
            "723:\tlearn: 0.0259473\ttotal: 42.6s\tremaining: 16.2s\n",
            "724:\tlearn: 0.0259207\ttotal: 42.6s\tremaining: 16.2s\n",
            "725:\tlearn: 0.0259035\ttotal: 42.7s\tremaining: 16.1s\n",
            "726:\tlearn: 0.0258455\ttotal: 42.7s\tremaining: 16.1s\n",
            "727:\tlearn: 0.0258191\ttotal: 42.8s\tremaining: 16s\n",
            "728:\tlearn: 0.0257912\ttotal: 42.9s\tremaining: 15.9s\n",
            "729:\tlearn: 0.0257728\ttotal: 42.9s\tremaining: 15.9s\n",
            "730:\tlearn: 0.0257461\ttotal: 43s\tremaining: 15.8s\n",
            "731:\tlearn: 0.0257116\ttotal: 43s\tremaining: 15.8s\n",
            "732:\tlearn: 0.0256648\ttotal: 43.1s\tremaining: 15.7s\n",
            "733:\tlearn: 0.0256319\ttotal: 43.2s\tremaining: 15.6s\n",
            "734:\tlearn: 0.0256235\ttotal: 43.2s\tremaining: 15.6s\n",
            "735:\tlearn: 0.0255912\ttotal: 43.3s\tremaining: 15.5s\n",
            "736:\tlearn: 0.0255616\ttotal: 43.3s\tremaining: 15.5s\n",
            "737:\tlearn: 0.0255206\ttotal: 43.4s\tremaining: 15.4s\n",
            "738:\tlearn: 0.0254865\ttotal: 43.4s\tremaining: 15.3s\n",
            "739:\tlearn: 0.0254726\ttotal: 43.5s\tremaining: 15.3s\n",
            "740:\tlearn: 0.0254602\ttotal: 43.5s\tremaining: 15.2s\n",
            "741:\tlearn: 0.0254138\ttotal: 43.6s\tremaining: 15.2s\n",
            "742:\tlearn: 0.0253811\ttotal: 43.7s\tremaining: 15.1s\n",
            "743:\tlearn: 0.0253624\ttotal: 43.7s\tremaining: 15s\n",
            "744:\tlearn: 0.0253264\ttotal: 43.8s\tremaining: 15s\n",
            "745:\tlearn: 0.0253104\ttotal: 43.9s\tremaining: 14.9s\n",
            "746:\tlearn: 0.0252908\ttotal: 43.9s\tremaining: 14.9s\n",
            "747:\tlearn: 0.0252663\ttotal: 44s\tremaining: 14.8s\n",
            "748:\tlearn: 0.0252482\ttotal: 44s\tremaining: 14.8s\n",
            "749:\tlearn: 0.0252208\ttotal: 44.1s\tremaining: 14.7s\n",
            "750:\tlearn: 0.0251893\ttotal: 44.2s\tremaining: 14.6s\n",
            "751:\tlearn: 0.0251542\ttotal: 44.2s\tremaining: 14.6s\n",
            "752:\tlearn: 0.0251261\ttotal: 44.3s\tremaining: 14.5s\n",
            "753:\tlearn: 0.0251117\ttotal: 44.3s\tremaining: 14.5s\n",
            "754:\tlearn: 0.0251060\ttotal: 44.4s\tremaining: 14.4s\n",
            "755:\tlearn: 0.0250954\ttotal: 44.5s\tremaining: 14.3s\n",
            "756:\tlearn: 0.0250705\ttotal: 44.5s\tremaining: 14.3s\n",
            "757:\tlearn: 0.0250510\ttotal: 44.6s\tremaining: 14.2s\n",
            "758:\tlearn: 0.0250301\ttotal: 44.6s\tremaining: 14.2s\n",
            "759:\tlearn: 0.0249963\ttotal: 44.7s\tremaining: 14.1s\n",
            "760:\tlearn: 0.0249889\ttotal: 44.7s\tremaining: 14.1s\n",
            "761:\tlearn: 0.0249581\ttotal: 44.8s\tremaining: 14s\n",
            "762:\tlearn: 0.0249389\ttotal: 44.9s\tremaining: 13.9s\n",
            "763:\tlearn: 0.0249099\ttotal: 44.9s\tremaining: 13.9s\n",
            "764:\tlearn: 0.0248783\ttotal: 45s\tremaining: 13.8s\n",
            "765:\tlearn: 0.0248310\ttotal: 45.1s\tremaining: 13.8s\n",
            "766:\tlearn: 0.0248008\ttotal: 45.1s\tremaining: 13.7s\n",
            "767:\tlearn: 0.0247690\ttotal: 45.2s\tremaining: 13.7s\n",
            "768:\tlearn: 0.0247438\ttotal: 45.3s\tremaining: 13.6s\n",
            "769:\tlearn: 0.0247369\ttotal: 45.3s\tremaining: 13.5s\n",
            "770:\tlearn: 0.0247008\ttotal: 45.4s\tremaining: 13.5s\n",
            "771:\tlearn: 0.0246666\ttotal: 45.4s\tremaining: 13.4s\n",
            "772:\tlearn: 0.0246553\ttotal: 45.5s\tremaining: 13.4s\n",
            "773:\tlearn: 0.0246174\ttotal: 45.5s\tremaining: 13.3s\n",
            "774:\tlearn: 0.0245976\ttotal: 45.6s\tremaining: 13.2s\n",
            "775:\tlearn: 0.0245954\ttotal: 45.7s\tremaining: 13.2s\n",
            "776:\tlearn: 0.0245720\ttotal: 45.7s\tremaining: 13.1s\n",
            "777:\tlearn: 0.0245119\ttotal: 45.8s\tremaining: 13.1s\n",
            "778:\tlearn: 0.0244788\ttotal: 45.8s\tremaining: 13s\n",
            "779:\tlearn: 0.0244609\ttotal: 45.9s\tremaining: 12.9s\n",
            "780:\tlearn: 0.0244288\ttotal: 45.9s\tremaining: 12.9s\n",
            "781:\tlearn: 0.0244006\ttotal: 46s\tremaining: 12.8s\n",
            "782:\tlearn: 0.0243697\ttotal: 46.1s\tremaining: 12.8s\n",
            "783:\tlearn: 0.0243643\ttotal: 46.1s\tremaining: 12.7s\n",
            "784:\tlearn: 0.0243438\ttotal: 46.2s\tremaining: 12.6s\n",
            "785:\tlearn: 0.0243348\ttotal: 46.2s\tremaining: 12.6s\n",
            "786:\tlearn: 0.0243106\ttotal: 46.3s\tremaining: 12.5s\n",
            "787:\tlearn: 0.0242766\ttotal: 46.3s\tremaining: 12.5s\n",
            "788:\tlearn: 0.0242537\ttotal: 46.4s\tremaining: 12.4s\n",
            "789:\tlearn: 0.0242336\ttotal: 46.5s\tremaining: 12.3s\n",
            "790:\tlearn: 0.0242029\ttotal: 46.5s\tremaining: 12.3s\n",
            "791:\tlearn: 0.0241880\ttotal: 46.6s\tremaining: 12.2s\n",
            "792:\tlearn: 0.0241834\ttotal: 46.6s\tremaining: 12.2s\n",
            "793:\tlearn: 0.0241644\ttotal: 46.7s\tremaining: 12.1s\n",
            "794:\tlearn: 0.0241585\ttotal: 46.7s\tremaining: 12s\n",
            "795:\tlearn: 0.0241214\ttotal: 46.8s\tremaining: 12s\n",
            "796:\tlearn: 0.0240872\ttotal: 46.8s\tremaining: 11.9s\n",
            "797:\tlearn: 0.0240625\ttotal: 46.9s\tremaining: 11.9s\n",
            "798:\tlearn: 0.0240489\ttotal: 46.9s\tremaining: 11.8s\n",
            "799:\tlearn: 0.0240262\ttotal: 47s\tremaining: 11.8s\n",
            "800:\tlearn: 0.0240203\ttotal: 47.1s\tremaining: 11.7s\n",
            "801:\tlearn: 0.0240063\ttotal: 47.1s\tremaining: 11.6s\n",
            "802:\tlearn: 0.0239711\ttotal: 47.2s\tremaining: 11.6s\n",
            "803:\tlearn: 0.0239406\ttotal: 47.2s\tremaining: 11.5s\n",
            "804:\tlearn: 0.0239214\ttotal: 47.3s\tremaining: 11.5s\n",
            "805:\tlearn: 0.0238960\ttotal: 47.3s\tremaining: 11.4s\n",
            "806:\tlearn: 0.0238656\ttotal: 47.4s\tremaining: 11.3s\n",
            "807:\tlearn: 0.0238298\ttotal: 47.5s\tremaining: 11.3s\n",
            "808:\tlearn: 0.0238130\ttotal: 47.5s\tremaining: 11.2s\n",
            "809:\tlearn: 0.0237820\ttotal: 47.6s\tremaining: 11.2s\n",
            "810:\tlearn: 0.0237679\ttotal: 47.6s\tremaining: 11.1s\n",
            "811:\tlearn: 0.0237393\ttotal: 47.7s\tremaining: 11s\n",
            "812:\tlearn: 0.0237170\ttotal: 47.7s\tremaining: 11s\n",
            "813:\tlearn: 0.0236954\ttotal: 47.8s\tremaining: 10.9s\n",
            "814:\tlearn: 0.0236667\ttotal: 47.9s\tremaining: 10.9s\n",
            "815:\tlearn: 0.0236303\ttotal: 47.9s\tremaining: 10.8s\n",
            "816:\tlearn: 0.0235930\ttotal: 48s\tremaining: 10.7s\n",
            "817:\tlearn: 0.0235739\ttotal: 48s\tremaining: 10.7s\n",
            "818:\tlearn: 0.0235642\ttotal: 48.1s\tremaining: 10.6s\n",
            "819:\tlearn: 0.0235436\ttotal: 48.1s\tremaining: 10.6s\n",
            "820:\tlearn: 0.0234962\ttotal: 48.2s\tremaining: 10.5s\n",
            "821:\tlearn: 0.0234685\ttotal: 48.3s\tremaining: 10.4s\n",
            "822:\tlearn: 0.0234407\ttotal: 48.3s\tremaining: 10.4s\n",
            "823:\tlearn: 0.0234153\ttotal: 48.4s\tremaining: 10.3s\n",
            "824:\tlearn: 0.0233950\ttotal: 48.4s\tremaining: 10.3s\n",
            "825:\tlearn: 0.0233677\ttotal: 48.5s\tremaining: 10.2s\n",
            "826:\tlearn: 0.0233583\ttotal: 48.5s\tremaining: 10.2s\n",
            "827:\tlearn: 0.0233249\ttotal: 48.6s\tremaining: 10.1s\n",
            "828:\tlearn: 0.0233000\ttotal: 48.6s\tremaining: 10s\n",
            "829:\tlearn: 0.0232705\ttotal: 48.7s\tremaining: 9.98s\n",
            "830:\tlearn: 0.0232563\ttotal: 48.8s\tremaining: 9.91s\n",
            "831:\tlearn: 0.0232333\ttotal: 48.8s\tremaining: 9.86s\n",
            "832:\tlearn: 0.0232084\ttotal: 48.9s\tremaining: 9.8s\n",
            "833:\tlearn: 0.0231932\ttotal: 48.9s\tremaining: 9.74s\n",
            "834:\tlearn: 0.0231770\ttotal: 49s\tremaining: 9.68s\n",
            "835:\tlearn: 0.0231665\ttotal: 49s\tremaining: 9.62s\n",
            "836:\tlearn: 0.0231528\ttotal: 49.1s\tremaining: 9.56s\n",
            "837:\tlearn: 0.0231405\ttotal: 49.2s\tremaining: 9.5s\n",
            "838:\tlearn: 0.0231315\ttotal: 49.2s\tremaining: 9.44s\n",
            "839:\tlearn: 0.0231102\ttotal: 49.3s\tremaining: 9.38s\n",
            "840:\tlearn: 0.0230794\ttotal: 49.3s\tremaining: 9.32s\n",
            "841:\tlearn: 0.0230720\ttotal: 49.4s\tremaining: 9.27s\n",
            "842:\tlearn: 0.0230464\ttotal: 49.4s\tremaining: 9.21s\n",
            "843:\tlearn: 0.0230358\ttotal: 49.5s\tremaining: 9.15s\n",
            "844:\tlearn: 0.0230235\ttotal: 49.5s\tremaining: 9.09s\n",
            "845:\tlearn: 0.0229948\ttotal: 49.6s\tremaining: 9.03s\n",
            "846:\tlearn: 0.0229581\ttotal: 49.7s\tremaining: 8.97s\n",
            "847:\tlearn: 0.0229287\ttotal: 49.7s\tremaining: 8.91s\n",
            "848:\tlearn: 0.0229004\ttotal: 49.8s\tremaining: 8.85s\n",
            "849:\tlearn: 0.0228915\ttotal: 49.8s\tremaining: 8.79s\n",
            "850:\tlearn: 0.0228551\ttotal: 49.9s\tremaining: 8.74s\n",
            "851:\tlearn: 0.0228369\ttotal: 50s\tremaining: 8.68s\n",
            "852:\tlearn: 0.0227981\ttotal: 50s\tremaining: 8.62s\n",
            "853:\tlearn: 0.0227781\ttotal: 50.1s\tremaining: 8.56s\n",
            "854:\tlearn: 0.0227651\ttotal: 50.1s\tremaining: 8.5s\n",
            "855:\tlearn: 0.0227427\ttotal: 50.2s\tremaining: 8.45s\n",
            "856:\tlearn: 0.0227165\ttotal: 50.3s\tremaining: 8.39s\n",
            "857:\tlearn: 0.0227029\ttotal: 50.3s\tremaining: 8.33s\n",
            "858:\tlearn: 0.0226947\ttotal: 50.4s\tremaining: 8.27s\n",
            "859:\tlearn: 0.0226706\ttotal: 50.4s\tremaining: 8.21s\n",
            "860:\tlearn: 0.0226555\ttotal: 50.5s\tremaining: 8.15s\n",
            "861:\tlearn: 0.0226247\ttotal: 50.6s\tremaining: 8.09s\n",
            "862:\tlearn: 0.0226205\ttotal: 50.6s\tremaining: 8.03s\n",
            "863:\tlearn: 0.0225820\ttotal: 50.7s\tremaining: 7.97s\n",
            "864:\tlearn: 0.0225626\ttotal: 50.7s\tremaining: 7.92s\n",
            "865:\tlearn: 0.0225398\ttotal: 50.8s\tremaining: 7.86s\n",
            "866:\tlearn: 0.0224948\ttotal: 50.8s\tremaining: 7.8s\n",
            "867:\tlearn: 0.0224855\ttotal: 50.9s\tremaining: 7.74s\n",
            "868:\tlearn: 0.0224522\ttotal: 50.9s\tremaining: 7.68s\n",
            "869:\tlearn: 0.0224059\ttotal: 51s\tremaining: 7.62s\n",
            "870:\tlearn: 0.0223918\ttotal: 51.1s\tremaining: 7.56s\n",
            "871:\tlearn: 0.0223829\ttotal: 51.1s\tremaining: 7.5s\n",
            "872:\tlearn: 0.0223634\ttotal: 51.2s\tremaining: 7.45s\n",
            "873:\tlearn: 0.0223352\ttotal: 51.2s\tremaining: 7.39s\n",
            "874:\tlearn: 0.0223165\ttotal: 51.3s\tremaining: 7.33s\n",
            "875:\tlearn: 0.0223068\ttotal: 51.3s\tremaining: 7.27s\n",
            "876:\tlearn: 0.0223008\ttotal: 51.4s\tremaining: 7.21s\n",
            "877:\tlearn: 0.0222625\ttotal: 51.5s\tremaining: 7.15s\n",
            "878:\tlearn: 0.0222472\ttotal: 51.5s\tremaining: 7.09s\n",
            "879:\tlearn: 0.0222349\ttotal: 51.6s\tremaining: 7.03s\n",
            "880:\tlearn: 0.0222099\ttotal: 51.6s\tremaining: 6.97s\n",
            "881:\tlearn: 0.0221916\ttotal: 51.7s\tremaining: 6.91s\n",
            "882:\tlearn: 0.0221722\ttotal: 51.7s\tremaining: 6.85s\n",
            "883:\tlearn: 0.0221638\ttotal: 51.8s\tremaining: 6.79s\n",
            "884:\tlearn: 0.0221485\ttotal: 51.8s\tremaining: 6.74s\n",
            "885:\tlearn: 0.0221165\ttotal: 51.9s\tremaining: 6.68s\n",
            "886:\tlearn: 0.0220981\ttotal: 52s\tremaining: 6.62s\n",
            "887:\tlearn: 0.0220714\ttotal: 52s\tremaining: 6.56s\n",
            "888:\tlearn: 0.0220345\ttotal: 52.1s\tremaining: 6.51s\n",
            "889:\tlearn: 0.0219867\ttotal: 52.2s\tremaining: 6.45s\n",
            "890:\tlearn: 0.0219694\ttotal: 52.2s\tremaining: 6.39s\n",
            "891:\tlearn: 0.0219444\ttotal: 52.3s\tremaining: 6.33s\n",
            "892:\tlearn: 0.0219228\ttotal: 52.3s\tremaining: 6.27s\n",
            "893:\tlearn: 0.0218961\ttotal: 52.4s\tremaining: 6.21s\n",
            "894:\tlearn: 0.0218767\ttotal: 52.4s\tremaining: 6.15s\n",
            "895:\tlearn: 0.0218619\ttotal: 52.5s\tremaining: 6.09s\n",
            "896:\tlearn: 0.0218316\ttotal: 52.6s\tremaining: 6.04s\n",
            "897:\tlearn: 0.0218218\ttotal: 52.6s\tremaining: 5.97s\n",
            "898:\tlearn: 0.0218089\ttotal: 52.7s\tremaining: 5.92s\n",
            "899:\tlearn: 0.0217841\ttotal: 52.7s\tremaining: 5.86s\n",
            "900:\tlearn: 0.0217737\ttotal: 52.8s\tremaining: 5.8s\n",
            "901:\tlearn: 0.0217506\ttotal: 52.8s\tremaining: 5.74s\n",
            "902:\tlearn: 0.0217326\ttotal: 52.9s\tremaining: 5.68s\n",
            "903:\tlearn: 0.0217098\ttotal: 53s\tremaining: 5.62s\n",
            "904:\tlearn: 0.0216912\ttotal: 53s\tremaining: 5.57s\n",
            "905:\tlearn: 0.0216716\ttotal: 53.1s\tremaining: 5.51s\n",
            "906:\tlearn: 0.0216428\ttotal: 53.1s\tremaining: 5.45s\n",
            "907:\tlearn: 0.0216279\ttotal: 53.2s\tremaining: 5.39s\n",
            "908:\tlearn: 0.0215977\ttotal: 53.3s\tremaining: 5.33s\n",
            "909:\tlearn: 0.0215813\ttotal: 53.3s\tremaining: 5.27s\n",
            "910:\tlearn: 0.0215472\ttotal: 53.4s\tremaining: 5.21s\n",
            "911:\tlearn: 0.0215431\ttotal: 53.4s\tremaining: 5.16s\n",
            "912:\tlearn: 0.0215153\ttotal: 53.5s\tremaining: 5.1s\n",
            "913:\tlearn: 0.0215075\ttotal: 53.6s\tremaining: 5.04s\n",
            "914:\tlearn: 0.0214932\ttotal: 53.6s\tremaining: 4.98s\n",
            "915:\tlearn: 0.0214836\ttotal: 53.7s\tremaining: 4.92s\n",
            "916:\tlearn: 0.0214602\ttotal: 53.7s\tremaining: 4.86s\n",
            "917:\tlearn: 0.0214540\ttotal: 53.8s\tremaining: 4.8s\n",
            "918:\tlearn: 0.0214100\ttotal: 53.9s\tremaining: 4.75s\n",
            "919:\tlearn: 0.0213795\ttotal: 53.9s\tremaining: 4.69s\n",
            "920:\tlearn: 0.0213643\ttotal: 54s\tremaining: 4.63s\n",
            "921:\tlearn: 0.0213285\ttotal: 54s\tremaining: 4.57s\n",
            "922:\tlearn: 0.0213147\ttotal: 54.1s\tremaining: 4.51s\n",
            "923:\tlearn: 0.0212918\ttotal: 54.1s\tremaining: 4.45s\n",
            "924:\tlearn: 0.0212674\ttotal: 54.2s\tremaining: 4.39s\n",
            "925:\tlearn: 0.0212558\ttotal: 54.3s\tremaining: 4.33s\n",
            "926:\tlearn: 0.0212466\ttotal: 54.3s\tremaining: 4.28s\n",
            "927:\tlearn: 0.0212328\ttotal: 54.4s\tremaining: 4.22s\n",
            "928:\tlearn: 0.0212144\ttotal: 54.4s\tremaining: 4.16s\n",
            "929:\tlearn: 0.0211972\ttotal: 54.5s\tremaining: 4.1s\n",
            "930:\tlearn: 0.0211785\ttotal: 54.5s\tremaining: 4.04s\n",
            "931:\tlearn: 0.0211608\ttotal: 54.6s\tremaining: 3.98s\n",
            "932:\tlearn: 0.0211464\ttotal: 54.6s\tremaining: 3.92s\n",
            "933:\tlearn: 0.0211368\ttotal: 54.7s\tremaining: 3.87s\n",
            "934:\tlearn: 0.0211052\ttotal: 54.8s\tremaining: 3.81s\n",
            "935:\tlearn: 0.0210914\ttotal: 54.8s\tremaining: 3.75s\n",
            "936:\tlearn: 0.0210651\ttotal: 54.9s\tremaining: 3.69s\n",
            "937:\tlearn: 0.0210407\ttotal: 54.9s\tremaining: 3.63s\n",
            "938:\tlearn: 0.0210207\ttotal: 55s\tremaining: 3.57s\n",
            "939:\tlearn: 0.0210045\ttotal: 55s\tremaining: 3.51s\n",
            "940:\tlearn: 0.0209783\ttotal: 55.1s\tremaining: 3.45s\n",
            "941:\tlearn: 0.0209733\ttotal: 55.2s\tremaining: 3.4s\n",
            "942:\tlearn: 0.0209555\ttotal: 55.2s\tremaining: 3.34s\n",
            "943:\tlearn: 0.0209424\ttotal: 55.3s\tremaining: 3.28s\n",
            "944:\tlearn: 0.0209237\ttotal: 55.3s\tremaining: 3.22s\n",
            "945:\tlearn: 0.0209036\ttotal: 55.4s\tremaining: 3.16s\n",
            "946:\tlearn: 0.0208799\ttotal: 55.4s\tremaining: 3.1s\n",
            "947:\tlearn: 0.0208574\ttotal: 55.5s\tremaining: 3.04s\n",
            "948:\tlearn: 0.0208387\ttotal: 55.6s\tremaining: 2.98s\n",
            "949:\tlearn: 0.0208185\ttotal: 55.6s\tremaining: 2.93s\n",
            "950:\tlearn: 0.0207748\ttotal: 55.7s\tremaining: 2.87s\n",
            "951:\tlearn: 0.0207583\ttotal: 55.7s\tremaining: 2.81s\n",
            "952:\tlearn: 0.0207464\ttotal: 55.8s\tremaining: 2.75s\n",
            "953:\tlearn: 0.0207353\ttotal: 55.8s\tremaining: 2.69s\n",
            "954:\tlearn: 0.0207034\ttotal: 55.9s\tremaining: 2.63s\n",
            "955:\tlearn: 0.0206827\ttotal: 56s\tremaining: 2.58s\n",
            "956:\tlearn: 0.0206695\ttotal: 56s\tremaining: 2.52s\n",
            "957:\tlearn: 0.0206467\ttotal: 56.1s\tremaining: 2.46s\n",
            "958:\tlearn: 0.0206387\ttotal: 56.1s\tremaining: 2.4s\n",
            "959:\tlearn: 0.0206190\ttotal: 56.2s\tremaining: 2.34s\n",
            "960:\tlearn: 0.0206082\ttotal: 56.3s\tremaining: 2.28s\n",
            "961:\tlearn: 0.0206040\ttotal: 56.3s\tremaining: 2.22s\n",
            "962:\tlearn: 0.0205704\ttotal: 56.4s\tremaining: 2.17s\n",
            "963:\tlearn: 0.0205409\ttotal: 56.4s\tremaining: 2.11s\n",
            "964:\tlearn: 0.0205319\ttotal: 56.5s\tremaining: 2.05s\n",
            "965:\tlearn: 0.0205183\ttotal: 56.5s\tremaining: 1.99s\n",
            "966:\tlearn: 0.0205051\ttotal: 56.6s\tremaining: 1.93s\n",
            "967:\tlearn: 0.0204890\ttotal: 56.6s\tremaining: 1.87s\n",
            "968:\tlearn: 0.0204776\ttotal: 56.7s\tremaining: 1.81s\n",
            "969:\tlearn: 0.0204575\ttotal: 56.7s\tremaining: 1.75s\n",
            "970:\tlearn: 0.0204555\ttotal: 56.8s\tremaining: 1.7s\n",
            "971:\tlearn: 0.0204446\ttotal: 56.8s\tremaining: 1.64s\n",
            "972:\tlearn: 0.0204279\ttotal: 56.9s\tremaining: 1.58s\n",
            "973:\tlearn: 0.0204104\ttotal: 57s\tremaining: 1.52s\n",
            "974:\tlearn: 0.0203978\ttotal: 57s\tremaining: 1.46s\n",
            "975:\tlearn: 0.0203745\ttotal: 57.1s\tremaining: 1.4s\n",
            "976:\tlearn: 0.0203568\ttotal: 57.1s\tremaining: 1.34s\n",
            "977:\tlearn: 0.0203439\ttotal: 57.2s\tremaining: 1.29s\n",
            "978:\tlearn: 0.0203272\ttotal: 57.2s\tremaining: 1.23s\n",
            "979:\tlearn: 0.0203111\ttotal: 57.3s\tremaining: 1.17s\n",
            "980:\tlearn: 0.0202955\ttotal: 57.3s\tremaining: 1.11s\n",
            "981:\tlearn: 0.0202806\ttotal: 57.4s\tremaining: 1.05s\n",
            "982:\tlearn: 0.0202610\ttotal: 57.5s\tremaining: 994ms\n",
            "983:\tlearn: 0.0202538\ttotal: 57.5s\tremaining: 935ms\n",
            "984:\tlearn: 0.0202435\ttotal: 57.6s\tremaining: 877ms\n",
            "985:\tlearn: 0.0202281\ttotal: 57.6s\tremaining: 818ms\n",
            "986:\tlearn: 0.0202239\ttotal: 57.7s\tremaining: 760ms\n",
            "987:\tlearn: 0.0202010\ttotal: 57.7s\tremaining: 701ms\n",
            "988:\tlearn: 0.0201763\ttotal: 57.8s\tremaining: 643ms\n",
            "989:\tlearn: 0.0201617\ttotal: 57.9s\tremaining: 584ms\n",
            "990:\tlearn: 0.0201380\ttotal: 57.9s\tremaining: 526ms\n",
            "991:\tlearn: 0.0201139\ttotal: 58s\tremaining: 468ms\n",
            "992:\tlearn: 0.0200853\ttotal: 58s\tremaining: 409ms\n",
            "993:\tlearn: 0.0200650\ttotal: 58.1s\tremaining: 351ms\n",
            "994:\tlearn: 0.0200541\ttotal: 58.2s\tremaining: 292ms\n",
            "995:\tlearn: 0.0200272\ttotal: 58.2s\tremaining: 234ms\n",
            "996:\tlearn: 0.0200063\ttotal: 58.3s\tremaining: 175ms\n",
            "997:\tlearn: 0.0199855\ttotal: 58.3s\tremaining: 117ms\n",
            "998:\tlearn: 0.0199613\ttotal: 58.4s\tremaining: 58.5ms\n",
            "999:\tlearn: 0.0199539\ttotal: 58.5s\tremaining: 0us\n"
          ],
          "name": "stdout"
        },
        {
          "output_type": "execute_result",
          "data": {
            "text/html": [
              "<div>\n",
              "<style scoped>\n",
              "    .dataframe tbody tr th:only-of-type {\n",
              "        vertical-align: middle;\n",
              "    }\n",
              "\n",
              "    .dataframe tbody tr th {\n",
              "        vertical-align: top;\n",
              "    }\n",
              "\n",
              "    .dataframe thead th {\n",
              "        text-align: right;\n",
              "    }\n",
              "</style>\n",
              "<table border=\"1\" class=\"dataframe\">\n",
              "  <thead>\n",
              "    <tr style=\"text-align: right;\">\n",
              "      <th></th>\n",
              "      <th>catboost</th>\n",
              "    </tr>\n",
              "  </thead>\n",
              "  <tbody>\n",
              "    <tr>\n",
              "      <th>0</th>\n",
              "      <td>0</td>\n",
              "    </tr>\n",
              "    <tr>\n",
              "      <th>1</th>\n",
              "      <td>0</td>\n",
              "    </tr>\n",
              "    <tr>\n",
              "      <th>2</th>\n",
              "      <td>0</td>\n",
              "    </tr>\n",
              "    <tr>\n",
              "      <th>3</th>\n",
              "      <td>0</td>\n",
              "    </tr>\n",
              "    <tr>\n",
              "      <th>4</th>\n",
              "      <td>0</td>\n",
              "    </tr>\n",
              "    <tr>\n",
              "      <th>...</th>\n",
              "      <td>...</td>\n",
              "    </tr>\n",
              "    <tr>\n",
              "      <th>142560</th>\n",
              "      <td>1</td>\n",
              "    </tr>\n",
              "    <tr>\n",
              "      <th>142561</th>\n",
              "      <td>1</td>\n",
              "    </tr>\n",
              "    <tr>\n",
              "      <th>142562</th>\n",
              "      <td>1</td>\n",
              "    </tr>\n",
              "    <tr>\n",
              "      <th>142563</th>\n",
              "      <td>1</td>\n",
              "    </tr>\n",
              "    <tr>\n",
              "      <th>142564</th>\n",
              "      <td>1</td>\n",
              "    </tr>\n",
              "  </tbody>\n",
              "</table>\n",
              "<p>142565 rows × 1 columns</p>\n",
              "</div>"
            ],
            "text/plain": [
              "        catboost\n",
              "0              0\n",
              "1              0\n",
              "2              0\n",
              "3              0\n",
              "4              0\n",
              "...          ...\n",
              "142560         1\n",
              "142561         1\n",
              "142562         1\n",
              "142563         1\n",
              "142564         1\n",
              "\n",
              "[142565 rows x 1 columns]"
            ]
          },
          "metadata": {
            "tags": []
          },
          "execution_count": 148
        }
      ]
    },
    {
      "cell_type": "code",
      "metadata": {
        "id": "yqHGqhF8iRgV"
      },
      "source": [
        "# submit\r\n",
        "\r\n",
        "cb_test_pred.to_csv(\"cb_test_pred.csv\", encoding=\"utf-8-sig\",index=False)"
      ],
      "execution_count": 149,
      "outputs": []
    },
    {
      "cell_type": "code",
      "metadata": {
        "colab": {
          "base_uri": "https://localhost:8080/"
        },
        "id": "ovv6NCNhRPFr",
        "outputId": "6a97a41a-16a3-481f-dd62-518c4c142acd"
      },
      "source": [
        "cb_test_pred.shape"
      ],
      "execution_count": 298,
      "outputs": [
        {
          "output_type": "execute_result",
          "data": {
            "text/plain": [
              "(142565, 1)"
            ]
          },
          "metadata": {
            "tags": []
          },
          "execution_count": 298
        }
      ]
    },
    {
      "cell_type": "markdown",
      "metadata": {
        "id": "-7BaH2GTi2tV"
      },
      "source": [
        "##### ExtraTree"
      ]
    },
    {
      "cell_type": "code",
      "metadata": {
        "colab": {
          "base_uri": "https://localhost:8080/",
          "height": 464
        },
        "id": "6rRRMu4ri14j",
        "outputId": "087cfb23-ff47-4ec2-c0a3-74d0e2a428ab"
      },
      "source": [
        "ext_clf =  ExtraTreesClassifier(random_state=42)  #default n_estimators = 100, max_depth=None\r\n",
        "\r\n",
        "\r\n",
        "ext_params = {\r\n",
        "    'n_estimators' : [100, 1000]\r\n",
        "}\r\n",
        "\r\n",
        "ext_cv_tst = GridSearchCV(ext_clf, param_grid = ext_params, cv = 3)\r\n",
        "ext_cv_tst.fit(train_X, train_y)\r\n",
        "\r\n",
        "print('최적 하이퍼 파라미터:\\n', ext_cv_tst.best_params_)\r\n",
        "print('최고 예측 정확도: {0:.6f}'.format(ext_cv_tst.best_score_))\r\n",
        "\r\n",
        "joblib.dump(ext_cv_tst,'ext_cv_tst.pkl')\r\n",
        "\r\n",
        "\r\n",
        "# predict\r\n",
        "ext_pred_tst = ext_cv_tst.best_estimator_.predict(test_X)\r\n",
        "\r\n",
        "ext_test_pred = pd.DataFrame(ext_pred_tst, columns =['ExtraTree'])\r\n",
        "ext_test_pred\r\n"
      ],
      "execution_count": 150,
      "outputs": [
        {
          "output_type": "stream",
          "text": [
            "최적 하이퍼 파라미터:\n",
            " {'n_estimators': 1000}\n",
            "최고 예측 정확도: 0.896576\n"
          ],
          "name": "stdout"
        },
        {
          "output_type": "execute_result",
          "data": {
            "text/html": [
              "<div>\n",
              "<style scoped>\n",
              "    .dataframe tbody tr th:only-of-type {\n",
              "        vertical-align: middle;\n",
              "    }\n",
              "\n",
              "    .dataframe tbody tr th {\n",
              "        vertical-align: top;\n",
              "    }\n",
              "\n",
              "    .dataframe thead th {\n",
              "        text-align: right;\n",
              "    }\n",
              "</style>\n",
              "<table border=\"1\" class=\"dataframe\">\n",
              "  <thead>\n",
              "    <tr style=\"text-align: right;\">\n",
              "      <th></th>\n",
              "      <th>ExtraTree</th>\n",
              "    </tr>\n",
              "  </thead>\n",
              "  <tbody>\n",
              "    <tr>\n",
              "      <th>0</th>\n",
              "      <td>0</td>\n",
              "    </tr>\n",
              "    <tr>\n",
              "      <th>1</th>\n",
              "      <td>0</td>\n",
              "    </tr>\n",
              "    <tr>\n",
              "      <th>2</th>\n",
              "      <td>0</td>\n",
              "    </tr>\n",
              "    <tr>\n",
              "      <th>3</th>\n",
              "      <td>0</td>\n",
              "    </tr>\n",
              "    <tr>\n",
              "      <th>4</th>\n",
              "      <td>0</td>\n",
              "    </tr>\n",
              "    <tr>\n",
              "      <th>...</th>\n",
              "      <td>...</td>\n",
              "    </tr>\n",
              "    <tr>\n",
              "      <th>142560</th>\n",
              "      <td>1</td>\n",
              "    </tr>\n",
              "    <tr>\n",
              "      <th>142561</th>\n",
              "      <td>1</td>\n",
              "    </tr>\n",
              "    <tr>\n",
              "      <th>142562</th>\n",
              "      <td>1</td>\n",
              "    </tr>\n",
              "    <tr>\n",
              "      <th>142563</th>\n",
              "      <td>1</td>\n",
              "    </tr>\n",
              "    <tr>\n",
              "      <th>142564</th>\n",
              "      <td>1</td>\n",
              "    </tr>\n",
              "  </tbody>\n",
              "</table>\n",
              "<p>142565 rows × 1 columns</p>\n",
              "</div>"
            ],
            "text/plain": [
              "        ExtraTree\n",
              "0               0\n",
              "1               0\n",
              "2               0\n",
              "3               0\n",
              "4               0\n",
              "...           ...\n",
              "142560          1\n",
              "142561          1\n",
              "142562          1\n",
              "142563          1\n",
              "142564          1\n",
              "\n",
              "[142565 rows x 1 columns]"
            ]
          },
          "metadata": {
            "tags": []
          },
          "execution_count": 150
        }
      ]
    },
    {
      "cell_type": "code",
      "metadata": {
        "id": "Bl3ZE1YCjXDq"
      },
      "source": [
        "# submit\r\n",
        "\r\n",
        "ext_test_pred.to_csv(\"ext_test_pred.csv\", encoding=\"utf-8-sig\",index=False)"
      ],
      "execution_count": 151,
      "outputs": []
    },
    {
      "cell_type": "markdown",
      "metadata": {
        "id": "7_xlENgJjmZ_"
      },
      "source": [
        "##### LSTM"
      ]
    },
    {
      "cell_type": "code",
      "metadata": {
        "colab": {
          "base_uri": "https://localhost:8080/"
        },
        "id": "Rn9tIUDfktUA",
        "outputId": "a53deeb9-23e9-43fa-8062-c7f2b8e82c85"
      },
      "source": [
        "# 실제 예측시 train\r\n",
        "index_seq = (train_X.argmax(axis=1)).argsort(axis=0)\r\n",
        "train_X = train_X[index_seq]\r\n",
        "train_y = train_y.iloc[index_seq]\r\n",
        "\r\n",
        "tf.random.set_seed(42)\r\n",
        "\r\n",
        "# 하이퍼파라미터\r\n",
        "max_epoch = 5\r\n",
        "batch_size = 32\r\n",
        "learning_rate = 0.001\r\n",
        "\r\n",
        "\r\n",
        "model = LSTM_add_feature(vocab_size, max_len = max_len, embedding_size = embedding_size)\r\n",
        "history = model.fit(x=[train_X[:,:-feature_num],train_X[:,-feature_num:]], y=train_y,epochs=max_epoch,batch_size = batch_size)\r\n",
        "\r\n",
        "model.save(\"lstm_stacking_test_model.h5\")"
      ],
      "execution_count": 159,
      "outputs": [
        {
          "output_type": "stream",
          "text": [
            "Model: \"model_2\"\n",
            "__________________________________________________________________________________________________\n",
            "Layer (type)                    Output Shape         Param #     Connected to                     \n",
            "==================================================================================================\n",
            "input_11 (InputLayer)           [(None, 20)]         0                                            \n",
            "__________________________________________________________________________________________________\n",
            "embedding_5 (Embedding)         (None, 20, 300)      10139400    input_11[0][0]                   \n",
            "__________________________________________________________________________________________________\n",
            "spatial_dropout1d_2 (SpatialDro (None, 20, 300)      0           embedding_5[0][0]                \n",
            "__________________________________________________________________________________________________\n",
            "lstm_4 (LSTM)                   (None, 20, 32)       42624       spatial_dropout1d_2[0][0]        \n",
            "__________________________________________________________________________________________________\n",
            "lstm_5 (LSTM)                   (None, 32)           8320        lstm_4[0][0]                     \n",
            "__________________________________________________________________________________________________\n",
            "dropout_2 (Dropout)             (None, 32)           0           lstm_5[0][0]                     \n",
            "__________________________________________________________________________________________________\n",
            "input_12 (InputLayer)           [(None, 4)]          0                                            \n",
            "__________________________________________________________________________________________________\n",
            "concatenate_2 (Concatenate)     (None, 36)           0           dropout_2[0][0]                  \n",
            "                                                                 input_12[0][0]                   \n",
            "__________________________________________________________________________________________________\n",
            "dense_4 (Dense)                 (None, 32)           1184        concatenate_2[0][0]              \n",
            "__________________________________________________________________________________________________\n",
            "dense_5 (Dense)                 (None, 1)            33          dense_4[0][0]                    \n",
            "==================================================================================================\n",
            "Total params: 10,191,561\n",
            "Trainable params: 10,191,561\n",
            "Non-trainable params: 0\n",
            "__________________________________________________________________________________________________\n",
            "Epoch 1/5\n",
            "3709/3709 [==============================] - 556s 148ms/step - loss: 0.0816 - accuracy: 0.9702\n",
            "Epoch 2/5\n",
            "3709/3709 [==============================] - 530s 143ms/step - loss: 0.0147 - accuracy: 0.9959\n",
            "Epoch 3/5\n",
            "3709/3709 [==============================] - 518s 140ms/step - loss: 0.0066 - accuracy: 0.9982\n",
            "Epoch 4/5\n",
            "3709/3709 [==============================] - 496s 134ms/step - loss: 0.0032 - accuracy: 0.9990\n",
            "Epoch 5/5\n",
            "3709/3709 [==============================] - 461s 124ms/step - loss: 0.0030 - accuracy: 0.9992\n"
          ],
          "name": "stdout"
        }
      ]
    },
    {
      "cell_type": "code",
      "metadata": {
        "colab": {
          "base_uri": "https://localhost:8080/",
          "height": 411
        },
        "id": "RrVFU0JKjmuP",
        "outputId": "33eb360e-fa18-4ae3-919a-c8241c080f61"
      },
      "source": [
        "# predict\r\n",
        "lstm_tst_model = keras.models.load_model(\"lstm_stacking_test_model.h5\")\r\n",
        "\r\n",
        "lstm_pred_tst = lstm_tst_model.predict([test_X[:,:max_len],test_X[:,-feature_num:]])\r\n",
        "lstm_pred_tst1 = lstm_pred_tst.reshape(-1)\r\n",
        "\r\n",
        "lstm_test_pred = pd.DataFrame(lstm_pred_tst1, columns =['LSTM'])\r\n",
        "lstm_test_pred"
      ],
      "execution_count": 161,
      "outputs": [
        {
          "output_type": "execute_result",
          "data": {
            "text/html": [
              "<div>\n",
              "<style scoped>\n",
              "    .dataframe tbody tr th:only-of-type {\n",
              "        vertical-align: middle;\n",
              "    }\n",
              "\n",
              "    .dataframe tbody tr th {\n",
              "        vertical-align: top;\n",
              "    }\n",
              "\n",
              "    .dataframe thead th {\n",
              "        text-align: right;\n",
              "    }\n",
              "</style>\n",
              "<table border=\"1\" class=\"dataframe\">\n",
              "  <thead>\n",
              "    <tr style=\"text-align: right;\">\n",
              "      <th></th>\n",
              "      <th>LSTM</th>\n",
              "    </tr>\n",
              "  </thead>\n",
              "  <tbody>\n",
              "    <tr>\n",
              "      <th>0</th>\n",
              "      <td>5.922311e-01</td>\n",
              "    </tr>\n",
              "    <tr>\n",
              "      <th>1</th>\n",
              "      <td>1.026399e-05</td>\n",
              "    </tr>\n",
              "    <tr>\n",
              "      <th>2</th>\n",
              "      <td>3.369693e-06</td>\n",
              "    </tr>\n",
              "    <tr>\n",
              "      <th>3</th>\n",
              "      <td>3.632282e-07</td>\n",
              "    </tr>\n",
              "    <tr>\n",
              "      <th>4</th>\n",
              "      <td>4.333108e-07</td>\n",
              "    </tr>\n",
              "    <tr>\n",
              "      <th>...</th>\n",
              "      <td>...</td>\n",
              "    </tr>\n",
              "    <tr>\n",
              "      <th>142560</th>\n",
              "      <td>9.999997e-01</td>\n",
              "    </tr>\n",
              "    <tr>\n",
              "      <th>142561</th>\n",
              "      <td>1.000000e+00</td>\n",
              "    </tr>\n",
              "    <tr>\n",
              "      <th>142562</th>\n",
              "      <td>1.000000e+00</td>\n",
              "    </tr>\n",
              "    <tr>\n",
              "      <th>142563</th>\n",
              "      <td>1.000000e+00</td>\n",
              "    </tr>\n",
              "    <tr>\n",
              "      <th>142564</th>\n",
              "      <td>1.000000e+00</td>\n",
              "    </tr>\n",
              "  </tbody>\n",
              "</table>\n",
              "<p>142565 rows × 1 columns</p>\n",
              "</div>"
            ],
            "text/plain": [
              "                LSTM\n",
              "0       5.922311e-01\n",
              "1       1.026399e-05\n",
              "2       3.369693e-06\n",
              "3       3.632282e-07\n",
              "4       4.333108e-07\n",
              "...              ...\n",
              "142560  9.999997e-01\n",
              "142561  1.000000e+00\n",
              "142562  1.000000e+00\n",
              "142563  1.000000e+00\n",
              "142564  1.000000e+00\n",
              "\n",
              "[142565 rows x 1 columns]"
            ]
          },
          "metadata": {
            "tags": []
          },
          "execution_count": 161
        }
      ]
    },
    {
      "cell_type": "code",
      "metadata": {
        "id": "5pI9t_0DkQJ8"
      },
      "source": [
        "# submit\r\n",
        "lstm_test_pred.to_csv(\"lstm_test_pred.csv\", encoding=\"utf-8-sig\",index=False)"
      ],
      "execution_count": 162,
      "outputs": []
    },
    {
      "cell_type": "markdown",
      "metadata": {
        "id": "xHzJqErgFEMm"
      },
      "source": [
        "##### 스태킹"
      ]
    },
    {
      "cell_type": "code",
      "metadata": {
        "colab": {
          "base_uri": "https://localhost:8080/"
        },
        "id": "JbULeSKpFEoq",
        "outputId": "e7a7439b-375b-4652-8f94-73b655b7658f"
      },
      "source": [
        "test_all_pred = np.array([gb_pred_tst, ada_pred_tst, cb_pred_tst, ext_pred_tst, lstm_pred_tst1])\r\n",
        "test_all_pred = np.transpose(test_all_pred)\r\n",
        "test_all_pred.shape\r\n"
      ],
      "execution_count": 164,
      "outputs": [
        {
          "output_type": "execute_result",
          "data": {
            "text/plain": [
              "(142565, 5)"
            ]
          },
          "metadata": {
            "tags": []
          },
          "execution_count": 164
        }
      ]
    },
    {
      "cell_type": "code",
      "metadata": {
        "colab": {
          "base_uri": "https://localhost:8080/"
        },
        "id": "UJcdYW94H7YA",
        "outputId": "b99b2973-acb0-4807-c9fe-7cad1f623339"
      },
      "source": [
        "train.shape"
      ],
      "execution_count": 244,
      "outputs": [
        {
          "output_type": "execute_result",
          "data": {
            "text/plain": [
              "(118676, 11)"
            ]
          },
          "metadata": {
            "tags": []
          },
          "execution_count": 244
        }
      ]
    },
    {
      "cell_type": "code",
      "metadata": {
        "colab": {
          "base_uri": "https://localhost:8080/"
        },
        "id": "2uSi_oguFjpB",
        "outputId": "f49f9fc8-1cb0-4e83-fada-a35c6968adf4"
      },
      "source": [
        "test_lgbm_clf=LGBMClassifier(random_state=42)\r\n",
        "test_lgbm_clf.fit(all_pred, y_valid)\r\n",
        "\r\n",
        "joblib.dump(test_lgbm_clf,'test_lgbm_stacking_clf.pkl')\r\n",
        "\r\n",
        "test_lgbm_pred = test_lgbm_clf.predict(all_pred) #all_pred\r\n",
        "test_lgbm_pred\r\n"
      ],
      "execution_count": 250,
      "outputs": [
        {
          "output_type": "execute_result",
          "data": {
            "text/plain": [
              "array([0, 0, 1, ..., 0, 1, 1], dtype=int64)"
            ]
          },
          "metadata": {
            "tags": []
          },
          "execution_count": 250
        }
      ]
    },
    {
      "cell_type": "code",
      "metadata": {
        "colab": {
          "base_uri": "https://localhost:8080/"
        },
        "id": "P8EC0spPIjdc",
        "outputId": "fbacc58a-19a2-43ec-d513-e07c496e87b7"
      },
      "source": [
        "test_lgbm_pred.shape"
      ],
      "execution_count": 251,
      "outputs": [
        {
          "output_type": "execute_result",
          "data": {
            "text/plain": [
              "(35603,)"
            ]
          },
          "metadata": {
            "tags": []
          },
          "execution_count": 251
        }
      ]
    },
    {
      "cell_type": "markdown",
      "metadata": {
        "id": "U3Ghet-Dwiau"
      },
      "source": [
        "##### stratified CV"
      ]
    },
    {
      "cell_type": "code",
      "metadata": {
        "colab": {
          "base_uri": "https://localhost:8080/"
        },
        "id": "FjGiO4Djwkm9",
        "outputId": "5f9f4ba0-3a0d-4b19-9aba-20f236d9612d"
      },
      "source": [
        "# y=X_va.values\r\n",
        "\r\n",
        "# valid\r\n",
        "stk_trn = [gb_pred, ada_pred, cb_pred, ext_pred, lstm_pred1]\r\n",
        "# test\r\n",
        "stk_tst = [gb_pred_tst, ada_pred_tst, cb_pred_tst, ext_pred_tst, lstm_pred_tst1]\r\n",
        "feature_names = []\r\n",
        "model_names = ['gbm','ada','cb','ext','lstm']\r\n",
        "\r\n",
        "for model in model_names:\r\n",
        "    feature_names += [f'{model}_class0', f'{model}_class1']\r\n",
        "    \r\n",
        "stk_trn = np.hstack(stk_trn)\r\n",
        "stk_tst = np.hstack(stk_tst)\r\n",
        "\r\n",
        "feature_names"
      ],
      "execution_count": 183,
      "outputs": [
        {
          "output_type": "execute_result",
          "data": {
            "text/plain": [
              "['gbm_class0',\n",
              " 'gbm_class1',\n",
              " 'ada_class0',\n",
              " 'ada_class1',\n",
              " 'cb_class0',\n",
              " 'cb_class1',\n",
              " 'ext_class0',\n",
              " 'ext_class1',\n",
              " 'lstm_class0',\n",
              " 'lstm_class1']"
            ]
          },
          "metadata": {
            "tags": []
          },
          "execution_count": 183
        }
      ]
    },
    {
      "cell_type": "code",
      "metadata": {
        "colab": {
          "base_uri": "https://localhost:8080/"
        },
        "id": "TRL9QHU8y9SV",
        "outputId": "3fbd5c3e-bb39-4cd2-fb0d-316785f65ba2"
      },
      "source": [
        "stk_trn.shape"
      ],
      "execution_count": 373,
      "outputs": [
        {
          "output_type": "execute_result",
          "data": {
            "text/plain": [
              "(178015,)"
            ]
          },
          "metadata": {
            "tags": []
          },
          "execution_count": 373
        }
      ]
    },
    {
      "cell_type": "code",
      "metadata": {
        "colab": {
          "base_uri": "https://localhost:8080/"
        },
        "id": "NVskVLifzYL5",
        "outputId": "6b42bfda-8cef-4273-a1f0-09ee341cbd58"
      },
      "source": [
        "y =[y_valid, y_valid, y_valid, y_valid, y_valid]\r\n",
        "y = np.hstack(y)\r\n",
        "y.shape"
      ],
      "execution_count": 374,
      "outputs": [
        {
          "output_type": "execute_result",
          "data": {
            "text/plain": [
              "(178015,)"
            ]
          },
          "metadata": {
            "tags": []
          },
          "execution_count": 374
        }
      ]
    },
    {
      "cell_type": "code",
      "metadata": {
        "colab": {
          "base_uri": "https://localhost:8080/",
          "height": 0
        },
        "id": "UQzI7jB8wkqa",
        "outputId": "1daa7e64-afee-471c-873c-2c1d55de93b0"
      },
      "source": [
        "cv = StratifiedKFold(n_splits=5, shuffle=True, random_state=42)\r\n",
        "\r\n",
        "p_val = np.zeros((stk_trn.shape[0], 1))\r\n",
        "p_tst = np.zeros((stk_tst.shape[0], 1))\r\n",
        "for i, (i_trn, i_val) in enumerate(cv.split(stk_trn, y), 1):\r\n",
        "    print(f'training model for CV #{i}')\r\n",
        "    test_lgbm_clf = LGBMClassifier(random_state=42)\r\n",
        "    test_lgbm_clf.fit(stk_trn[i_trn], y[i_trn],eval_set=[(stk_trn[i_val], y[i_val])])\r\n",
        "    \r\n",
        "    p_val[i_val, :] = test_lgbm_clf.predict_proba(stk_trn[i_val])\r\n",
        "    p_tst += test_lgbm_clf.predict_proba(stk_tst) / n_fold\r\n",
        "    print(accuracy_score(y[i_val],np.argmax(p_val[i_val],axis=1)))\r\n",
        "print()\r\n",
        "print('models:',model_names)\r\n",
        "print(test_lgbm_clf)\r\n",
        "\r\n",
        "print(f'valid cv accuracy : {accuracy_score(y, np.argmax(p_val, axis=1)) :.6f}')\r\n",
        "print(f' {confusion_matrix(y, np.argmax(p_val, axis=1))}')"
      ],
      "execution_count": 1,
      "outputs": [
        {
          "output_type": "error",
          "ename": "NameError",
          "evalue": "ignored",
          "traceback": [
            "\u001b[0;31m---------------------------------------------------------------------------\u001b[0m",
            "\u001b[0;31mNameError\u001b[0m                                 Traceback (most recent call last)",
            "\u001b[0;32m<ipython-input-1-ee17ea59af58>\u001b[0m in \u001b[0;36m<module>\u001b[0;34m()\u001b[0m\n\u001b[0;32m----> 1\u001b[0;31m \u001b[0mcv\u001b[0m \u001b[0;34m=\u001b[0m \u001b[0mStratifiedKFold\u001b[0m\u001b[0;34m(\u001b[0m\u001b[0mn_splits\u001b[0m\u001b[0;34m=\u001b[0m\u001b[0;36m5\u001b[0m\u001b[0;34m,\u001b[0m \u001b[0mshuffle\u001b[0m\u001b[0;34m=\u001b[0m\u001b[0;32mTrue\u001b[0m\u001b[0;34m,\u001b[0m \u001b[0mrandom_state\u001b[0m\u001b[0;34m=\u001b[0m\u001b[0;36m42\u001b[0m\u001b[0;34m)\u001b[0m\u001b[0;34m\u001b[0m\u001b[0;34m\u001b[0m\u001b[0m\n\u001b[0m\u001b[1;32m      2\u001b[0m \u001b[0;34m\u001b[0m\u001b[0m\n\u001b[1;32m      3\u001b[0m \u001b[0mp_val\u001b[0m \u001b[0;34m=\u001b[0m \u001b[0mnp\u001b[0m\u001b[0;34m.\u001b[0m\u001b[0mzeros\u001b[0m\u001b[0;34m(\u001b[0m\u001b[0;34m(\u001b[0m\u001b[0mstk_trn\u001b[0m\u001b[0;34m.\u001b[0m\u001b[0mshape\u001b[0m\u001b[0;34m[\u001b[0m\u001b[0;36m0\u001b[0m\u001b[0;34m]\u001b[0m\u001b[0;34m,\u001b[0m \u001b[0;36m1\u001b[0m\u001b[0;34m)\u001b[0m\u001b[0;34m)\u001b[0m\u001b[0;34m\u001b[0m\u001b[0;34m\u001b[0m\u001b[0m\n\u001b[1;32m      4\u001b[0m \u001b[0mp_tst\u001b[0m \u001b[0;34m=\u001b[0m \u001b[0mnp\u001b[0m\u001b[0;34m.\u001b[0m\u001b[0mzeros\u001b[0m\u001b[0;34m(\u001b[0m\u001b[0;34m(\u001b[0m\u001b[0mstk_tst\u001b[0m\u001b[0;34m.\u001b[0m\u001b[0mshape\u001b[0m\u001b[0;34m[\u001b[0m\u001b[0;36m0\u001b[0m\u001b[0;34m]\u001b[0m\u001b[0;34m,\u001b[0m \u001b[0;36m1\u001b[0m\u001b[0;34m)\u001b[0m\u001b[0;34m)\u001b[0m\u001b[0;34m\u001b[0m\u001b[0;34m\u001b[0m\u001b[0m\n\u001b[1;32m      5\u001b[0m \u001b[0;32mfor\u001b[0m \u001b[0mi\u001b[0m\u001b[0;34m,\u001b[0m \u001b[0;34m(\u001b[0m\u001b[0mi_trn\u001b[0m\u001b[0;34m,\u001b[0m \u001b[0mi_val\u001b[0m\u001b[0;34m)\u001b[0m \u001b[0;32min\u001b[0m \u001b[0menumerate\u001b[0m\u001b[0;34m(\u001b[0m\u001b[0mcv\u001b[0m\u001b[0;34m.\u001b[0m\u001b[0msplit\u001b[0m\u001b[0;34m(\u001b[0m\u001b[0mstk_trn\u001b[0m\u001b[0;34m,\u001b[0m \u001b[0my\u001b[0m\u001b[0;34m)\u001b[0m\u001b[0;34m,\u001b[0m \u001b[0;36m1\u001b[0m\u001b[0;34m)\u001b[0m\u001b[0;34m:\u001b[0m\u001b[0;34m\u001b[0m\u001b[0;34m\u001b[0m\u001b[0m\n",
            "\u001b[0;31mNameError\u001b[0m: name 'StratifiedKFold' is not defined"
          ]
        }
      ]
    },
    {
      "cell_type": "markdown",
      "metadata": {
        "id": "VxxA4BtOWqwR"
      },
      "source": [
        "##### 모델 로드"
      ]
    },
    {
      "cell_type": "code",
      "metadata": {
        "id": "Xf1AWyn4WtY-"
      },
      "source": [
        "path = \"/content/drive/MyDrive/Colab Notebooks/dacon_news/테스트 stacking1\"\r\n",
        "\r\n",
        "# with open(\"/ada_grid_tst.pkl\", 'wb') as f:\r\n",
        "#  pickle.dump(ada_grid_tst, f)\r\n"
      ],
      "execution_count": 322,
      "outputs": []
    },
    {
      "cell_type": "markdown",
      "metadata": {
        "id": "ZZd1uakF1YXv"
      },
      "source": [
        "### cv"
      ]
    },
    {
      "cell_type": "code",
      "metadata": {
        "id": "GIfXXPnGsgcW"
      },
      "source": [
        "from sklearn.model_selection import KFold\r\n",
        "from sklearn.metrics import mean_absolute_error\r\n",
        "\r\n",
        "# 개별 기반 모델에서 최종 메타 모델이 사용할 학습 및 테스트용 데이터를 생성하기 위한 함수. \r\n",
        "def get_stacking_base_datasets(model, X_train_n, y_train_n, X_test_n, n_folds ):\r\n",
        "\r\n",
        "    kf = StratifiedKFold(n_splits=n_folds, shuffle=False, random_state=42)\r\n",
        "    #추후에 메타 모델이 사용할 학습 데이터 반환을 위한 넘파이 배열 초기화 \r\n",
        "    train_fold_pred = np.zeros((X_train_n.shape[0] ,1 ))\r\n",
        "    test_pred = np.zeros((X_test_n.shape[0],n_folds))\r\n",
        "    print(model.__class__.__name__ , ' model 시작 ')\r\n",
        "    \r\n",
        "    for folder_counter , (train_index, valid_index) in enumerate(kf.split(X_train_n, y_train_n)):\r\n",
        "        #입력된 학습 데이터에서 기반 모델이 학습/예측할 폴드 데이터 셋 추출 \r\n",
        "        print('\\t 폴드 세트: ',folder_counter,' 시작 ')\r\n",
        "        X_tr = X_train_n[train_index] \r\n",
        "        y_tr = y_train_n[train_index] \r\n",
        "        X_te = X_train_n[valid_index]  \r\n",
        "        \r\n",
        "        #폴드 세트 내부에서 다시 만들어진 학습 데이터로 기반 모델의 학습 수행.\r\n",
        "        model.fit(X_tr , y_tr)       \r\n",
        "        #폴드 세트 내부에서 다시 만들어진 검증 데이터로 기반 모델 예측 후 데이터 저장.\r\n",
        "        train_fold_pred[valid_index, :] = model.predict(X_te).reshape(-1,1)\r\n",
        "        #입력된 원본 테스트 데이터를 폴드 세트내 학습된 기반 모델에서 예측 후 데이터 저장. \r\n",
        "        test_pred[:, folder_counter] = model.predict(X_test_n)\r\n",
        "\r\n",
        "        print('ok')\r\n",
        "            \r\n",
        "    # 폴드 세트 내에서 원본 테스트 데이터를 예측한 데이터를 평균하여 테스트 데이터로 생성 \r\n",
        "    test_pred_mean = np.mean(test_pred, axis=1).reshape(-1,1)    \r\n",
        "    \r\n",
        "    #train_fold_pred는 최종 메타 모델이 사용하는 학습 데이터, test_pred_mean은 테스트 데이터\r\n",
        "    return train_fold_pred , test_pred_mean"
      ],
      "execution_count": 355,
      "outputs": []
    },
    {
      "cell_type": "code",
      "metadata": {
        "colab": {
          "base_uri": "https://localhost:8080/",
          "height": 241
        },
        "id": "DDz2_OZqtdRQ",
        "outputId": "9dddf25b-edc2-4ecf-d847-d9bd07954b51"
      },
      "source": [
        "\r\n",
        "# gb, ada, cb, ext, lstm \r\n",
        "\r\n",
        "# gb_train, gb_test = get_stacking_base_datasets(gb_grid_tst, train_X, train_y, test_X, 3)\r\n",
        "# ada_train, ada_test = get_stacking_base_datasets(ada_grid_tst, train_X, train_y, test_X, 3)\r\n",
        "cb_train, cb_test = get_stacking_base_datasets(cb_clf_tst, train_X, train_y, test_X, 3)\r\n",
        "ext_train, ext_test = get_stacking_base_datasets(ext_cv_tst, train_X, train_y, test_X, 3) \r\n",
        "lstm_train, lstm_test = get_stacking_base_datasets(lstm_tst_model, train_X, train_y, test_X, 3) \r\n"
      ],
      "execution_count": 2,
      "outputs": [
        {
          "output_type": "error",
          "ename": "NameError",
          "evalue": "ignored",
          "traceback": [
            "\u001b[0;31m---------------------------------------------------------------------------\u001b[0m",
            "\u001b[0;31mNameError\u001b[0m                                 Traceback (most recent call last)",
            "\u001b[0;32m<ipython-input-2-da1d0eaedabf>\u001b[0m in \u001b[0;36m<module>\u001b[0;34m()\u001b[0m\n\u001b[1;32m      4\u001b[0m \u001b[0;31m# gb_train, gb_test = get_stacking_base_datasets(gb_grid_tst, train_X, train_y, test_X, 3)\u001b[0m\u001b[0;34m\u001b[0m\u001b[0;34m\u001b[0m\u001b[0;34m\u001b[0m\u001b[0m\n\u001b[1;32m      5\u001b[0m \u001b[0;31m# ada_train, ada_test = get_stacking_base_datasets(ada_grid_tst, train_X, train_y, test_X, 3)\u001b[0m\u001b[0;34m\u001b[0m\u001b[0;34m\u001b[0m\u001b[0;34m\u001b[0m\u001b[0m\n\u001b[0;32m----> 6\u001b[0;31m \u001b[0mcb_train\u001b[0m\u001b[0;34m,\u001b[0m \u001b[0mcb_test\u001b[0m \u001b[0;34m=\u001b[0m \u001b[0mget_stacking_base_datasets\u001b[0m\u001b[0;34m(\u001b[0m\u001b[0mcb_clf_tst\u001b[0m\u001b[0;34m,\u001b[0m \u001b[0mtrain_X\u001b[0m\u001b[0;34m,\u001b[0m \u001b[0mtrain_y\u001b[0m\u001b[0;34m,\u001b[0m \u001b[0mtest_X\u001b[0m\u001b[0;34m,\u001b[0m \u001b[0;36m3\u001b[0m\u001b[0;34m)\u001b[0m\u001b[0;34m\u001b[0m\u001b[0;34m\u001b[0m\u001b[0m\n\u001b[0m\u001b[1;32m      7\u001b[0m \u001b[0mext_train\u001b[0m\u001b[0;34m,\u001b[0m \u001b[0mext_test\u001b[0m \u001b[0;34m=\u001b[0m \u001b[0mget_stacking_base_datasets\u001b[0m\u001b[0;34m(\u001b[0m\u001b[0mext_cv_tst\u001b[0m\u001b[0;34m,\u001b[0m \u001b[0mtrain_X\u001b[0m\u001b[0;34m,\u001b[0m \u001b[0mtrain_y\u001b[0m\u001b[0;34m,\u001b[0m \u001b[0mtest_X\u001b[0m\u001b[0;34m,\u001b[0m \u001b[0;36m3\u001b[0m\u001b[0;34m)\u001b[0m\u001b[0;34m\u001b[0m\u001b[0;34m\u001b[0m\u001b[0m\n\u001b[1;32m      8\u001b[0m \u001b[0mlstm_train\u001b[0m\u001b[0;34m,\u001b[0m \u001b[0mlstm_test\u001b[0m \u001b[0;34m=\u001b[0m \u001b[0mget_stacking_base_datasets\u001b[0m\u001b[0;34m(\u001b[0m\u001b[0mlstm_tst_model\u001b[0m\u001b[0;34m,\u001b[0m \u001b[0mtrain_X\u001b[0m\u001b[0;34m,\u001b[0m \u001b[0mtrain_y\u001b[0m\u001b[0;34m,\u001b[0m \u001b[0mtest_X\u001b[0m\u001b[0;34m,\u001b[0m \u001b[0;36m3\u001b[0m\u001b[0;34m)\u001b[0m\u001b[0;34m\u001b[0m\u001b[0;34m\u001b[0m\u001b[0m\n",
            "\u001b[0;31mNameError\u001b[0m: name 'get_stacking_base_datasets' is not defined"
          ]
        }
      ]
    },
    {
      "cell_type": "code",
      "metadata": {
        "colab": {
          "base_uri": "https://localhost:8080/",
          "height": 241
        },
        "id": "0fH9U-Y1tdVz",
        "outputId": "753be5ff-e829-4b24-bfbc-36ae6cf7470b"
      },
      "source": [
        "Stack_final_X_train = np.concatenate((knn_train, rf_train, dt_train, ada_train), axis=1)\r\n",
        "Stack_final_X_test = np.concatenate((knn_test, rf_test, dt_test, ada_test), axis=1)\r\n",
        "\r\n",
        "print('원본 학습 피처 데이터 Shape:',X_train.shape, '원본 테스트 피처 Shape:',X_test.shape)\r\n",
        "print('스태킹 학습 피처 데이터 Shape:', Stack_final_X_train.shape,\r\n",
        "      '스태킹 테스트 피처 데이터 Shape:',Stack_final_X_test.shape)"
      ],
      "execution_count": 3,
      "outputs": [
        {
          "output_type": "error",
          "ename": "NameError",
          "evalue": "ignored",
          "traceback": [
            "\u001b[0;31m---------------------------------------------------------------------------\u001b[0m",
            "\u001b[0;31mNameError\u001b[0m                                 Traceback (most recent call last)",
            "\u001b[0;32m<ipython-input-3-7894a1ca730d>\u001b[0m in \u001b[0;36m<module>\u001b[0;34m()\u001b[0m\n\u001b[0;32m----> 1\u001b[0;31m \u001b[0mStack_final_X_train\u001b[0m \u001b[0;34m=\u001b[0m \u001b[0mnp\u001b[0m\u001b[0;34m.\u001b[0m\u001b[0mconcatenate\u001b[0m\u001b[0;34m(\u001b[0m\u001b[0;34m(\u001b[0m\u001b[0mknn_train\u001b[0m\u001b[0;34m,\u001b[0m \u001b[0mrf_train\u001b[0m\u001b[0;34m,\u001b[0m \u001b[0mdt_train\u001b[0m\u001b[0;34m,\u001b[0m \u001b[0mada_train\u001b[0m\u001b[0;34m)\u001b[0m\u001b[0;34m,\u001b[0m \u001b[0maxis\u001b[0m\u001b[0;34m=\u001b[0m\u001b[0;36m1\u001b[0m\u001b[0;34m)\u001b[0m\u001b[0;34m\u001b[0m\u001b[0;34m\u001b[0m\u001b[0m\n\u001b[0m\u001b[1;32m      2\u001b[0m \u001b[0mStack_final_X_test\u001b[0m \u001b[0;34m=\u001b[0m \u001b[0mnp\u001b[0m\u001b[0;34m.\u001b[0m\u001b[0mconcatenate\u001b[0m\u001b[0;34m(\u001b[0m\u001b[0;34m(\u001b[0m\u001b[0mknn_test\u001b[0m\u001b[0;34m,\u001b[0m \u001b[0mrf_test\u001b[0m\u001b[0;34m,\u001b[0m \u001b[0mdt_test\u001b[0m\u001b[0;34m,\u001b[0m \u001b[0mada_test\u001b[0m\u001b[0;34m)\u001b[0m\u001b[0;34m,\u001b[0m \u001b[0maxis\u001b[0m\u001b[0;34m=\u001b[0m\u001b[0;36m1\u001b[0m\u001b[0;34m)\u001b[0m\u001b[0;34m\u001b[0m\u001b[0;34m\u001b[0m\u001b[0m\n\u001b[1;32m      3\u001b[0m \u001b[0;34m\u001b[0m\u001b[0m\n\u001b[1;32m      4\u001b[0m \u001b[0mprint\u001b[0m\u001b[0;34m(\u001b[0m\u001b[0;34m'원본 학습 피처 데이터 Shape:'\u001b[0m\u001b[0;34m,\u001b[0m\u001b[0mX_train\u001b[0m\u001b[0;34m.\u001b[0m\u001b[0mshape\u001b[0m\u001b[0;34m,\u001b[0m \u001b[0;34m'원본 테스트 피처 Shape:'\u001b[0m\u001b[0;34m,\u001b[0m\u001b[0mX_test\u001b[0m\u001b[0;34m.\u001b[0m\u001b[0mshape\u001b[0m\u001b[0;34m)\u001b[0m\u001b[0;34m\u001b[0m\u001b[0;34m\u001b[0m\u001b[0m\n\u001b[1;32m      5\u001b[0m print('스태킹 학습 피처 데이터 Shape:', Stack_final_X_train.shape,\n",
            "\u001b[0;31mNameError\u001b[0m: name 'np' is not defined"
          ]
        }
      ]
    },
    {
      "cell_type": "code",
      "metadata": {
        "id": "fVRfU68s5mFu"
      },
      "source": [
        "stack_final=LGBMClassifier(random_state=42)\r\n",
        "stack_final.fit(Stack_final_X_train, y_train)\r\n",
        "\r\n",
        "\r\n",
        "joblib.dump(stack_final,'stack_final_lgbm_clf.pkl')\r\n",
        "\r\n",
        "stack_predict = stack_final.predict(Stack_final_X_test)\r\n",
        "stack_predict"
      ],
      "execution_count": null,
      "outputs": []
    },
    {
      "cell_type": "code",
      "metadata": {
        "id": "sXTGqKXSGNnz"
      },
      "source": [
        "# submmit\r\n",
        "\r\n",
        "submission = pd.read_csv(\"/content/drive/MyDrive/Colab Notebooks/dacon_news/data/sample_submission.csv\")\r\n",
        "submission[\"info\"]= stack_predict\r\n",
        "\r\n",
        "submission.to_csv(\"stacking1_submission.csv\", encoding=\"utf-8-sig\",index=False)"
      ],
      "execution_count": 252,
      "outputs": []
    },
    {
      "cell_type": "code",
      "metadata": {
        "colab": {
          "base_uri": "https://localhost:8080/"
        },
        "id": "e5T3YCiNO2GP",
        "outputId": "4b1ae999-8308-4a7d-e5e9-5540ed2c8abd"
      },
      "source": [
        "test_X.shape"
      ],
      "execution_count": 285,
      "outputs": [
        {
          "output_type": "execute_result",
          "data": {
            "text/plain": [
              "(142565, 24)"
            ]
          },
          "metadata": {
            "tags": []
          },
          "execution_count": 285
        }
      ]
    },
    {
      "cell_type": "code",
      "metadata": {
        "colab": {
          "base_uri": "https://localhost:8080/"
        },
        "id": "HUHTB6MePrkC",
        "outputId": "155d4b1d-2de1-46db-b97b-b57c29be1dc7"
      },
      "source": [
        "train_X.shape"
      ],
      "execution_count": 297,
      "outputs": [
        {
          "output_type": "execute_result",
          "data": {
            "text/plain": [
              "(118676, 24)"
            ]
          },
          "metadata": {
            "tags": []
          },
          "execution_count": 297
        }
      ]
    },
    {
      "cell_type": "code",
      "metadata": {
        "colab": {
          "base_uri": "https://localhost:8080/",
          "height": 226
        },
        "id": "kwf3CQ4oO4wP",
        "outputId": "dce078fe-38ce-464a-a96a-22266097da90"
      },
      "source": [
        "a = np.array([test_X[:,:max_len],test_X[:,-feature_num:]])  #.to_array()"
      ],
      "execution_count": 295,
      "outputs": [
        {
          "output_type": "stream",
          "text": [
            "/usr/local/lib/python3.6/dist-packages/ipykernel_launcher.py:1: VisibleDeprecationWarning: Creating an ndarray from ragged nested sequences (which is a list-or-tuple of lists-or-tuples-or ndarrays with different lengths or shapes) is deprecated. If you meant to do this, you must specify 'dtype=object' when creating the ndarray\n",
            "  \"\"\"Entry point for launching an IPython kernel.\n"
          ],
          "name": "stderr"
        },
        {
          "output_type": "error",
          "ename": "ValueError",
          "evalue": "ignored",
          "traceback": [
            "\u001b[0;31m---------------------------------------------------------------------------\u001b[0m",
            "\u001b[0;31mValueError\u001b[0m                                Traceback (most recent call last)",
            "\u001b[0;32m<ipython-input-295-6b67335ad321>\u001b[0m in \u001b[0;36m<module>\u001b[0;34m()\u001b[0m\n\u001b[0;32m----> 1\u001b[0;31m \u001b[0ma\u001b[0m \u001b[0;34m=\u001b[0m \u001b[0mnp\u001b[0m\u001b[0;34m.\u001b[0m\u001b[0marray\u001b[0m\u001b[0;34m(\u001b[0m\u001b[0;34m[\u001b[0m\u001b[0mtest_X\u001b[0m\u001b[0;34m[\u001b[0m\u001b[0;34m:\u001b[0m\u001b[0;34m,\u001b[0m\u001b[0;34m:\u001b[0m\u001b[0mmax_len\u001b[0m\u001b[0;34m]\u001b[0m\u001b[0;34m,\u001b[0m\u001b[0mtest_X\u001b[0m\u001b[0;34m[\u001b[0m\u001b[0;34m:\u001b[0m\u001b[0;34m,\u001b[0m\u001b[0;34m-\u001b[0m\u001b[0mfeature_num\u001b[0m\u001b[0;34m:\u001b[0m\u001b[0;34m]\u001b[0m\u001b[0;34m]\u001b[0m\u001b[0;34m)\u001b[0m  \u001b[0;31m#.to_array()\u001b[0m\u001b[0;34m\u001b[0m\u001b[0;34m\u001b[0m\u001b[0m\n\u001b[0m",
            "\u001b[0;31mValueError\u001b[0m: could not broadcast input array from shape (142565,20) into shape (142565)"
          ]
        }
      ]
    },
    {
      "cell_type": "code",
      "metadata": {
        "colab": {
          "base_uri": "https://localhost:8080/"
        },
        "id": "OXZo7_19QpZy",
        "outputId": "b6f09d74-9b65-42f7-88e2-e457dfe8edc2"
      },
      "source": [
        "test_X[:,-feature_num:max_len]"
      ],
      "execution_count": 296,
      "outputs": [
        {
          "output_type": "execute_result",
          "data": {
            "text/plain": [
              "array([], shape=(142565, 0), dtype=float64)"
            ]
          },
          "metadata": {
            "tags": []
          },
          "execution_count": 296
        }
      ]
    },
    {
      "cell_type": "code",
      "metadata": {
        "colab": {
          "base_uri": "https://localhost:8080/"
        },
        "id": "p1rs5o0YPQYF",
        "outputId": "afbfa6cc-cd3a-45d3-f5f7-83c524e40746"
      },
      "source": [
        ".shape"
      ],
      "execution_count": 277,
      "outputs": [
        {
          "output_type": "execute_result",
          "data": {
            "text/plain": [
              "(142565, 4)"
            ]
          },
          "metadata": {
            "tags": []
          },
          "execution_count": 277
        }
      ]
    },
    {
      "cell_type": "markdown",
      "metadata": {
        "id": "QTGrQTG0_DcA"
      },
      "source": [
        "# 최종 훈련"
      ]
    },
    {
      "cell_type": "code",
      "metadata": {
        "id": "euiZSXmb-p3h",
        "colab": {
          "base_uri": "https://localhost:8080/"
        },
        "outputId": "d7d36dfd-544e-490d-a72f-42a0c0425f1f"
      },
      "source": [
        "# 실제 예측시\r\n",
        "index_seq = (train_X.argmax(axis=1)).argsort(axis=0)\r\n",
        "train_X = train_X[index_seq]\r\n",
        "train_y = train_y.iloc[index_seq]\r\n",
        "\r\n",
        "\r\n",
        "tf.random.set_seed(40)\r\n",
        "\r\n",
        "# 하이퍼파라미터\r\n",
        "max_epoch = 2\r\n",
        "batch_size = 32\r\n",
        "learning_rate = 0.001\r\n",
        "\r\n",
        "model = LSTM_add_feature(vocab_size, max_len = max_len)\r\n",
        "history = model.fit(x=[train_X[:,:-feature_num],train_X[:,-feature_num:]], y=train_y,epochs=max_epoch,batch_size = batch_size)\r\n",
        "\r\n"
      ],
      "execution_count": null,
      "outputs": [
        {
          "output_type": "stream",
          "text": [
            "Model: \"model_12\"\n",
            "__________________________________________________________________________________________________\n",
            "Layer (type)                    Output Shape         Param #     Connected to                     \n",
            "==================================================================================================\n",
            "input_32 (InputLayer)           [(None, 20)]         0                                            \n",
            "__________________________________________________________________________________________________\n",
            "embedding_12 (Embedding)        (None, 20, 200)      6692200     input_32[0][0]                   \n",
            "__________________________________________________________________________________________________\n",
            "spatial_dropout1d_12 (SpatialDr (None, 20, 200)      0           embedding_12[0][0]               \n",
            "__________________________________________________________________________________________________\n",
            "lstm_24 (LSTM)                  (None, 20, 32)       29824       spatial_dropout1d_12[0][0]       \n",
            "__________________________________________________________________________________________________\n",
            "lstm_25 (LSTM)                  (None, 32)           8320        lstm_24[0][0]                    \n",
            "__________________________________________________________________________________________________\n",
            "dropout_12 (Dropout)            (None, 32)           0           lstm_25[0][0]                    \n",
            "__________________________________________________________________________________________________\n",
            "input_33 (InputLayer)           [(None, 4)]          0                                            \n",
            "__________________________________________________________________________________________________\n",
            "concatenate_12 (Concatenate)    (None, 36)           0           dropout_12[0][0]                 \n",
            "                                                                 input_33[0][0]                   \n",
            "__________________________________________________________________________________________________\n",
            "dense_55 (Dense)                (None, 32)           1184        concatenate_12[0][0]             \n",
            "__________________________________________________________________________________________________\n",
            "dense_56 (Dense)                (None, 1)            33          dense_55[0][0]                   \n",
            "==================================================================================================\n",
            "Total params: 6,731,561\n",
            "Trainable params: 6,731,561\n",
            "Non-trainable params: 0\n",
            "__________________________________________________________________________________________________\n",
            "Epoch 1/2\n",
            "3701/3701 [==============================] - 349s 93ms/step - loss: 0.1053 - accuracy: 0.9589\n",
            "Epoch 2/2\n",
            "3701/3701 [==============================] - 348s 94ms/step - loss: 0.0238 - accuracy: 0.9926\n"
          ],
          "name": "stdout"
        }
      ]
    },
    {
      "cell_type": "code",
      "metadata": {
        "id": "laEwou3JphOQ"
      },
      "source": [
        "model.save(\"final_model_99.2.h5\")"
      ],
      "execution_count": null,
      "outputs": []
    },
    {
      "cell_type": "code",
      "metadata": {
        "id": "0AYUPwxlrcI1"
      },
      "source": [
        "final_model = keras.models.load_model(\"final_model_99.2.h5\")"
      ],
      "execution_count": null,
      "outputs": []
    },
    {
      "cell_type": "code",
      "metadata": {
        "id": "SfCyi7aR2kDS"
      },
      "source": [
        "train_predicted = final_model.predict((train_X[:,:max_len],train_X[:,-feature_num:]))\r\n",
        "\r\n",
        "# 각 문장의 바로 앞문장과, 그 앞 문장의 예측값 생성\r\n",
        "train_pre_predicted1 = np.array([train_predicted[idx-1][0] for idx in range(len(train_predicted))]).reshape(-1,1) # 앞문장\r\n",
        "train_pre_predicted2 = np.array([train_predicted[idx-2][0] for idx in range(len(train_predicted))]).reshape(-1,1) # 앞앞문장\r\n",
        "train_pre_predicted3 = np.array([train_predicted[idx-3][0] for idx in range(len(train_predicted))]).reshape(-1,1) # 앞앞앞문장"
      ],
      "execution_count": null,
      "outputs": []
    },
    {
      "cell_type": "code",
      "metadata": {
        "id": "EI32y8JjAVEN"
      },
      "source": [
        "# ord가 1이면 과거 1년도, 2년도 자기값으로 대체\r\n",
        "# ord가 2이면 과거 2년도 자기값으로 대체\r\n",
        "\r\n",
        "train[\"predicted\"]=train_predicted\r\n",
        "train[\"pre_predicted1\"]=train_pre_predicted1\r\n",
        "train[\"pre_predicted2\"]=train_pre_predicted2\r\n",
        "\r\n",
        "train.loc[train[\"ord\"]==1,\"pre_predicted1\"]=train_predicted[train[\"ord\"]==1]\r\n",
        "train.loc[train[\"ord\"]==1,\"pre_predicted2\"]=train_predicted[train[\"ord\"]==1]\r\n",
        "train.loc[train[\"ord\"]==2,\"pre_predicted2\"]=train_predicted[train[\"ord\"]==2]"
      ],
      "execution_count": null,
      "outputs": []
    },
    {
      "cell_type": "code",
      "metadata": {
        "id": "to4KDsxX0lbj",
        "colab": {
          "base_uri": "https://localhost:8080/"
        },
        "outputId": "c9cb9abd-9f82-4945-9518-08da76b68386"
      },
      "source": [
        "# tree 모델 불러오기\r\n",
        "import pickle\r\n",
        "import xgboost as xgb\r\n",
        "from xgboost import XGBClassifier\r\n",
        "from lightgbm import LGBMClassifier\r\n",
        "\r\n",
        "# xgb model 예측\r\n",
        "xgb_model=XGBClassifier(random_state=42)\r\n",
        "lgbm_model=LGBMClassifier(random_state=42)\r\n",
        "\r\n",
        "with open(path+'model/new_xgb_model.pkl', 'wb') as f:\r\n",
        "  pickle.dump(xgb_model, f)\r\n",
        "with open(path+'model/lgbm_model.pkl','wb') as f:\r\n",
        "  pickle.dump(lgbm_model,f)\r\n",
        "\r\n",
        "xgb_model.fit(train[[\"predicted\",\"pre_predicted1\",\"pre_predicted2\"]], y=train[\"info\"])\r\n",
        "lgbm_model.fit(train[[\"predicted\",\"pre_predicted1\",\"pre_predicted2\"]], y=train[\"info\"])"
      ],
      "execution_count": null,
      "outputs": [
        {
          "output_type": "execute_result",
          "data": {
            "text/plain": [
              "LGBMClassifier(boosting_type='gbdt', class_weight=None, colsample_bytree=1.0,\n",
              "               importance_type='split', learning_rate=0.1, max_depth=-1,\n",
              "               min_child_samples=20, min_child_weight=0.001, min_split_gain=0.0,\n",
              "               n_estimators=100, n_jobs=-1, num_leaves=31, objective=None,\n",
              "               random_state=42, reg_alpha=0.0, reg_lambda=0.0, silent=True,\n",
              "               subsample=1.0, subsample_for_bin=200000, subsample_freq=0)"
            ]
          },
          "metadata": {
            "tags": []
          },
          "execution_count": 241
        }
      ]
    },
    {
      "cell_type": "code",
      "metadata": {
        "id": "gKXg-UbCp3DX"
      },
      "source": [
        "def Lag_MLP():\r\n",
        "  model = keras.models.Sequential([\r\n",
        "    keras.layers.Dense(16, input_shape = (3,)),\r\n",
        "    keras.layers.Dense(1)                \r\n",
        "  ])\r\n",
        "  model.compile(optimizer=keras.optimizers.Adam(lr=learning_rate), loss=\"binary_crossentropy\", metrics = \"accuracy\")\r\n",
        "  model.summary()\r\n",
        "  return model"
      ],
      "execution_count": null,
      "outputs": []
    },
    {
      "cell_type": "code",
      "metadata": {
        "id": "XG5Zx2ymt_hm"
      },
      "source": [
        "# 시퀀셜 LSTM 모델\r\n",
        "\r\n",
        "def Lag_RNN():\r\n",
        "    model = keras.models.Sequential()\r\n",
        "    model.add(keras.layers.Input(shape=(3,1)))\r\n",
        "    model.add(keras.layers.SimpleRNN(32))\r\n",
        "    model.add(keras.layers.Dense(1, activation='sigmoid'))\r\n",
        "    model.compile(optimizer='adam', loss='binary_crossentropy', metrics='accuracy')\r\n",
        "    model.summary()\r\n",
        "    return model"
      ],
      "execution_count": null,
      "outputs": []
    },
    {
      "cell_type": "code",
      "metadata": {
        "colab": {
          "base_uri": "https://localhost:8080/"
        },
        "id": "qqeDPwzPuFkl",
        "outputId": "649d3e72-068e-4df6-a0e6-33a2af366ad4"
      },
      "source": [
        "# 하이퍼파라미터\r\n",
        "tf.random.set_seed(42)\r\n",
        "\r\n",
        "max_epoch = 5\r\n",
        "batch_size = 32\r\n",
        "learning_rate = 0.001\r\n",
        "\r\n",
        "lag_model = Lag_RNN()\r\n",
        "lag_model.fit(x=train[:82858][[\"predicted\",\"pre_predicted1\",\"pre_predicted2\"]].values.reshape(-1,3,1), y=train[:82858][\"info\"],\r\n",
        "              validation_data = (train[82858:][[\"predicted\",\"pre_predicted1\",\"pre_predicted2\"]].values.reshape(-1,3,1),train[82858:][\"info\"]), batch_size = 16,\r\n",
        "              epochs = max_epoch)"
      ],
      "execution_count": null,
      "outputs": [
        {
          "output_type": "stream",
          "text": [
            "Model: \"sequential_22\"\n",
            "_________________________________________________________________\n",
            "Layer (type)                 Output Shape              Param #   \n",
            "=================================================================\n",
            "simple_rnn_7 (SimpleRNN)     (None, 32)                1088      \n",
            "_________________________________________________________________\n",
            "dense_31 (Dense)             (None, 1)                 33        \n",
            "=================================================================\n",
            "Total params: 1,121\n",
            "Trainable params: 1,121\n",
            "Non-trainable params: 0\n",
            "_________________________________________________________________\n",
            "Epoch 1/5\n",
            "5179/5179 [==============================] - 12s 2ms/step - loss: 0.0471 - accuracy: 0.9914 - val_loss: 0.0027 - val_accuracy: 0.9997\n",
            "Epoch 2/5\n",
            "5179/5179 [==============================] - 12s 2ms/step - loss: 0.0140 - accuracy: 0.9968 - val_loss: 0.0021 - val_accuracy: 0.9996\n",
            "Epoch 3/5\n",
            "5179/5179 [==============================] - 12s 2ms/step - loss: 0.0112 - accuracy: 0.9977 - val_loss: 0.0019 - val_accuracy: 0.9996\n",
            "Epoch 4/5\n",
            "5179/5179 [==============================] - 12s 2ms/step - loss: 0.0141 - accuracy: 0.9968 - val_loss: 0.0028 - val_accuracy: 0.9997\n",
            "Epoch 5/5\n",
            "5179/5179 [==============================] - 12s 2ms/step - loss: 0.0124 - accuracy: 0.9972 - val_loss: 0.0019 - val_accuracy: 0.9997\n"
          ],
          "name": "stdout"
        },
        {
          "output_type": "execute_result",
          "data": {
            "text/plain": [
              "<tensorflow.python.keras.callbacks.History at 0x7f39e0bf3198>"
            ]
          },
          "metadata": {
            "tags": []
          },
          "execution_count": 85
        }
      ]
    },
    {
      "cell_type": "code",
      "metadata": {
        "colab": {
          "base_uri": "https://localhost:8080/"
        },
        "id": "OVKLgFtHqpbx",
        "outputId": "cad04740-ac7b-4d77-95e4-8b1054e05910"
      },
      "source": [
        "# 하이퍼파라미터\r\n",
        "tf.random.set_seed(42)\r\n",
        "\r\n",
        "max_epoch = 5\r\n",
        "batch_size = 32\r\n",
        "learning_rate = 0.0001\r\n",
        "\r\n",
        "lag_model = Lag_MLP()\r\n",
        "lag_model.fit(x=train[:82858][[\"predicted\",\"pre_predicted1\",\"pre_predicted2\"]], y=train[:82858][\"info\"],\r\n",
        "              validation_data = (train[82858:][[\"predicted\",\"pre_predicted1\",\"pre_predicted2\"]],train[82858:][\"info\"]), batch_size = batch_size,\r\n",
        "              epochs = max_epoch, validation_batch_size = batch_size)"
      ],
      "execution_count": null,
      "outputs": [
        {
          "output_type": "stream",
          "text": [
            "Model: \"sequential_20\"\n",
            "_________________________________________________________________\n",
            "Layer (type)                 Output Shape              Param #   \n",
            "=================================================================\n",
            "dense_28 (Dense)             (None, 16)                64        \n",
            "_________________________________________________________________\n",
            "dense_29 (Dense)             (None, 1)                 17        \n",
            "=================================================================\n",
            "Total params: 81\n",
            "Trainable params: 81\n",
            "Non-trainable params: 0\n",
            "_________________________________________________________________\n",
            "Epoch 1/5\n",
            "2590/2590 [==============================] - 4s 1ms/step - loss: 0.1080 - accuracy: 0.9517 - val_loss: 0.0027 - val_accuracy: 0.9995\n",
            "Epoch 2/5\n",
            "2590/2590 [==============================] - 4s 1ms/step - loss: 0.0168 - accuracy: 0.9961 - val_loss: 0.0019 - val_accuracy: 0.9995\n",
            "Epoch 3/5\n",
            "2590/2590 [==============================] - 4s 1ms/step - loss: 0.0132 - accuracy: 0.9968 - val_loss: 0.0017 - val_accuracy: 0.9995\n",
            "Epoch 4/5\n",
            "2590/2590 [==============================] - 4s 1ms/step - loss: 0.0212 - accuracy: 0.9962 - val_loss: 0.0029 - val_accuracy: 0.9995\n",
            "Epoch 5/5\n",
            "2590/2590 [==============================] - 4s 1ms/step - loss: 0.0169 - accuracy: 0.9966 - val_loss: 0.0029 - val_accuracy: 0.9995\n"
          ],
          "name": "stdout"
        },
        {
          "output_type": "execute_result",
          "data": {
            "text/plain": [
              "<tensorflow.python.keras.callbacks.History at 0x7f39f2c0b0b8>"
            ]
          },
          "metadata": {
            "tags": []
          },
          "execution_count": 81
        }
      ]
    },
    {
      "cell_type": "markdown",
      "metadata": {
        "id": "LDjRKT6a_Tx3"
      },
      "source": [
        "# test 예측"
      ]
    },
    {
      "cell_type": "code",
      "metadata": {
        "id": "efZxw2tUiMfr"
      },
      "source": [
        "path = \"/gdrive/My Drive/dacon_news/\"\r\n",
        "feature_num = 4\r\n",
        "test = pd.read_csv(path+\"data/news_test.csv\")\r\n",
        "\r\n",
        "# EDA 기반 feature 추가\r\n",
        "test[\"info1_title\"]=test[\"title\"].apply(title_choose)\r\n",
        "test[\"info1_content\"]=test[\"content\"].apply(content_choose)\r\n",
        "test[\"content_startswith_[\"]=test.content.apply(lambda x : str(x).startswith(\"[\" ) or str(x).startswith(\"(\") or str(x).startswith(\"제목\"))+0\r\n",
        "title_group = (test.groupby([\"title\"]).count())[\"n_id\"]\r\n",
        "test[\"new_ord\"]=test.apply(lambda x: x[\"ord\"]/title_group[x[\"title\"]], axis=1)\r\n",
        "#test[\"info1_words\"]=test[\"content\"].apply(in_bull)\r\n",
        "\r\n",
        "# 전처리\r\n",
        "test['new_article'], okt = text_preprocessing(test['content'])\r\n",
        "test_X_seq = vectorizer.texts_to_sequences(test[\"new_article\"])\r\n",
        "test_X = pad_sequences(test_X_seq, maxlen = max_len) # 길이를 맞춰줌\r\n",
        "\r\n",
        "# concat\r\n",
        "test_X = np.concatenate([test_X,test[[\"info1_title\",\"info1_content\",\"new_ord\",\"content_startswith_[\"]].values.reshape(-1,feature_num)], axis=1)"
      ],
      "execution_count": null,
      "outputs": []
    },
    {
      "cell_type": "code",
      "metadata": {
        "id": "wtfXQsVKkuAQ"
      },
      "source": [
        "#final_model = keras.models.load_model(path+\"model/final_model_99_epoch2.h5\") # 저장된 모델 불러오기\r\n",
        "final_model = keras.models.load_model(\"final_model_99.2.h5\")\r\n",
        "predicted = final_model.predict([test_X[:,:max_len],test_X[:,-feature_num:]])"
      ],
      "execution_count": null,
      "outputs": []
    },
    {
      "cell_type": "code",
      "metadata": {
        "id": "_ncycsgEs4jH"
      },
      "source": [
        "# idx-1의 예측값\r\n",
        "pre_predicted1 = np.array([predicted[idx-1][0] for idx in range(len(predicted))]).reshape(-1,1)\r\n",
        "pre_predicted2 = np.array([predicted[idx-2][0] for idx in range(len(predicted))]).reshape(-1,1)\r\n",
        "\r\n",
        "test[\"predicted\"]=predicted\r\n",
        "test[\"pre_predicted1\"]=pre_predicted1\r\n",
        "test[\"pre_predicted2\"]=pre_predicted2\r\n",
        "\r\n",
        "# ord가 1이면 과거 1년도, 2년도 자기값으로 대체\r\n",
        "# ord가 2이면 과거 2년도 자기값으로 대체\r\n",
        "test.loc[test[\"ord\"]==1,\"pre_predicted1\"]=predicted[test[\"ord\"]==1]\r\n",
        "test.loc[test[\"ord\"]==1,\"pre_predicted2\"]=predicted[test[\"ord\"]==1]\r\n",
        "test.loc[test[\"ord\"]==2,\"pre_predicted2\"]=predicted[test[\"ord\"]==2]"
      ],
      "execution_count": null,
      "outputs": []
    },
    {
      "cell_type": "code",
      "metadata": {
        "id": "niuyb-3nrKxT"
      },
      "source": [
        "xgb_final_predicted = xgb_model.predict(test[[\"predicted\",\"pre_predicted1\"]])\r\n",
        "lgbm_final_predicted = lgbm_model.predict(test[[\"predicted\",\"pre_predicted1\"]])"
      ],
      "execution_count": null,
      "outputs": []
    },
    {
      "cell_type": "code",
      "metadata": {
        "id": "G8Wg-C6duF37"
      },
      "source": [
        "xgb_final_predicted = xgb_model.predict(test[[\"predicted\",\"pre_predicted1\",\"pre_predicted2\"]])\r\n",
        "lgbm_final_predicted = lgbm_model.predict(test[[\"predicted\",\"pre_predicted1\",\"pre_predicted2\"]])"
      ],
      "execution_count": null,
      "outputs": []
    },
    {
      "cell_type": "code",
      "metadata": {
        "id": "eH86eXK-1voh"
      },
      "source": [
        "wrong = test[(xgb_final_predicted)!=(lgbm_final_predicted)]"
      ],
      "execution_count": null,
      "outputs": []
    },
    {
      "cell_type": "code",
      "metadata": {
        "colab": {
          "base_uri": "https://localhost:8080/"
        },
        "id": "xRR4v_vR4Nx3",
        "outputId": "9a55a515-c912-438d-b3ff-fdec61d72a3e"
      },
      "source": [
        "wrong[\"xgb_predicted\"]=xgb_final_predicted[xgb_final_predicted!=lgbm_final_predicted]\r\n",
        "wrong[\"lgbm_predicte\"]=lgbm_final_predicted[xgb_final_predicted!=lgbm_final_predicted]"
      ],
      "execution_count": null,
      "outputs": [
        {
          "output_type": "stream",
          "text": [
            "/usr/local/lib/python3.6/dist-packages/ipykernel_launcher.py:1: SettingWithCopyWarning: \n",
            "A value is trying to be set on a copy of a slice from a DataFrame.\n",
            "Try using .loc[row_indexer,col_indexer] = value instead\n",
            "\n",
            "See the caveats in the documentation: https://pandas.pydata.org/pandas-docs/stable/user_guide/indexing.html#returning-a-view-versus-a-copy\n",
            "  \"\"\"Entry point for launching an IPython kernel.\n",
            "/usr/local/lib/python3.6/dist-packages/ipykernel_launcher.py:2: SettingWithCopyWarning: \n",
            "A value is trying to be set on a copy of a slice from a DataFrame.\n",
            "Try using .loc[row_indexer,col_indexer] = value instead\n",
            "\n",
            "See the caveats in the documentation: https://pandas.pydata.org/pandas-docs/stable/user_guide/indexing.html#returning-a-view-versus-a-copy\n",
            "  \n"
          ],
          "name": "stderr"
        }
      ]
    },
    {
      "cell_type": "code",
      "metadata": {
        "id": "8pDAbLAS6Dn5"
      },
      "source": [
        "xgb_train_p = xgb_model.predict(train[[\"predicted\",\"pre_predicted1\",\"pre_predicted2\"]])\r\n",
        "lgbm_train_p = lgbm_model.predict(train[[\"predicted\",\"pre_predicted1\",\"pre_predicted2\"]])"
      ],
      "execution_count": null,
      "outputs": []
    },
    {
      "cell_type": "code",
      "metadata": {
        "colab": {
          "base_uri": "https://localhost:8080/"
        },
        "id": "Tgw368iD8jWV",
        "outputId": "967da57e-d3e6-4eea-8031-60ccff70d2ef"
      },
      "source": [
        "wrong_train = train[(xgb_train_p)!=(lgbm_train_p)]\r\n",
        "\r\n",
        "wrong_train[\"xgb_predicted\"]=xgb_train_p[xgb_train_p!=lgbm_train_p]\r\n",
        "wrong_train[\"lgbm_predicted\"]=lgbm_train_p[xgb_train_p!=lgbm_train_p]"
      ],
      "execution_count": null,
      "outputs": [
        {
          "output_type": "stream",
          "text": [
            "/usr/local/lib/python3.6/dist-packages/ipykernel_launcher.py:3: SettingWithCopyWarning: \n",
            "A value is trying to be set on a copy of a slice from a DataFrame.\n",
            "Try using .loc[row_indexer,col_indexer] = value instead\n",
            "\n",
            "See the caveats in the documentation: https://pandas.pydata.org/pandas-docs/stable/user_guide/indexing.html#returning-a-view-versus-a-copy\n",
            "  This is separate from the ipykernel package so we can avoid doing imports until\n",
            "/usr/local/lib/python3.6/dist-packages/ipykernel_launcher.py:4: SettingWithCopyWarning: \n",
            "A value is trying to be set on a copy of a slice from a DataFrame.\n",
            "Try using .loc[row_indexer,col_indexer] = value instead\n",
            "\n",
            "See the caveats in the documentation: https://pandas.pydata.org/pandas-docs/stable/user_guide/indexing.html#returning-a-view-versus-a-copy\n",
            "  after removing the cwd from sys.path.\n"
          ],
          "name": "stderr"
        }
      ]
    },
    {
      "cell_type": "code",
      "metadata": {
        "id": "2eyxDj1Gts9k",
        "colab": {
          "base_uri": "https://localhost:8080/"
        },
        "outputId": "27185148-9cea-4366-f2d9-ec85db102417"
      },
      "source": [
        "test[\"info\"]=xgb_final_predicted\r\n",
        "#test[\"info\"][test[\"content\"].apply(lambda x: True if \"무단전재 & 재배포 금지\" in x else False)]=0\r\n",
        "test[\"info\"][test[\"content\"].apply(lambda x: True if ('http://etoday.bujane.co.kr/' in x) or ('http://bit.ly/2XrAuGJ_itoozanews' in x) or ('http://www.hisl.co.kr/0306/' in x) or ('https://www.hankyung.com/election2020/' in x) or (x==']]') else False)]=1\r\n",
        "#test[\"info\"][test[\"predicted\"]>=0.6]=1"
      ],
      "execution_count": null,
      "outputs": [
        {
          "output_type": "stream",
          "text": [
            "/usr/local/lib/python3.6/dist-packages/ipykernel_launcher.py:3: SettingWithCopyWarning: \n",
            "A value is trying to be set on a copy of a slice from a DataFrame\n",
            "\n",
            "See the caveats in the documentation: https://pandas.pydata.org/pandas-docs/stable/user_guide/indexing.html#returning-a-view-versus-a-copy\n",
            "  This is separate from the ipykernel package so we can avoid doing imports until\n",
            "/usr/local/lib/python3.6/dist-packages/ipykernel_launcher.py:4: SettingWithCopyWarning: \n",
            "A value is trying to be set on a copy of a slice from a DataFrame\n",
            "\n",
            "See the caveats in the documentation: https://pandas.pydata.org/pandas-docs/stable/user_guide/indexing.html#returning-a-view-versus-a-copy\n",
            "  after removing the cwd from sys.path.\n",
            "/usr/local/lib/python3.6/dist-packages/ipykernel_launcher.py:5: SettingWithCopyWarning: \n",
            "A value is trying to be set on a copy of a slice from a DataFrame\n",
            "\n",
            "See the caveats in the documentation: https://pandas.pydata.org/pandas-docs/stable/user_guide/indexing.html#returning-a-view-versus-a-copy\n",
            "  \"\"\"\n"
          ],
          "name": "stderr"
        }
      ]
    },
    {
      "cell_type": "code",
      "metadata": {
        "id": "BygcXFgCDoPl"
      },
      "source": [
        "submission = pd.read_csv(path+\"/data/sample_submission.csv\")\r\n",
        "submission[\"info\"]=test[\"info\"]\r\n",
        "submission.to_csv(\"xgb_drop0.5_submission.csv\", encoding=\"utf-8-sig\",index=False)"
      ],
      "execution_count": null,
      "outputs": []
    },
    {
      "cell_type": "code",
      "metadata": {
        "colab": {
          "base_uri": "https://localhost:8080/",
          "height": 407
        },
        "id": "hj-gsYUpOgOR",
        "outputId": "e0911b94-1483-4856-dc14-4f38aeece5f8"
      },
      "source": [
        "submission"
      ],
      "execution_count": null,
      "outputs": [
        {
          "output_type": "execute_result",
          "data": {
            "text/html": [
              "<div>\n",
              "<style scoped>\n",
              "    .dataframe tbody tr th:only-of-type {\n",
              "        vertical-align: middle;\n",
              "    }\n",
              "\n",
              "    .dataframe tbody tr th {\n",
              "        vertical-align: top;\n",
              "    }\n",
              "\n",
              "    .dataframe thead th {\n",
              "        text-align: right;\n",
              "    }\n",
              "</style>\n",
              "<table border=\"1\" class=\"dataframe\">\n",
              "  <thead>\n",
              "    <tr style=\"text-align: right;\">\n",
              "      <th></th>\n",
              "      <th>id</th>\n",
              "      <th>info</th>\n",
              "    </tr>\n",
              "  </thead>\n",
              "  <tbody>\n",
              "    <tr>\n",
              "      <th>0</th>\n",
              "      <td>NEWS00237_1</td>\n",
              "      <td>0.0</td>\n",
              "    </tr>\n",
              "    <tr>\n",
              "      <th>1</th>\n",
              "      <td>NEWS00237_2</td>\n",
              "      <td>0.0</td>\n",
              "    </tr>\n",
              "    <tr>\n",
              "      <th>2</th>\n",
              "      <td>NEWS00237_3</td>\n",
              "      <td>0.0</td>\n",
              "    </tr>\n",
              "    <tr>\n",
              "      <th>3</th>\n",
              "      <td>NEWS00237_4</td>\n",
              "      <td>0.0</td>\n",
              "    </tr>\n",
              "    <tr>\n",
              "      <th>4</th>\n",
              "      <td>NEWS00237_5</td>\n",
              "      <td>0.0</td>\n",
              "    </tr>\n",
              "    <tr>\n",
              "      <th>...</th>\n",
              "      <td>...</td>\n",
              "      <td>...</td>\n",
              "    </tr>\n",
              "    <tr>\n",
              "      <th>142560</th>\n",
              "      <td>NEWS09482_72</td>\n",
              "      <td>1.0</td>\n",
              "    </tr>\n",
              "    <tr>\n",
              "      <th>142561</th>\n",
              "      <td>NEWS09482_73</td>\n",
              "      <td>1.0</td>\n",
              "    </tr>\n",
              "    <tr>\n",
              "      <th>142562</th>\n",
              "      <td>NEWS09482_74</td>\n",
              "      <td>1.0</td>\n",
              "    </tr>\n",
              "    <tr>\n",
              "      <th>142563</th>\n",
              "      <td>NEWS09482_75</td>\n",
              "      <td>1.0</td>\n",
              "    </tr>\n",
              "    <tr>\n",
              "      <th>142564</th>\n",
              "      <td>NEWS09482_76</td>\n",
              "      <td>1.0</td>\n",
              "    </tr>\n",
              "  </tbody>\n",
              "</table>\n",
              "<p>142565 rows × 2 columns</p>\n",
              "</div>"
            ],
            "text/plain": [
              "                  id  info\n",
              "0        NEWS00237_1   0.0\n",
              "1        NEWS00237_2   0.0\n",
              "2        NEWS00237_3   0.0\n",
              "3        NEWS00237_4   0.0\n",
              "4        NEWS00237_5   0.0\n",
              "...              ...   ...\n",
              "142560  NEWS09482_72   1.0\n",
              "142561  NEWS09482_73   1.0\n",
              "142562  NEWS09482_74   1.0\n",
              "142563  NEWS09482_75   1.0\n",
              "142564  NEWS09482_76   1.0\n",
              "\n",
              "[142565 rows x 2 columns]"
            ]
          },
          "metadata": {
            "tags": []
          },
          "execution_count": 122
        }
      ]
    }
  ]
}