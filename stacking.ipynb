{
  "nbformat": 4,
  "nbformat_minor": 0,
  "metadata": {
    "colab": {
      "name": "주희 - stacking.ipynb",
      "provenance": [],
      "collapsed_sections": []
    },
    "kernelspec": {
      "name": "python3",
      "display_name": "Python 3"
    }
  },
  "cells": [
    {
      "cell_type": "markdown",
      "metadata": {
        "id": "_3LcHWdoaKXK"
      },
      "source": [
        "#**EDA를 통한 변수 추가 모델**"
      ]
    },
    {
      "cell_type": "code",
      "metadata": {
        "colab": {
          "base_uri": "https://localhost:8080/"
        },
        "id": "Pxp2JcmbNN_l",
        "outputId": "bf19be73-ccd1-4289-af23-67df9a315985"
      },
      "source": [
        "# 내 드라이브에 대한 주소\r\n",
        "from google.colab import drive\r\n",
        "drive.mount('/content/drive')"
      ],
      "execution_count": 1,
      "outputs": [
        {
          "output_type": "stream",
          "text": [
            "Mounted at /content/drive\n"
          ],
          "name": "stdout"
        }
      ]
    },
    {
      "cell_type": "code",
      "metadata": {
        "id": "xH9XAIwVNM6i"
      },
      "source": [
        "import numpy as np\r\n",
        "import pandas as pd\r\n",
        "import tensorflow as tf\r\n",
        "from tensorflow import keras\r\n",
        "import seaborn as sns\r\n",
        "import matplotlib.pyplot as plt"
      ],
      "execution_count": 2,
      "outputs": []
    },
    {
      "cell_type": "code",
      "metadata": {
        "id": "tR74GZMCBBuz"
      },
      "source": [
        "# 내 드라이브에 대한 주소\r\n",
        "path = \"/content/drive/MyDrive/Colab Notebooks/dacon_news\"\r\n",
        "\r\n",
        "train = pd.read_csv(path + \"/data/news_train.csv\")\r\n",
        "#try_train = pd.read_csv(\"try_title_data.csv\")\r\n",
        "test = pd.read_csv(path + \"/data/news_test.csv\")"
      ],
      "execution_count": 3,
      "outputs": []
    },
    {
      "cell_type": "code",
      "metadata": {
        "colab": {
          "base_uri": "https://localhost:8080/",
          "height": 200
        },
        "id": "VH0uB590RJZ5",
        "outputId": "6030359e-9d2b-4b3c-fac5-760a40a1e8f6"
      },
      "source": [
        "train.head()"
      ],
      "execution_count": 4,
      "outputs": [
        {
          "output_type": "execute_result",
          "data": {
            "text/html": [
              "<div>\n",
              "<style scoped>\n",
              "    .dataframe tbody tr th:only-of-type {\n",
              "        vertical-align: middle;\n",
              "    }\n",
              "\n",
              "    .dataframe tbody tr th {\n",
              "        vertical-align: top;\n",
              "    }\n",
              "\n",
              "    .dataframe thead th {\n",
              "        text-align: right;\n",
              "    }\n",
              "</style>\n",
              "<table border=\"1\" class=\"dataframe\">\n",
              "  <thead>\n",
              "    <tr style=\"text-align: right;\">\n",
              "      <th></th>\n",
              "      <th>n_id</th>\n",
              "      <th>date</th>\n",
              "      <th>title</th>\n",
              "      <th>content</th>\n",
              "      <th>ord</th>\n",
              "      <th>info</th>\n",
              "    </tr>\n",
              "  </thead>\n",
              "  <tbody>\n",
              "    <tr>\n",
              "      <th>0</th>\n",
              "      <td>NEWS02580</td>\n",
              "      <td>20200605</td>\n",
              "      <td>[마감]코스닥 기관 678억 순매도</td>\n",
              "      <td>[이데일리 MARKETPOINT]15:32 현재 코스닥 기관 678억 순매도</td>\n",
              "      <td>1</td>\n",
              "      <td>0</td>\n",
              "    </tr>\n",
              "    <tr>\n",
              "      <th>1</th>\n",
              "      <td>NEWS02580</td>\n",
              "      <td>20200605</td>\n",
              "      <td>[마감]코스닥 기관 678억 순매도</td>\n",
              "      <td>\"실적기반\" 저가에 매집해야 할 8월 급등유망주 TOP 5 전격공개</td>\n",
              "      <td>2</td>\n",
              "      <td>1</td>\n",
              "    </tr>\n",
              "    <tr>\n",
              "      <th>2</th>\n",
              "      <td>NEWS02580</td>\n",
              "      <td>20200605</td>\n",
              "      <td>[마감]코스닥 기관 678억 순매도</td>\n",
              "      <td>하이스탁론, 선취수수료 없는 월 0.4% 최저금리 상품 출시</td>\n",
              "      <td>3</td>\n",
              "      <td>1</td>\n",
              "    </tr>\n",
              "    <tr>\n",
              "      <th>3</th>\n",
              "      <td>NEWS02580</td>\n",
              "      <td>20200605</td>\n",
              "      <td>[마감]코스닥 기관 678억 순매도</td>\n",
              "      <td>종합 경제정보 미디어 이데일리 - 무단전재 &amp; 재배포 금지</td>\n",
              "      <td>4</td>\n",
              "      <td>0</td>\n",
              "    </tr>\n",
              "    <tr>\n",
              "      <th>4</th>\n",
              "      <td>NEWS09727</td>\n",
              "      <td>20200626</td>\n",
              "      <td>롯데·공영 등 7개 TV 홈쇼핑들, 동행세일 동참</td>\n",
              "      <td>전국적인 소비 붐 조성에 기여할 예정</td>\n",
              "      <td>1</td>\n",
              "      <td>0</td>\n",
              "    </tr>\n",
              "  </tbody>\n",
              "</table>\n",
              "</div>"
            ],
            "text/plain": [
              "        n_id      date  ... ord info\n",
              "0  NEWS02580  20200605  ...   1    0\n",
              "1  NEWS02580  20200605  ...   2    1\n",
              "2  NEWS02580  20200605  ...   3    1\n",
              "3  NEWS02580  20200605  ...   4    0\n",
              "4  NEWS09727  20200626  ...   1    0\n",
              "\n",
              "[5 rows x 6 columns]"
            ]
          },
          "metadata": {
            "tags": []
          },
          "execution_count": 4
        }
      ]
    },
    {
      "cell_type": "markdown",
      "metadata": {
        "id": "o346VrtzZatW"
      },
      "source": [
        "# content 맨앞이 [이거나 (이면 0"
      ]
    },
    {
      "cell_type": "code",
      "metadata": {
        "id": "bcwUcZBRVEvd"
      },
      "source": [
        "train[\"content_startswith_[\"]=train.content.apply(lambda x : str(x).startswith(\"[\" ) or str(x).startswith(\"(\") or str(x).startswith(\"제목\"))+0"
      ],
      "execution_count": 5,
      "outputs": []
    },
    {
      "cell_type": "markdown",
      "metadata": {
        "id": "upG2RgbFWdeb"
      },
      "source": [
        "# 타이틀을 이용한 feature\r\n",
        "- 해당 title에 몇가지 단어가 들어갈 경우 약 90% 이상이 info가 1"
      ]
    },
    {
      "cell_type": "code",
      "metadata": {
        "id": "zKfe60qER799",
        "colab": {
          "base_uri": "https://localhost:8080/",
          "height": 106
        },
        "outputId": "fb0dbcc8-00db-4ab9-f078-387df1de0caa"
      },
      "source": [
        "\"\"\"\r\n",
        "title_noise = ['적중 100%', '글로벌 주요 뉴스', '[전문가 의견]', \r\n",
        "               '[포커스]', '※','■', '▶' ,'◆','★',' TOP', 'BEST',\r\n",
        "'전문가의 눈', '전문가선정', '전문가의견','】','후속주도 감사합니다',\r\n",
        "               '전문가추천', '주요이슈']\r\n",
        "\r\n",
        "def title_choose(x):\r\n",
        "  if (\"종목\" in x[\"title\"][-6:]) or (\"관련주\" in x[\"title\"][-5:]):\r\n",
        "    return 1\r\n",
        "  elif ('00%' in x[\"content\"]) or (x[\"content\"]==\"코스피\") or (x[\"content\"]==\"코스닥\"):\r\n",
        "    return 1\r\n",
        "  elif ('TOP' in x[\"content\"].upper()) or ('BEST' in x[\"content\"].upper()):\r\n",
        "    return 1\r\n",
        "  for noise in title_noise:\r\n",
        "    if noise in x[\"title\"].upper():\r\n",
        "      if (x[\"content\"][:2]==\"제목\") or (x[\"content\"][:1]==\"[\"):\r\n",
        "        return 0\r\n",
        "      else:\r\n",
        "        return 1\r\n",
        "  return 0\r\n",
        "\"\"\""
      ],
      "execution_count": 6,
      "outputs": [
        {
          "output_type": "execute_result",
          "data": {
            "application/vnd.google.colaboratory.intrinsic+json": {
              "type": "string"
            },
            "text/plain": [
              "'\\ntitle_noise = [\\'적중 100%\\', \\'글로벌 주요 뉴스\\', \\'[전문가 의견]\\', \\n               \\'[포커스]\\', \\'※\\',\\'■\\', \\'▶\\' ,\\'◆\\',\\'★\\',\\' TOP\\', \\'BEST\\',\\n\\'전문가의 눈\\', \\'전문가선정\\', \\'전문가의견\\',\\'】\\',\\'후속주도 감사합니다\\',\\n               \\'전문가추천\\', \\'주요이슈\\']\\n\\ndef title_choose(x):\\n  if (\"종목\" in x[\"title\"][-6:]) or (\"관련주\" in x[\"title\"][-5:]):\\n    return 1\\n  elif (\\'00%\\' in x[\"content\"]) or (x[\"content\"]==\"코스피\") or (x[\"content\"]==\"코스닥\"):\\n    return 1\\n  elif (\\'TOP\\' in x[\"content\"].upper()) or (\\'BEST\\' in x[\"content\"].upper()):\\n    return 1\\n  for noise in title_noise:\\n    if noise in x[\"title\"].upper():\\n      if (x[\"content\"][:2]==\"제목\") or (x[\"content\"][:1]==\"[\"):\\n        return 0\\n      else:\\n        return 1\\n  return 0\\n'"
            ]
          },
          "metadata": {
            "tags": []
          },
          "execution_count": 6
        }
      ]
    },
    {
      "cell_type": "code",
      "metadata": {
        "id": "iOIXetvBV--H"
      },
      "source": [
        "title_noise = ['적중 100%', '글로벌 주요 뉴스', '[전문가 의견]', \r\n",
        "               '[포커스]', '※','■', '▶' ,'◆','★',' TOP', 'BEST',\r\n",
        "'전문가의 눈', '전문가선정', '전문가의견','】','후속주도 감사합니다',\r\n",
        "               '전문가추천', '주요이슈']\r\n",
        "\r\n",
        "def title_choose(x):\r\n",
        "  if (\"종목\" in x[-6:]) or (\"관련주\" in x[-5:]):\r\n",
        "    return 1\r\n",
        "  for noise in title_noise:\r\n",
        "    if noise in x.upper():\r\n",
        "        return 1\r\n",
        "  return 0"
      ],
      "execution_count": 7,
      "outputs": []
    },
    {
      "cell_type": "code",
      "metadata": {
        "id": "1scNCdG8ZWRy"
      },
      "source": [
        "train[\"info1_title\"]=train[\"title\"].apply(title_choose)"
      ],
      "execution_count": 8,
      "outputs": []
    },
    {
      "cell_type": "markdown",
      "metadata": {
        "id": "JP_h-HL7RmvU"
      },
      "source": [
        "# content를 이용한 feature"
      ]
    },
    {
      "cell_type": "code",
      "metadata": {
        "id": "NlrmrsR1RqCo"
      },
      "source": [
        "content_noise = ['00%', '긴급공개', '긴급 공개','임상3상', 'TOP','BEST','# ','+','..', '카톡','대장','원\"만']\r\n",
        "\r\n",
        "def content_choose(x):\r\n",
        "  if (x=='관련기사') or (x==\"관련 테마분석\") or (x==\"코스피\") or (x==\"코스닥\"):\r\n",
        "    return 1\r\n",
        "  for noise in content_noise:\r\n",
        "    if noise in x.upper():\r\n",
        "        return 1\r\n",
        "  return 0"
      ],
      "execution_count": 9,
      "outputs": []
    },
    {
      "cell_type": "code",
      "metadata": {
        "id": "YWoQmRopTf79"
      },
      "source": [
        "train[\"info1_content\"]=train[\"content\"].apply(content_choose)"
      ],
      "execution_count": 10,
      "outputs": []
    },
    {
      "cell_type": "markdown",
      "metadata": {
        "id": "Fogswvq5ZW1Q"
      },
      "source": [
        "# info가 1인 content에서 자주 등장하는 단어를 포함한 content를 1로하는 feature 추가"
      ]
    },
    {
      "cell_type": "code",
      "metadata": {
        "id": "DWyfHryoY4vk",
        "colab": {
          "base_uri": "https://localhost:8080/",
          "height": 70
        },
        "outputId": "2b3b5e6e-798c-45b8-a1fd-081365f55385"
      },
      "source": [
        "\"\"\"\r\n",
        "def in_bull(x):\r\n",
        "    info_list = ['공개','추천','상한','무료','주식','바이오','금리','테마','탁론','카톡','실적',\r\n",
        "                 '수익', '미수', '수혜주','급등', 'http', '하이스',\"]]\"]\r\n",
        "    for i in info_list:\r\n",
        "        if i in x:\r\n",
        "            return 1\r\n",
        "    return 0\r\n",
        "train[\"info1_words\"]=train[\"content\"].apply(in_bull)\r\n",
        "\"\"\""
      ],
      "execution_count": 11,
      "outputs": [
        {
          "output_type": "execute_result",
          "data": {
            "application/vnd.google.colaboratory.intrinsic+json": {
              "type": "string"
            },
            "text/plain": [
              "'\\ndef in_bull(x):\\n    info_list = [\\'공개\\',\\'추천\\',\\'상한\\',\\'무료\\',\\'주식\\',\\'바이오\\',\\'금리\\',\\'테마\\',\\'탁론\\',\\'카톡\\',\\'실적\\',\\n                 \\'수익\\', \\'미수\\', \\'수혜주\\',\\'급등\\', \\'http\\', \\'하이스\\',\"]]\"]\\n    for i in info_list:\\n        if i in x:\\n            return 1\\n    return 0\\ntrain[\"info1_words\"]=train[\"content\"].apply(in_bull)\\n'"
            ]
          },
          "metadata": {
            "tags": []
          },
          "execution_count": 11
        }
      ]
    },
    {
      "cell_type": "markdown",
      "metadata": {
        "id": "vbS7TN-xgARn"
      },
      "source": [
        "# Order을 이용한 feature"
      ]
    },
    {
      "cell_type": "code",
      "metadata": {
        "id": "P5Tf50Emf-39"
      },
      "source": [
        "title_group = (train.groupby([\"title\"]).count())[\"n_id\"]\r\n",
        "train[\"new_ord\"]=train.apply(lambda x: x[\"ord\"]/title_group[x[\"title\"]], axis=1)"
      ],
      "execution_count": 12,
      "outputs": []
    },
    {
      "cell_type": "markdown",
      "metadata": {
        "id": "0TOb5PyeZc40"
      },
      "source": [
        "# tokenization"
      ]
    },
    {
      "cell_type": "code",
      "metadata": {
        "id": "FwAQw1o2Av2C",
        "colab": {
          "base_uri": "https://localhost:8080/"
        },
        "outputId": "78992044-38b7-4ed1-aa9f-6795d94026d3"
      },
      "source": [
        "# konlpy Mecab 사용하기\r\n",
        "\r\n",
        "!set -x \\\r\n",
        "&& pip install konlpy \\\r\n",
        "&& curl -s https://raw.githubusercontent.com/konlpy/konlpy/master/scripts/mecab.sh | bash -x"
      ],
      "execution_count": 14,
      "outputs": [
        {
          "output_type": "stream",
          "text": [
            "+ pip install konlpy\n",
            "Collecting konlpy\n",
            "\u001b[?25l  Downloading https://files.pythonhosted.org/packages/85/0e/f385566fec837c0b83f216b2da65db9997b35dd675e107752005b7d392b1/konlpy-0.5.2-py2.py3-none-any.whl (19.4MB)\n",
            "\u001b[K     |████████████████████████████████| 19.4MB 1.3MB/s \n",
            "\u001b[?25hRequirement already satisfied: numpy>=1.6 in /usr/local/lib/python3.6/dist-packages (from konlpy) (1.19.4)\n",
            "Collecting tweepy>=3.7.0\n",
            "  Downloading https://files.pythonhosted.org/packages/67/c3/6bed87f3b1e5ed2f34bd58bf7978e308c86e255193916be76e5a5ce5dfca/tweepy-3.10.0-py2.py3-none-any.whl\n",
            "Requirement already satisfied: lxml>=4.1.0 in /usr/local/lib/python3.6/dist-packages (from konlpy) (4.2.6)\n",
            "Collecting colorama\n",
            "  Downloading https://files.pythonhosted.org/packages/44/98/5b86278fbbf250d239ae0ecb724f8572af1c91f4a11edf4d36a206189440/colorama-0.4.4-py2.py3-none-any.whl\n",
            "Collecting beautifulsoup4==4.6.0\n",
            "\u001b[?25l  Downloading https://files.pythonhosted.org/packages/9e/d4/10f46e5cfac773e22707237bfcd51bbffeaf0a576b0a847ec7ab15bd7ace/beautifulsoup4-4.6.0-py3-none-any.whl (86kB)\n",
            "\u001b[K     |████████████████████████████████| 92kB 8.5MB/s \n",
            "\u001b[?25hCollecting JPype1>=0.7.0\n",
            "\u001b[?25l  Downloading https://files.pythonhosted.org/packages/b7/21/9e2c0dbf9df856e6392a1aec1d18006c60b175aa4e31d351e8278a8a63c0/JPype1-1.2.0-cp36-cp36m-manylinux2010_x86_64.whl (453kB)\n",
            "\u001b[K     |████████████████████████████████| 460kB 41.1MB/s \n",
            "\u001b[?25hRequirement already satisfied: requests[socks]>=2.11.1 in /usr/local/lib/python3.6/dist-packages (from tweepy>=3.7.0->konlpy) (2.23.0)\n",
            "Requirement already satisfied: requests-oauthlib>=0.7.0 in /usr/local/lib/python3.6/dist-packages (from tweepy>=3.7.0->konlpy) (1.3.0)\n",
            "Requirement already satisfied: six>=1.10.0 in /usr/local/lib/python3.6/dist-packages (from tweepy>=3.7.0->konlpy) (1.15.0)\n",
            "Requirement already satisfied: typing-extensions; python_version < \"3.8\" in /usr/local/lib/python3.6/dist-packages (from JPype1>=0.7.0->konlpy) (3.7.4.3)\n",
            "Requirement already satisfied: chardet<4,>=3.0.2 in /usr/local/lib/python3.6/dist-packages (from requests[socks]>=2.11.1->tweepy>=3.7.0->konlpy) (3.0.4)\n",
            "Requirement already satisfied: idna<3,>=2.5 in /usr/local/lib/python3.6/dist-packages (from requests[socks]>=2.11.1->tweepy>=3.7.0->konlpy) (2.10)\n",
            "Requirement already satisfied: certifi>=2017.4.17 in /usr/local/lib/python3.6/dist-packages (from requests[socks]>=2.11.1->tweepy>=3.7.0->konlpy) (2020.12.5)\n",
            "Requirement already satisfied: urllib3!=1.25.0,!=1.25.1,<1.26,>=1.21.1 in /usr/local/lib/python3.6/dist-packages (from requests[socks]>=2.11.1->tweepy>=3.7.0->konlpy) (1.24.3)\n",
            "Requirement already satisfied: PySocks!=1.5.7,>=1.5.6; extra == \"socks\" in /usr/local/lib/python3.6/dist-packages (from requests[socks]>=2.11.1->tweepy>=3.7.0->konlpy) (1.7.1)\n",
            "Requirement already satisfied: oauthlib>=3.0.0 in /usr/local/lib/python3.6/dist-packages (from requests-oauthlib>=0.7.0->tweepy>=3.7.0->konlpy) (3.1.0)\n",
            "Installing collected packages: tweepy, colorama, beautifulsoup4, JPype1, konlpy\n",
            "  Found existing installation: tweepy 3.6.0\n",
            "    Uninstalling tweepy-3.6.0:\n",
            "      Successfully uninstalled tweepy-3.6.0\n",
            "  Found existing installation: beautifulsoup4 4.6.3\n",
            "    Uninstalling beautifulsoup4-4.6.3:\n",
            "      Successfully uninstalled beautifulsoup4-4.6.3\n",
            "Successfully installed JPype1-1.2.0 beautifulsoup4-4.6.0 colorama-0.4.4 konlpy-0.5.2 tweepy-3.10.0\n",
            "+ curl -s https://raw.githubusercontent.com/konlpy/konlpy/master/scripts/mecab.sh\n",
            "+ bash -x\n",
            "+ mecab_dicdir=/usr/local/lib/mecab/dic/mecab-ko-dic\n",
            "+ set -e\n",
            "++ uname\n",
            "+ os=Linux\n",
            "+ [[ ! Linux == \\L\\i\\n\\u\\x ]]\n",
            "+ hash sudo\n",
            "+ sudo=sudo\n",
            "+ python=python3\n",
            "+ hash pyenv\n",
            "+ at_user_site=\n",
            "++ check_python_site_location_is_writable\n",
            "++ python3 -\n",
            "+ [[ 1 == \\0 ]]\n",
            "+ hash automake\n",
            "+ echo 'Installing automake (A dependency for mecab-ko)'\n",
            "Installing automake (A dependency for mecab-ko)\n",
            "+ install_automake\n",
            "+ '[' Linux == Linux ']'\n",
            "++ grep -Ei 'debian|buntu|mint' /etc/lsb-release /etc/os-release\n",
            "+ '[' '/etc/lsb-release:DISTRIB_ID=Ubuntu\n",
            "/etc/lsb-release:DISTRIB_DESCRIPTION=\"Ubuntu 18.04.5 LTS\"\n",
            "/etc/os-release:NAME=\"Ubuntu\"\n",
            "/etc/os-release:ID=ubuntu\n",
            "/etc/os-release:ID_LIKE=debian\n",
            "/etc/os-release:PRETTY_NAME=\"Ubuntu 18.04.5 LTS\"\n",
            "/etc/os-release:HOME_URL=\"https://www.ubuntu.com/\"\n",
            "/etc/os-release:SUPPORT_URL=\"https://help.ubuntu.com/\"\n",
            "/etc/os-release:BUG_REPORT_URL=\"https://bugs.launchpad.net/ubuntu/\"\n",
            "/etc/os-release:PRIVACY_POLICY_URL=\"https://www.ubuntu.com/legal/terms-and-policies/privacy-policy\"\n",
            "/etc/os-release:UBUNTU_CODENAME=bionic' ']'\n",
            "+ sudo apt-get update\n",
            "Ign:1 https://developer.download.nvidia.com/compute/cuda/repos/ubuntu1804/x86_64  InRelease\n",
            "Ign:2 https://developer.download.nvidia.com/compute/machine-learning/repos/ubuntu1804/x86_64  InRelease\n",
            "Get:3 https://cloud.r-project.org/bin/linux/ubuntu bionic-cran40/ InRelease [3,626 B]\n",
            "Hit:4 https://developer.download.nvidia.com/compute/cuda/repos/ubuntu1804/x86_64  Release\n",
            "Hit:5 https://developer.download.nvidia.com/compute/machine-learning/repos/ubuntu1804/x86_64  Release\n",
            "Hit:6 http://archive.ubuntu.com/ubuntu bionic InRelease\n",
            "Get:7 http://security.ubuntu.com/ubuntu bionic-security InRelease [88.7 kB]\n",
            "Get:8 http://ppa.launchpad.net/c2d4u.team/c2d4u4.0+/ubuntu bionic InRelease [15.9 kB]\n",
            "Get:10 http://archive.ubuntu.com/ubuntu bionic-updates InRelease [88.7 kB]\n",
            "Get:11 https://cloud.r-project.org/bin/linux/ubuntu bionic-cran40/ Packages [41.5 kB]\n",
            "Hit:13 http://ppa.launchpad.net/cran/libgit2/ubuntu bionic InRelease\n",
            "Get:14 http://archive.ubuntu.com/ubuntu bionic-backports InRelease [74.6 kB]\n",
            "Hit:15 http://ppa.launchpad.net/graphics-drivers/ppa/ubuntu bionic InRelease\n",
            "Get:16 http://ppa.launchpad.net/c2d4u.team/c2d4u4.0+/ubuntu bionic/main Sources [1,703 kB]\n",
            "Get:17 http://ppa.launchpad.net/c2d4u.team/c2d4u4.0+/ubuntu bionic/main amd64 Packages [872 kB]\n",
            "Fetched 2,889 kB in 3s (880 kB/s)\n",
            "Reading package lists... Done\n",
            "+ sudo apt-get install -y automake\n",
            "Reading package lists... Done\n",
            "Building dependency tree       \n",
            "Reading state information... Done\n",
            "The following additional packages will be installed:\n",
            "  autoconf autotools-dev libsigsegv2 m4\n",
            "Suggested packages:\n",
            "  autoconf-archive gnu-standards autoconf-doc libtool gettext m4-doc\n",
            "The following NEW packages will be installed:\n",
            "  autoconf automake autotools-dev libsigsegv2 m4\n",
            "0 upgraded, 5 newly installed, 0 to remove and 17 not upgraded.\n",
            "Need to get 1,082 kB of archives.\n",
            "After this operation, 3,994 kB of additional disk space will be used.\n",
            "Get:1 http://archive.ubuntu.com/ubuntu bionic/main amd64 libsigsegv2 amd64 2.12-1 [14.7 kB]\n",
            "Get:2 http://archive.ubuntu.com/ubuntu bionic/main amd64 m4 amd64 1.4.18-1 [197 kB]\n",
            "Get:3 http://archive.ubuntu.com/ubuntu bionic/main amd64 autoconf all 2.69-11 [322 kB]\n",
            "Get:4 http://archive.ubuntu.com/ubuntu bionic/main amd64 autotools-dev all 20180224.1 [39.6 kB]\n",
            "Get:5 http://archive.ubuntu.com/ubuntu bionic/main amd64 automake all 1:1.15.1-3ubuntu2 [509 kB]\n",
            "Fetched 1,082 kB in 1s (830 kB/s)\n",
            "debconf: unable to initialize frontend: Dialog\n",
            "debconf: (No usable dialog-like program is installed, so the dialog based frontend cannot be used. at /usr/share/perl5/Debconf/FrontEnd/Dialog.pm line 76, <> line 5.)\n",
            "debconf: falling back to frontend: Readline\n",
            "debconf: unable to initialize frontend: Readline\n",
            "debconf: (This frontend requires a controlling tty.)\n",
            "debconf: falling back to frontend: Teletype\n",
            "dpkg-preconfigure: unable to re-open stdin: \n",
            "Selecting previously unselected package libsigsegv2:amd64.\n",
            "(Reading database ... 145480 files and directories currently installed.)\n",
            "Preparing to unpack .../libsigsegv2_2.12-1_amd64.deb ...\n",
            "Unpacking libsigsegv2:amd64 (2.12-1) ...\n",
            "Selecting previously unselected package m4.\n",
            "Preparing to unpack .../archives/m4_1.4.18-1_amd64.deb ...\n",
            "Unpacking m4 (1.4.18-1) ...\n",
            "Selecting previously unselected package autoconf.\n",
            "Preparing to unpack .../autoconf_2.69-11_all.deb ...\n",
            "Unpacking autoconf (2.69-11) ...\n",
            "Selecting previously unselected package autotools-dev.\n",
            "Preparing to unpack .../autotools-dev_20180224.1_all.deb ...\n",
            "Unpacking autotools-dev (20180224.1) ...\n",
            "Selecting previously unselected package automake.\n",
            "Preparing to unpack .../automake_1%3a1.15.1-3ubuntu2_all.deb ...\n",
            "Unpacking automake (1:1.15.1-3ubuntu2) ...\n",
            "Setting up libsigsegv2:amd64 (2.12-1) ...\n",
            "Setting up m4 (1.4.18-1) ...\n",
            "Setting up autotools-dev (20180224.1) ...\n",
            "Setting up autoconf (2.69-11) ...\n",
            "Setting up automake (1:1.15.1-3ubuntu2) ...\n",
            "update-alternatives: using /usr/bin/automake-1.15 to provide /usr/bin/automake (automake) in auto mode\n",
            "Processing triggers for libc-bin (2.27-3ubuntu1.2) ...\n",
            "/sbin/ldconfig.real: /usr/local/lib/python3.6/dist-packages/ideep4py/lib/libmkldnn.so.0 is not a symbolic link\n",
            "\n",
            "Processing triggers for man-db (2.8.3-2ubuntu0.1) ...\n",
            "+ hash mecab\n",
            "+ echo 'Install mecab-ko-dic'\n",
            "Install mecab-ko-dic\n",
            "+ install_mecab_ko\n",
            "+ cd /tmp\n",
            "+ curl -LO https://bitbucket.org/eunjeon/mecab-ko/downloads/mecab-0.996-ko-0.9.2.tar.gz\n",
            "  % Total    % Received % Xferd  Average Speed   Time    Time     Time  Current\n",
            "                                 Dload  Upload   Total   Spent    Left  Speed\n",
            "  0     0    0     0    0     0      0      0 --:--:-- --:--:-- --:--:--     0\n",
            "100 1381k  100 1381k    0     0  1238k      0  0:00:01  0:00:01 --:--:-- 2736k\n",
            "+ tar zxfv mecab-0.996-ko-0.9.2.tar.gz\n",
            "mecab-0.996-ko-0.9.2/\n",
            "mecab-0.996-ko-0.9.2/example/\n",
            "mecab-0.996-ko-0.9.2/example/example.cpp\n",
            "mecab-0.996-ko-0.9.2/example/example_lattice.cpp\n",
            "mecab-0.996-ko-0.9.2/example/example_lattice.c\n",
            "mecab-0.996-ko-0.9.2/example/example.c\n",
            "mecab-0.996-ko-0.9.2/example/thread_test.cpp\n",
            "mecab-0.996-ko-0.9.2/mecab-config.in\n",
            "mecab-0.996-ko-0.9.2/man/\n",
            "mecab-0.996-ko-0.9.2/man/Makefile.am\n",
            "mecab-0.996-ko-0.9.2/man/mecab.1\n",
            "mecab-0.996-ko-0.9.2/man/Makefile.in\n",
            "mecab-0.996-ko-0.9.2/mecab.iss.in\n",
            "mecab-0.996-ko-0.9.2/config.guess\n",
            "mecab-0.996-ko-0.9.2/README\n",
            "mecab-0.996-ko-0.9.2/COPYING\n",
            "mecab-0.996-ko-0.9.2/CHANGES.md\n",
            "mecab-0.996-ko-0.9.2/README.md\n",
            "mecab-0.996-ko-0.9.2/INSTALL\n",
            "mecab-0.996-ko-0.9.2/config.sub\n",
            "mecab-0.996-ko-0.9.2/configure.in\n",
            "mecab-0.996-ko-0.9.2/swig/\n",
            "mecab-0.996-ko-0.9.2/swig/Makefile\n",
            "mecab-0.996-ko-0.9.2/swig/version.h.in\n",
            "mecab-0.996-ko-0.9.2/swig/version.h\n",
            "mecab-0.996-ko-0.9.2/swig/MeCab.i\n",
            "mecab-0.996-ko-0.9.2/aclocal.m4\n",
            "mecab-0.996-ko-0.9.2/LGPL\n",
            "mecab-0.996-ko-0.9.2/Makefile.am\n",
            "mecab-0.996-ko-0.9.2/configure\n",
            "mecab-0.996-ko-0.9.2/tests/\n",
            "mecab-0.996-ko-0.9.2/tests/autolink/\n",
            "mecab-0.996-ko-0.9.2/tests/autolink/unk.def\n",
            "mecab-0.996-ko-0.9.2/tests/autolink/dicrc\n",
            "mecab-0.996-ko-0.9.2/tests/autolink/dic.csv\n",
            "mecab-0.996-ko-0.9.2/tests/autolink/test\n",
            "mecab-0.996-ko-0.9.2/tests/autolink/char.def\n",
            "mecab-0.996-ko-0.9.2/tests/autolink/matrix.def\n",
            "mecab-0.996-ko-0.9.2/tests/autolink/test.gld\n",
            "mecab-0.996-ko-0.9.2/tests/t9/\n",
            "mecab-0.996-ko-0.9.2/tests/t9/unk.def\n",
            "mecab-0.996-ko-0.9.2/tests/t9/ipadic.pl\n",
            "mecab-0.996-ko-0.9.2/tests/t9/dicrc\n",
            "mecab-0.996-ko-0.9.2/tests/t9/dic.csv\n",
            "mecab-0.996-ko-0.9.2/tests/t9/test\n",
            "mecab-0.996-ko-0.9.2/tests/t9/char.def\n",
            "mecab-0.996-ko-0.9.2/tests/t9/matrix.def\n",
            "mecab-0.996-ko-0.9.2/tests/t9/mkdic.pl\n",
            "mecab-0.996-ko-0.9.2/tests/t9/test.gld\n",
            "mecab-0.996-ko-0.9.2/tests/cost-train/\n",
            "mecab-0.996-ko-0.9.2/tests/cost-train/ipa.train\n",
            "mecab-0.996-ko-0.9.2/tests/cost-train/ipa.test\n",
            "mecab-0.996-ko-0.9.2/tests/cost-train/seed/\n",
            "mecab-0.996-ko-0.9.2/tests/cost-train/seed/rewrite.def\n",
            "mecab-0.996-ko-0.9.2/tests/cost-train/seed/feature.def\n",
            "mecab-0.996-ko-0.9.2/tests/cost-train/seed/unk.def\n",
            "mecab-0.996-ko-0.9.2/tests/cost-train/seed/dicrc\n",
            "mecab-0.996-ko-0.9.2/tests/cost-train/seed/dic.csv\n",
            "mecab-0.996-ko-0.9.2/tests/cost-train/seed/char.def\n",
            "mecab-0.996-ko-0.9.2/tests/cost-train/seed/matrix.def\n",
            "mecab-0.996-ko-0.9.2/tests/run-eval.sh\n",
            "mecab-0.996-ko-0.9.2/tests/run-cost-train.sh\n",
            "mecab-0.996-ko-0.9.2/tests/Makefile.am\n",
            "mecab-0.996-ko-0.9.2/tests/katakana/\n",
            "mecab-0.996-ko-0.9.2/tests/katakana/unk.def\n",
            "mecab-0.996-ko-0.9.2/tests/katakana/dicrc\n",
            "mecab-0.996-ko-0.9.2/tests/katakana/dic.csv\n",
            "mecab-0.996-ko-0.9.2/tests/katakana/test\n",
            "mecab-0.996-ko-0.9.2/tests/katakana/char.def\n",
            "mecab-0.996-ko-0.9.2/tests/katakana/matrix.def\n",
            "mecab-0.996-ko-0.9.2/tests/katakana/test.gld\n",
            "mecab-0.996-ko-0.9.2/tests/eval/\n",
            "mecab-0.996-ko-0.9.2/tests/eval/answer\n",
            "mecab-0.996-ko-0.9.2/tests/eval/system\n",
            "mecab-0.996-ko-0.9.2/tests/eval/test.gld\n",
            "mecab-0.996-ko-0.9.2/tests/shiin/\n",
            "mecab-0.996-ko-0.9.2/tests/shiin/unk.def\n",
            "mecab-0.996-ko-0.9.2/tests/shiin/dicrc\n",
            "mecab-0.996-ko-0.9.2/tests/shiin/dic.csv\n",
            "mecab-0.996-ko-0.9.2/tests/shiin/test\n",
            "mecab-0.996-ko-0.9.2/tests/shiin/char.def\n",
            "mecab-0.996-ko-0.9.2/tests/shiin/matrix.def\n",
            "mecab-0.996-ko-0.9.2/tests/shiin/mkdic.pl\n",
            "mecab-0.996-ko-0.9.2/tests/shiin/test.gld\n",
            "mecab-0.996-ko-0.9.2/tests/latin/\n",
            "mecab-0.996-ko-0.9.2/tests/latin/unk.def\n",
            "mecab-0.996-ko-0.9.2/tests/latin/dicrc\n",
            "mecab-0.996-ko-0.9.2/tests/latin/dic.csv\n",
            "mecab-0.996-ko-0.9.2/tests/latin/test\n",
            "mecab-0.996-ko-0.9.2/tests/latin/char.def\n",
            "mecab-0.996-ko-0.9.2/tests/latin/matrix.def\n",
            "mecab-0.996-ko-0.9.2/tests/latin/test.gld\n",
            "mecab-0.996-ko-0.9.2/tests/chartype/\n",
            "mecab-0.996-ko-0.9.2/tests/chartype/unk.def\n",
            "mecab-0.996-ko-0.9.2/tests/chartype/dicrc\n",
            "mecab-0.996-ko-0.9.2/tests/chartype/dic.csv\n",
            "mecab-0.996-ko-0.9.2/tests/chartype/test\n",
            "mecab-0.996-ko-0.9.2/tests/chartype/char.def\n",
            "mecab-0.996-ko-0.9.2/tests/chartype/matrix.def\n",
            "mecab-0.996-ko-0.9.2/tests/chartype/test.gld\n",
            "mecab-0.996-ko-0.9.2/tests/run-dics.sh\n",
            "mecab-0.996-ko-0.9.2/tests/ngram/\n",
            "mecab-0.996-ko-0.9.2/tests/ngram/unk.def\n",
            "mecab-0.996-ko-0.9.2/tests/ngram/dicrc\n",
            "mecab-0.996-ko-0.9.2/tests/ngram/dic.csv\n",
            "mecab-0.996-ko-0.9.2/tests/ngram/test\n",
            "mecab-0.996-ko-0.9.2/tests/ngram/char.def\n",
            "mecab-0.996-ko-0.9.2/tests/ngram/matrix.def\n",
            "mecab-0.996-ko-0.9.2/tests/ngram/test.gld\n",
            "mecab-0.996-ko-0.9.2/tests/Makefile.in\n",
            "mecab-0.996-ko-0.9.2/ltmain.sh\n",
            "mecab-0.996-ko-0.9.2/config.rpath\n",
            "mecab-0.996-ko-0.9.2/config.h.in\n",
            "mecab-0.996-ko-0.9.2/mecabrc.in\n",
            "mecab-0.996-ko-0.9.2/GPL\n",
            "mecab-0.996-ko-0.9.2/Makefile.train\n",
            "mecab-0.996-ko-0.9.2/ChangeLog\n",
            "mecab-0.996-ko-0.9.2/install-sh\n",
            "mecab-0.996-ko-0.9.2/AUTHORS\n",
            "mecab-0.996-ko-0.9.2/doc/\n",
            "mecab-0.996-ko-0.9.2/doc/bindings.html\n",
            "mecab-0.996-ko-0.9.2/doc/posid.html\n",
            "mecab-0.996-ko-0.9.2/doc/unk.html\n",
            "mecab-0.996-ko-0.9.2/doc/learn.html\n",
            "mecab-0.996-ko-0.9.2/doc/format.html\n",
            "mecab-0.996-ko-0.9.2/doc/libmecab.html\n",
            "mecab-0.996-ko-0.9.2/doc/mecab.css\n",
            "mecab-0.996-ko-0.9.2/doc/feature.html\n",
            "mecab-0.996-ko-0.9.2/doc/Makefile.am\n",
            "mecab-0.996-ko-0.9.2/doc/soft.html\n",
            "mecab-0.996-ko-0.9.2/doc/en/\n",
            "mecab-0.996-ko-0.9.2/doc/en/bindings.html\n",
            "mecab-0.996-ko-0.9.2/doc/dic-detail.html\n",
            "mecab-0.996-ko-0.9.2/doc/flow.png\n",
            "mecab-0.996-ko-0.9.2/doc/mecab.html\n",
            "mecab-0.996-ko-0.9.2/doc/index.html\n",
            "mecab-0.996-ko-0.9.2/doc/result.png\n",
            "mecab-0.996-ko-0.9.2/doc/doxygen/\n",
            "mecab-0.996-ko-0.9.2/doc/doxygen/tab_a.png\n",
            "mecab-0.996-ko-0.9.2/doc/doxygen/globals_eval.html\n",
            "mecab-0.996-ko-0.9.2/doc/doxygen/classMeCab_1_1Tagger-members.html\n",
            "mecab-0.996-ko-0.9.2/doc/doxygen/functions_vars.html\n",
            "mecab-0.996-ko-0.9.2/doc/doxygen/doxygen.css\n",
            "mecab-0.996-ko-0.9.2/doc/doxygen/tab_r.gif\n",
            "mecab-0.996-ko-0.9.2/doc/doxygen/classMeCab_1_1Lattice.html\n",
            "mecab-0.996-ko-0.9.2/doc/doxygen/functions.html\n",
            "mecab-0.996-ko-0.9.2/doc/doxygen/classMeCab_1_1Tagger.html\n",
            "mecab-0.996-ko-0.9.2/doc/doxygen/mecab_8h_source.html\n",
            "mecab-0.996-ko-0.9.2/doc/doxygen/tabs.css\n",
            "mecab-0.996-ko-0.9.2/doc/doxygen/nav_f.png\n",
            "mecab-0.996-ko-0.9.2/doc/doxygen/tab_b.png\n",
            "mecab-0.996-ko-0.9.2/doc/doxygen/globals.html\n",
            "mecab-0.996-ko-0.9.2/doc/doxygen/nav_h.png\n",
            "mecab-0.996-ko-0.9.2/doc/doxygen/tab_h.png\n",
            "mecab-0.996-ko-0.9.2/doc/doxygen/classMeCab_1_1Model.html\n",
            "mecab-0.996-ko-0.9.2/doc/doxygen/globals_func.html\n",
            "mecab-0.996-ko-0.9.2/doc/doxygen/closed.png\n",
            "mecab-0.996-ko-0.9.2/doc/doxygen/tab_l.gif\n",
            "mecab-0.996-ko-0.9.2/doc/doxygen/structmecab__path__t-members.html\n",
            "mecab-0.996-ko-0.9.2/doc/doxygen/functions_func.html\n",
            "mecab-0.996-ko-0.9.2/doc/doxygen/globals_type.html\n",
            "mecab-0.996-ko-0.9.2/doc/doxygen/classMeCab_1_1Lattice-members.html\n",
            "mecab-0.996-ko-0.9.2/doc/doxygen/structmecab__node__t.html\n",
            "mecab-0.996-ko-0.9.2/doc/doxygen/namespacemembers_func.html\n",
            "mecab-0.996-ko-0.9.2/doc/doxygen/tab_s.png\n",
            "mecab-0.996-ko-0.9.2/doc/doxygen/structmecab__dictionary__info__t-members.html\n",
            "mecab-0.996-ko-0.9.2/doc/doxygen/namespacemembers_type.html\n",
            "mecab-0.996-ko-0.9.2/doc/doxygen/classMeCab_1_1Model-members.html\n",
            "mecab-0.996-ko-0.9.2/doc/doxygen/structmecab__dictionary__info__t.html\n",
            "mecab-0.996-ko-0.9.2/doc/doxygen/namespaces.html\n",
            "mecab-0.996-ko-0.9.2/doc/doxygen/namespacemembers.html\n",
            "mecab-0.996-ko-0.9.2/doc/doxygen/namespaceMeCab.html\n",
            "mecab-0.996-ko-0.9.2/doc/doxygen/structmecab__path__t.html\n",
            "mecab-0.996-ko-0.9.2/doc/doxygen/files.html\n",
            "mecab-0.996-ko-0.9.2/doc/doxygen/structmecab__node__t-members.html\n",
            "mecab-0.996-ko-0.9.2/doc/doxygen/index.html\n",
            "mecab-0.996-ko-0.9.2/doc/doxygen/annotated.html\n",
            "mecab-0.996-ko-0.9.2/doc/doxygen/globals_defs.html\n",
            "mecab-0.996-ko-0.9.2/doc/doxygen/classes.html\n",
            "mecab-0.996-ko-0.9.2/doc/doxygen/mecab_8h-source.html\n",
            "mecab-0.996-ko-0.9.2/doc/doxygen/doxygen.png\n",
            "mecab-0.996-ko-0.9.2/doc/doxygen/tab_b.gif\n",
            "mecab-0.996-ko-0.9.2/doc/doxygen/bc_s.png\n",
            "mecab-0.996-ko-0.9.2/doc/doxygen/open.png\n",
            "mecab-0.996-ko-0.9.2/doc/doxygen/mecab_8h.html\n",
            "mecab-0.996-ko-0.9.2/doc/dic.html\n",
            "mecab-0.996-ko-0.9.2/doc/partial.html\n",
            "mecab-0.996-ko-0.9.2/doc/feature.png\n",
            "mecab-0.996-ko-0.9.2/doc/Makefile.in\n",
            "mecab-0.996-ko-0.9.2/missing\n",
            "mecab-0.996-ko-0.9.2/BSD\n",
            "mecab-0.996-ko-0.9.2/NEWS\n",
            "mecab-0.996-ko-0.9.2/mkinstalldirs\n",
            "mecab-0.996-ko-0.9.2/src/\n",
            "mecab-0.996-ko-0.9.2/src/dictionary.h\n",
            "mecab-0.996-ko-0.9.2/src/writer.h\n",
            "mecab-0.996-ko-0.9.2/src/utils.h\n",
            "mecab-0.996-ko-0.9.2/src/string_buffer.cpp\n",
            "mecab-0.996-ko-0.9.2/src/tokenizer.cpp\n",
            "mecab-0.996-ko-0.9.2/src/make.bat\n",
            "mecab-0.996-ko-0.9.2/src/mecab.h\n",
            "mecab-0.996-ko-0.9.2/src/freelist.h\n",
            "mecab-0.996-ko-0.9.2/src/string_buffer.h\n",
            "mecab-0.996-ko-0.9.2/src/learner_tagger.h\n",
            "mecab-0.996-ko-0.9.2/src/dictionary_compiler.cpp\n",
            "mecab-0.996-ko-0.9.2/src/eval.cpp\n",
            "mecab-0.996-ko-0.9.2/src/mecab-system-eval.cpp\n",
            "mecab-0.996-ko-0.9.2/src/darts.h\n",
            "mecab-0.996-ko-0.9.2/src/param.h\n",
            "mecab-0.996-ko-0.9.2/src/char_property.h\n",
            "mecab-0.996-ko-0.9.2/src/learner_node.h\n",
            "mecab-0.996-ko-0.9.2/src/mecab-dict-gen.cpp\n",
            "mecab-0.996-ko-0.9.2/src/mecab-dict-index.cpp\n",
            "mecab-0.996-ko-0.9.2/src/winmain.h\n",
            "mecab-0.996-ko-0.9.2/src/thread.h\n",
            "mecab-0.996-ko-0.9.2/src/context_id.cpp\n",
            "mecab-0.996-ko-0.9.2/src/Makefile.am\n",
            "mecab-0.996-ko-0.9.2/src/connector.h\n",
            "mecab-0.996-ko-0.9.2/src/common.h\n",
            "mecab-0.996-ko-0.9.2/src/dictionary_rewriter.cpp\n",
            "mecab-0.996-ko-0.9.2/src/Makefile.msvc.in\n",
            "mecab-0.996-ko-0.9.2/src/dictionary_rewriter.h\n",
            "mecab-0.996-ko-0.9.2/src/feature_index.h\n",
            "mecab-0.996-ko-0.9.2/src/iconv_utils.cpp\n",
            "mecab-0.996-ko-0.9.2/src/char_property.cpp\n",
            "mecab-0.996-ko-0.9.2/src/mecab-test-gen.cpp\n",
            "mecab-0.996-ko-0.9.2/src/tagger.cpp\n",
            "mecab-0.996-ko-0.9.2/src/mecab-cost-train.cpp\n",
            "mecab-0.996-ko-0.9.2/src/learner.cpp\n",
            "mecab-0.996-ko-0.9.2/src/dictionary.cpp\n",
            "mecab-0.996-ko-0.9.2/src/lbfgs.cpp\n",
            "mecab-0.996-ko-0.9.2/src/ucs.h\n",
            "mecab-0.996-ko-0.9.2/src/writer.cpp\n",
            "mecab-0.996-ko-0.9.2/src/learner_tagger.cpp\n",
            "mecab-0.996-ko-0.9.2/src/lbfgs.h\n",
            "mecab-0.996-ko-0.9.2/src/libmecab.cpp\n",
            "mecab-0.996-ko-0.9.2/src/tokenizer.h\n",
            "mecab-0.996-ko-0.9.2/src/mecab.cpp\n",
            "mecab-0.996-ko-0.9.2/src/utils.cpp\n",
            "mecab-0.996-ko-0.9.2/src/dictionary_generator.cpp\n",
            "mecab-0.996-ko-0.9.2/src/param.cpp\n",
            "mecab-0.996-ko-0.9.2/src/context_id.h\n",
            "mecab-0.996-ko-0.9.2/src/mmap.h\n",
            "mecab-0.996-ko-0.9.2/src/viterbi.h\n",
            "mecab-0.996-ko-0.9.2/src/viterbi.cpp\n",
            "mecab-0.996-ko-0.9.2/src/stream_wrapper.h\n",
            "mecab-0.996-ko-0.9.2/src/feature_index.cpp\n",
            "mecab-0.996-ko-0.9.2/src/nbest_generator.h\n",
            "mecab-0.996-ko-0.9.2/src/ucstable.h\n",
            "mecab-0.996-ko-0.9.2/src/nbest_generator.cpp\n",
            "mecab-0.996-ko-0.9.2/src/iconv_utils.h\n",
            "mecab-0.996-ko-0.9.2/src/connector.cpp\n",
            "mecab-0.996-ko-0.9.2/src/Makefile.in\n",
            "mecab-0.996-ko-0.9.2/src/scoped_ptr.h\n",
            "mecab-0.996-ko-0.9.2/Makefile.in\n",
            "+ cd mecab-0.996-ko-0.9.2\n",
            "+ ./configure\n",
            "checking for a BSD-compatible install... /usr/bin/install -c\n",
            "checking whether build environment is sane... yes\n",
            "checking for a thread-safe mkdir -p... /bin/mkdir -p\n",
            "checking for gawk... no\n",
            "checking for mawk... mawk\n",
            "checking whether make sets $(MAKE)... yes\n",
            "checking for gcc... gcc\n",
            "checking whether the C compiler works... yes\n",
            "checking for C compiler default output file name... a.out\n",
            "checking for suffix of executables... \n",
            "checking whether we are cross compiling... no\n",
            "checking for suffix of object files... o\n",
            "checking whether we are using the GNU C compiler... yes\n",
            "checking whether gcc accepts -g... yes\n",
            "checking for gcc option to accept ISO C89... none needed\n",
            "checking for style of include used by make... GNU\n",
            "checking dependency style of gcc... none\n",
            "checking for g++... g++\n",
            "checking whether we are using the GNU C++ compiler... yes\n",
            "checking whether g++ accepts -g... yes\n",
            "checking dependency style of g++... none\n",
            "checking how to run the C preprocessor... gcc -E\n",
            "checking for grep that handles long lines and -e... /bin/grep\n",
            "checking for egrep... /bin/grep -E\n",
            "checking whether gcc needs -traditional... no\n",
            "checking whether make sets $(MAKE)... (cached) yes\n",
            "checking build system type... x86_64-unknown-linux-gnu\n",
            "checking host system type... x86_64-unknown-linux-gnu\n",
            "checking how to print strings... printf\n",
            "checking for a sed that does not truncate output... /bin/sed\n",
            "checking for fgrep... /bin/grep -F\n",
            "checking for ld used by gcc... /usr/bin/ld\n",
            "checking if the linker (/usr/bin/ld) is GNU ld... yes\n",
            "checking for BSD- or MS-compatible name lister (nm)... /usr/bin/nm -B\n",
            "checking the name lister (/usr/bin/nm -B) interface... BSD nm\n",
            "checking whether ln -s works... yes\n",
            "checking the maximum length of command line arguments... 1572864\n",
            "checking whether the shell understands some XSI constructs... yes\n",
            "checking whether the shell understands \"+=\"... yes\n",
            "checking how to convert x86_64-unknown-linux-gnu file names to x86_64-unknown-linux-gnu format... func_convert_file_noop\n",
            "checking how to convert x86_64-unknown-linux-gnu file names to toolchain format... func_convert_file_noop\n",
            "checking for /usr/bin/ld option to reload object files... -r\n",
            "checking for objdump... objdump\n",
            "checking how to recognize dependent libraries... pass_all\n",
            "checking for dlltool... dlltool\n",
            "checking how to associate runtime and link libraries... printf %s\\n\n",
            "checking for ar... ar\n",
            "checking for archiver @FILE support... @\n",
            "checking for strip... strip\n",
            "checking for ranlib... ranlib\n",
            "checking command to parse /usr/bin/nm -B output from gcc object... ok\n",
            "checking for sysroot... no\n",
            "./configure: line 7378: /usr/bin/file: No such file or directory\n",
            "checking for mt... no\n",
            "checking if : is a manifest tool... no\n",
            "checking for ANSI C header files... yes\n",
            "checking for sys/types.h... yes\n",
            "checking for sys/stat.h... yes\n",
            "checking for stdlib.h... yes\n",
            "checking for string.h... yes\n",
            "checking for memory.h... yes\n",
            "checking for strings.h... yes\n",
            "checking for inttypes.h... yes\n",
            "checking for stdint.h... yes\n",
            "checking for unistd.h... yes\n",
            "checking for dlfcn.h... yes\n",
            "checking for objdir... .libs\n",
            "checking if gcc supports -fno-rtti -fno-exceptions... no\n",
            "checking for gcc option to produce PIC... -fPIC -DPIC\n",
            "checking if gcc PIC flag -fPIC -DPIC works... yes\n",
            "checking if gcc static flag -static works... yes\n",
            "checking if gcc supports -c -o file.o... yes\n",
            "checking if gcc supports -c -o file.o... (cached) yes\n",
            "checking whether the gcc linker (/usr/bin/ld) supports shared libraries... yes\n",
            "checking whether -lc should be explicitly linked in... no\n",
            "checking dynamic linker characteristics... GNU/Linux ld.so\n",
            "checking how to hardcode library paths into programs... immediate\n",
            "checking whether stripping libraries is possible... yes\n",
            "checking if libtool supports shared libraries... yes\n",
            "checking whether to build shared libraries... yes\n",
            "checking whether to build static libraries... yes\n",
            "checking how to run the C++ preprocessor... g++ -E\n",
            "checking for ld used by g++... /usr/bin/ld\n",
            "checking if the linker (/usr/bin/ld) is GNU ld... yes\n",
            "checking whether the g++ linker (/usr/bin/ld) supports shared libraries... yes\n",
            "checking for g++ option to produce PIC... -fPIC -DPIC\n",
            "checking if g++ PIC flag -fPIC -DPIC works... yes\n",
            "checking if g++ static flag -static works... yes\n",
            "checking if g++ supports -c -o file.o... yes\n",
            "checking if g++ supports -c -o file.o... (cached) yes\n",
            "checking whether the g++ linker (/usr/bin/ld) supports shared libraries... yes\n",
            "checking dynamic linker characteristics... (cached) GNU/Linux ld.so\n",
            "checking how to hardcode library paths into programs... immediate\n",
            "checking for library containing strerror... none required\n",
            "checking whether byte ordering is bigendian... no\n",
            "checking for ld used by GCC... /usr/bin/ld\n",
            "checking if the linker (/usr/bin/ld) is GNU ld... yes\n",
            "checking for shared library run path origin... done\n",
            "checking for iconv... yes\n",
            "checking for working iconv... yes\n",
            "checking for iconv declaration... \n",
            "         extern size_t iconv (iconv_t cd, char * *inbuf, size_t *inbytesleft, char * *outbuf, size_t *outbytesleft);\n",
            "checking for ANSI C header files... (cached) yes\n",
            "checking for an ANSI C-conforming const... yes\n",
            "checking whether byte ordering is bigendian... (cached) no\n",
            "checking for string.h... (cached) yes\n",
            "checking for stdlib.h... (cached) yes\n",
            "checking for unistd.h... (cached) yes\n",
            "checking fcntl.h usability... yes\n",
            "checking fcntl.h presence... yes\n",
            "checking for fcntl.h... yes\n",
            "checking for stdint.h... (cached) yes\n",
            "checking for sys/stat.h... (cached) yes\n",
            "checking sys/mman.h usability... yes\n",
            "checking sys/mman.h presence... yes\n",
            "checking for sys/mman.h... yes\n",
            "checking sys/times.h usability... yes\n",
            "checking sys/times.h presence... yes\n",
            "checking for sys/times.h... yes\n",
            "checking for sys/types.h... (cached) yes\n",
            "checking dirent.h usability... yes\n",
            "checking dirent.h presence... yes\n",
            "checking for dirent.h... yes\n",
            "checking ctype.h usability... yes\n",
            "checking ctype.h presence... yes\n",
            "checking for ctype.h... yes\n",
            "checking for sys/types.h... (cached) yes\n",
            "checking io.h usability... no\n",
            "checking io.h presence... no\n",
            "checking for io.h... no\n",
            "checking windows.h usability... no\n",
            "checking windows.h presence... no\n",
            "checking for windows.h... no\n",
            "checking pthread.h usability... yes\n",
            "checking pthread.h presence... yes\n",
            "checking for pthread.h... yes\n",
            "checking for off_t... yes\n",
            "checking for size_t... yes\n",
            "checking size of char... 1\n",
            "checking size of short... 2\n",
            "checking size of int... 4\n",
            "checking size of long... 8\n",
            "checking size of long long... 8\n",
            "checking size of size_t... 8\n",
            "checking for size_t... (cached) yes\n",
            "checking for unsigned long long int... yes\n",
            "checking for stdlib.h... (cached) yes\n",
            "checking for unistd.h... (cached) yes\n",
            "checking for sys/param.h... yes\n",
            "checking for getpagesize... yes\n",
            "checking for working mmap... yes\n",
            "checking for main in -lstdc++... yes\n",
            "checking for pthread_create in -lpthread... yes\n",
            "checking for pthread_join in -lpthread... yes\n",
            "checking for getenv... yes\n",
            "checking for opendir... yes\n",
            "checking whether make is GNU Make... yes\n",
            "checking if g++ supports stl <vector> (required)... yes\n",
            "checking if g++ supports stl <list> (required)... yes\n",
            "checking if g++ supports stl <map> (required)... yes\n",
            "checking if g++ supports stl <set> (required)... yes\n",
            "checking if g++ supports stl <queue> (required)... yes\n",
            "checking if g++ supports stl <functional> (required)... yes\n",
            "checking if g++ supports stl <algorithm> (required)... yes\n",
            "checking if g++ supports stl <string> (required)... yes\n",
            "checking if g++ supports stl <iostream> (required)... yes\n",
            "checking if g++ supports stl <sstream> (required)... yes\n",
            "checking if g++ supports stl <fstream> (required)... yes\n",
            "checking if g++ supports template <class T> (required)... yes\n",
            "checking if g++ supports const_cast<> (required)... yes\n",
            "checking if g++ supports static_cast<> (required)... yes\n",
            "checking if g++ supports reinterpret_cast<> (required)... yes\n",
            "checking if g++ supports namespaces (required) ... yes\n",
            "checking if g++ supports __thread (optional)... yes\n",
            "checking if g++ supports template <class T> (required)... yes\n",
            "checking if g++ supports GCC native atomic operations (optional)... yes\n",
            "checking if g++ supports OSX native atomic operations (optional)... no\n",
            "checking if g++ environment provides all required features... yes\n",
            "configure: creating ./config.status\n",
            "config.status: creating Makefile\n",
            "config.status: creating src/Makefile\n",
            "config.status: creating src/Makefile.msvc\n",
            "config.status: creating man/Makefile\n",
            "config.status: creating doc/Makefile\n",
            "config.status: creating tests/Makefile\n",
            "config.status: creating swig/version.h\n",
            "config.status: creating mecab.iss\n",
            "config.status: creating mecab-config\n",
            "config.status: creating mecabrc\n",
            "config.status: creating config.h\n",
            "config.status: executing depfiles commands\n",
            "config.status: executing libtool commands\n",
            "config.status: executing default commands\n",
            "+ make\n",
            "make  all-recursive\n",
            "make[1]: Entering directory '/tmp/mecab-0.996-ko-0.9.2'\n",
            "Making all in src\n",
            "make[2]: Entering directory '/tmp/mecab-0.996-ko-0.9.2/src'\n",
            "/bin/bash ../libtool --tag=CXX   --mode=compile g++ -DHAVE_CONFIG_H -I. -I.. -DDIC_VERSION=102   -DMECAB_DEFAULT_RC=\"\\\"/usr/local/etc/mecabrc\\\"\"    -O3 -Wall  -c -o viterbi.lo viterbi.cpp\n",
            "libtool: compile:  g++ -DHAVE_CONFIG_H -I. -I.. -DDIC_VERSION=102 -DMECAB_DEFAULT_RC=\\\"/usr/local/etc/mecabrc\\\" -O3 -Wall -c viterbi.cpp  -fPIC -DPIC -o .libs/viterbi.o\n",
            "In file included from \u001b[01m\u001b[Kviterbi.cpp:14:0\u001b[m\u001b[K:\n",
            "\u001b[01m\u001b[Kparam.h:30:13:\u001b[m\u001b[K \u001b[01;35m\u001b[Kwarning: \u001b[m\u001b[K'\u001b[01m\u001b[KTarget {anonymous}::lexical_cast(Source) [with Target = std::__cxx11::basic_string<char>; Source = std::__cxx11::basic_string<char>]\u001b[m\u001b[K' defined but not used [\u001b[01;35m\u001b[K-Wunused-function\u001b[m\u001b[K]\n",
            " std::string \u001b[01;35m\u001b[Klexical_cast<std::string, std::string>\u001b[m\u001b[K(std::string arg) {\n",
            "             \u001b[01;35m\u001b[K^~~~~~~~~~~~~~~~~~~~~~~~~~~~~~~~~~~~~~\u001b[m\u001b[K\n",
            "libtool: compile:  g++ -DHAVE_CONFIG_H -I. -I.. -DDIC_VERSION=102 -DMECAB_DEFAULT_RC=\\\"/usr/local/etc/mecabrc\\\" -O3 -Wall -c viterbi.cpp -o viterbi.o >/dev/null 2>&1\n",
            "/bin/bash ../libtool --tag=CXX   --mode=compile g++ -DHAVE_CONFIG_H -I. -I.. -DDIC_VERSION=102   -DMECAB_DEFAULT_RC=\"\\\"/usr/local/etc/mecabrc\\\"\"    -O3 -Wall  -c -o tagger.lo tagger.cpp\n",
            "libtool: compile:  g++ -DHAVE_CONFIG_H -I. -I.. -DDIC_VERSION=102 -DMECAB_DEFAULT_RC=\\\"/usr/local/etc/mecabrc\\\" -O3 -Wall -c tagger.cpp  -fPIC -DPIC -o .libs/tagger.o\n",
            "libtool: compile:  g++ -DHAVE_CONFIG_H -I. -I.. -DDIC_VERSION=102 -DMECAB_DEFAULT_RC=\\\"/usr/local/etc/mecabrc\\\" -O3 -Wall -c tagger.cpp -o tagger.o >/dev/null 2>&1\n",
            "/bin/bash ../libtool --tag=CXX   --mode=compile g++ -DHAVE_CONFIG_H -I. -I.. -DDIC_VERSION=102   -DMECAB_DEFAULT_RC=\"\\\"/usr/local/etc/mecabrc\\\"\"    -O3 -Wall  -c -o utils.lo utils.cpp\n",
            "libtool: compile:  g++ -DHAVE_CONFIG_H -I. -I.. -DDIC_VERSION=102 -DMECAB_DEFAULT_RC=\\\"/usr/local/etc/mecabrc\\\" -O3 -Wall -c utils.cpp  -fPIC -DPIC -o .libs/utils.o\n",
            "libtool: compile:  g++ -DHAVE_CONFIG_H -I. -I.. -DDIC_VERSION=102 -DMECAB_DEFAULT_RC=\\\"/usr/local/etc/mecabrc\\\" -O3 -Wall -c utils.cpp -o utils.o >/dev/null 2>&1\n",
            "/bin/bash ../libtool --tag=CXX   --mode=compile g++ -DHAVE_CONFIG_H -I. -I.. -DDIC_VERSION=102   -DMECAB_DEFAULT_RC=\"\\\"/usr/local/etc/mecabrc\\\"\"    -O3 -Wall  -c -o eval.lo eval.cpp\n",
            "libtool: compile:  g++ -DHAVE_CONFIG_H -I. -I.. -DDIC_VERSION=102 -DMECAB_DEFAULT_RC=\\\"/usr/local/etc/mecabrc\\\" -O3 -Wall -c eval.cpp  -fPIC -DPIC -o .libs/eval.o\n",
            "libtool: compile:  g++ -DHAVE_CONFIG_H -I. -I.. -DDIC_VERSION=102 -DMECAB_DEFAULT_RC=\\\"/usr/local/etc/mecabrc\\\" -O3 -Wall -c eval.cpp -o eval.o >/dev/null 2>&1\n",
            "/bin/bash ../libtool --tag=CXX   --mode=compile g++ -DHAVE_CONFIG_H -I. -I.. -DDIC_VERSION=102   -DMECAB_DEFAULT_RC=\"\\\"/usr/local/etc/mecabrc\\\"\"    -O3 -Wall  -c -o iconv_utils.lo iconv_utils.cpp\n",
            "libtool: compile:  g++ -DHAVE_CONFIG_H -I. -I.. -DDIC_VERSION=102 -DMECAB_DEFAULT_RC=\\\"/usr/local/etc/mecabrc\\\" -O3 -Wall -c iconv_utils.cpp  -fPIC -DPIC -o .libs/iconv_utils.o\n",
            "libtool: compile:  g++ -DHAVE_CONFIG_H -I. -I.. -DDIC_VERSION=102 -DMECAB_DEFAULT_RC=\\\"/usr/local/etc/mecabrc\\\" -O3 -Wall -c iconv_utils.cpp -o iconv_utils.o >/dev/null 2>&1\n",
            "/bin/bash ../libtool --tag=CXX   --mode=compile g++ -DHAVE_CONFIG_H -I. -I.. -DDIC_VERSION=102   -DMECAB_DEFAULT_RC=\"\\\"/usr/local/etc/mecabrc\\\"\"    -O3 -Wall  -c -o dictionary_rewriter.lo dictionary_rewriter.cpp\n",
            "libtool: compile:  g++ -DHAVE_CONFIG_H -I. -I.. -DDIC_VERSION=102 -DMECAB_DEFAULT_RC=\\\"/usr/local/etc/mecabrc\\\" -O3 -Wall -c dictionary_rewriter.cpp  -fPIC -DPIC -o .libs/dictionary_rewriter.o\n",
            "libtool: compile:  g++ -DHAVE_CONFIG_H -I. -I.. -DDIC_VERSION=102 -DMECAB_DEFAULT_RC=\\\"/usr/local/etc/mecabrc\\\" -O3 -Wall -c dictionary_rewriter.cpp -o dictionary_rewriter.o >/dev/null 2>&1\n",
            "/bin/bash ../libtool --tag=CXX   --mode=compile g++ -DHAVE_CONFIG_H -I. -I.. -DDIC_VERSION=102   -DMECAB_DEFAULT_RC=\"\\\"/usr/local/etc/mecabrc\\\"\"    -O3 -Wall  -c -o dictionary_generator.lo dictionary_generator.cpp\n",
            "libtool: compile:  g++ -DHAVE_CONFIG_H -I. -I.. -DDIC_VERSION=102 -DMECAB_DEFAULT_RC=\\\"/usr/local/etc/mecabrc\\\" -O3 -Wall -c dictionary_generator.cpp  -fPIC -DPIC -o .libs/dictionary_generator.o\n",
            "libtool: compile:  g++ -DHAVE_CONFIG_H -I. -I.. -DDIC_VERSION=102 -DMECAB_DEFAULT_RC=\\\"/usr/local/etc/mecabrc\\\" -O3 -Wall -c dictionary_generator.cpp -o dictionary_generator.o >/dev/null 2>&1\n",
            "/bin/bash ../libtool --tag=CXX   --mode=compile g++ -DHAVE_CONFIG_H -I. -I.. -DDIC_VERSION=102   -DMECAB_DEFAULT_RC=\"\\\"/usr/local/etc/mecabrc\\\"\"    -O3 -Wall  -c -o dictionary_compiler.lo dictionary_compiler.cpp\n",
            "libtool: compile:  g++ -DHAVE_CONFIG_H -I. -I.. -DDIC_VERSION=102 -DMECAB_DEFAULT_RC=\\\"/usr/local/etc/mecabrc\\\" -O3 -Wall -c dictionary_compiler.cpp  -fPIC -DPIC -o .libs/dictionary_compiler.o\n",
            "libtool: compile:  g++ -DHAVE_CONFIG_H -I. -I.. -DDIC_VERSION=102 -DMECAB_DEFAULT_RC=\\\"/usr/local/etc/mecabrc\\\" -O3 -Wall -c dictionary_compiler.cpp -o dictionary_compiler.o >/dev/null 2>&1\n",
            "/bin/bash ../libtool --tag=CXX   --mode=compile g++ -DHAVE_CONFIG_H -I. -I.. -DDIC_VERSION=102   -DMECAB_DEFAULT_RC=\"\\\"/usr/local/etc/mecabrc\\\"\"    -O3 -Wall  -c -o context_id.lo context_id.cpp\n",
            "libtool: compile:  g++ -DHAVE_CONFIG_H -I. -I.. -DDIC_VERSION=102 -DMECAB_DEFAULT_RC=\\\"/usr/local/etc/mecabrc\\\" -O3 -Wall -c context_id.cpp  -fPIC -DPIC -o .libs/context_id.o\n",
            "libtool: compile:  g++ -DHAVE_CONFIG_H -I. -I.. -DDIC_VERSION=102 -DMECAB_DEFAULT_RC=\\\"/usr/local/etc/mecabrc\\\" -O3 -Wall -c context_id.cpp -o context_id.o >/dev/null 2>&1\n",
            "/bin/bash ../libtool --tag=CXX   --mode=compile g++ -DHAVE_CONFIG_H -I. -I.. -DDIC_VERSION=102   -DMECAB_DEFAULT_RC=\"\\\"/usr/local/etc/mecabrc\\\"\"    -O3 -Wall  -c -o connector.lo connector.cpp\n",
            "libtool: compile:  g++ -DHAVE_CONFIG_H -I. -I.. -DDIC_VERSION=102 -DMECAB_DEFAULT_RC=\\\"/usr/local/etc/mecabrc\\\" -O3 -Wall -c connector.cpp  -fPIC -DPIC -o .libs/connector.o\n",
            "libtool: compile:  g++ -DHAVE_CONFIG_H -I. -I.. -DDIC_VERSION=102 -DMECAB_DEFAULT_RC=\\\"/usr/local/etc/mecabrc\\\" -O3 -Wall -c connector.cpp -o connector.o >/dev/null 2>&1\n",
            "/bin/bash ../libtool --tag=CXX   --mode=compile g++ -DHAVE_CONFIG_H -I. -I.. -DDIC_VERSION=102   -DMECAB_DEFAULT_RC=\"\\\"/usr/local/etc/mecabrc\\\"\"    -O3 -Wall  -c -o nbest_generator.lo nbest_generator.cpp\n",
            "libtool: compile:  g++ -DHAVE_CONFIG_H -I. -I.. -DDIC_VERSION=102 -DMECAB_DEFAULT_RC=\\\"/usr/local/etc/mecabrc\\\" -O3 -Wall -c nbest_generator.cpp  -fPIC -DPIC -o .libs/nbest_generator.o\n",
            "libtool: compile:  g++ -DHAVE_CONFIG_H -I. -I.. -DDIC_VERSION=102 -DMECAB_DEFAULT_RC=\\\"/usr/local/etc/mecabrc\\\" -O3 -Wall -c nbest_generator.cpp -o nbest_generator.o >/dev/null 2>&1\n",
            "/bin/bash ../libtool --tag=CXX   --mode=compile g++ -DHAVE_CONFIG_H -I. -I.. -DDIC_VERSION=102   -DMECAB_DEFAULT_RC=\"\\\"/usr/local/etc/mecabrc\\\"\"    -O3 -Wall  -c -o writer.lo writer.cpp\n",
            "libtool: compile:  g++ -DHAVE_CONFIG_H -I. -I.. -DDIC_VERSION=102 -DMECAB_DEFAULT_RC=\\\"/usr/local/etc/mecabrc\\\" -O3 -Wall -c writer.cpp  -fPIC -DPIC -o .libs/writer.o\n",
            "libtool: compile:  g++ -DHAVE_CONFIG_H -I. -I.. -DDIC_VERSION=102 -DMECAB_DEFAULT_RC=\\\"/usr/local/etc/mecabrc\\\" -O3 -Wall -c writer.cpp -o writer.o >/dev/null 2>&1\n",
            "/bin/bash ../libtool --tag=CXX   --mode=compile g++ -DHAVE_CONFIG_H -I. -I.. -DDIC_VERSION=102   -DMECAB_DEFAULT_RC=\"\\\"/usr/local/etc/mecabrc\\\"\"    -O3 -Wall  -c -o string_buffer.lo string_buffer.cpp\n",
            "libtool: compile:  g++ -DHAVE_CONFIG_H -I. -I.. -DDIC_VERSION=102 -DMECAB_DEFAULT_RC=\\\"/usr/local/etc/mecabrc\\\" -O3 -Wall -c string_buffer.cpp  -fPIC -DPIC -o .libs/string_buffer.o\n",
            "libtool: compile:  g++ -DHAVE_CONFIG_H -I. -I.. -DDIC_VERSION=102 -DMECAB_DEFAULT_RC=\\\"/usr/local/etc/mecabrc\\\" -O3 -Wall -c string_buffer.cpp -o string_buffer.o >/dev/null 2>&1\n",
            "/bin/bash ../libtool --tag=CXX   --mode=compile g++ -DHAVE_CONFIG_H -I. -I.. -DDIC_VERSION=102   -DMECAB_DEFAULT_RC=\"\\\"/usr/local/etc/mecabrc\\\"\"    -O3 -Wall  -c -o param.lo param.cpp\n",
            "libtool: compile:  g++ -DHAVE_CONFIG_H -I. -I.. -DDIC_VERSION=102 -DMECAB_DEFAULT_RC=\\\"/usr/local/etc/mecabrc\\\" -O3 -Wall -c param.cpp  -fPIC -DPIC -o .libs/param.o\n",
            "libtool: compile:  g++ -DHAVE_CONFIG_H -I. -I.. -DDIC_VERSION=102 -DMECAB_DEFAULT_RC=\\\"/usr/local/etc/mecabrc\\\" -O3 -Wall -c param.cpp -o param.o >/dev/null 2>&1\n",
            "/bin/bash ../libtool --tag=CXX   --mode=compile g++ -DHAVE_CONFIG_H -I. -I.. -DDIC_VERSION=102   -DMECAB_DEFAULT_RC=\"\\\"/usr/local/etc/mecabrc\\\"\"    -O3 -Wall  -c -o tokenizer.lo tokenizer.cpp\n",
            "libtool: compile:  g++ -DHAVE_CONFIG_H -I. -I.. -DDIC_VERSION=102 -DMECAB_DEFAULT_RC=\\\"/usr/local/etc/mecabrc\\\" -O3 -Wall -c tokenizer.cpp  -fPIC -DPIC -o .libs/tokenizer.o\n",
            "libtool: compile:  g++ -DHAVE_CONFIG_H -I. -I.. -DDIC_VERSION=102 -DMECAB_DEFAULT_RC=\\\"/usr/local/etc/mecabrc\\\" -O3 -Wall -c tokenizer.cpp -o tokenizer.o >/dev/null 2>&1\n",
            "/bin/bash ../libtool --tag=CXX   --mode=compile g++ -DHAVE_CONFIG_H -I. -I.. -DDIC_VERSION=102   -DMECAB_DEFAULT_RC=\"\\\"/usr/local/etc/mecabrc\\\"\"    -O3 -Wall  -c -o char_property.lo char_property.cpp\n",
            "libtool: compile:  g++ -DHAVE_CONFIG_H -I. -I.. -DDIC_VERSION=102 -DMECAB_DEFAULT_RC=\\\"/usr/local/etc/mecabrc\\\" -O3 -Wall -c char_property.cpp  -fPIC -DPIC -o .libs/char_property.o\n",
            "libtool: compile:  g++ -DHAVE_CONFIG_H -I. -I.. -DDIC_VERSION=102 -DMECAB_DEFAULT_RC=\\\"/usr/local/etc/mecabrc\\\" -O3 -Wall -c char_property.cpp -o char_property.o >/dev/null 2>&1\n",
            "/bin/bash ../libtool --tag=CXX   --mode=compile g++ -DHAVE_CONFIG_H -I. -I.. -DDIC_VERSION=102   -DMECAB_DEFAULT_RC=\"\\\"/usr/local/etc/mecabrc\\\"\"    -O3 -Wall  -c -o dictionary.lo dictionary.cpp\n",
            "libtool: compile:  g++ -DHAVE_CONFIG_H -I. -I.. -DDIC_VERSION=102 -DMECAB_DEFAULT_RC=\\\"/usr/local/etc/mecabrc\\\" -O3 -Wall -c dictionary.cpp  -fPIC -DPIC -o .libs/dictionary.o\n",
            "libtool: compile:  g++ -DHAVE_CONFIG_H -I. -I.. -DDIC_VERSION=102 -DMECAB_DEFAULT_RC=\\\"/usr/local/etc/mecabrc\\\" -O3 -Wall -c dictionary.cpp -o dictionary.o >/dev/null 2>&1\n",
            "/bin/bash ../libtool --tag=CXX   --mode=compile g++ -DHAVE_CONFIG_H -I. -I.. -DDIC_VERSION=102   -DMECAB_DEFAULT_RC=\"\\\"/usr/local/etc/mecabrc\\\"\"    -O3 -Wall  -c -o feature_index.lo feature_index.cpp\n",
            "libtool: compile:  g++ -DHAVE_CONFIG_H -I. -I.. -DDIC_VERSION=102 -DMECAB_DEFAULT_RC=\\\"/usr/local/etc/mecabrc\\\" -O3 -Wall -c feature_index.cpp  -fPIC -DPIC -o .libs/feature_index.o\n",
            "libtool: compile:  g++ -DHAVE_CONFIG_H -I. -I.. -DDIC_VERSION=102 -DMECAB_DEFAULT_RC=\\\"/usr/local/etc/mecabrc\\\" -O3 -Wall -c feature_index.cpp -o feature_index.o >/dev/null 2>&1\n",
            "/bin/bash ../libtool --tag=CXX   --mode=compile g++ -DHAVE_CONFIG_H -I. -I.. -DDIC_VERSION=102   -DMECAB_DEFAULT_RC=\"\\\"/usr/local/etc/mecabrc\\\"\"    -O3 -Wall  -c -o lbfgs.lo lbfgs.cpp\n",
            "libtool: compile:  g++ -DHAVE_CONFIG_H -I. -I.. -DDIC_VERSION=102 -DMECAB_DEFAULT_RC=\\\"/usr/local/etc/mecabrc\\\" -O3 -Wall -c lbfgs.cpp  -fPIC -DPIC -o .libs/lbfgs.o\n",
            "libtool: compile:  g++ -DHAVE_CONFIG_H -I. -I.. -DDIC_VERSION=102 -DMECAB_DEFAULT_RC=\\\"/usr/local/etc/mecabrc\\\" -O3 -Wall -c lbfgs.cpp -o lbfgs.o >/dev/null 2>&1\n",
            "/bin/bash ../libtool --tag=CXX   --mode=compile g++ -DHAVE_CONFIG_H -I. -I.. -DDIC_VERSION=102   -DMECAB_DEFAULT_RC=\"\\\"/usr/local/etc/mecabrc\\\"\"    -O3 -Wall  -c -o learner_tagger.lo learner_tagger.cpp\n",
            "libtool: compile:  g++ -DHAVE_CONFIG_H -I. -I.. -DDIC_VERSION=102 -DMECAB_DEFAULT_RC=\\\"/usr/local/etc/mecabrc\\\" -O3 -Wall -c learner_tagger.cpp  -fPIC -DPIC -o .libs/learner_tagger.o\n",
            "\u001b[01m\u001b[Klearner_tagger.cpp:25:7:\u001b[m\u001b[K \u001b[01;35m\u001b[Kwarning: \u001b[m\u001b[K'\u001b[01m\u001b[Kchar* MeCab::{anonymous}::mystrdup(const string&)\u001b[m\u001b[K' defined but not used [\u001b[01;35m\u001b[K-Wunused-function\u001b[m\u001b[K]\n",
            " char *\u001b[01;35m\u001b[Kmystrdup\u001b[m\u001b[K(const std::string &str) {\n",
            "       \u001b[01;35m\u001b[K^~~~~~~~\u001b[m\u001b[K\n",
            "libtool: compile:  g++ -DHAVE_CONFIG_H -I. -I.. -DDIC_VERSION=102 -DMECAB_DEFAULT_RC=\\\"/usr/local/etc/mecabrc\\\" -O3 -Wall -c learner_tagger.cpp -o learner_tagger.o >/dev/null 2>&1\n",
            "/bin/bash ../libtool --tag=CXX   --mode=compile g++ -DHAVE_CONFIG_H -I. -I.. -DDIC_VERSION=102   -DMECAB_DEFAULT_RC=\"\\\"/usr/local/etc/mecabrc\\\"\"    -O3 -Wall  -c -o learner.lo learner.cpp\n",
            "libtool: compile:  g++ -DHAVE_CONFIG_H -I. -I.. -DDIC_VERSION=102 -DMECAB_DEFAULT_RC=\\\"/usr/local/etc/mecabrc\\\" -O3 -Wall -c learner.cpp  -fPIC -DPIC -o .libs/learner.o\n",
            "libtool: compile:  g++ -DHAVE_CONFIG_H -I. -I.. -DDIC_VERSION=102 -DMECAB_DEFAULT_RC=\\\"/usr/local/etc/mecabrc\\\" -O3 -Wall -c learner.cpp -o learner.o >/dev/null 2>&1\n",
            "/bin/bash ../libtool --tag=CXX   --mode=compile g++ -DHAVE_CONFIG_H -I. -I.. -DDIC_VERSION=102   -DMECAB_DEFAULT_RC=\"\\\"/usr/local/etc/mecabrc\\\"\"    -O3 -Wall  -c -o libmecab.lo libmecab.cpp\n",
            "libtool: compile:  g++ -DHAVE_CONFIG_H -I. -I.. -DDIC_VERSION=102 -DMECAB_DEFAULT_RC=\\\"/usr/local/etc/mecabrc\\\" -O3 -Wall -c libmecab.cpp  -fPIC -DPIC -o .libs/libmecab.o\n",
            "libtool: compile:  g++ -DHAVE_CONFIG_H -I. -I.. -DDIC_VERSION=102 -DMECAB_DEFAULT_RC=\\\"/usr/local/etc/mecabrc\\\" -O3 -Wall -c libmecab.cpp -o libmecab.o >/dev/null 2>&1\n",
            "/bin/bash ../libtool --tag=CXX   --mode=link g++  -O3 -Wall  -no-undefined -version-info 2:0:0  -o libmecab.la -rpath /usr/local/lib viterbi.lo tagger.lo utils.lo eval.lo iconv_utils.lo dictionary_rewriter.lo dictionary_generator.lo dictionary_compiler.lo context_id.lo connector.lo nbest_generator.lo writer.lo string_buffer.lo param.lo tokenizer.lo char_property.lo dictionary.lo feature_index.lo lbfgs.lo learner_tagger.lo learner.lo libmecab.lo  -lpthread -lpthread  -lstdc++ \n",
            "libtool: link: g++  -fPIC -DPIC -shared -nostdlib /usr/lib/gcc/x86_64-linux-gnu/7/../../../x86_64-linux-gnu/crti.o /usr/lib/gcc/x86_64-linux-gnu/7/crtbeginS.o  .libs/viterbi.o .libs/tagger.o .libs/utils.o .libs/eval.o .libs/iconv_utils.o .libs/dictionary_rewriter.o .libs/dictionary_generator.o .libs/dictionary_compiler.o .libs/context_id.o .libs/connector.o .libs/nbest_generator.o .libs/writer.o .libs/string_buffer.o .libs/param.o .libs/tokenizer.o .libs/char_property.o .libs/dictionary.o .libs/feature_index.o .libs/lbfgs.o .libs/learner_tagger.o .libs/learner.o .libs/libmecab.o   -lpthread -L/usr/lib/gcc/x86_64-linux-gnu/7 -L/usr/lib/gcc/x86_64-linux-gnu/7/../../../x86_64-linux-gnu -L/usr/lib/gcc/x86_64-linux-gnu/7/../../../../lib -L/lib/x86_64-linux-gnu -L/lib/../lib -L/usr/lib/x86_64-linux-gnu -L/usr/lib/../lib -L/usr/local/cuda/lib64/stubs -L/usr/lib/gcc/x86_64-linux-gnu/7/../../.. -lstdc++ -lm -lc -lgcc_s /usr/lib/gcc/x86_64-linux-gnu/7/crtendS.o /usr/lib/gcc/x86_64-linux-gnu/7/../../../x86_64-linux-gnu/crtn.o  -O3   -Wl,-soname -Wl,libmecab.so.2 -o .libs/libmecab.so.2.0.0\n",
            "libtool: link: (cd \".libs\" && rm -f \"libmecab.so.2\" && ln -s \"libmecab.so.2.0.0\" \"libmecab.so.2\")\n",
            "libtool: link: (cd \".libs\" && rm -f \"libmecab.so\" && ln -s \"libmecab.so.2.0.0\" \"libmecab.so\")\n",
            "libtool: link: ar cru .libs/libmecab.a  viterbi.o tagger.o utils.o eval.o iconv_utils.o dictionary_rewriter.o dictionary_generator.o dictionary_compiler.o context_id.o connector.o nbest_generator.o writer.o string_buffer.o param.o tokenizer.o char_property.o dictionary.o feature_index.o lbfgs.o learner_tagger.o learner.o libmecab.o\n",
            "ar: `u' modifier ignored since `D' is the default (see `U')\n",
            "libtool: link: ranlib .libs/libmecab.a\n",
            "libtool: link: ( cd \".libs\" && rm -f \"libmecab.la\" && ln -s \"../libmecab.la\" \"libmecab.la\" )\n",
            "g++ -DHAVE_CONFIG_H -I. -I.. -DDIC_VERSION=102   -DMECAB_DEFAULT_RC=\"\\\"/usr/local/etc/mecabrc\\\"\"    -O3 -Wall  -c -o mecab.o mecab.cpp\n",
            "/bin/bash ../libtool --tag=CXX   --mode=link g++  -O3 -Wall    -o mecab mecab.o libmecab.la -lpthread -lpthread  -lstdc++ \n",
            "libtool: link: g++ -O3 -Wall -o .libs/mecab mecab.o  ./.libs/libmecab.so -lpthread -lstdc++\n",
            "g++ -DHAVE_CONFIG_H -I. -I.. -DDIC_VERSION=102   -DMECAB_DEFAULT_RC=\"\\\"/usr/local/etc/mecabrc\\\"\"    -O3 -Wall  -c -o mecab-dict-index.o mecab-dict-index.cpp\n",
            "/bin/bash ../libtool --tag=CXX   --mode=link g++  -O3 -Wall    -o mecab-dict-index mecab-dict-index.o libmecab.la -lpthread -lpthread  -lstdc++ \n",
            "libtool: link: g++ -O3 -Wall -o .libs/mecab-dict-index mecab-dict-index.o  ./.libs/libmecab.so -lpthread -lstdc++\n",
            "g++ -DHAVE_CONFIG_H -I. -I.. -DDIC_VERSION=102   -DMECAB_DEFAULT_RC=\"\\\"/usr/local/etc/mecabrc\\\"\"    -O3 -Wall  -c -o mecab-dict-gen.o mecab-dict-gen.cpp\n",
            "/bin/bash ../libtool --tag=CXX   --mode=link g++  -O3 -Wall    -o mecab-dict-gen mecab-dict-gen.o libmecab.la -lpthread -lpthread  -lstdc++ \n",
            "libtool: link: g++ -O3 -Wall -o .libs/mecab-dict-gen mecab-dict-gen.o  ./.libs/libmecab.so -lpthread -lstdc++\n",
            "g++ -DHAVE_CONFIG_H -I. -I.. -DDIC_VERSION=102   -DMECAB_DEFAULT_RC=\"\\\"/usr/local/etc/mecabrc\\\"\"    -O3 -Wall  -c -o mecab-cost-train.o mecab-cost-train.cpp\n",
            "/bin/bash ../libtool --tag=CXX   --mode=link g++  -O3 -Wall    -o mecab-cost-train mecab-cost-train.o libmecab.la -lpthread -lpthread  -lstdc++ \n",
            "libtool: link: g++ -O3 -Wall -o .libs/mecab-cost-train mecab-cost-train.o  ./.libs/libmecab.so -lpthread -lstdc++\n",
            "g++ -DHAVE_CONFIG_H -I. -I.. -DDIC_VERSION=102   -DMECAB_DEFAULT_RC=\"\\\"/usr/local/etc/mecabrc\\\"\"    -O3 -Wall  -c -o mecab-system-eval.o mecab-system-eval.cpp\n",
            "/bin/bash ../libtool --tag=CXX   --mode=link g++  -O3 -Wall    -o mecab-system-eval mecab-system-eval.o libmecab.la -lpthread -lpthread  -lstdc++ \n",
            "libtool: link: g++ -O3 -Wall -o .libs/mecab-system-eval mecab-system-eval.o  ./.libs/libmecab.so -lpthread -lstdc++\n",
            "g++ -DHAVE_CONFIG_H -I. -I.. -DDIC_VERSION=102   -DMECAB_DEFAULT_RC=\"\\\"/usr/local/etc/mecabrc\\\"\"    -O3 -Wall  -c -o mecab-test-gen.o mecab-test-gen.cpp\n",
            "/bin/bash ../libtool --tag=CXX   --mode=link g++  -O3 -Wall    -o mecab-test-gen mecab-test-gen.o libmecab.la -lpthread -lpthread  -lstdc++ \n",
            "libtool: link: g++ -O3 -Wall -o .libs/mecab-test-gen mecab-test-gen.o  ./.libs/libmecab.so -lpthread -lstdc++\n",
            "make[2]: Leaving directory '/tmp/mecab-0.996-ko-0.9.2/src'\n",
            "Making all in man\n",
            "make[2]: Entering directory '/tmp/mecab-0.996-ko-0.9.2/man'\n",
            "make[2]: Nothing to be done for 'all'.\n",
            "make[2]: Leaving directory '/tmp/mecab-0.996-ko-0.9.2/man'\n",
            "Making all in doc\n",
            "make[2]: Entering directory '/tmp/mecab-0.996-ko-0.9.2/doc'\n",
            "make[2]: Nothing to be done for 'all'.\n",
            "make[2]: Leaving directory '/tmp/mecab-0.996-ko-0.9.2/doc'\n",
            "Making all in tests\n",
            "make[2]: Entering directory '/tmp/mecab-0.996-ko-0.9.2/tests'\n",
            "make[2]: Nothing to be done for 'all'.\n",
            "make[2]: Leaving directory '/tmp/mecab-0.996-ko-0.9.2/tests'\n",
            "make[2]: Entering directory '/tmp/mecab-0.996-ko-0.9.2'\n",
            "make[2]: Leaving directory '/tmp/mecab-0.996-ko-0.9.2'\n",
            "make[1]: Leaving directory '/tmp/mecab-0.996-ko-0.9.2'\n",
            "+ make check\n",
            "Making check in src\n",
            "make[1]: Entering directory '/tmp/mecab-0.996-ko-0.9.2/src'\n",
            "make[1]: Nothing to be done for 'check'.\n",
            "make[1]: Leaving directory '/tmp/mecab-0.996-ko-0.9.2/src'\n",
            "Making check in man\n",
            "make[1]: Entering directory '/tmp/mecab-0.996-ko-0.9.2/man'\n",
            "make[1]: Nothing to be done for 'check'.\n",
            "make[1]: Leaving directory '/tmp/mecab-0.996-ko-0.9.2/man'\n",
            "Making check in doc\n",
            "make[1]: Entering directory '/tmp/mecab-0.996-ko-0.9.2/doc'\n",
            "make[1]: Nothing to be done for 'check'.\n",
            "make[1]: Leaving directory '/tmp/mecab-0.996-ko-0.9.2/doc'\n",
            "Making check in tests\n",
            "make[1]: Entering directory '/tmp/mecab-0.996-ko-0.9.2/tests'\n",
            "make  check-TESTS\n",
            "make[2]: Entering directory '/tmp/mecab-0.996-ko-0.9.2/tests'\n",
            "./pos-id.def is not found. minimum setting is used\n",
            "reading ./unk.def ... 2\n",
            "emitting double-array: 100% |###########################################| \n",
            "./model.def is not found. skipped.\n",
            "./pos-id.def is not found. minimum setting is used\n",
            "reading ./dic.csv ... 177\n",
            "emitting double-array: 100% |###########################################| \n",
            "reading ./matrix.def ... 178x178\n",
            "emitting matrix      : 100% |###########################################| \n",
            "\n",
            "done!\n",
            "./pos-id.def is not found. minimum setting is used\n",
            "reading ./unk.def ... 2\n",
            "emitting double-array: 100% |###########################################| \n",
            "./model.def is not found. skipped.\n",
            "./pos-id.def is not found. minimum setting is used\n",
            "reading ./dic.csv ... 83\n",
            "emitting double-array: 100% |###########################################| \n",
            "reading ./matrix.def ... 84x84\n",
            "emitting matrix      : 100% |###########################################| \n",
            "\n",
            "done!\n",
            "./pos-id.def is not found. minimum setting is used\n",
            "reading ./unk.def ... 2\n",
            "emitting double-array: 100% |###########################################| \n",
            "./model.def is not found. skipped.\n",
            "./pos-id.def is not found. minimum setting is used\n",
            "reading ./dic.csv ... 450\n",
            "emitting double-array: 100% |###########################################| \n",
            "reading ./matrix.def ... 1x1\n",
            "\n",
            "done!\n",
            "./pos-id.def is not found. minimum setting is used\n",
            "reading ./unk.def ... 2\n",
            "emitting double-array: 100% |###########################################| \n",
            "./model.def is not found. skipped.\n",
            "./pos-id.def is not found. minimum setting is used\n",
            "reading ./dic.csv ... 162\n",
            "emitting double-array: 100% |###########################################| \n",
            "reading ./matrix.def ... 3x3\n",
            "emitting matrix      : 100% |###########################################| \n",
            "\n",
            "done!\n",
            "./pos-id.def is not found. minimum setting is used\n",
            "reading ./unk.def ... 2\n",
            "emitting double-array: 100% |###########################################| \n",
            "./model.def is not found. skipped.\n",
            "./pos-id.def is not found. minimum setting is used\n",
            "reading ./dic.csv ... 4\n",
            "emitting double-array: 100% |###########################################| \n",
            "reading ./matrix.def ... 1x1\n",
            "\n",
            "done!\n",
            "./pos-id.def is not found. minimum setting is used\n",
            "reading ./unk.def ... 11\n",
            "emitting double-array: 100% |###########################################| \n",
            "./model.def is not found. skipped.\n",
            "./pos-id.def is not found. minimum setting is used\n",
            "reading ./dic.csv ... 1\n",
            "reading ./matrix.def ... 1x1\n",
            "\n",
            "done!\n",
            "./pos-id.def is not found. minimum setting is used\n",
            "reading ./unk.def ... 2\n",
            "emitting double-array: 100% |###########################################| \n",
            "./model.def is not found. skipped.\n",
            "./pos-id.def is not found. minimum setting is used\n",
            "reading ./dic.csv ... 1\n",
            "reading ./matrix.def ... 1x1\n",
            "\n",
            "done!\n",
            "PASS: run-dics.sh\n",
            "PASS: run-eval.sh\n",
            "seed/pos-id.def is not found. minimum setting is used\n",
            "reading seed/unk.def ... 40\n",
            "emitting double-array: 100% |###########################################| \n",
            "seed/model.def is not found. skipped.\n",
            "seed/pos-id.def is not found. minimum setting is used\n",
            "reading seed/dic.csv ... 4335\n",
            "emitting double-array: 100% |###########################################| \n",
            "reading seed/matrix.def ... 1x1\n",
            "\n",
            "done!\n",
            "reading corpus ...\n",
            "Number of sentences: 34\n",
            "Number of features:  64108\n",
            "eta:                 0.00005\n",
            "freq:                1\n",
            "eval-size:           6\n",
            "unk-eval-size:       4\n",
            "threads:             1\n",
            "charset:             EUC-JP\n",
            "C(sigma^2):          1.00000\n",
            "\n",
            "iter=0 err=1.00000 F=0.35771 target=2406.28355 diff=1.00000\n",
            "iter=1 err=0.97059 F=0.65652 target=1484.25231 diff=0.38318\n",
            "iter=2 err=0.91176 F=0.79331 target=863.32765 diff=0.41834\n",
            "iter=3 err=0.85294 F=0.89213 target=596.72480 diff=0.30881\n",
            "iter=4 err=0.61765 F=0.95467 target=336.30744 diff=0.43641\n",
            "iter=5 err=0.50000 F=0.96702 target=246.53039 diff=0.26695\n",
            "iter=6 err=0.35294 F=0.95472 target=188.93963 diff=0.23361\n",
            "iter=7 err=0.20588 F=0.99106 target=168.62665 diff=0.10751\n",
            "iter=8 err=0.05882 F=0.99777 target=158.64865 diff=0.05917\n",
            "iter=9 err=0.08824 F=0.99665 target=154.14530 diff=0.02839\n",
            "iter=10 err=0.08824 F=0.99665 target=151.94257 diff=0.01429\n",
            "iter=11 err=0.02941 F=0.99888 target=147.20825 diff=0.03116\n",
            "iter=12 err=0.00000 F=1.00000 target=147.34956 diff=0.00096\n",
            "iter=13 err=0.02941 F=0.99888 target=146.32592 diff=0.00695\n",
            "iter=14 err=0.00000 F=1.00000 target=145.77299 diff=0.00378\n",
            "iter=15 err=0.02941 F=0.99888 target=145.24641 diff=0.00361\n",
            "iter=16 err=0.00000 F=1.00000 target=144.96490 diff=0.00194\n",
            "iter=17 err=0.02941 F=0.99888 target=144.90246 diff=0.00043\n",
            "iter=18 err=0.00000 F=1.00000 target=144.75959 diff=0.00099\n",
            "iter=19 err=0.00000 F=1.00000 target=144.71727 diff=0.00029\n",
            "iter=20 err=0.00000 F=1.00000 target=144.66337 diff=0.00037\n",
            "iter=21 err=0.00000 F=1.00000 target=144.61349 diff=0.00034\n",
            "iter=22 err=0.00000 F=1.00000 target=144.62987 diff=0.00011\n",
            "iter=23 err=0.00000 F=1.00000 target=144.60060 diff=0.00020\n",
            "iter=24 err=0.00000 F=1.00000 target=144.59125 diff=0.00006\n",
            "iter=25 err=0.00000 F=1.00000 target=144.58619 diff=0.00004\n",
            "iter=26 err=0.00000 F=1.00000 target=144.58219 diff=0.00003\n",
            "iter=27 err=0.00000 F=1.00000 target=144.58059 diff=0.00001\n",
            "\n",
            "Done! writing model file ... \n",
            "model-ipadic.c1.0.f1.model is not a binary model. reopen it as text mode...\n",
            "reading seed/unk.def ... 40\n",
            "reading seed/dic.csv ... 4335\n",
            "emitting model-ipadic.c1.0.f1.dic/left-id.def/ model-ipadic.c1.0.f1.dic/right-id.def\n",
            "emitting model-ipadic.c1.0.f1.dic/unk.def ... 40\n",
            "emitting model-ipadic.c1.0.f1.dic/dic.csv ... 4335\n",
            "emitting matrix      : 100% |###########################################| \n",
            "copying seed/char.def to model-ipadic.c1.0.f1.dic/char.def\n",
            "copying seed/rewrite.def to model-ipadic.c1.0.f1.dic/rewrite.def\n",
            "copying seed/dicrc to model-ipadic.c1.0.f1.dic/dicrc\n",
            "copying seed/feature.def to model-ipadic.c1.0.f1.dic/feature.def\n",
            "copying model-ipadic.c1.0.f1.model to model-ipadic.c1.0.f1.dic/model.def\n",
            "\n",
            "done!\n",
            "model-ipadic.c1.0.f1.dic/pos-id.def is not found. minimum setting is used\n",
            "reading model-ipadic.c1.0.f1.dic/unk.def ... 40\n",
            "emitting double-array: 100% |###########################################| \n",
            "model-ipadic.c1.0.f1.dic/pos-id.def is not found. minimum setting is used\n",
            "reading model-ipadic.c1.0.f1.dic/dic.csv ... 4335\n",
            "emitting double-array: 100% |###########################################| \n",
            "reading model-ipadic.c1.0.f1.dic/matrix.def ... 346x346\n",
            "emitting matrix      : 100% |###########################################| \n",
            "\n",
            "done!\n",
            "              precision          recall         F\n",
            "LEVEL 0:    12.8959(57/442) 11.8998(57/479) 12.3779\n",
            "LEVEL 1:    12.2172(54/442) 11.2735(54/479) 11.7264\n",
            "LEVEL 2:    11.7647(52/442) 10.8559(52/479) 11.2921\n",
            "LEVEL 4:    11.7647(52/442) 10.8559(52/479) 11.2921\n",
            "PASS: run-cost-train.sh\n",
            "==================\n",
            "All 3 tests passed\n",
            "==================\n",
            "make[2]: Leaving directory '/tmp/mecab-0.996-ko-0.9.2/tests'\n",
            "make[1]: Leaving directory '/tmp/mecab-0.996-ko-0.9.2/tests'\n",
            "make[1]: Entering directory '/tmp/mecab-0.996-ko-0.9.2'\n",
            "make[1]: Leaving directory '/tmp/mecab-0.996-ko-0.9.2'\n",
            "+ sudo make install\n",
            "Making install in src\n",
            "make[1]: Entering directory '/tmp/mecab-0.996-ko-0.9.2/src'\n",
            "make[2]: Entering directory '/tmp/mecab-0.996-ko-0.9.2/src'\n",
            "test -z \"/usr/local/lib\" || /bin/mkdir -p \"/usr/local/lib\"\n",
            " /bin/bash ../libtool   --mode=install /usr/bin/install -c   libmecab.la '/usr/local/lib'\n",
            "libtool: install: /usr/bin/install -c .libs/libmecab.so.2.0.0 /usr/local/lib/libmecab.so.2.0.0\n",
            "libtool: install: (cd /usr/local/lib && { ln -s -f libmecab.so.2.0.0 libmecab.so.2 || { rm -f libmecab.so.2 && ln -s libmecab.so.2.0.0 libmecab.so.2; }; })\n",
            "libtool: install: (cd /usr/local/lib && { ln -s -f libmecab.so.2.0.0 libmecab.so || { rm -f libmecab.so && ln -s libmecab.so.2.0.0 libmecab.so; }; })\n",
            "libtool: install: /usr/bin/install -c .libs/libmecab.lai /usr/local/lib/libmecab.la\n",
            "libtool: install: /usr/bin/install -c .libs/libmecab.a /usr/local/lib/libmecab.a\n",
            "libtool: install: chmod 644 /usr/local/lib/libmecab.a\n",
            "libtool: install: ranlib /usr/local/lib/libmecab.a\n",
            "libtool: finish: PATH=\"/usr/local/sbin:/usr/local/bin:/usr/sbin:/usr/bin:/sbin:/bin:/snap/bin:/sbin\" ldconfig -n /usr/local/lib\n",
            "----------------------------------------------------------------------\n",
            "Libraries have been installed in:\n",
            "   /usr/local/lib\n",
            "\n",
            "If you ever happen to want to link against installed libraries\n",
            "in a given directory, LIBDIR, you must either use libtool, and\n",
            "specify the full pathname of the library, or use the `-LLIBDIR'\n",
            "flag during linking and do at least one of the following:\n",
            "   - add LIBDIR to the `LD_LIBRARY_PATH' environment variable\n",
            "     during execution\n",
            "   - add LIBDIR to the `LD_RUN_PATH' environment variable\n",
            "     during linking\n",
            "   - use the `-Wl,-rpath -Wl,LIBDIR' linker flag\n",
            "   - have your system administrator add LIBDIR to `/etc/ld.so.conf'\n",
            "\n",
            "See any operating system documentation about shared libraries for\n",
            "more information, such as the ld(1) and ld.so(8) manual pages.\n",
            "----------------------------------------------------------------------\n",
            "test -z \"/usr/local/bin\" || /bin/mkdir -p \"/usr/local/bin\"\n",
            "  /bin/bash ../libtool   --mode=install /usr/bin/install -c mecab '/usr/local/bin'\n",
            "libtool: install: /usr/bin/install -c .libs/mecab /usr/local/bin/mecab\n",
            "test -z \"/usr/local/libexec/mecab\" || /bin/mkdir -p \"/usr/local/libexec/mecab\"\n",
            "  /bin/bash ../libtool   --mode=install /usr/bin/install -c mecab-dict-index mecab-dict-gen mecab-cost-train mecab-system-eval mecab-test-gen '/usr/local/libexec/mecab'\n",
            "libtool: install: /usr/bin/install -c .libs/mecab-dict-index /usr/local/libexec/mecab/mecab-dict-index\n",
            "libtool: install: /usr/bin/install -c .libs/mecab-dict-gen /usr/local/libexec/mecab/mecab-dict-gen\n",
            "libtool: install: /usr/bin/install -c .libs/mecab-cost-train /usr/local/libexec/mecab/mecab-cost-train\n",
            "libtool: install: /usr/bin/install -c .libs/mecab-system-eval /usr/local/libexec/mecab/mecab-system-eval\n",
            "libtool: install: /usr/bin/install -c .libs/mecab-test-gen /usr/local/libexec/mecab/mecab-test-gen\n",
            "test -z \"/usr/local/include\" || /bin/mkdir -p \"/usr/local/include\"\n",
            " /usr/bin/install -c -m 644 mecab.h '/usr/local/include'\n",
            "make[2]: Leaving directory '/tmp/mecab-0.996-ko-0.9.2/src'\n",
            "make[1]: Leaving directory '/tmp/mecab-0.996-ko-0.9.2/src'\n",
            "Making install in man\n",
            "make[1]: Entering directory '/tmp/mecab-0.996-ko-0.9.2/man'\n",
            "make[2]: Entering directory '/tmp/mecab-0.996-ko-0.9.2/man'\n",
            "make[2]: Nothing to be done for 'install-exec-am'.\n",
            "test -z \"/usr/local/share/man/man1\" || /bin/mkdir -p \"/usr/local/share/man/man1\"\n",
            " /usr/bin/install -c -m 644 mecab.1 '/usr/local/share/man/man1'\n",
            "make[2]: Leaving directory '/tmp/mecab-0.996-ko-0.9.2/man'\n",
            "make[1]: Leaving directory '/tmp/mecab-0.996-ko-0.9.2/man'\n",
            "Making install in doc\n",
            "make[1]: Entering directory '/tmp/mecab-0.996-ko-0.9.2/doc'\n",
            "make[2]: Entering directory '/tmp/mecab-0.996-ko-0.9.2/doc'\n",
            "make[2]: Nothing to be done for 'install-exec-am'.\n",
            "make[2]: Nothing to be done for 'install-data-am'.\n",
            "make[2]: Leaving directory '/tmp/mecab-0.996-ko-0.9.2/doc'\n",
            "make[1]: Leaving directory '/tmp/mecab-0.996-ko-0.9.2/doc'\n",
            "Making install in tests\n",
            "make[1]: Entering directory '/tmp/mecab-0.996-ko-0.9.2/tests'\n",
            "make[2]: Entering directory '/tmp/mecab-0.996-ko-0.9.2/tests'\n",
            "make[2]: Nothing to be done for 'install-exec-am'.\n",
            "make[2]: Nothing to be done for 'install-data-am'.\n",
            "make[2]: Leaving directory '/tmp/mecab-0.996-ko-0.9.2/tests'\n",
            "make[1]: Leaving directory '/tmp/mecab-0.996-ko-0.9.2/tests'\n",
            "make[1]: Entering directory '/tmp/mecab-0.996-ko-0.9.2'\n",
            "make[2]: Entering directory '/tmp/mecab-0.996-ko-0.9.2'\n",
            "test -z \"/usr/local/bin\" || /bin/mkdir -p \"/usr/local/bin\"\n",
            " /usr/bin/install -c mecab-config '/usr/local/bin'\n",
            "test -z \"/usr/local/etc\" || /bin/mkdir -p \"/usr/local/etc\"\n",
            " /usr/bin/install -c -m 644 mecabrc '/usr/local/etc'\n",
            "make[2]: Leaving directory '/tmp/mecab-0.996-ko-0.9.2'\n",
            "make[1]: Leaving directory '/tmp/mecab-0.996-ko-0.9.2'\n",
            "+ [[ -d /usr/local/lib/mecab/dic/mecab-ko-dic ]]\n",
            "+ echo 'Install mecab-ko-dic'\n",
            "Install mecab-ko-dic\n",
            "+ install_mecab_ko_dic\n",
            "+ echo 'Install mecab-ko-dic'\n",
            "Install mecab-ko-dic\n",
            "+ cd /tmp\n",
            "+ curl -LO https://bitbucket.org/eunjeon/mecab-ko-dic/downloads/mecab-ko-dic-2.1.1-20180720.tar.gz\n",
            "  % Total    % Received % Xferd  Average Speed   Time    Time     Time  Current\n",
            "                                 Dload  Upload   Total   Spent    Left  Speed\n",
            "  0     0    0     0    0     0      0      0 --:--:-- --:--:-- --:--:--     0\n",
            "100 47.4M  100 47.4M    0     0  23.0M      0  0:00:02  0:00:02 --:--:-- 33.2M\n",
            "+ tar -zxvf mecab-ko-dic-2.1.1-20180720.tar.gz\n",
            "mecab-ko-dic-2.1.1-20180720/\n",
            "mecab-ko-dic-2.1.1-20180720/configure\n",
            "mecab-ko-dic-2.1.1-20180720/COPYING\n",
            "mecab-ko-dic-2.1.1-20180720/autogen.sh\n",
            "mecab-ko-dic-2.1.1-20180720/Place-station.csv\n",
            "mecab-ko-dic-2.1.1-20180720/NNG.csv\n",
            "mecab-ko-dic-2.1.1-20180720/README\n",
            "mecab-ko-dic-2.1.1-20180720/EF.csv\n",
            "mecab-ko-dic-2.1.1-20180720/MAG.csv\n",
            "mecab-ko-dic-2.1.1-20180720/Preanalysis.csv\n",
            "mecab-ko-dic-2.1.1-20180720/NNB.csv\n",
            "mecab-ko-dic-2.1.1-20180720/Person-actor.csv\n",
            "mecab-ko-dic-2.1.1-20180720/VV.csv\n",
            "mecab-ko-dic-2.1.1-20180720/Makefile.in\n",
            "mecab-ko-dic-2.1.1-20180720/matrix.def\n",
            "mecab-ko-dic-2.1.1-20180720/EC.csv\n",
            "mecab-ko-dic-2.1.1-20180720/NNBC.csv\n",
            "mecab-ko-dic-2.1.1-20180720/clean\n",
            "mecab-ko-dic-2.1.1-20180720/ChangeLog\n",
            "mecab-ko-dic-2.1.1-20180720/J.csv\n",
            "mecab-ko-dic-2.1.1-20180720/.keep\n",
            "mecab-ko-dic-2.1.1-20180720/feature.def\n",
            "mecab-ko-dic-2.1.1-20180720/Foreign.csv\n",
            "mecab-ko-dic-2.1.1-20180720/XPN.csv\n",
            "mecab-ko-dic-2.1.1-20180720/EP.csv\n",
            "mecab-ko-dic-2.1.1-20180720/NR.csv\n",
            "mecab-ko-dic-2.1.1-20180720/left-id.def\n",
            "mecab-ko-dic-2.1.1-20180720/Place.csv\n",
            "mecab-ko-dic-2.1.1-20180720/Symbol.csv\n",
            "mecab-ko-dic-2.1.1-20180720/dicrc\n",
            "mecab-ko-dic-2.1.1-20180720/NP.csv\n",
            "mecab-ko-dic-2.1.1-20180720/ETM.csv\n",
            "mecab-ko-dic-2.1.1-20180720/IC.csv\n",
            "mecab-ko-dic-2.1.1-20180720/Place-address.csv\n",
            "mecab-ko-dic-2.1.1-20180720/Group.csv\n",
            "mecab-ko-dic-2.1.1-20180720/model.def\n",
            "mecab-ko-dic-2.1.1-20180720/XSN.csv\n",
            "mecab-ko-dic-2.1.1-20180720/INSTALL\n",
            "mecab-ko-dic-2.1.1-20180720/rewrite.def\n",
            "mecab-ko-dic-2.1.1-20180720/Inflect.csv\n",
            "mecab-ko-dic-2.1.1-20180720/configure.ac\n",
            "mecab-ko-dic-2.1.1-20180720/NNP.csv\n",
            "mecab-ko-dic-2.1.1-20180720/CoinedWord.csv\n",
            "mecab-ko-dic-2.1.1-20180720/XSV.csv\n",
            "mecab-ko-dic-2.1.1-20180720/pos-id.def\n",
            "mecab-ko-dic-2.1.1-20180720/Makefile.am\n",
            "mecab-ko-dic-2.1.1-20180720/unk.def\n",
            "mecab-ko-dic-2.1.1-20180720/missing\n",
            "mecab-ko-dic-2.1.1-20180720/VCP.csv\n",
            "mecab-ko-dic-2.1.1-20180720/install-sh\n",
            "mecab-ko-dic-2.1.1-20180720/Hanja.csv\n",
            "mecab-ko-dic-2.1.1-20180720/MAJ.csv\n",
            "mecab-ko-dic-2.1.1-20180720/XSA.csv\n",
            "mecab-ko-dic-2.1.1-20180720/Wikipedia.csv\n",
            "mecab-ko-dic-2.1.1-20180720/tools/\n",
            "mecab-ko-dic-2.1.1-20180720/tools/add-userdic.sh\n",
            "mecab-ko-dic-2.1.1-20180720/tools/mecab-bestn.sh\n",
            "mecab-ko-dic-2.1.1-20180720/tools/convert_for_using_store.sh\n",
            "mecab-ko-dic-2.1.1-20180720/user-dic/\n",
            "mecab-ko-dic-2.1.1-20180720/user-dic/nnp.csv\n",
            "mecab-ko-dic-2.1.1-20180720/user-dic/place.csv\n",
            "mecab-ko-dic-2.1.1-20180720/user-dic/person.csv\n",
            "mecab-ko-dic-2.1.1-20180720/user-dic/README.md\n",
            "mecab-ko-dic-2.1.1-20180720/NorthKorea.csv\n",
            "mecab-ko-dic-2.1.1-20180720/VX.csv\n",
            "mecab-ko-dic-2.1.1-20180720/right-id.def\n",
            "mecab-ko-dic-2.1.1-20180720/VA.csv\n",
            "mecab-ko-dic-2.1.1-20180720/char.def\n",
            "mecab-ko-dic-2.1.1-20180720/NEWS\n",
            "mecab-ko-dic-2.1.1-20180720/MM.csv\n",
            "mecab-ko-dic-2.1.1-20180720/ETN.csv\n",
            "mecab-ko-dic-2.1.1-20180720/AUTHORS\n",
            "mecab-ko-dic-2.1.1-20180720/Person.csv\n",
            "mecab-ko-dic-2.1.1-20180720/XR.csv\n",
            "mecab-ko-dic-2.1.1-20180720/VCN.csv\n",
            "+ cd mecab-ko-dic-2.1.1-20180720\n",
            "+ ./autogen.sh\n",
            "Looking in current directory for macros.\n",
            "configure.ac:2: warning: AM_INIT_AUTOMAKE: two- and three-arguments forms are deprecated.  For more info, see:\n",
            "configure.ac:2: http://www.gnu.org/software/automake/manual/automake.html#Modernize-AM_005fINIT_005fAUTOMAKE-invocation\n",
            "+ ./configure\n",
            "checking for a BSD-compatible install... /usr/bin/install -c\n",
            "checking whether build environment is sane... yes\n",
            "/tmp/mecab-ko-dic-2.1.1-20180720/missing: Unknown `--is-lightweight' option\n",
            "Try `/tmp/mecab-ko-dic-2.1.1-20180720/missing --help' for more information\n",
            "configure: WARNING: 'missing' script is too old or missing\n",
            "checking for a thread-safe mkdir -p... /bin/mkdir -p\n",
            "checking for gawk... no\n",
            "checking for mawk... mawk\n",
            "checking whether make sets $(MAKE)... yes\n",
            "checking whether make supports nested variables... yes\n",
            "checking for mecab-config... /usr/local/bin/mecab-config\n",
            "checking that generated files are newer than configure... done\n",
            "configure: creating ./config.status\n",
            "config.status: creating Makefile\n",
            "+ [[ Linux == \\L\\i\\n\\u\\x ]]\n",
            "+ mecab-config --libs-only-L\n",
            "+ sudo tee /etc/ld.so.conf.d/mecab.conf\n",
            "/usr/local/lib\n",
            "+ sudo ldconfig\n",
            "/sbin/ldconfig.real: /usr/local/lib/python3.6/dist-packages/ideep4py/lib/libmkldnn.so.0 is not a symbolic link\n",
            "\n",
            "+ make\n",
            "/usr/local/libexec/mecab/mecab-dict-index -d . -o . -f UTF-8 -t UTF-8\n",
            "reading ./unk.def ... 13\n",
            "emitting double-array: 100% |###########################################| \n",
            "reading ./ETM.csv ... 133\n",
            "reading ./NP.csv ... 342\n",
            "reading ./NR.csv ... 482\n",
            "reading ./VCN.csv ... 7\n",
            "reading ./MAG.csv ... 14242\n",
            "reading ./NNB.csv ... 140\n",
            "reading ./Place-station.csv ... 1145\n",
            "reading ./J.csv ... 416\n",
            "reading ./CoinedWord.csv ... 148\n",
            "reading ./EF.csv ... 1820\n",
            "reading ./NNBC.csv ... 677\n",
            "reading ./Wikipedia.csv ... 36762\n",
            "reading ./EP.csv ... 51\n",
            "reading ./MAJ.csv ... 240\n",
            "reading ./Person-actor.csv ... 99230\n",
            "reading ./Inflect.csv ... 44820\n",
            "reading ./Place.csv ... 30303\n",
            "reading ./VCP.csv ... 9\n",
            "reading ./Preanalysis.csv ... 5\n",
            "reading ./VV.csv ... 7331\n",
            "reading ./Person.csv ... 196459\n",
            "reading ./XSV.csv ... 23\n",
            "reading ./IC.csv ... 1305\n",
            "reading ./Group.csv ... 3176\n",
            "reading ./NNP.csv ... 2371\n",
            "reading ./VA.csv ... 2360\n",
            "reading ./ETN.csv ... 14\n",
            "reading ./EC.csv ... 2547\n",
            "reading ./VX.csv ... 125\n",
            "reading ./Place-address.csv ... 19301\n",
            "reading ./Hanja.csv ... 125750\n",
            "reading ./XPN.csv ... 83\n",
            "reading ./MM.csv ... 453\n",
            "reading ./XSN.csv ... 124\n",
            "reading ./Foreign.csv ... 11690\n",
            "reading ./NorthKorea.csv ... 3\n",
            "reading ./Symbol.csv ... 16\n",
            "reading ./NNG.csv ... 208524\n",
            "reading ./XR.csv ... 3637\n",
            "reading ./XSA.csv ... 19\n",
            "emitting double-array: 100% |###########################################| \n",
            "reading ./matrix.def ... 3822x2693\n",
            "emitting matrix      : 100% |###########################################| \n",
            "\n",
            "done!\n",
            "echo To enable dictionary, rewrite /usr/local/etc/mecabrc as \\\"dicdir = /usr/local/lib/mecab/dic/mecab-ko-dic\\\"\n",
            "To enable dictionary, rewrite /usr/local/etc/mecabrc as \"dicdir = /usr/local/lib/mecab/dic/mecab-ko-dic\"\n",
            "+ sudo sh -c 'echo \"dicdir=/usr/local/lib/mecab/dic/mecab-ko-dic\" > /usr/local/etc/mecabrc'\n",
            "+ sudo make install\n",
            "make[1]: Entering directory '/tmp/mecab-ko-dic-2.1.1-20180720'\n",
            "make[1]: Nothing to be done for 'install-exec-am'.\n",
            " /bin/mkdir -p '/usr/local/lib/mecab/dic/mecab-ko-dic'\n",
            " /usr/bin/install -c -m 644 model.bin matrix.bin char.bin sys.dic unk.dic left-id.def right-id.def rewrite.def pos-id.def dicrc '/usr/local/lib/mecab/dic/mecab-ko-dic'\n",
            "make[1]: Leaving directory '/tmp/mecab-ko-dic-2.1.1-20180720'\n",
            "++ python3 -c 'import pkgutil; print(1 if pkgutil.find_loader(\"MeCab\") else 0)'\n",
            "+ [[ 0 == \\1 ]]\n",
            "+ echo 'Install mecab-python'\n",
            "Install mecab-python\n",
            "+ install_mecab_python\n",
            "+ pushd /tmp\n",
            "/tmp /tmp/mecab-ko-dic-2.1.1-20180720\n",
            "+ [[ ! -d mecab-python-0.996 ]]\n",
            "+ git clone https://bitbucket.org/eunjeon/mecab-python-0.996.git\n",
            "Cloning into 'mecab-python-0.996'...\n",
            "remote: Counting objects: 17, done.\u001b[K\n",
            "remote: Compressing objects: 100% (16/16), done.\u001b[K\n",
            "remote: Total 17 (delta 3), reused 0 (delta 0)\u001b[K\n",
            "Unpacking objects: 100% (17/17), done.\n",
            "+ popd\n",
            "/tmp/mecab-ko-dic-2.1.1-20180720\n",
            "+ python3 -m pip install /tmp/mecab-python-0.996\n",
            "Processing /tmp/mecab-python-0.996\n",
            "Building wheels for collected packages: mecab-python\n",
            "  Building wheel for mecab-python (setup.py) ... \u001b[?25l\u001b[?25hdone\n",
            "  Created wheel for mecab-python: filename=mecab_python-0.996_ko_0.9.2-cp36-cp36m-linux_x86_64.whl size=140564 sha256=f0f8783f59f7a9b838ed3568cc2ff8abceb9e94d9e470969da1f6347d8e1dd18\n",
            "  Stored in directory: /root/.cache/pip/wheels/99/75/a6/e9e73a1dbd73579383644942ef18a6d17ad728a3052a1147fb\n",
            "Successfully built mecab-python\n",
            "Installing collected packages: mecab-python\n",
            "Successfully installed mecab-python-0.996-ko-0.9.2\n",
            "+ echo Done.\n",
            "Done.\n"
          ],
          "name": "stdout"
        }
      ]
    },
    {
      "cell_type": "code",
      "metadata": {
        "id": "Piur47l5A1TI"
      },
      "source": [
        "from konlpy.tag import Mecab\r\n",
        "import re\r\n",
        "\r\n",
        "def text_preprocessing(text_list):\r\n",
        "    \r\n",
        "    stopwords = [] #불용어 설정\r\n",
        "    \r\n",
        "    tokenizer = Mecab() #형태소 분석기 \r\n",
        "    token_list = [] \r\n",
        "    \r\n",
        "    for text in text_list:\r\n",
        "        txt = re.sub('[^가-힣]', ' ', text) #한글만 남기고 다른 글자 모두 제거\r\n",
        "        txt = re.sub('[가-힣\\s]+기자]','기자', txt) #기자 이름 제거\r\n",
        "        token = tokenizer.morphs(txt) #형태소 분석\r\n",
        "\r\n",
        "        #형태소 분석 결과 중 stopwords에 해당하지 않고, float type이 아닌 것만 수집\r\n",
        "        token = [t for t in token] \r\n",
        "        token_list.append(token)\r\n",
        "        \r\n",
        "    return token_list, tokenizer\r\n",
        "\r\n",
        "#형태소 분석기를 따로 저장한 이유는 후에 test 데이터 전처리를 진행할 때 이용해야 되기 때문입니다. \r\n",
        "train['new_article'], okt = text_preprocessing(train['content'])"
      ],
      "execution_count": 15,
      "outputs": []
    },
    {
      "cell_type": "code",
      "metadata": {
        "id": "9fJgEe3joxSc"
      },
      "source": [
        "# 결측치 제거\r\n",
        "train = train[train[\"new_article\"].apply(lambda x: False if len(x)==0 else True)]"
      ],
      "execution_count": 16,
      "outputs": []
    },
    {
      "cell_type": "code",
      "metadata": {
        "colab": {
          "base_uri": "https://localhost:8080/",
          "height": 765
        },
        "id": "cAVTxWTDSk_w",
        "outputId": "e2e48930-5913-4f00-bbe3-4437ca9c7d9a"
      },
      "source": [
        "train.head()"
      ],
      "execution_count": 17,
      "outputs": [
        {
          "output_type": "execute_result",
          "data": {
            "text/html": [
              "<div>\n",
              "<style scoped>\n",
              "    .dataframe tbody tr th:only-of-type {\n",
              "        vertical-align: middle;\n",
              "    }\n",
              "\n",
              "    .dataframe tbody tr th {\n",
              "        vertical-align: top;\n",
              "    }\n",
              "\n",
              "    .dataframe thead th {\n",
              "        text-align: right;\n",
              "    }\n",
              "</style>\n",
              "<table border=\"1\" class=\"dataframe\">\n",
              "  <thead>\n",
              "    <tr style=\"text-align: right;\">\n",
              "      <th></th>\n",
              "      <th>n_id</th>\n",
              "      <th>date</th>\n",
              "      <th>title</th>\n",
              "      <th>content</th>\n",
              "      <th>ord</th>\n",
              "      <th>info</th>\n",
              "      <th>content_startswith_[</th>\n",
              "      <th>info1_title</th>\n",
              "      <th>info1_content</th>\n",
              "      <th>new_ord</th>\n",
              "      <th>new_article</th>\n",
              "    </tr>\n",
              "  </thead>\n",
              "  <tbody>\n",
              "    <tr>\n",
              "      <th>0</th>\n",
              "      <td>NEWS02580</td>\n",
              "      <td>20200605</td>\n",
              "      <td>[마감]코스닥 기관 678억 순매도</td>\n",
              "      <td>[이데일리 MARKETPOINT]15:32 현재 코스닥 기관 678억 순매도</td>\n",
              "      <td>1</td>\n",
              "      <td>0</td>\n",
              "      <td>1</td>\n",
              "      <td>0</td>\n",
              "      <td>0</td>\n",
              "      <td>0.250000</td>\n",
              "      <td>[이, 데일리, 현재, 코스닥, 기관, 억, 순매도]</td>\n",
              "    </tr>\n",
              "    <tr>\n",
              "      <th>1</th>\n",
              "      <td>NEWS02580</td>\n",
              "      <td>20200605</td>\n",
              "      <td>[마감]코스닥 기관 678억 순매도</td>\n",
              "      <td>\"실적기반\" 저가에 매집해야 할 8월 급등유망주 TOP 5 전격공개</td>\n",
              "      <td>2</td>\n",
              "      <td>1</td>\n",
              "      <td>0</td>\n",
              "      <td>0</td>\n",
              "      <td>1</td>\n",
              "      <td>0.500000</td>\n",
              "      <td>[실적, 기반, 저가, 에, 매집, 해야, 할, 월, 급등, 유망주, 전격, 공개]</td>\n",
              "    </tr>\n",
              "    <tr>\n",
              "      <th>2</th>\n",
              "      <td>NEWS02580</td>\n",
              "      <td>20200605</td>\n",
              "      <td>[마감]코스닥 기관 678억 순매도</td>\n",
              "      <td>하이스탁론, 선취수수료 없는 월 0.4% 최저금리 상품 출시</td>\n",
              "      <td>3</td>\n",
              "      <td>1</td>\n",
              "      <td>0</td>\n",
              "      <td>0</td>\n",
              "      <td>0</td>\n",
              "      <td>0.750000</td>\n",
              "      <td>[하이스, 탁론, 선취, 수수료, 없, 는, 월, 최저, 금리, 상품, 출시]</td>\n",
              "    </tr>\n",
              "    <tr>\n",
              "      <th>3</th>\n",
              "      <td>NEWS02580</td>\n",
              "      <td>20200605</td>\n",
              "      <td>[마감]코스닥 기관 678억 순매도</td>\n",
              "      <td>종합 경제정보 미디어 이데일리 - 무단전재 &amp; 재배포 금지</td>\n",
              "      <td>4</td>\n",
              "      <td>0</td>\n",
              "      <td>0</td>\n",
              "      <td>0</td>\n",
              "      <td>0</td>\n",
              "      <td>1.000000</td>\n",
              "      <td>[종합, 경제, 정보, 미디어, 이, 데, 일리, 무단, 전재, 재, 배포, 금지]</td>\n",
              "    </tr>\n",
              "    <tr>\n",
              "      <th>4</th>\n",
              "      <td>NEWS09727</td>\n",
              "      <td>20200626</td>\n",
              "      <td>롯데·공영 등 7개 TV 홈쇼핑들, 동행세일 동참</td>\n",
              "      <td>전국적인 소비 붐 조성에 기여할 예정</td>\n",
              "      <td>1</td>\n",
              "      <td>0</td>\n",
              "      <td>0</td>\n",
              "      <td>0</td>\n",
              "      <td>0</td>\n",
              "      <td>0.066667</td>\n",
              "      <td>[전국, 적, 인, 소비, 붐, 조성, 에, 기여, 할, 예정]</td>\n",
              "    </tr>\n",
              "  </tbody>\n",
              "</table>\n",
              "</div>"
            ],
            "text/plain": [
              "        n_id  ...                                     new_article\n",
              "0  NEWS02580  ...                   [이, 데일리, 현재, 코스닥, 기관, 억, 순매도]\n",
              "1  NEWS02580  ...  [실적, 기반, 저가, 에, 매집, 해야, 할, 월, 급등, 유망주, 전격, 공개]\n",
              "2  NEWS02580  ...     [하이스, 탁론, 선취, 수수료, 없, 는, 월, 최저, 금리, 상품, 출시]\n",
              "3  NEWS02580  ...  [종합, 경제, 정보, 미디어, 이, 데, 일리, 무단, 전재, 재, 배포, 금지]\n",
              "4  NEWS09727  ...             [전국, 적, 인, 소비, 붐, 조성, 에, 기여, 할, 예정]\n",
              "\n",
              "[5 rows x 11 columns]"
            ]
          },
          "metadata": {
            "tags": []
          },
          "execution_count": 17
        }
      ]
    },
    {
      "cell_type": "markdown",
      "metadata": {
        "id": "Cyht3PbGT7SR"
      },
      "source": [
        "# Vectorization"
      ]
    },
    {
      "cell_type": "code",
      "metadata": {
        "id": "F5O1nOzRK2AR",
        "colab": {
          "base_uri": "https://localhost:8080/"
        },
        "outputId": "aee94b4b-90ed-4b37-e189-e2cb3e8cf15c"
      },
      "source": [
        "from tensorflow.keras.preprocessing.text import Tokenizer\r\n",
        "from tensorflow.keras.preprocessing.sequence import pad_sequences\r\n",
        "max_len = 20\r\n",
        "\r\n",
        "def text2sequence(train_text, max_len=100):\r\n",
        "    \r\n",
        "    tokenizer = Tokenizer()\r\n",
        "    tokenizer.fit_on_texts(train_text)\r\n",
        "    train_X_seq = tokenizer.texts_to_sequences(train_text)\r\n",
        "    vocab_size = len(tokenizer.word_index) + 1\r\n",
        "    print('vocab_size : ', vocab_size)\r\n",
        "    X_train = pad_sequences(train_X_seq, maxlen = max_len, truncating=\"post\") # 길이를 맞춰줌\r\n",
        "    return X_train, vocab_size, tokenizer\r\n",
        "\r\n",
        "train_y = train['info']\r\n",
        "train_X, vocab_size, vectorizer = text2sequence(train['new_article'], max_len = max_len)\r\n",
        "\r\n",
        "print(train_X.shape, train_y.shape)\r\n",
        "\r\n",
        "# train_X new_article을 vectorizer"
      ],
      "execution_count": 18,
      "outputs": [
        {
          "output_type": "stream",
          "text": [
            "vocab_size :  33461\n",
            "(118414, 20) (118414,)\n"
          ],
          "name": "stdout"
        }
      ]
    },
    {
      "cell_type": "markdown",
      "metadata": {
        "id": "C8iGEGCizF2Z"
      },
      "source": [
        "# Word2Vec"
      ]
    },
    {
      "cell_type": "code",
      "metadata": {
        "id": "VD2cSguB8uG6"
      },
      "source": [
        "import gensim\r\n",
        "from gensim.models.keyedvectors import KeyedVectors"
      ],
      "execution_count": 19,
      "outputs": []
    },
    {
      "cell_type": "code",
      "metadata": {
        "id": "z_Q7-70BR5oO",
        "colab": {
          "base_uri": "https://localhost:8080/",
          "height": 52
        },
        "outputId": "ffb6434f-8dd5-4038-f54d-730ffc388c3a"
      },
      "source": [
        "\"\"\"\r\n",
        "# 구글 word2vec 모델\r\n",
        "\r\n",
        "word2vec_g = gensim.models.KeyedVectors.load_word2vec_format(path+'embedding/GoogleNews-vectors-negative300.bin.gz', binary = True)\r\n",
        "embedding_size = 300\r\n",
        "\"\"\""
      ],
      "execution_count": 20,
      "outputs": [
        {
          "output_type": "execute_result",
          "data": {
            "application/vnd.google.colaboratory.intrinsic+json": {
              "type": "string"
            },
            "text/plain": [
              "\"\\n# 구글 word2vec 모델\\n\\nword2vec_g = gensim.models.KeyedVectors.load_word2vec_format(path+'embedding/GoogleNews-vectors-negative300.bin.gz', binary = True)\\nembedding_size = 300\\n\""
            ]
          },
          "metadata": {
            "tags": []
          },
          "execution_count": 20
        }
      ]
    },
    {
      "cell_type": "code",
      "metadata": {
        "id": "xd5zy8_5fwvT"
      },
      "source": [
        "# 한국어 word2vec model\r\n",
        "word2vec2 = gensim.models.Word2Vec.load(path+'/embedding/ko.bin')\r\n",
        "embedding_size = 200\r\n"
      ],
      "execution_count": 21,
      "outputs": []
    },
    {
      "cell_type": "code",
      "metadata": {
        "id": "EdSnbO4xWykD",
        "colab": {
          "base_uri": "https://localhost:8080/"
        },
        "outputId": "546f020e-0ab5-4916-f70b-c29cf249a0f2"
      },
      "source": [
        "embedding_matrix = np.zeros((vocab_size, embedding_size))\r\n",
        "vocab = vectorizer.word_index\r\n",
        "count = 0\r\n",
        "\r\n",
        "for idx, word in enumerate(vocab):\r\n",
        "    if word in word2vec2:\r\n",
        "      embedding_vector = word2vec2[word]\r\n",
        "      embedding_matrix[idx] = embedding_vector\r\n",
        "    else: # 임베딩 모델에 없는 것\r\n",
        "      #print(word, \"word2vec에 없는 단어입니다.\")\r\n",
        "      count += 1\r\n",
        "      pass\r\n",
        "\r\n",
        "print('count: ', count)  "
      ],
      "execution_count": 22,
      "outputs": [
        {
          "output_type": "stream",
          "text": [
            "count:  17728\n"
          ],
          "name": "stdout"
        },
        {
          "output_type": "stream",
          "text": [
            "/usr/local/lib/python3.6/dist-packages/ipykernel_launcher.py:6: DeprecationWarning: Call to deprecated `__contains__` (Method will be removed in 4.0.0, use self.wv.__contains__() instead).\n",
            "  \n",
            "/usr/local/lib/python3.6/dist-packages/ipykernel_launcher.py:7: DeprecationWarning: Call to deprecated `__getitem__` (Method will be removed in 4.0.0, use self.wv.__getitem__() instead).\n",
            "  import sys\n"
          ],
          "name": "stderr"
        }
      ]
    },
    {
      "cell_type": "markdown",
      "metadata": {
        "id": "6E9L7Gp6HcxM"
      },
      "source": [
        "#train test split"
      ]
    },
    {
      "cell_type": "code",
      "metadata": {
        "id": "OoqDYSIMXgSE"
      },
      "source": [
        "#concat\r\n",
        "feature_num = 4\r\n",
        "train_X = np.concatenate([train_X,train[[\"info1_title\",\"info1_content\",\"new_ord\",\"content_startswith_[\"]].values.reshape(-1,feature_num)], axis=1)\r\n",
        "train_X\r\n",
        "\r\n",
        "# 문장별로 train_test set 분리\r\n",
        "from sklearn.model_selection import train_test_split\r\n",
        "\r\n",
        "X_train, X_valid, y_train, y_valid = train_test_split(train_X, train_y, random_state = 42, test_size = 0.3)"
      ],
      "execution_count": 23,
      "outputs": []
    },
    {
      "cell_type": "code",
      "metadata": {
        "id": "TPG9MRVr24ot"
      },
      "source": [
        "index_seq = (X_train.argmax(axis=1)).argsort(axis=0)  # 최대값 index를 반환하여 arry 정렬\r\n",
        "X_train = X_train[index_seq]\r\n",
        "y_train = y_train.iloc[index_seq]"
      ],
      "execution_count": 24,
      "outputs": []
    },
    {
      "cell_type": "code",
      "metadata": {
        "colab": {
          "base_uri": "https://localhost:8080/"
        },
        "id": "vs20YE0UbxzG",
        "outputId": "e398d6cd-0daf-406b-f517-761444af5cfd"
      },
      "source": [
        "index_seq"
      ],
      "execution_count": 25,
      "outputs": [
        {
          "output_type": "execute_result",
          "data": {
            "text/plain": [
              "array([ 6009, 47753, 20993, ..., 58911, 58874, 16184])"
            ]
          },
          "metadata": {
            "tags": []
          },
          "execution_count": 25
        }
      ]
    },
    {
      "cell_type": "markdown",
      "metadata": {
        "id": "05aa4QSydL9n"
      },
      "source": [
        "# stacking 모델링\r\n",
        " GradientBoost,  AdaBoost, CatBoost, ExtraTree"
      ]
    },
    {
      "cell_type": "code",
      "metadata": {
        "colab": {
          "base_uri": "https://localhost:8080/"
        },
        "id": "X4gxrTcHQ1ZI",
        "outputId": "1fcf900e-87a0-4cdb-d3b4-b177e9dc7b5b"
      },
      "source": [
        "pip install catboost"
      ],
      "execution_count": 50,
      "outputs": [
        {
          "output_type": "stream",
          "text": [
            "Collecting catboost\n",
            "\u001b[?25l  Downloading https://files.pythonhosted.org/packages/20/37/bc4e0ddc30c07a96482abf1de7ed1ca54e59bba2026a33bca6d2ef286e5b/catboost-0.24.4-cp36-none-manylinux1_x86_64.whl (65.7MB)\n",
            "\u001b[K     |████████████████████████████████| 65.8MB 108kB/s \n",
            "\u001b[?25hRequirement already satisfied: scipy in /usr/local/lib/python3.6/dist-packages (from catboost) (1.4.1)\n",
            "Requirement already satisfied: plotly in /usr/local/lib/python3.6/dist-packages (from catboost) (4.4.1)\n",
            "Requirement already satisfied: numpy>=1.16.0 in /usr/local/lib/python3.6/dist-packages (from catboost) (1.19.4)\n",
            "Requirement already satisfied: six in /usr/local/lib/python3.6/dist-packages (from catboost) (1.15.0)\n",
            "Requirement already satisfied: graphviz in /usr/local/lib/python3.6/dist-packages (from catboost) (0.10.1)\n",
            "Requirement already satisfied: matplotlib in /usr/local/lib/python3.6/dist-packages (from catboost) (3.2.2)\n",
            "Requirement already satisfied: pandas>=0.24.0 in /usr/local/lib/python3.6/dist-packages (from catboost) (1.1.5)\n",
            "Requirement already satisfied: retrying>=1.3.3 in /usr/local/lib/python3.6/dist-packages (from plotly->catboost) (1.3.3)\n",
            "Requirement already satisfied: kiwisolver>=1.0.1 in /usr/local/lib/python3.6/dist-packages (from matplotlib->catboost) (1.3.1)\n",
            "Requirement already satisfied: python-dateutil>=2.1 in /usr/local/lib/python3.6/dist-packages (from matplotlib->catboost) (2.8.1)\n",
            "Requirement already satisfied: cycler>=0.10 in /usr/local/lib/python3.6/dist-packages (from matplotlib->catboost) (0.10.0)\n",
            "Requirement already satisfied: pyparsing!=2.0.4,!=2.1.2,!=2.1.6,>=2.0.1 in /usr/local/lib/python3.6/dist-packages (from matplotlib->catboost) (2.4.7)\n",
            "Requirement already satisfied: pytz>=2017.2 in /usr/local/lib/python3.6/dist-packages (from pandas>=0.24.0->catboost) (2018.9)\n",
            "Installing collected packages: catboost\n",
            "Successfully installed catboost-0.24.4\n"
          ],
          "name": "stdout"
        }
      ]
    },
    {
      "cell_type": "code",
      "metadata": {
        "id": "_loR1NcfrEhx"
      },
      "source": [
        "from sklearn.ensemble import GradientBoostingClassifier\r\n",
        "from sklearn.tree import DecisionTreeClassifier\r\n",
        "from sklearn.ensemble import AdaBoostClassifier\r\n",
        "import catboost\r\n",
        "from catboost import CatBoostClassifier\r\n",
        "from sklearn.ensemble import ExtraTreesClassifier\r\n",
        "from lightgbm import LGBMClassifier"
      ],
      "execution_count": 97,
      "outputs": []
    },
    {
      "cell_type": "code",
      "metadata": {
        "id": "2Tr66gmcq_-b"
      },
      "source": [
        "from sklearn.metrics import accuracy_score\r\n",
        "from sklearn.model_selection import GridSearchCV\r\n",
        "from sklearn.model_selection import StratifiedKFold\r\n",
        "\r\n"
      ],
      "execution_count": null,
      "outputs": []
    },
    {
      "cell_type": "code",
      "metadata": {
        "id": "6sjDdMk-gdd_"
      },
      "source": [
        "\r\n",
        "# def auc(m, train, test): \r\n",
        "#     return (metrics.roc_auc_score(y_train,m.predict_proba(train)[:,1]),\r\n",
        "#                            metrics.roc_auc_score(y_test,m.predict_proba(test)[:,1]))\r\n",
        "    \r\n",
        "    \r\n",
        "# cv = StratifiedKFold(n_splits=5, shuffle=True, random_state=42)\r\n",
        "\r\n",
        "    "
      ],
      "execution_count": 27,
      "outputs": []
    },
    {
      "cell_type": "markdown",
      "metadata": {
        "id": "eGvB-9C1dT-F"
      },
      "source": [
        "## GradientBoost"
      ]
    },
    {
      "cell_type": "code",
      "metadata": {
        "colab": {
          "base_uri": "https://localhost:8080/"
        },
        "id": "r_CaeX4vdZNl",
        "outputId": "889f69c1-b809-432f-8f89-d3b1a2e4d54c"
      },
      "source": [
        "from sklearn.ensemble import GradientBoostingClassifier\r\n",
        "\r\n",
        "gb_clf = GradientBoostingClassifier(random_state = 42) # 기본값: max_depth=3, learning_rate=0.1\r\n",
        "gb_clf.fit(X_train, y_train)\r\n"
      ],
      "execution_count": 136,
      "outputs": [
        {
          "output_type": "execute_result",
          "data": {
            "text/plain": [
              "GradientBoostingClassifier(ccp_alpha=0.0, criterion='friedman_mse', init=None,\n",
              "                           learning_rate=0.1, loss='deviance', max_depth=3,\n",
              "                           max_features=None, max_leaf_nodes=None,\n",
              "                           min_impurity_decrease=0.0, min_impurity_split=None,\n",
              "                           min_samples_leaf=1, min_samples_split=2,\n",
              "                           min_weight_fraction_leaf=0.0, n_estimators=100,\n",
              "                           n_iter_no_change=None, presort='deprecated',\n",
              "                           random_state=42, subsample=1.0, tol=0.0001,\n",
              "                           validation_fraction=0.1, verbose=0,\n",
              "                           warm_start=False)"
            ]
          },
          "metadata": {
            "tags": []
          },
          "execution_count": 136
        }
      ]
    },
    {
      "cell_type": "code",
      "metadata": {
        "colab": {
          "base_uri": "https://localhost:8080/"
        },
        "id": "mglvFV_jlSsq",
        "outputId": "eedd900d-e9b7-446d-f368-db71bada6a54"
      },
      "source": [
        "gb_pred = gb_clf.predict(X_valid)\r\n",
        "\r\n",
        "gb_acc = accuracy_score(y_valid, gb_pred)\r\n",
        "gb_acc"
      ],
      "execution_count": 137,
      "outputs": [
        {
          "output_type": "execute_result",
          "data": {
            "text/plain": [
              "0.9736242083040113"
            ]
          },
          "metadata": {
            "tags": []
          },
          "execution_count": 137
        }
      ]
    },
    {
      "cell_type": "code",
      "metadata": {
        "colab": {
          "base_uri": "https://localhost:8080/",
          "height": 390
        },
        "id": "_4luByZchZLG",
        "outputId": "3c638fa4-486c-4250-897c-ea923ad3fa69"
      },
      "source": [
        "gbm_params = {\r\n",
        "    'n_estimators' : [100, 500, 1000],\r\n",
        "    'learning_rate' : [0.001, 0.01, 0.1],\r\n",
        "}\r\n",
        "\r\n",
        "\r\n",
        "gb_grid = GridSearchCV(gb_clf, param_grid = gbm_params, cv = 3)\r\n",
        "gb_grid.fit(X_train, y_train)\r\n",
        "\r\n",
        "print('최적 하이퍼 파라미터:\\n', gb_grid.best_params_)\r\n",
        "print('최고 예측 정확도: {0:.6f}'.format(gb_grid.best_score_))"
      ],
      "execution_count": 138,
      "outputs": [
        {
          "output_type": "error",
          "ename": "KeyboardInterrupt",
          "evalue": "ignored",
          "traceback": [
            "\u001b[0;31m---------------------------------------------------------------------------\u001b[0m",
            "\u001b[0;31mKeyboardInterrupt\u001b[0m                         Traceback (most recent call last)",
            "\u001b[0;32m<ipython-input-138-3e7c216b0684>\u001b[0m in \u001b[0;36m<module>\u001b[0;34m()\u001b[0m\n\u001b[1;32m      6\u001b[0m \u001b[0;34m\u001b[0m\u001b[0m\n\u001b[1;32m      7\u001b[0m \u001b[0mgb_grid\u001b[0m \u001b[0;34m=\u001b[0m \u001b[0mGridSearchCV\u001b[0m\u001b[0;34m(\u001b[0m\u001b[0mgb_clf\u001b[0m\u001b[0;34m,\u001b[0m \u001b[0mparam_grid\u001b[0m \u001b[0;34m=\u001b[0m \u001b[0mgbm_params\u001b[0m\u001b[0;34m,\u001b[0m \u001b[0mcv\u001b[0m \u001b[0;34m=\u001b[0m \u001b[0;36m3\u001b[0m\u001b[0;34m)\u001b[0m\u001b[0;34m\u001b[0m\u001b[0;34m\u001b[0m\u001b[0m\n\u001b[0;32m----> 8\u001b[0;31m \u001b[0mgb_grid\u001b[0m\u001b[0;34m.\u001b[0m\u001b[0mfit\u001b[0m\u001b[0;34m(\u001b[0m\u001b[0mX_train\u001b[0m\u001b[0;34m,\u001b[0m \u001b[0my_train\u001b[0m\u001b[0;34m)\u001b[0m\u001b[0;34m\u001b[0m\u001b[0;34m\u001b[0m\u001b[0m\n\u001b[0m\u001b[1;32m      9\u001b[0m \u001b[0;34m\u001b[0m\u001b[0m\n\u001b[1;32m     10\u001b[0m \u001b[0mprint\u001b[0m\u001b[0;34m(\u001b[0m\u001b[0;34m'최적 하이퍼 파라미터:\\n'\u001b[0m\u001b[0;34m,\u001b[0m \u001b[0mgb_grid\u001b[0m\u001b[0;34m.\u001b[0m\u001b[0mbest_params_\u001b[0m\u001b[0;34m)\u001b[0m\u001b[0;34m\u001b[0m\u001b[0;34m\u001b[0m\u001b[0m\n",
            "\u001b[0;32m/usr/local/lib/python3.6/dist-packages/sklearn/model_selection/_search.py\u001b[0m in \u001b[0;36mfit\u001b[0;34m(self, X, y, groups, **fit_params)\u001b[0m\n\u001b[1;32m    708\u001b[0m                 \u001b[0;32mreturn\u001b[0m \u001b[0mresults\u001b[0m\u001b[0;34m\u001b[0m\u001b[0;34m\u001b[0m\u001b[0m\n\u001b[1;32m    709\u001b[0m \u001b[0;34m\u001b[0m\u001b[0m\n\u001b[0;32m--> 710\u001b[0;31m             \u001b[0mself\u001b[0m\u001b[0;34m.\u001b[0m\u001b[0m_run_search\u001b[0m\u001b[0;34m(\u001b[0m\u001b[0mevaluate_candidates\u001b[0m\u001b[0;34m)\u001b[0m\u001b[0;34m\u001b[0m\u001b[0;34m\u001b[0m\u001b[0m\n\u001b[0m\u001b[1;32m    711\u001b[0m \u001b[0;34m\u001b[0m\u001b[0m\n\u001b[1;32m    712\u001b[0m         \u001b[0;31m# For multi-metric evaluation, store the best_index_, best_params_ and\u001b[0m\u001b[0;34m\u001b[0m\u001b[0;34m\u001b[0m\u001b[0;34m\u001b[0m\u001b[0m\n",
            "\u001b[0;32m/usr/local/lib/python3.6/dist-packages/sklearn/model_selection/_search.py\u001b[0m in \u001b[0;36m_run_search\u001b[0;34m(self, evaluate_candidates)\u001b[0m\n\u001b[1;32m   1149\u001b[0m     \u001b[0;32mdef\u001b[0m \u001b[0m_run_search\u001b[0m\u001b[0;34m(\u001b[0m\u001b[0mself\u001b[0m\u001b[0;34m,\u001b[0m \u001b[0mevaluate_candidates\u001b[0m\u001b[0;34m)\u001b[0m\u001b[0;34m:\u001b[0m\u001b[0;34m\u001b[0m\u001b[0;34m\u001b[0m\u001b[0m\n\u001b[1;32m   1150\u001b[0m         \u001b[0;34m\"\"\"Search all candidates in param_grid\"\"\"\u001b[0m\u001b[0;34m\u001b[0m\u001b[0;34m\u001b[0m\u001b[0m\n\u001b[0;32m-> 1151\u001b[0;31m         \u001b[0mevaluate_candidates\u001b[0m\u001b[0;34m(\u001b[0m\u001b[0mParameterGrid\u001b[0m\u001b[0;34m(\u001b[0m\u001b[0mself\u001b[0m\u001b[0;34m.\u001b[0m\u001b[0mparam_grid\u001b[0m\u001b[0;34m)\u001b[0m\u001b[0;34m)\u001b[0m\u001b[0;34m\u001b[0m\u001b[0;34m\u001b[0m\u001b[0m\n\u001b[0m\u001b[1;32m   1152\u001b[0m \u001b[0;34m\u001b[0m\u001b[0m\n\u001b[1;32m   1153\u001b[0m \u001b[0;34m\u001b[0m\u001b[0m\n",
            "\u001b[0;32m/usr/local/lib/python3.6/dist-packages/sklearn/model_selection/_search.py\u001b[0m in \u001b[0;36mevaluate_candidates\u001b[0;34m(candidate_params)\u001b[0m\n\u001b[1;32m    687\u001b[0m                                \u001b[0;32mfor\u001b[0m \u001b[0mparameters\u001b[0m\u001b[0;34m,\u001b[0m \u001b[0;34m(\u001b[0m\u001b[0mtrain\u001b[0m\u001b[0;34m,\u001b[0m \u001b[0mtest\u001b[0m\u001b[0;34m)\u001b[0m\u001b[0;34m\u001b[0m\u001b[0;34m\u001b[0m\u001b[0m\n\u001b[1;32m    688\u001b[0m                                in product(candidate_params,\n\u001b[0;32m--> 689\u001b[0;31m                                           cv.split(X, y, groups)))\n\u001b[0m\u001b[1;32m    690\u001b[0m \u001b[0;34m\u001b[0m\u001b[0m\n\u001b[1;32m    691\u001b[0m                 \u001b[0;32mif\u001b[0m \u001b[0mlen\u001b[0m\u001b[0;34m(\u001b[0m\u001b[0mout\u001b[0m\u001b[0;34m)\u001b[0m \u001b[0;34m<\u001b[0m \u001b[0;36m1\u001b[0m\u001b[0;34m:\u001b[0m\u001b[0;34m\u001b[0m\u001b[0;34m\u001b[0m\u001b[0m\n",
            "\u001b[0;32m/usr/local/lib/python3.6/dist-packages/joblib/parallel.py\u001b[0m in \u001b[0;36m__call__\u001b[0;34m(self, iterable)\u001b[0m\n\u001b[1;32m   1042\u001b[0m                 \u001b[0mself\u001b[0m\u001b[0;34m.\u001b[0m\u001b[0m_iterating\u001b[0m \u001b[0;34m=\u001b[0m \u001b[0mself\u001b[0m\u001b[0;34m.\u001b[0m\u001b[0m_original_iterator\u001b[0m \u001b[0;32mis\u001b[0m \u001b[0;32mnot\u001b[0m \u001b[0;32mNone\u001b[0m\u001b[0;34m\u001b[0m\u001b[0;34m\u001b[0m\u001b[0m\n\u001b[1;32m   1043\u001b[0m \u001b[0;34m\u001b[0m\u001b[0m\n\u001b[0;32m-> 1044\u001b[0;31m             \u001b[0;32mwhile\u001b[0m \u001b[0mself\u001b[0m\u001b[0;34m.\u001b[0m\u001b[0mdispatch_one_batch\u001b[0m\u001b[0;34m(\u001b[0m\u001b[0miterator\u001b[0m\u001b[0;34m)\u001b[0m\u001b[0;34m:\u001b[0m\u001b[0;34m\u001b[0m\u001b[0;34m\u001b[0m\u001b[0m\n\u001b[0m\u001b[1;32m   1045\u001b[0m                 \u001b[0;32mpass\u001b[0m\u001b[0;34m\u001b[0m\u001b[0;34m\u001b[0m\u001b[0m\n\u001b[1;32m   1046\u001b[0m \u001b[0;34m\u001b[0m\u001b[0m\n",
            "\u001b[0;32m/usr/local/lib/python3.6/dist-packages/joblib/parallel.py\u001b[0m in \u001b[0;36mdispatch_one_batch\u001b[0;34m(self, iterator)\u001b[0m\n\u001b[1;32m    857\u001b[0m                 \u001b[0;32mreturn\u001b[0m \u001b[0;32mFalse\u001b[0m\u001b[0;34m\u001b[0m\u001b[0;34m\u001b[0m\u001b[0m\n\u001b[1;32m    858\u001b[0m             \u001b[0;32melse\u001b[0m\u001b[0;34m:\u001b[0m\u001b[0;34m\u001b[0m\u001b[0;34m\u001b[0m\u001b[0m\n\u001b[0;32m--> 859\u001b[0;31m                 \u001b[0mself\u001b[0m\u001b[0;34m.\u001b[0m\u001b[0m_dispatch\u001b[0m\u001b[0;34m(\u001b[0m\u001b[0mtasks\u001b[0m\u001b[0;34m)\u001b[0m\u001b[0;34m\u001b[0m\u001b[0;34m\u001b[0m\u001b[0m\n\u001b[0m\u001b[1;32m    860\u001b[0m                 \u001b[0;32mreturn\u001b[0m \u001b[0;32mTrue\u001b[0m\u001b[0;34m\u001b[0m\u001b[0;34m\u001b[0m\u001b[0m\n\u001b[1;32m    861\u001b[0m \u001b[0;34m\u001b[0m\u001b[0m\n",
            "\u001b[0;32m/usr/local/lib/python3.6/dist-packages/joblib/parallel.py\u001b[0m in \u001b[0;36m_dispatch\u001b[0;34m(self, batch)\u001b[0m\n\u001b[1;32m    775\u001b[0m         \u001b[0;32mwith\u001b[0m \u001b[0mself\u001b[0m\u001b[0;34m.\u001b[0m\u001b[0m_lock\u001b[0m\u001b[0;34m:\u001b[0m\u001b[0;34m\u001b[0m\u001b[0;34m\u001b[0m\u001b[0m\n\u001b[1;32m    776\u001b[0m             \u001b[0mjob_idx\u001b[0m \u001b[0;34m=\u001b[0m \u001b[0mlen\u001b[0m\u001b[0;34m(\u001b[0m\u001b[0mself\u001b[0m\u001b[0;34m.\u001b[0m\u001b[0m_jobs\u001b[0m\u001b[0;34m)\u001b[0m\u001b[0;34m\u001b[0m\u001b[0;34m\u001b[0m\u001b[0m\n\u001b[0;32m--> 777\u001b[0;31m             \u001b[0mjob\u001b[0m \u001b[0;34m=\u001b[0m \u001b[0mself\u001b[0m\u001b[0;34m.\u001b[0m\u001b[0m_backend\u001b[0m\u001b[0;34m.\u001b[0m\u001b[0mapply_async\u001b[0m\u001b[0;34m(\u001b[0m\u001b[0mbatch\u001b[0m\u001b[0;34m,\u001b[0m \u001b[0mcallback\u001b[0m\u001b[0;34m=\u001b[0m\u001b[0mcb\u001b[0m\u001b[0;34m)\u001b[0m\u001b[0;34m\u001b[0m\u001b[0;34m\u001b[0m\u001b[0m\n\u001b[0m\u001b[1;32m    778\u001b[0m             \u001b[0;31m# A job can complete so quickly than its callback is\u001b[0m\u001b[0;34m\u001b[0m\u001b[0;34m\u001b[0m\u001b[0;34m\u001b[0m\u001b[0m\n\u001b[1;32m    779\u001b[0m             \u001b[0;31m# called before we get here, causing self._jobs to\u001b[0m\u001b[0;34m\u001b[0m\u001b[0;34m\u001b[0m\u001b[0;34m\u001b[0m\u001b[0m\n",
            "\u001b[0;32m/usr/local/lib/python3.6/dist-packages/joblib/_parallel_backends.py\u001b[0m in \u001b[0;36mapply_async\u001b[0;34m(self, func, callback)\u001b[0m\n\u001b[1;32m    206\u001b[0m     \u001b[0;32mdef\u001b[0m \u001b[0mapply_async\u001b[0m\u001b[0;34m(\u001b[0m\u001b[0mself\u001b[0m\u001b[0;34m,\u001b[0m \u001b[0mfunc\u001b[0m\u001b[0;34m,\u001b[0m \u001b[0mcallback\u001b[0m\u001b[0;34m=\u001b[0m\u001b[0;32mNone\u001b[0m\u001b[0;34m)\u001b[0m\u001b[0;34m:\u001b[0m\u001b[0;34m\u001b[0m\u001b[0;34m\u001b[0m\u001b[0m\n\u001b[1;32m    207\u001b[0m         \u001b[0;34m\"\"\"Schedule a func to be run\"\"\"\u001b[0m\u001b[0;34m\u001b[0m\u001b[0;34m\u001b[0m\u001b[0m\n\u001b[0;32m--> 208\u001b[0;31m         \u001b[0mresult\u001b[0m \u001b[0;34m=\u001b[0m \u001b[0mImmediateResult\u001b[0m\u001b[0;34m(\u001b[0m\u001b[0mfunc\u001b[0m\u001b[0;34m)\u001b[0m\u001b[0;34m\u001b[0m\u001b[0;34m\u001b[0m\u001b[0m\n\u001b[0m\u001b[1;32m    209\u001b[0m         \u001b[0;32mif\u001b[0m \u001b[0mcallback\u001b[0m\u001b[0;34m:\u001b[0m\u001b[0;34m\u001b[0m\u001b[0;34m\u001b[0m\u001b[0m\n\u001b[1;32m    210\u001b[0m             \u001b[0mcallback\u001b[0m\u001b[0;34m(\u001b[0m\u001b[0mresult\u001b[0m\u001b[0;34m)\u001b[0m\u001b[0;34m\u001b[0m\u001b[0;34m\u001b[0m\u001b[0m\n",
            "\u001b[0;32m/usr/local/lib/python3.6/dist-packages/joblib/_parallel_backends.py\u001b[0m in \u001b[0;36m__init__\u001b[0;34m(self, batch)\u001b[0m\n\u001b[1;32m    570\u001b[0m         \u001b[0;31m# Don't delay the application, to avoid keeping the input\u001b[0m\u001b[0;34m\u001b[0m\u001b[0;34m\u001b[0m\u001b[0;34m\u001b[0m\u001b[0m\n\u001b[1;32m    571\u001b[0m         \u001b[0;31m# arguments in memory\u001b[0m\u001b[0;34m\u001b[0m\u001b[0;34m\u001b[0m\u001b[0;34m\u001b[0m\u001b[0m\n\u001b[0;32m--> 572\u001b[0;31m         \u001b[0mself\u001b[0m\u001b[0;34m.\u001b[0m\u001b[0mresults\u001b[0m \u001b[0;34m=\u001b[0m \u001b[0mbatch\u001b[0m\u001b[0;34m(\u001b[0m\u001b[0;34m)\u001b[0m\u001b[0;34m\u001b[0m\u001b[0;34m\u001b[0m\u001b[0m\n\u001b[0m\u001b[1;32m    573\u001b[0m \u001b[0;34m\u001b[0m\u001b[0m\n\u001b[1;32m    574\u001b[0m     \u001b[0;32mdef\u001b[0m \u001b[0mget\u001b[0m\u001b[0;34m(\u001b[0m\u001b[0mself\u001b[0m\u001b[0;34m)\u001b[0m\u001b[0;34m:\u001b[0m\u001b[0;34m\u001b[0m\u001b[0;34m\u001b[0m\u001b[0m\n",
            "\u001b[0;32m/usr/local/lib/python3.6/dist-packages/joblib/parallel.py\u001b[0m in \u001b[0;36m__call__\u001b[0;34m(self)\u001b[0m\n\u001b[1;32m    261\u001b[0m         \u001b[0;32mwith\u001b[0m \u001b[0mparallel_backend\u001b[0m\u001b[0;34m(\u001b[0m\u001b[0mself\u001b[0m\u001b[0;34m.\u001b[0m\u001b[0m_backend\u001b[0m\u001b[0;34m,\u001b[0m \u001b[0mn_jobs\u001b[0m\u001b[0;34m=\u001b[0m\u001b[0mself\u001b[0m\u001b[0;34m.\u001b[0m\u001b[0m_n_jobs\u001b[0m\u001b[0;34m)\u001b[0m\u001b[0;34m:\u001b[0m\u001b[0;34m\u001b[0m\u001b[0;34m\u001b[0m\u001b[0m\n\u001b[1;32m    262\u001b[0m             return [func(*args, **kwargs)\n\u001b[0;32m--> 263\u001b[0;31m                     for func, args, kwargs in self.items]\n\u001b[0m\u001b[1;32m    264\u001b[0m \u001b[0;34m\u001b[0m\u001b[0m\n\u001b[1;32m    265\u001b[0m     \u001b[0;32mdef\u001b[0m \u001b[0m__reduce__\u001b[0m\u001b[0;34m(\u001b[0m\u001b[0mself\u001b[0m\u001b[0;34m)\u001b[0m\u001b[0;34m:\u001b[0m\u001b[0;34m\u001b[0m\u001b[0;34m\u001b[0m\u001b[0m\n",
            "\u001b[0;32m/usr/local/lib/python3.6/dist-packages/joblib/parallel.py\u001b[0m in \u001b[0;36m<listcomp>\u001b[0;34m(.0)\u001b[0m\n\u001b[1;32m    261\u001b[0m         \u001b[0;32mwith\u001b[0m \u001b[0mparallel_backend\u001b[0m\u001b[0;34m(\u001b[0m\u001b[0mself\u001b[0m\u001b[0;34m.\u001b[0m\u001b[0m_backend\u001b[0m\u001b[0;34m,\u001b[0m \u001b[0mn_jobs\u001b[0m\u001b[0;34m=\u001b[0m\u001b[0mself\u001b[0m\u001b[0;34m.\u001b[0m\u001b[0m_n_jobs\u001b[0m\u001b[0;34m)\u001b[0m\u001b[0;34m:\u001b[0m\u001b[0;34m\u001b[0m\u001b[0;34m\u001b[0m\u001b[0m\n\u001b[1;32m    262\u001b[0m             return [func(*args, **kwargs)\n\u001b[0;32m--> 263\u001b[0;31m                     for func, args, kwargs in self.items]\n\u001b[0m\u001b[1;32m    264\u001b[0m \u001b[0;34m\u001b[0m\u001b[0m\n\u001b[1;32m    265\u001b[0m     \u001b[0;32mdef\u001b[0m \u001b[0m__reduce__\u001b[0m\u001b[0;34m(\u001b[0m\u001b[0mself\u001b[0m\u001b[0;34m)\u001b[0m\u001b[0;34m:\u001b[0m\u001b[0;34m\u001b[0m\u001b[0;34m\u001b[0m\u001b[0m\n",
            "\u001b[0;32m/usr/local/lib/python3.6/dist-packages/sklearn/model_selection/_validation.py\u001b[0m in \u001b[0;36m_fit_and_score\u001b[0;34m(estimator, X, y, scorer, train, test, verbose, parameters, fit_params, return_train_score, return_parameters, return_n_test_samples, return_times, return_estimator, error_score)\u001b[0m\n\u001b[1;32m    513\u001b[0m             \u001b[0mestimator\u001b[0m\u001b[0;34m.\u001b[0m\u001b[0mfit\u001b[0m\u001b[0;34m(\u001b[0m\u001b[0mX_train\u001b[0m\u001b[0;34m,\u001b[0m \u001b[0;34m**\u001b[0m\u001b[0mfit_params\u001b[0m\u001b[0;34m)\u001b[0m\u001b[0;34m\u001b[0m\u001b[0;34m\u001b[0m\u001b[0m\n\u001b[1;32m    514\u001b[0m         \u001b[0;32melse\u001b[0m\u001b[0;34m:\u001b[0m\u001b[0;34m\u001b[0m\u001b[0;34m\u001b[0m\u001b[0m\n\u001b[0;32m--> 515\u001b[0;31m             \u001b[0mestimator\u001b[0m\u001b[0;34m.\u001b[0m\u001b[0mfit\u001b[0m\u001b[0;34m(\u001b[0m\u001b[0mX_train\u001b[0m\u001b[0;34m,\u001b[0m \u001b[0my_train\u001b[0m\u001b[0;34m,\u001b[0m \u001b[0;34m**\u001b[0m\u001b[0mfit_params\u001b[0m\u001b[0;34m)\u001b[0m\u001b[0;34m\u001b[0m\u001b[0;34m\u001b[0m\u001b[0m\n\u001b[0m\u001b[1;32m    516\u001b[0m \u001b[0;34m\u001b[0m\u001b[0m\n\u001b[1;32m    517\u001b[0m     \u001b[0;32mexcept\u001b[0m \u001b[0mException\u001b[0m \u001b[0;32mas\u001b[0m \u001b[0me\u001b[0m\u001b[0;34m:\u001b[0m\u001b[0;34m\u001b[0m\u001b[0;34m\u001b[0m\u001b[0m\n",
            "\u001b[0;32m/usr/local/lib/python3.6/dist-packages/sklearn/ensemble/_gb.py\u001b[0m in \u001b[0;36mfit\u001b[0;34m(self, X, y, sample_weight, monitor)\u001b[0m\n\u001b[1;32m   1535\u001b[0m         n_stages = self._fit_stages(\n\u001b[1;32m   1536\u001b[0m             \u001b[0mX\u001b[0m\u001b[0;34m,\u001b[0m \u001b[0my\u001b[0m\u001b[0;34m,\u001b[0m \u001b[0mraw_predictions\u001b[0m\u001b[0;34m,\u001b[0m \u001b[0msample_weight\u001b[0m\u001b[0;34m,\u001b[0m \u001b[0mself\u001b[0m\u001b[0;34m.\u001b[0m\u001b[0m_rng\u001b[0m\u001b[0;34m,\u001b[0m \u001b[0mX_val\u001b[0m\u001b[0;34m,\u001b[0m \u001b[0my_val\u001b[0m\u001b[0;34m,\u001b[0m\u001b[0;34m\u001b[0m\u001b[0;34m\u001b[0m\u001b[0m\n\u001b[0;32m-> 1537\u001b[0;31m             sample_weight_val, begin_at_stage, monitor, X_idx_sorted)\n\u001b[0m\u001b[1;32m   1538\u001b[0m \u001b[0;34m\u001b[0m\u001b[0m\n\u001b[1;32m   1539\u001b[0m         \u001b[0;31m# change shape of arrays after fit (early-stopping or additional ests)\u001b[0m\u001b[0;34m\u001b[0m\u001b[0;34m\u001b[0m\u001b[0;34m\u001b[0m\u001b[0m\n",
            "\u001b[0;32m/usr/local/lib/python3.6/dist-packages/sklearn/ensemble/_gb.py\u001b[0m in \u001b[0;36m_fit_stages\u001b[0;34m(self, X, y, raw_predictions, sample_weight, random_state, X_val, y_val, sample_weight_val, begin_at_stage, monitor, X_idx_sorted)\u001b[0m\n\u001b[1;32m   1592\u001b[0m             raw_predictions = self._fit_stage(\n\u001b[1;32m   1593\u001b[0m                 \u001b[0mi\u001b[0m\u001b[0;34m,\u001b[0m \u001b[0mX\u001b[0m\u001b[0;34m,\u001b[0m \u001b[0my\u001b[0m\u001b[0;34m,\u001b[0m \u001b[0mraw_predictions\u001b[0m\u001b[0;34m,\u001b[0m \u001b[0msample_weight\u001b[0m\u001b[0;34m,\u001b[0m \u001b[0msample_mask\u001b[0m\u001b[0;34m,\u001b[0m\u001b[0;34m\u001b[0m\u001b[0;34m\u001b[0m\u001b[0m\n\u001b[0;32m-> 1594\u001b[0;31m                 random_state, X_idx_sorted, X_csc, X_csr)\n\u001b[0m\u001b[1;32m   1595\u001b[0m \u001b[0;34m\u001b[0m\u001b[0m\n\u001b[1;32m   1596\u001b[0m             \u001b[0;31m# track deviance (= loss)\u001b[0m\u001b[0;34m\u001b[0m\u001b[0;34m\u001b[0m\u001b[0;34m\u001b[0m\u001b[0m\n",
            "\u001b[0;32m/usr/local/lib/python3.6/dist-packages/sklearn/ensemble/_gb.py\u001b[0m in \u001b[0;36m_fit_stage\u001b[0;34m(self, i, X, y, raw_predictions, sample_weight, sample_mask, random_state, X_idx_sorted, X_csc, X_csr)\u001b[0m\n\u001b[1;32m   1243\u001b[0m             \u001b[0mX\u001b[0m \u001b[0;34m=\u001b[0m \u001b[0mX_csr\u001b[0m \u001b[0;32mif\u001b[0m \u001b[0mX_csr\u001b[0m \u001b[0;32mis\u001b[0m \u001b[0;32mnot\u001b[0m \u001b[0;32mNone\u001b[0m \u001b[0;32melse\u001b[0m \u001b[0mX\u001b[0m\u001b[0;34m\u001b[0m\u001b[0;34m\u001b[0m\u001b[0m\n\u001b[1;32m   1244\u001b[0m             tree.fit(X, residual, sample_weight=sample_weight,\n\u001b[0;32m-> 1245\u001b[0;31m                      check_input=False, X_idx_sorted=X_idx_sorted)\n\u001b[0m\u001b[1;32m   1246\u001b[0m \u001b[0;34m\u001b[0m\u001b[0m\n\u001b[1;32m   1247\u001b[0m             \u001b[0;31m# update tree leaves\u001b[0m\u001b[0;34m\u001b[0m\u001b[0;34m\u001b[0m\u001b[0;34m\u001b[0m\u001b[0m\n",
            "\u001b[0;32m/usr/local/lib/python3.6/dist-packages/sklearn/tree/_classes.py\u001b[0m in \u001b[0;36mfit\u001b[0;34m(self, X, y, sample_weight, check_input, X_idx_sorted)\u001b[0m\n\u001b[1;32m   1223\u001b[0m             \u001b[0msample_weight\u001b[0m\u001b[0;34m=\u001b[0m\u001b[0msample_weight\u001b[0m\u001b[0;34m,\u001b[0m\u001b[0;34m\u001b[0m\u001b[0;34m\u001b[0m\u001b[0m\n\u001b[1;32m   1224\u001b[0m             \u001b[0mcheck_input\u001b[0m\u001b[0;34m=\u001b[0m\u001b[0mcheck_input\u001b[0m\u001b[0;34m,\u001b[0m\u001b[0;34m\u001b[0m\u001b[0;34m\u001b[0m\u001b[0m\n\u001b[0;32m-> 1225\u001b[0;31m             X_idx_sorted=X_idx_sorted)\n\u001b[0m\u001b[1;32m   1226\u001b[0m         \u001b[0;32mreturn\u001b[0m \u001b[0mself\u001b[0m\u001b[0;34m\u001b[0m\u001b[0;34m\u001b[0m\u001b[0m\n\u001b[1;32m   1227\u001b[0m \u001b[0;34m\u001b[0m\u001b[0m\n",
            "\u001b[0;32m/usr/local/lib/python3.6/dist-packages/sklearn/tree/_classes.py\u001b[0m in \u001b[0;36mfit\u001b[0;34m(self, X, y, sample_weight, check_input, X_idx_sorted)\u001b[0m\n\u001b[1;32m    365\u001b[0m                                            min_impurity_split)\n\u001b[1;32m    366\u001b[0m \u001b[0;34m\u001b[0m\u001b[0m\n\u001b[0;32m--> 367\u001b[0;31m         \u001b[0mbuilder\u001b[0m\u001b[0;34m.\u001b[0m\u001b[0mbuild\u001b[0m\u001b[0;34m(\u001b[0m\u001b[0mself\u001b[0m\u001b[0;34m.\u001b[0m\u001b[0mtree_\u001b[0m\u001b[0;34m,\u001b[0m \u001b[0mX\u001b[0m\u001b[0;34m,\u001b[0m \u001b[0my\u001b[0m\u001b[0;34m,\u001b[0m \u001b[0msample_weight\u001b[0m\u001b[0;34m,\u001b[0m \u001b[0mX_idx_sorted\u001b[0m\u001b[0;34m)\u001b[0m\u001b[0;34m\u001b[0m\u001b[0;34m\u001b[0m\u001b[0m\n\u001b[0m\u001b[1;32m    368\u001b[0m \u001b[0;34m\u001b[0m\u001b[0m\n\u001b[1;32m    369\u001b[0m         \u001b[0;32mif\u001b[0m \u001b[0mself\u001b[0m\u001b[0;34m.\u001b[0m\u001b[0mn_outputs_\u001b[0m \u001b[0;34m==\u001b[0m \u001b[0;36m1\u001b[0m \u001b[0;32mand\u001b[0m \u001b[0mis_classifier\u001b[0m\u001b[0;34m(\u001b[0m\u001b[0mself\u001b[0m\u001b[0;34m)\u001b[0m\u001b[0;34m:\u001b[0m\u001b[0;34m\u001b[0m\u001b[0;34m\u001b[0m\u001b[0m\n",
            "\u001b[0;31mKeyboardInterrupt\u001b[0m: "
          ]
        }
      ]
    },
    {
      "cell_type": "code",
      "metadata": {
        "colab": {
          "base_uri": "https://localhost:8080/"
        },
        "id": "LCRzIaCTgRig",
        "outputId": "2d151aa1-1e04-434f-ab0b-0fda3f18c5d6"
      },
      "source": [
        "gb_pred = gb_grid.best_estimator_.predict(X_valid)\r\n",
        "\r\n",
        "gb_acc = accuracy_score(y_valid, gb_pred)\r\n",
        "gb_acc\r\n"
      ],
      "execution_count": 32,
      "outputs": [
        {
          "output_type": "execute_result",
          "data": {
            "text/plain": [
              "0.9736242083040113"
            ]
          },
          "metadata": {
            "tags": []
          },
          "execution_count": 32
        }
      ]
    },
    {
      "cell_type": "code",
      "metadata": {
        "colab": {
          "base_uri": "https://localhost:8080/"
        },
        "id": "vBVGXIwZhZBV",
        "outputId": "ca56b377-933c-4592-e14c-7e9f25fd90d6"
      },
      "source": [
        "gb_pred"
      ],
      "execution_count": 33,
      "outputs": [
        {
          "output_type": "execute_result",
          "data": {
            "text/plain": [
              "array([1, 0, 1, ..., 1, 1, 1], dtype=int64)"
            ]
          },
          "metadata": {
            "tags": []
          },
          "execution_count": 33
        }
      ]
    },
    {
      "cell_type": "code",
      "metadata": {
        "id": "ZZJQX2Uwq8iS",
        "colab": {
          "base_uri": "https://localhost:8080/",
          "height": 411
        },
        "outputId": "b670a304-68c6-43f6-af20-6edc1dd9fc43"
      },
      "source": [
        "gb_valid_pred = pd.DataFrame(gb_pred, columns =['GradientBoosting'])\r\n",
        "gb_valid_pred"
      ],
      "execution_count": 34,
      "outputs": [
        {
          "output_type": "execute_result",
          "data": {
            "text/html": [
              "<div>\n",
              "<style scoped>\n",
              "    .dataframe tbody tr th:only-of-type {\n",
              "        vertical-align: middle;\n",
              "    }\n",
              "\n",
              "    .dataframe tbody tr th {\n",
              "        vertical-align: top;\n",
              "    }\n",
              "\n",
              "    .dataframe thead th {\n",
              "        text-align: right;\n",
              "    }\n",
              "</style>\n",
              "<table border=\"1\" class=\"dataframe\">\n",
              "  <thead>\n",
              "    <tr style=\"text-align: right;\">\n",
              "      <th></th>\n",
              "      <th>GradientBoosting</th>\n",
              "    </tr>\n",
              "  </thead>\n",
              "  <tbody>\n",
              "    <tr>\n",
              "      <th>0</th>\n",
              "      <td>1</td>\n",
              "    </tr>\n",
              "    <tr>\n",
              "      <th>1</th>\n",
              "      <td>0</td>\n",
              "    </tr>\n",
              "    <tr>\n",
              "      <th>2</th>\n",
              "      <td>1</td>\n",
              "    </tr>\n",
              "    <tr>\n",
              "      <th>3</th>\n",
              "      <td>1</td>\n",
              "    </tr>\n",
              "    <tr>\n",
              "      <th>4</th>\n",
              "      <td>1</td>\n",
              "    </tr>\n",
              "    <tr>\n",
              "      <th>...</th>\n",
              "      <td>...</td>\n",
              "    </tr>\n",
              "    <tr>\n",
              "      <th>35520</th>\n",
              "      <td>1</td>\n",
              "    </tr>\n",
              "    <tr>\n",
              "      <th>35521</th>\n",
              "      <td>0</td>\n",
              "    </tr>\n",
              "    <tr>\n",
              "      <th>35522</th>\n",
              "      <td>1</td>\n",
              "    </tr>\n",
              "    <tr>\n",
              "      <th>35523</th>\n",
              "      <td>1</td>\n",
              "    </tr>\n",
              "    <tr>\n",
              "      <th>35524</th>\n",
              "      <td>1</td>\n",
              "    </tr>\n",
              "  </tbody>\n",
              "</table>\n",
              "<p>35525 rows × 1 columns</p>\n",
              "</div>"
            ],
            "text/plain": [
              "       GradientBoosting\n",
              "0                     1\n",
              "1                     0\n",
              "2                     1\n",
              "3                     1\n",
              "4                     1\n",
              "...                 ...\n",
              "35520                 1\n",
              "35521                 0\n",
              "35522                 1\n",
              "35523                 1\n",
              "35524                 1\n",
              "\n",
              "[35525 rows x 1 columns]"
            ]
          },
          "metadata": {
            "tags": []
          },
          "execution_count": 34
        }
      ]
    },
    {
      "cell_type": "code",
      "metadata": {
        "id": "Ny16Txqhg9de"
      },
      "source": [
        "# submit\r\n",
        "\r\n",
        "gb_valid_pred.to_csv(\"gb_valid_pred.csv\", encoding=\"utf-8-sig\",index=False)"
      ],
      "execution_count": 46,
      "outputs": []
    },
    {
      "cell_type": "markdown",
      "metadata": {
        "id": "9XsyleuEe_H0"
      },
      "source": [
        "### AdaBoost"
      ]
    },
    {
      "cell_type": "markdown",
      "metadata": {
        "id": "78wX0F5toAkT"
      },
      "source": [
        "- n_estimators를 늘린다면\r\n",
        "\r\n",
        "생성하는 weak learner의 수는 늘어남\r\n",
        "\r\n",
        "이 여러 학습기들의 decision boundary가 많아지면서 모델이 복잡해짐\r\n",
        "\r\n",
        "- learning_rate을 줄인다면\r\n",
        "\r\n",
        "가중치 갱신의 변동폭이 감소해서, 여러 학습기들의 decision boundary 차이가 줄어듦\r\n",
        "\r\n",
        "- n_estimoatrs와 learning_Rate는 trade-off 관계\r\n",
        "n_estimators(또는 learning_rate)를 늘리고, learning_rate(또는 n_estimators)을 줄인다면 서로 효과가 상쇄됌.\r\n",
        "\r\n",
        "→ 두 파라미터를 잘 조정하는 것이 알고리즘의 핵심."
      ]
    },
    {
      "cell_type": "code",
      "metadata": {
        "colab": {
          "base_uri": "https://localhost:8080/"
        },
        "id": "fWVzHfByVCnA",
        "outputId": "42990aa3-100b-4fbf-c667-64064722f228"
      },
      "source": [
        "DTC = DecisionTreeClassifier(max_depth = 1, random_state=42)\r\n",
        "\r\n",
        "ada_clf = AdaBoostClassifier(base_estimator = DTC, random_state=42) # default: estimators = 50, lr =1\r\n",
        "ada_clf.fit(X_train, y_train)"
      ],
      "execution_count": 61,
      "outputs": [
        {
          "output_type": "execute_result",
          "data": {
            "text/plain": [
              "AdaBoostClassifier(algorithm='SAMME.R',\n",
              "                   base_estimator=DecisionTreeClassifier(ccp_alpha=0.0,\n",
              "                                                         class_weight=None,\n",
              "                                                         criterion='gini',\n",
              "                                                         max_depth=1,\n",
              "                                                         max_features=None,\n",
              "                                                         max_leaf_nodes=None,\n",
              "                                                         min_impurity_decrease=0.0,\n",
              "                                                         min_impurity_split=None,\n",
              "                                                         min_samples_leaf=1,\n",
              "                                                         min_samples_split=2,\n",
              "                                                         min_weight_fraction_leaf=0.0,\n",
              "                                                         presort='deprecated',\n",
              "                                                         random_state=42,\n",
              "                                                         splitter='best'),\n",
              "                   learning_rate=1.0, n_estimators=50, random_state=42)"
            ]
          },
          "metadata": {
            "tags": []
          },
          "execution_count": 61
        }
      ]
    },
    {
      "cell_type": "code",
      "metadata": {
        "colab": {
          "base_uri": "https://localhost:8080/"
        },
        "id": "tbBmSRVCfA35",
        "outputId": "9f4c2d48-63dd-41bc-8c91-931e2773ca94"
      },
      "source": [
        "ada_pred = ada_clf.predict(X_valid)\r\n",
        "ada_acc = accuracy_score(y_valid, ada_pred)\r\n",
        "ada_acc\r\n"
      ],
      "execution_count": 41,
      "outputs": [
        {
          "output_type": "execute_result",
          "data": {
            "text/plain": [
              "0.9564250527797326"
            ]
          },
          "metadata": {
            "tags": []
          },
          "execution_count": 41
        }
      ]
    },
    {
      "cell_type": "code",
      "metadata": {
        "colab": {
          "base_uri": "https://localhost:8080/"
        },
        "id": "Cqt360yqfA_c",
        "outputId": "83dd4858-ad81-4caa-b2b6-e8d8c18514bc"
      },
      "source": [
        "ada_params = {\r\n",
        "    'n_estimators' : [50, 100, 500, 1000],\r\n",
        "    'learning_rate' : [0.001, 0.01, 0.1, 1],\r\n",
        "}\r\n",
        "\r\n",
        "\r\n",
        "ada_grid = GridSearchCV(ada_clf, param_grid = ada_params, cv = 3)\r\n",
        "ada_grid.fit(X_train, y_train)\r\n",
        "\r\n",
        "print('최적 하이퍼 파라미터:\\n', ada_grid.best_params_)\r\n",
        "print('최고 예측 정확도: {0:.6f}'.format(ada_grid.best_score_))"
      ],
      "execution_count": 42,
      "outputs": [
        {
          "output_type": "stream",
          "text": [
            "최적 하이퍼 파라미터:\n",
            " {'learning_rate': 0.1, 'n_estimators': 1000}\n",
            "최고 예측 정확도: 0.887246\n"
          ],
          "name": "stdout"
        }
      ]
    },
    {
      "cell_type": "code",
      "metadata": {
        "colab": {
          "base_uri": "https://localhost:8080/"
        },
        "id": "F_aPIJEjpLEc",
        "outputId": "3ee5f622-a786-41b5-bc59-4858170b0230"
      },
      "source": [
        "# predict\r\n",
        "ada_pred = ada_grid.best_estimator_.predict(X_valid)\r\n",
        "\r\n",
        "ada_acc = accuracy_score(y_valid, ada_pred)\r\n",
        "ada_acc\r\n"
      ],
      "execution_count": 43,
      "outputs": [
        {
          "output_type": "execute_result",
          "data": {
            "text/plain": [
              "0.9610133708655876"
            ]
          },
          "metadata": {
            "tags": []
          },
          "execution_count": 43
        }
      ]
    },
    {
      "cell_type": "code",
      "metadata": {
        "colab": {
          "base_uri": "https://localhost:8080/",
          "height": 411
        },
        "id": "4sNzgzRupWLI",
        "outputId": "200922b1-a0d1-4768-841d-5d1fbf187735"
      },
      "source": [
        "ada_valid_pred = pd.DataFrame(ada_pred, columns =['AdaBoost'])\r\n",
        "ada_valid_pred"
      ],
      "execution_count": 44,
      "outputs": [
        {
          "output_type": "execute_result",
          "data": {
            "text/html": [
              "<div>\n",
              "<style scoped>\n",
              "    .dataframe tbody tr th:only-of-type {\n",
              "        vertical-align: middle;\n",
              "    }\n",
              "\n",
              "    .dataframe tbody tr th {\n",
              "        vertical-align: top;\n",
              "    }\n",
              "\n",
              "    .dataframe thead th {\n",
              "        text-align: right;\n",
              "    }\n",
              "</style>\n",
              "<table border=\"1\" class=\"dataframe\">\n",
              "  <thead>\n",
              "    <tr style=\"text-align: right;\">\n",
              "      <th></th>\n",
              "      <th>AdaBoost</th>\n",
              "    </tr>\n",
              "  </thead>\n",
              "  <tbody>\n",
              "    <tr>\n",
              "      <th>0</th>\n",
              "      <td>1</td>\n",
              "    </tr>\n",
              "    <tr>\n",
              "      <th>1</th>\n",
              "      <td>0</td>\n",
              "    </tr>\n",
              "    <tr>\n",
              "      <th>2</th>\n",
              "      <td>1</td>\n",
              "    </tr>\n",
              "    <tr>\n",
              "      <th>3</th>\n",
              "      <td>1</td>\n",
              "    </tr>\n",
              "    <tr>\n",
              "      <th>4</th>\n",
              "      <td>1</td>\n",
              "    </tr>\n",
              "    <tr>\n",
              "      <th>...</th>\n",
              "      <td>...</td>\n",
              "    </tr>\n",
              "    <tr>\n",
              "      <th>35520</th>\n",
              "      <td>1</td>\n",
              "    </tr>\n",
              "    <tr>\n",
              "      <th>35521</th>\n",
              "      <td>0</td>\n",
              "    </tr>\n",
              "    <tr>\n",
              "      <th>35522</th>\n",
              "      <td>1</td>\n",
              "    </tr>\n",
              "    <tr>\n",
              "      <th>35523</th>\n",
              "      <td>1</td>\n",
              "    </tr>\n",
              "    <tr>\n",
              "      <th>35524</th>\n",
              "      <td>1</td>\n",
              "    </tr>\n",
              "  </tbody>\n",
              "</table>\n",
              "<p>35525 rows × 1 columns</p>\n",
              "</div>"
            ],
            "text/plain": [
              "       AdaBoost\n",
              "0             1\n",
              "1             0\n",
              "2             1\n",
              "3             1\n",
              "4             1\n",
              "...         ...\n",
              "35520         1\n",
              "35521         0\n",
              "35522         1\n",
              "35523         1\n",
              "35524         1\n",
              "\n",
              "[35525 rows x 1 columns]"
            ]
          },
          "metadata": {
            "tags": []
          },
          "execution_count": 44
        }
      ]
    },
    {
      "cell_type": "code",
      "metadata": {
        "id": "6d_YfPZ2O2LW"
      },
      "source": [
        "# submit\r\n",
        "\r\n",
        "ada_valid_pred.to_csv(\"ada_valid_pred.csv\", encoding=\"utf-8-sig\",index=False)"
      ],
      "execution_count": 45,
      "outputs": []
    },
    {
      "cell_type": "markdown",
      "metadata": {
        "id": "Fh9-A5kki8pL"
      },
      "source": [
        "### catBoost"
      ]
    },
    {
      "cell_type": "code",
      "metadata": {
        "colab": {
          "base_uri": "https://localhost:8080/"
        },
        "id": "pmGK8uHvuQ8g",
        "outputId": "021d090e-3abc-48a2-da9d-42c0dfad16d3"
      },
      "source": [
        "cb_clf = CatBoostClassifier(random_state=42)\r\n",
        "cb_clf.fit(X_train, y_train)\r\n",
        "\r\n",
        "cb_pred = cb_clf.predict(X_valid)\r\n"
      ],
      "execution_count": 83,
      "outputs": [
        {
          "output_type": "stream",
          "text": [
            "Learning rate set to 0.067941\n",
            "0:\tlearn: 0.5842131\ttotal: 59.9ms\tremaining: 59.9s\n",
            "1:\tlearn: 0.4997175\ttotal: 107ms\tremaining: 53.4s\n",
            "2:\tlearn: 0.4341391\ttotal: 170ms\tremaining: 56.4s\n",
            "3:\tlearn: 0.3867128\ttotal: 220ms\tremaining: 54.9s\n",
            "4:\tlearn: 0.3459648\ttotal: 266ms\tremaining: 53s\n",
            "5:\tlearn: 0.3166771\ttotal: 313ms\tremaining: 51.8s\n",
            "6:\tlearn: 0.2916814\ttotal: 357ms\tremaining: 50.7s\n",
            "7:\tlearn: 0.2648083\ttotal: 404ms\tremaining: 50.2s\n",
            "8:\tlearn: 0.2480252\ttotal: 456ms\tremaining: 50.2s\n",
            "9:\tlearn: 0.2295846\ttotal: 508ms\tremaining: 50.3s\n",
            "10:\tlearn: 0.2186249\ttotal: 552ms\tremaining: 49.6s\n",
            "11:\tlearn: 0.2054137\ttotal: 597ms\tremaining: 49.2s\n",
            "12:\tlearn: 0.1963938\ttotal: 646ms\tremaining: 49.1s\n",
            "13:\tlearn: 0.1867291\ttotal: 699ms\tremaining: 49.2s\n",
            "14:\tlearn: 0.1808226\ttotal: 748ms\tremaining: 49.1s\n",
            "15:\tlearn: 0.1743656\ttotal: 793ms\tremaining: 48.7s\n",
            "16:\tlearn: 0.1697262\ttotal: 843ms\tremaining: 48.7s\n",
            "17:\tlearn: 0.1640188\ttotal: 888ms\tremaining: 48.4s\n",
            "18:\tlearn: 0.1584289\ttotal: 939ms\tremaining: 48.5s\n",
            "19:\tlearn: 0.1546401\ttotal: 984ms\tremaining: 48.2s\n",
            "20:\tlearn: 0.1507470\ttotal: 1.03s\tremaining: 47.9s\n",
            "21:\tlearn: 0.1472811\ttotal: 1.07s\tremaining: 47.7s\n",
            "22:\tlearn: 0.1440899\ttotal: 1.12s\tremaining: 47.5s\n",
            "23:\tlearn: 0.1410691\ttotal: 1.19s\tremaining: 48.3s\n",
            "24:\tlearn: 0.1378741\ttotal: 1.23s\tremaining: 48.2s\n",
            "25:\tlearn: 0.1351489\ttotal: 1.28s\tremaining: 47.9s\n",
            "26:\tlearn: 0.1325458\ttotal: 1.32s\tremaining: 47.7s\n",
            "27:\tlearn: 0.1302503\ttotal: 1.37s\tremaining: 47.5s\n",
            "28:\tlearn: 0.1274193\ttotal: 1.42s\tremaining: 47.5s\n",
            "29:\tlearn: 0.1256029\ttotal: 1.46s\tremaining: 47.3s\n",
            "30:\tlearn: 0.1237189\ttotal: 1.52s\tremaining: 47.4s\n",
            "31:\tlearn: 0.1224594\ttotal: 1.56s\tremaining: 47.2s\n",
            "32:\tlearn: 0.1204683\ttotal: 1.6s\tremaining: 47s\n",
            "33:\tlearn: 0.1182993\ttotal: 1.65s\tremaining: 47s\n",
            "34:\tlearn: 0.1162006\ttotal: 1.7s\tremaining: 46.8s\n",
            "35:\tlearn: 0.1145492\ttotal: 1.75s\tremaining: 46.8s\n",
            "36:\tlearn: 0.1132031\ttotal: 1.79s\tremaining: 46.6s\n",
            "37:\tlearn: 0.1117476\ttotal: 1.83s\tremaining: 46.5s\n",
            "38:\tlearn: 0.1105464\ttotal: 1.88s\tremaining: 46.4s\n",
            "39:\tlearn: 0.1085529\ttotal: 1.93s\tremaining: 46.3s\n",
            "40:\tlearn: 0.1072490\ttotal: 1.98s\tremaining: 46.3s\n",
            "41:\tlearn: 0.1058141\ttotal: 2.02s\tremaining: 46.1s\n",
            "42:\tlearn: 0.1046119\ttotal: 2.07s\tremaining: 46s\n",
            "43:\tlearn: 0.1033126\ttotal: 2.12s\tremaining: 46.1s\n",
            "44:\tlearn: 0.1023986\ttotal: 2.19s\tremaining: 46.4s\n",
            "45:\tlearn: 0.1011529\ttotal: 2.23s\tremaining: 46.3s\n",
            "46:\tlearn: 0.1002414\ttotal: 2.27s\tremaining: 46.1s\n",
            "47:\tlearn: 0.0989278\ttotal: 2.32s\tremaining: 46s\n",
            "48:\tlearn: 0.0975221\ttotal: 2.37s\tremaining: 46s\n",
            "49:\tlearn: 0.0965056\ttotal: 2.42s\tremaining: 45.9s\n",
            "50:\tlearn: 0.0955901\ttotal: 2.46s\tremaining: 45.8s\n",
            "51:\tlearn: 0.0945478\ttotal: 2.51s\tremaining: 45.7s\n",
            "52:\tlearn: 0.0936820\ttotal: 2.56s\tremaining: 45.7s\n",
            "53:\tlearn: 0.0929185\ttotal: 2.61s\tremaining: 45.7s\n",
            "54:\tlearn: 0.0922180\ttotal: 2.65s\tremaining: 45.6s\n",
            "55:\tlearn: 0.0915146\ttotal: 2.7s\tremaining: 45.5s\n",
            "56:\tlearn: 0.0907902\ttotal: 2.75s\tremaining: 45.4s\n",
            "57:\tlearn: 0.0900652\ttotal: 2.79s\tremaining: 45.4s\n",
            "58:\tlearn: 0.0889221\ttotal: 2.84s\tremaining: 45.3s\n",
            "59:\tlearn: 0.0881384\ttotal: 2.89s\tremaining: 45.2s\n",
            "60:\tlearn: 0.0873671\ttotal: 2.93s\tremaining: 45.2s\n",
            "61:\tlearn: 0.0866503\ttotal: 2.98s\tremaining: 45.1s\n",
            "62:\tlearn: 0.0859842\ttotal: 3.03s\tremaining: 45s\n",
            "63:\tlearn: 0.0853256\ttotal: 3.08s\tremaining: 45.1s\n",
            "64:\tlearn: 0.0847247\ttotal: 3.13s\tremaining: 45s\n",
            "65:\tlearn: 0.0841275\ttotal: 3.18s\tremaining: 45s\n",
            "66:\tlearn: 0.0834756\ttotal: 3.22s\tremaining: 44.9s\n",
            "67:\tlearn: 0.0828017\ttotal: 3.27s\tremaining: 44.8s\n",
            "68:\tlearn: 0.0823582\ttotal: 3.32s\tremaining: 44.7s\n",
            "69:\tlearn: 0.0817606\ttotal: 3.37s\tremaining: 44.8s\n",
            "70:\tlearn: 0.0812707\ttotal: 3.42s\tremaining: 44.8s\n",
            "71:\tlearn: 0.0806029\ttotal: 3.47s\tremaining: 44.7s\n",
            "72:\tlearn: 0.0799832\ttotal: 3.52s\tremaining: 44.6s\n",
            "73:\tlearn: 0.0792773\ttotal: 3.56s\tremaining: 44.6s\n",
            "74:\tlearn: 0.0787869\ttotal: 3.61s\tremaining: 44.5s\n",
            "75:\tlearn: 0.0784275\ttotal: 3.65s\tremaining: 44.4s\n",
            "76:\tlearn: 0.0778729\ttotal: 3.71s\tremaining: 44.4s\n",
            "77:\tlearn: 0.0773098\ttotal: 3.75s\tremaining: 44.4s\n",
            "78:\tlearn: 0.0769282\ttotal: 3.8s\tremaining: 44.3s\n",
            "79:\tlearn: 0.0765398\ttotal: 3.85s\tremaining: 44.2s\n",
            "80:\tlearn: 0.0761258\ttotal: 3.89s\tremaining: 44.1s\n",
            "81:\tlearn: 0.0758291\ttotal: 3.93s\tremaining: 44s\n",
            "82:\tlearn: 0.0753960\ttotal: 3.98s\tremaining: 44s\n",
            "83:\tlearn: 0.0750215\ttotal: 4.03s\tremaining: 43.9s\n",
            "84:\tlearn: 0.0746133\ttotal: 4.08s\tremaining: 43.9s\n",
            "85:\tlearn: 0.0742674\ttotal: 4.13s\tremaining: 43.9s\n",
            "86:\tlearn: 0.0739123\ttotal: 4.18s\tremaining: 43.9s\n",
            "87:\tlearn: 0.0734792\ttotal: 4.24s\tremaining: 43.9s\n",
            "88:\tlearn: 0.0731747\ttotal: 4.28s\tremaining: 43.9s\n",
            "89:\tlearn: 0.0726976\ttotal: 4.33s\tremaining: 43.8s\n",
            "90:\tlearn: 0.0722313\ttotal: 4.38s\tremaining: 43.7s\n",
            "91:\tlearn: 0.0717450\ttotal: 4.42s\tremaining: 43.7s\n",
            "92:\tlearn: 0.0713641\ttotal: 4.48s\tremaining: 43.7s\n",
            "93:\tlearn: 0.0710403\ttotal: 4.52s\tremaining: 43.6s\n",
            "94:\tlearn: 0.0707146\ttotal: 4.57s\tremaining: 43.5s\n",
            "95:\tlearn: 0.0703613\ttotal: 4.61s\tremaining: 43.4s\n",
            "96:\tlearn: 0.0700208\ttotal: 4.66s\tremaining: 43.4s\n",
            "97:\tlearn: 0.0696136\ttotal: 4.71s\tremaining: 43.4s\n",
            "98:\tlearn: 0.0693722\ttotal: 4.75s\tremaining: 43.3s\n",
            "99:\tlearn: 0.0691302\ttotal: 4.8s\tremaining: 43.2s\n",
            "100:\tlearn: 0.0689552\ttotal: 4.85s\tremaining: 43.1s\n",
            "101:\tlearn: 0.0687445\ttotal: 4.89s\tremaining: 43s\n",
            "102:\tlearn: 0.0684277\ttotal: 4.94s\tremaining: 43s\n",
            "103:\tlearn: 0.0682347\ttotal: 4.98s\tremaining: 42.9s\n",
            "104:\tlearn: 0.0679830\ttotal: 5.02s\tremaining: 42.8s\n",
            "105:\tlearn: 0.0675831\ttotal: 5.07s\tremaining: 42.8s\n",
            "106:\tlearn: 0.0674276\ttotal: 5.13s\tremaining: 42.8s\n",
            "107:\tlearn: 0.0671725\ttotal: 5.2s\tremaining: 42.9s\n",
            "108:\tlearn: 0.0670137\ttotal: 5.24s\tremaining: 42.9s\n",
            "109:\tlearn: 0.0667121\ttotal: 5.29s\tremaining: 42.8s\n",
            "110:\tlearn: 0.0665241\ttotal: 5.33s\tremaining: 42.7s\n",
            "111:\tlearn: 0.0661313\ttotal: 5.38s\tremaining: 42.7s\n",
            "112:\tlearn: 0.0658424\ttotal: 5.43s\tremaining: 42.6s\n",
            "113:\tlearn: 0.0654476\ttotal: 5.48s\tremaining: 42.6s\n",
            "114:\tlearn: 0.0652216\ttotal: 5.52s\tremaining: 42.5s\n",
            "115:\tlearn: 0.0650560\ttotal: 5.57s\tremaining: 42.4s\n",
            "116:\tlearn: 0.0648483\ttotal: 5.61s\tremaining: 42.4s\n",
            "117:\tlearn: 0.0645452\ttotal: 5.66s\tremaining: 42.3s\n",
            "118:\tlearn: 0.0643113\ttotal: 5.71s\tremaining: 42.3s\n",
            "119:\tlearn: 0.0640837\ttotal: 5.76s\tremaining: 42.2s\n",
            "120:\tlearn: 0.0638255\ttotal: 5.8s\tremaining: 42.1s\n",
            "121:\tlearn: 0.0636801\ttotal: 5.85s\tremaining: 42.1s\n",
            "122:\tlearn: 0.0634021\ttotal: 5.9s\tremaining: 42.1s\n",
            "123:\tlearn: 0.0632367\ttotal: 5.95s\tremaining: 42s\n",
            "124:\tlearn: 0.0630195\ttotal: 5.99s\tremaining: 41.9s\n",
            "125:\tlearn: 0.0628512\ttotal: 6.04s\tremaining: 41.9s\n",
            "126:\tlearn: 0.0626811\ttotal: 6.08s\tremaining: 41.8s\n",
            "127:\tlearn: 0.0625025\ttotal: 6.13s\tremaining: 41.8s\n",
            "128:\tlearn: 0.0622095\ttotal: 6.18s\tremaining: 41.8s\n",
            "129:\tlearn: 0.0619915\ttotal: 6.24s\tremaining: 41.8s\n",
            "130:\tlearn: 0.0617746\ttotal: 6.29s\tremaining: 41.7s\n",
            "131:\tlearn: 0.0615497\ttotal: 6.33s\tremaining: 41.6s\n",
            "132:\tlearn: 0.0613144\ttotal: 6.38s\tremaining: 41.6s\n",
            "133:\tlearn: 0.0612128\ttotal: 6.42s\tremaining: 41.5s\n",
            "134:\tlearn: 0.0609521\ttotal: 6.47s\tremaining: 41.5s\n",
            "135:\tlearn: 0.0607832\ttotal: 6.52s\tremaining: 41.4s\n",
            "136:\tlearn: 0.0606484\ttotal: 6.57s\tremaining: 41.4s\n",
            "137:\tlearn: 0.0604367\ttotal: 6.61s\tremaining: 41.3s\n",
            "138:\tlearn: 0.0602418\ttotal: 6.66s\tremaining: 41.2s\n",
            "139:\tlearn: 0.0600885\ttotal: 6.7s\tremaining: 41.2s\n",
            "140:\tlearn: 0.0599101\ttotal: 6.74s\tremaining: 41.1s\n",
            "141:\tlearn: 0.0596849\ttotal: 6.79s\tremaining: 41s\n",
            "142:\tlearn: 0.0595560\ttotal: 6.85s\tremaining: 41.1s\n",
            "143:\tlearn: 0.0594101\ttotal: 6.9s\tremaining: 41s\n",
            "144:\tlearn: 0.0592584\ttotal: 6.94s\tremaining: 40.9s\n",
            "145:\tlearn: 0.0590868\ttotal: 6.98s\tremaining: 40.9s\n",
            "146:\tlearn: 0.0588501\ttotal: 7.03s\tremaining: 40.8s\n",
            "147:\tlearn: 0.0586132\ttotal: 7.08s\tremaining: 40.8s\n",
            "148:\tlearn: 0.0584695\ttotal: 7.13s\tremaining: 40.7s\n",
            "149:\tlearn: 0.0583358\ttotal: 7.17s\tremaining: 40.6s\n",
            "150:\tlearn: 0.0580983\ttotal: 7.23s\tremaining: 40.6s\n",
            "151:\tlearn: 0.0579567\ttotal: 7.27s\tremaining: 40.6s\n",
            "152:\tlearn: 0.0579145\ttotal: 7.32s\tremaining: 40.5s\n",
            "153:\tlearn: 0.0577719\ttotal: 7.37s\tremaining: 40.5s\n",
            "154:\tlearn: 0.0575856\ttotal: 7.42s\tremaining: 40.4s\n",
            "155:\tlearn: 0.0573934\ttotal: 7.46s\tremaining: 40.4s\n",
            "156:\tlearn: 0.0573060\ttotal: 7.53s\tremaining: 40.5s\n",
            "157:\tlearn: 0.0571932\ttotal: 7.58s\tremaining: 40.4s\n",
            "158:\tlearn: 0.0570089\ttotal: 7.63s\tremaining: 40.3s\n",
            "159:\tlearn: 0.0567796\ttotal: 7.68s\tremaining: 40.3s\n",
            "160:\tlearn: 0.0566401\ttotal: 7.73s\tremaining: 40.3s\n",
            "161:\tlearn: 0.0565227\ttotal: 7.78s\tremaining: 40.2s\n",
            "162:\tlearn: 0.0563252\ttotal: 7.83s\tremaining: 40.2s\n",
            "163:\tlearn: 0.0562603\ttotal: 7.87s\tremaining: 40.1s\n",
            "164:\tlearn: 0.0560267\ttotal: 7.91s\tremaining: 40s\n",
            "165:\tlearn: 0.0559045\ttotal: 7.96s\tremaining: 40s\n",
            "166:\tlearn: 0.0557504\ttotal: 8.01s\tremaining: 39.9s\n",
            "167:\tlearn: 0.0555650\ttotal: 8.05s\tremaining: 39.9s\n",
            "168:\tlearn: 0.0553618\ttotal: 8.1s\tremaining: 39.8s\n",
            "169:\tlearn: 0.0551981\ttotal: 8.14s\tremaining: 39.8s\n",
            "170:\tlearn: 0.0549835\ttotal: 8.19s\tremaining: 39.7s\n",
            "171:\tlearn: 0.0549329\ttotal: 8.24s\tremaining: 39.7s\n",
            "172:\tlearn: 0.0548150\ttotal: 8.29s\tremaining: 39.6s\n",
            "173:\tlearn: 0.0546407\ttotal: 8.33s\tremaining: 39.6s\n",
            "174:\tlearn: 0.0544625\ttotal: 8.38s\tremaining: 39.5s\n",
            "175:\tlearn: 0.0543536\ttotal: 8.43s\tremaining: 39.4s\n",
            "176:\tlearn: 0.0542822\ttotal: 8.47s\tremaining: 39.4s\n",
            "177:\tlearn: 0.0541278\ttotal: 8.52s\tremaining: 39.3s\n",
            "178:\tlearn: 0.0540419\ttotal: 8.56s\tremaining: 39.3s\n",
            "179:\tlearn: 0.0539322\ttotal: 8.61s\tremaining: 39.2s\n",
            "180:\tlearn: 0.0538693\ttotal: 8.66s\tremaining: 39.2s\n",
            "181:\tlearn: 0.0538154\ttotal: 8.72s\tremaining: 39.2s\n",
            "182:\tlearn: 0.0536796\ttotal: 8.76s\tremaining: 39.1s\n",
            "183:\tlearn: 0.0535267\ttotal: 8.81s\tremaining: 39.1s\n",
            "184:\tlearn: 0.0534345\ttotal: 8.86s\tremaining: 39s\n",
            "185:\tlearn: 0.0533200\ttotal: 8.9s\tremaining: 39s\n",
            "186:\tlearn: 0.0531883\ttotal: 8.96s\tremaining: 38.9s\n",
            "187:\tlearn: 0.0530245\ttotal: 9s\tremaining: 38.9s\n",
            "188:\tlearn: 0.0529527\ttotal: 9.05s\tremaining: 38.8s\n",
            "189:\tlearn: 0.0528456\ttotal: 9.09s\tremaining: 38.8s\n",
            "190:\tlearn: 0.0526910\ttotal: 9.14s\tremaining: 38.7s\n",
            "191:\tlearn: 0.0525057\ttotal: 9.19s\tremaining: 38.7s\n",
            "192:\tlearn: 0.0524007\ttotal: 9.25s\tremaining: 38.7s\n",
            "193:\tlearn: 0.0522990\ttotal: 9.31s\tremaining: 38.7s\n",
            "194:\tlearn: 0.0521894\ttotal: 9.35s\tremaining: 38.6s\n",
            "195:\tlearn: 0.0520879\ttotal: 9.4s\tremaining: 38.6s\n",
            "196:\tlearn: 0.0519689\ttotal: 9.44s\tremaining: 38.5s\n",
            "197:\tlearn: 0.0518830\ttotal: 9.49s\tremaining: 38.4s\n",
            "198:\tlearn: 0.0517768\ttotal: 9.53s\tremaining: 38.4s\n",
            "199:\tlearn: 0.0516424\ttotal: 9.57s\tremaining: 38.3s\n",
            "200:\tlearn: 0.0515463\ttotal: 9.63s\tremaining: 38.3s\n",
            "201:\tlearn: 0.0514613\ttotal: 9.67s\tremaining: 38.2s\n",
            "202:\tlearn: 0.0512766\ttotal: 9.72s\tremaining: 38.1s\n",
            "203:\tlearn: 0.0512046\ttotal: 9.76s\tremaining: 38.1s\n",
            "204:\tlearn: 0.0511245\ttotal: 9.8s\tremaining: 38s\n",
            "205:\tlearn: 0.0509872\ttotal: 9.85s\tremaining: 38s\n",
            "206:\tlearn: 0.0509148\ttotal: 9.9s\tremaining: 37.9s\n",
            "207:\tlearn: 0.0507769\ttotal: 9.94s\tremaining: 37.9s\n",
            "208:\tlearn: 0.0506966\ttotal: 9.99s\tremaining: 37.8s\n",
            "209:\tlearn: 0.0505770\ttotal: 10s\tremaining: 37.8s\n",
            "210:\tlearn: 0.0504742\ttotal: 10.1s\tremaining: 37.7s\n",
            "211:\tlearn: 0.0503965\ttotal: 10.1s\tremaining: 37.6s\n",
            "212:\tlearn: 0.0502465\ttotal: 10.2s\tremaining: 37.6s\n",
            "213:\tlearn: 0.0501451\ttotal: 10.2s\tremaining: 37.5s\n",
            "214:\tlearn: 0.0500291\ttotal: 10.3s\tremaining: 37.5s\n",
            "215:\tlearn: 0.0499349\ttotal: 10.3s\tremaining: 37.5s\n",
            "216:\tlearn: 0.0498320\ttotal: 10.4s\tremaining: 37.4s\n",
            "217:\tlearn: 0.0497697\ttotal: 10.4s\tremaining: 37.4s\n",
            "218:\tlearn: 0.0496490\ttotal: 10.5s\tremaining: 37.3s\n",
            "219:\tlearn: 0.0495240\ttotal: 10.5s\tremaining: 37.3s\n",
            "220:\tlearn: 0.0493464\ttotal: 10.6s\tremaining: 37.2s\n",
            "221:\tlearn: 0.0492664\ttotal: 10.6s\tremaining: 37.2s\n",
            "222:\tlearn: 0.0491237\ttotal: 10.7s\tremaining: 37.1s\n",
            "223:\tlearn: 0.0490810\ttotal: 10.7s\tremaining: 37.1s\n",
            "224:\tlearn: 0.0489438\ttotal: 10.7s\tremaining: 37s\n",
            "225:\tlearn: 0.0488727\ttotal: 10.8s\tremaining: 37s\n",
            "226:\tlearn: 0.0488036\ttotal: 10.8s\tremaining: 36.9s\n",
            "227:\tlearn: 0.0486355\ttotal: 10.9s\tremaining: 36.9s\n",
            "228:\tlearn: 0.0485251\ttotal: 11s\tremaining: 36.9s\n",
            "229:\tlearn: 0.0484398\ttotal: 11s\tremaining: 36.8s\n",
            "230:\tlearn: 0.0483950\ttotal: 11.1s\tremaining: 36.8s\n",
            "231:\tlearn: 0.0483519\ttotal: 11.1s\tremaining: 36.8s\n",
            "232:\tlearn: 0.0482874\ttotal: 11.1s\tremaining: 36.7s\n",
            "233:\tlearn: 0.0482007\ttotal: 11.2s\tremaining: 36.7s\n",
            "234:\tlearn: 0.0481101\ttotal: 11.3s\tremaining: 36.7s\n",
            "235:\tlearn: 0.0480116\ttotal: 11.3s\tremaining: 36.6s\n",
            "236:\tlearn: 0.0478987\ttotal: 11.4s\tremaining: 36.6s\n",
            "237:\tlearn: 0.0477456\ttotal: 11.4s\tremaining: 36.5s\n",
            "238:\tlearn: 0.0476664\ttotal: 11.4s\tremaining: 36.4s\n",
            "239:\tlearn: 0.0476289\ttotal: 11.5s\tremaining: 36.4s\n",
            "240:\tlearn: 0.0475414\ttotal: 11.5s\tremaining: 36.3s\n",
            "241:\tlearn: 0.0474697\ttotal: 11.6s\tremaining: 36.3s\n",
            "242:\tlearn: 0.0474034\ttotal: 11.6s\tremaining: 36.2s\n",
            "243:\tlearn: 0.0472755\ttotal: 11.7s\tremaining: 36.2s\n",
            "244:\tlearn: 0.0471816\ttotal: 11.7s\tremaining: 36.1s\n",
            "245:\tlearn: 0.0471107\ttotal: 11.8s\tremaining: 36.1s\n",
            "246:\tlearn: 0.0470080\ttotal: 11.8s\tremaining: 36s\n",
            "247:\tlearn: 0.0469321\ttotal: 11.9s\tremaining: 36s\n",
            "248:\tlearn: 0.0468740\ttotal: 11.9s\tremaining: 35.9s\n",
            "249:\tlearn: 0.0467913\ttotal: 12s\tremaining: 35.9s\n",
            "250:\tlearn: 0.0466554\ttotal: 12s\tremaining: 35.8s\n",
            "251:\tlearn: 0.0465510\ttotal: 12.1s\tremaining: 35.8s\n",
            "252:\tlearn: 0.0465100\ttotal: 12.1s\tremaining: 35.7s\n",
            "253:\tlearn: 0.0464637\ttotal: 12.1s\tremaining: 35.6s\n",
            "254:\tlearn: 0.0464036\ttotal: 12.2s\tremaining: 35.6s\n",
            "255:\tlearn: 0.0463032\ttotal: 12.2s\tremaining: 35.5s\n",
            "256:\tlearn: 0.0462171\ttotal: 12.3s\tremaining: 35.5s\n",
            "257:\tlearn: 0.0461095\ttotal: 12.3s\tremaining: 35.5s\n",
            "258:\tlearn: 0.0460464\ttotal: 12.4s\tremaining: 35.4s\n",
            "259:\tlearn: 0.0459560\ttotal: 12.4s\tremaining: 35.4s\n",
            "260:\tlearn: 0.0458991\ttotal: 12.5s\tremaining: 35.3s\n",
            "261:\tlearn: 0.0457635\ttotal: 12.5s\tremaining: 35.3s\n",
            "262:\tlearn: 0.0456920\ttotal: 12.6s\tremaining: 35.2s\n",
            "263:\tlearn: 0.0456127\ttotal: 12.6s\tremaining: 35.2s\n",
            "264:\tlearn: 0.0455047\ttotal: 12.7s\tremaining: 35.1s\n",
            "265:\tlearn: 0.0453744\ttotal: 12.7s\tremaining: 35.1s\n",
            "266:\tlearn: 0.0453294\ttotal: 12.8s\tremaining: 35s\n",
            "267:\tlearn: 0.0452585\ttotal: 12.8s\tremaining: 35s\n",
            "268:\tlearn: 0.0451600\ttotal: 12.9s\tremaining: 34.9s\n",
            "269:\tlearn: 0.0450644\ttotal: 12.9s\tremaining: 34.9s\n",
            "270:\tlearn: 0.0450284\ttotal: 13s\tremaining: 34.8s\n",
            "271:\tlearn: 0.0449661\ttotal: 13s\tremaining: 34.8s\n",
            "272:\tlearn: 0.0449264\ttotal: 13s\tremaining: 34.7s\n",
            "273:\tlearn: 0.0448504\ttotal: 13.1s\tremaining: 34.7s\n",
            "274:\tlearn: 0.0447083\ttotal: 13.2s\tremaining: 34.7s\n",
            "275:\tlearn: 0.0446534\ttotal: 13.2s\tremaining: 34.6s\n",
            "276:\tlearn: 0.0445946\ttotal: 13.2s\tremaining: 34.6s\n",
            "277:\tlearn: 0.0445779\ttotal: 13.3s\tremaining: 34.5s\n",
            "278:\tlearn: 0.0444402\ttotal: 13.3s\tremaining: 34.5s\n",
            "279:\tlearn: 0.0443550\ttotal: 13.4s\tremaining: 34.5s\n",
            "280:\tlearn: 0.0442654\ttotal: 13.4s\tremaining: 34.4s\n",
            "281:\tlearn: 0.0441907\ttotal: 13.5s\tremaining: 34.4s\n",
            "282:\tlearn: 0.0441106\ttotal: 13.5s\tremaining: 34.3s\n",
            "283:\tlearn: 0.0440474\ttotal: 13.6s\tremaining: 34.3s\n",
            "284:\tlearn: 0.0439878\ttotal: 13.6s\tremaining: 34.2s\n",
            "285:\tlearn: 0.0439295\ttotal: 13.7s\tremaining: 34.2s\n",
            "286:\tlearn: 0.0438897\ttotal: 13.7s\tremaining: 34.1s\n",
            "287:\tlearn: 0.0437932\ttotal: 13.8s\tremaining: 34.1s\n",
            "288:\tlearn: 0.0437193\ttotal: 13.8s\tremaining: 34s\n",
            "289:\tlearn: 0.0436619\ttotal: 13.9s\tremaining: 34s\n",
            "290:\tlearn: 0.0435885\ttotal: 13.9s\tremaining: 33.9s\n",
            "291:\tlearn: 0.0435472\ttotal: 14s\tremaining: 33.9s\n",
            "292:\tlearn: 0.0434659\ttotal: 14s\tremaining: 33.8s\n",
            "293:\tlearn: 0.0434154\ttotal: 14.1s\tremaining: 33.8s\n",
            "294:\tlearn: 0.0433533\ttotal: 14.1s\tremaining: 33.7s\n",
            "295:\tlearn: 0.0432933\ttotal: 14.2s\tremaining: 33.7s\n",
            "296:\tlearn: 0.0432325\ttotal: 14.2s\tremaining: 33.6s\n",
            "297:\tlearn: 0.0431791\ttotal: 14.3s\tremaining: 33.6s\n",
            "298:\tlearn: 0.0431282\ttotal: 14.3s\tremaining: 33.5s\n",
            "299:\tlearn: 0.0430704\ttotal: 14.4s\tremaining: 33.5s\n",
            "300:\tlearn: 0.0430256\ttotal: 14.4s\tremaining: 33.5s\n",
            "301:\tlearn: 0.0430053\ttotal: 14.5s\tremaining: 33.4s\n",
            "302:\tlearn: 0.0428354\ttotal: 14.5s\tremaining: 33.4s\n",
            "303:\tlearn: 0.0427781\ttotal: 14.5s\tremaining: 33.3s\n",
            "304:\tlearn: 0.0427015\ttotal: 14.6s\tremaining: 33.3s\n",
            "305:\tlearn: 0.0426524\ttotal: 14.6s\tremaining: 33.2s\n",
            "306:\tlearn: 0.0425631\ttotal: 14.7s\tremaining: 33.2s\n",
            "307:\tlearn: 0.0425003\ttotal: 14.7s\tremaining: 33.1s\n",
            "308:\tlearn: 0.0424691\ttotal: 14.8s\tremaining: 33s\n",
            "309:\tlearn: 0.0424179\ttotal: 14.8s\tremaining: 33s\n",
            "310:\tlearn: 0.0423956\ttotal: 14.9s\tremaining: 33s\n",
            "311:\tlearn: 0.0423845\ttotal: 14.9s\tremaining: 32.9s\n",
            "312:\tlearn: 0.0423308\ttotal: 15s\tremaining: 32.8s\n",
            "313:\tlearn: 0.0423142\ttotal: 15s\tremaining: 32.8s\n",
            "314:\tlearn: 0.0422731\ttotal: 15.1s\tremaining: 32.7s\n",
            "315:\tlearn: 0.0421945\ttotal: 15.1s\tremaining: 32.7s\n",
            "316:\tlearn: 0.0421454\ttotal: 15.1s\tremaining: 32.6s\n",
            "317:\tlearn: 0.0420983\ttotal: 15.2s\tremaining: 32.6s\n",
            "318:\tlearn: 0.0420292\ttotal: 15.2s\tremaining: 32.5s\n",
            "319:\tlearn: 0.0419848\ttotal: 15.3s\tremaining: 32.5s\n",
            "320:\tlearn: 0.0418967\ttotal: 15.3s\tremaining: 32.4s\n",
            "321:\tlearn: 0.0418619\ttotal: 15.4s\tremaining: 32.4s\n",
            "322:\tlearn: 0.0418248\ttotal: 15.4s\tremaining: 32.4s\n",
            "323:\tlearn: 0.0417382\ttotal: 15.5s\tremaining: 32.3s\n",
            "324:\tlearn: 0.0416418\ttotal: 15.5s\tremaining: 32.3s\n",
            "325:\tlearn: 0.0415474\ttotal: 15.6s\tremaining: 32.2s\n",
            "326:\tlearn: 0.0414909\ttotal: 15.6s\tremaining: 32.2s\n",
            "327:\tlearn: 0.0414285\ttotal: 15.7s\tremaining: 32.1s\n",
            "328:\tlearn: 0.0413580\ttotal: 15.7s\tremaining: 32.1s\n",
            "329:\tlearn: 0.0412659\ttotal: 15.8s\tremaining: 32s\n",
            "330:\tlearn: 0.0412130\ttotal: 15.8s\tremaining: 32s\n",
            "331:\tlearn: 0.0411252\ttotal: 15.9s\tremaining: 31.9s\n",
            "332:\tlearn: 0.0410793\ttotal: 15.9s\tremaining: 31.9s\n",
            "333:\tlearn: 0.0410349\ttotal: 16s\tremaining: 31.8s\n",
            "334:\tlearn: 0.0409852\ttotal: 16s\tremaining: 31.8s\n",
            "335:\tlearn: 0.0409578\ttotal: 16.1s\tremaining: 31.7s\n",
            "336:\tlearn: 0.0409029\ttotal: 16.1s\tremaining: 31.7s\n",
            "337:\tlearn: 0.0408471\ttotal: 16.1s\tremaining: 31.6s\n",
            "338:\tlearn: 0.0408014\ttotal: 16.2s\tremaining: 31.6s\n",
            "339:\tlearn: 0.0407306\ttotal: 16.2s\tremaining: 31.5s\n",
            "340:\tlearn: 0.0406928\ttotal: 16.3s\tremaining: 31.5s\n",
            "341:\tlearn: 0.0406445\ttotal: 16.3s\tremaining: 31.4s\n",
            "342:\tlearn: 0.0405684\ttotal: 16.4s\tremaining: 31.4s\n",
            "343:\tlearn: 0.0405013\ttotal: 16.4s\tremaining: 31.4s\n",
            "344:\tlearn: 0.0404653\ttotal: 16.5s\tremaining: 31.3s\n",
            "345:\tlearn: 0.0404313\ttotal: 16.5s\tremaining: 31.2s\n",
            "346:\tlearn: 0.0404026\ttotal: 16.6s\tremaining: 31.2s\n",
            "347:\tlearn: 0.0403414\ttotal: 16.6s\tremaining: 31.1s\n",
            "348:\tlearn: 0.0402583\ttotal: 16.7s\tremaining: 31.1s\n",
            "349:\tlearn: 0.0402212\ttotal: 16.7s\tremaining: 31.1s\n",
            "350:\tlearn: 0.0401699\ttotal: 16.8s\tremaining: 31s\n",
            "351:\tlearn: 0.0400564\ttotal: 16.8s\tremaining: 30.9s\n",
            "352:\tlearn: 0.0399901\ttotal: 16.9s\tremaining: 30.9s\n",
            "353:\tlearn: 0.0399422\ttotal: 16.9s\tremaining: 30.9s\n",
            "354:\tlearn: 0.0398604\ttotal: 16.9s\tremaining: 30.8s\n",
            "355:\tlearn: 0.0398091\ttotal: 17s\tremaining: 30.8s\n",
            "356:\tlearn: 0.0397817\ttotal: 17s\tremaining: 30.7s\n",
            "357:\tlearn: 0.0397235\ttotal: 17.1s\tremaining: 30.7s\n",
            "358:\tlearn: 0.0396546\ttotal: 17.1s\tremaining: 30.6s\n",
            "359:\tlearn: 0.0395983\ttotal: 17.2s\tremaining: 30.6s\n",
            "360:\tlearn: 0.0395111\ttotal: 17.2s\tremaining: 30.5s\n",
            "361:\tlearn: 0.0394785\ttotal: 17.3s\tremaining: 30.5s\n",
            "362:\tlearn: 0.0394488\ttotal: 17.3s\tremaining: 30.4s\n",
            "363:\tlearn: 0.0394152\ttotal: 17.4s\tremaining: 30.4s\n",
            "364:\tlearn: 0.0393387\ttotal: 17.4s\tremaining: 30.3s\n",
            "365:\tlearn: 0.0392999\ttotal: 17.5s\tremaining: 30.3s\n",
            "366:\tlearn: 0.0392589\ttotal: 17.5s\tremaining: 30.2s\n",
            "367:\tlearn: 0.0392062\ttotal: 17.6s\tremaining: 30.2s\n",
            "368:\tlearn: 0.0390950\ttotal: 17.6s\tremaining: 30.1s\n",
            "369:\tlearn: 0.0390314\ttotal: 17.7s\tremaining: 30.1s\n",
            "370:\tlearn: 0.0389563\ttotal: 17.7s\tremaining: 30s\n",
            "371:\tlearn: 0.0388693\ttotal: 17.8s\tremaining: 30s\n",
            "372:\tlearn: 0.0388079\ttotal: 17.8s\tremaining: 30s\n",
            "373:\tlearn: 0.0387696\ttotal: 17.9s\tremaining: 29.9s\n",
            "374:\tlearn: 0.0387247\ttotal: 17.9s\tremaining: 29.9s\n",
            "375:\tlearn: 0.0386522\ttotal: 18s\tremaining: 29.8s\n",
            "376:\tlearn: 0.0386133\ttotal: 18s\tremaining: 29.8s\n",
            "377:\tlearn: 0.0385801\ttotal: 18.1s\tremaining: 29.7s\n",
            "378:\tlearn: 0.0385487\ttotal: 18.1s\tremaining: 29.7s\n",
            "379:\tlearn: 0.0385034\ttotal: 18.2s\tremaining: 29.6s\n",
            "380:\tlearn: 0.0384714\ttotal: 18.2s\tremaining: 29.6s\n",
            "381:\tlearn: 0.0384438\ttotal: 18.2s\tremaining: 29.5s\n",
            "382:\tlearn: 0.0383745\ttotal: 18.3s\tremaining: 29.5s\n",
            "383:\tlearn: 0.0383207\ttotal: 18.4s\tremaining: 29.4s\n",
            "384:\tlearn: 0.0382826\ttotal: 18.4s\tremaining: 29.4s\n",
            "385:\tlearn: 0.0382356\ttotal: 18.5s\tremaining: 29.4s\n",
            "386:\tlearn: 0.0382037\ttotal: 18.5s\tremaining: 29.3s\n",
            "387:\tlearn: 0.0381786\ttotal: 18.5s\tremaining: 29.2s\n",
            "388:\tlearn: 0.0381444\ttotal: 18.6s\tremaining: 29.2s\n",
            "389:\tlearn: 0.0381045\ttotal: 18.6s\tremaining: 29.1s\n",
            "390:\tlearn: 0.0380448\ttotal: 18.7s\tremaining: 29.1s\n",
            "391:\tlearn: 0.0379953\ttotal: 18.7s\tremaining: 29s\n",
            "392:\tlearn: 0.0379262\ttotal: 18.8s\tremaining: 29s\n",
            "393:\tlearn: 0.0378789\ttotal: 18.8s\tremaining: 29s\n",
            "394:\tlearn: 0.0378393\ttotal: 18.9s\tremaining: 28.9s\n",
            "395:\tlearn: 0.0378147\ttotal: 18.9s\tremaining: 28.9s\n",
            "396:\tlearn: 0.0377709\ttotal: 19s\tremaining: 28.8s\n",
            "397:\tlearn: 0.0377156\ttotal: 19s\tremaining: 28.8s\n",
            "398:\tlearn: 0.0377106\ttotal: 19.1s\tremaining: 28.7s\n",
            "399:\tlearn: 0.0375854\ttotal: 19.1s\tremaining: 28.7s\n",
            "400:\tlearn: 0.0375459\ttotal: 19.2s\tremaining: 28.6s\n",
            "401:\tlearn: 0.0375048\ttotal: 19.2s\tremaining: 28.6s\n",
            "402:\tlearn: 0.0374447\ttotal: 19.3s\tremaining: 28.5s\n",
            "403:\tlearn: 0.0374205\ttotal: 19.3s\tremaining: 28.5s\n",
            "404:\tlearn: 0.0373648\ttotal: 19.3s\tremaining: 28.4s\n",
            "405:\tlearn: 0.0373332\ttotal: 19.4s\tremaining: 28.4s\n",
            "406:\tlearn: 0.0372851\ttotal: 19.4s\tremaining: 28.3s\n",
            "407:\tlearn: 0.0372366\ttotal: 19.5s\tremaining: 28.3s\n",
            "408:\tlearn: 0.0372041\ttotal: 19.5s\tremaining: 28.2s\n",
            "409:\tlearn: 0.0371782\ttotal: 19.6s\tremaining: 28.2s\n",
            "410:\tlearn: 0.0371324\ttotal: 19.6s\tremaining: 28.1s\n",
            "411:\tlearn: 0.0370639\ttotal: 19.7s\tremaining: 28.1s\n",
            "412:\tlearn: 0.0370011\ttotal: 19.7s\tremaining: 28s\n",
            "413:\tlearn: 0.0369684\ttotal: 19.8s\tremaining: 28s\n",
            "414:\tlearn: 0.0369297\ttotal: 19.8s\tremaining: 27.9s\n",
            "415:\tlearn: 0.0368778\ttotal: 19.9s\tremaining: 27.9s\n",
            "416:\tlearn: 0.0368192\ttotal: 19.9s\tremaining: 27.8s\n",
            "417:\tlearn: 0.0367708\ttotal: 19.9s\tremaining: 27.8s\n",
            "418:\tlearn: 0.0367450\ttotal: 20s\tremaining: 27.7s\n",
            "419:\tlearn: 0.0367147\ttotal: 20s\tremaining: 27.7s\n",
            "420:\tlearn: 0.0366413\ttotal: 20.1s\tremaining: 27.6s\n",
            "421:\tlearn: 0.0366195\ttotal: 20.1s\tremaining: 27.6s\n",
            "422:\tlearn: 0.0365358\ttotal: 20.2s\tremaining: 27.5s\n",
            "423:\tlearn: 0.0365145\ttotal: 20.2s\tremaining: 27.5s\n",
            "424:\tlearn: 0.0364538\ttotal: 20.3s\tremaining: 27.4s\n",
            "425:\tlearn: 0.0364060\ttotal: 20.3s\tremaining: 27.4s\n",
            "426:\tlearn: 0.0363419\ttotal: 20.4s\tremaining: 27.3s\n",
            "427:\tlearn: 0.0363001\ttotal: 20.4s\tremaining: 27.3s\n",
            "428:\tlearn: 0.0362431\ttotal: 20.5s\tremaining: 27.3s\n",
            "429:\tlearn: 0.0362009\ttotal: 20.5s\tremaining: 27.2s\n",
            "430:\tlearn: 0.0361864\ttotal: 20.6s\tremaining: 27.2s\n",
            "431:\tlearn: 0.0361449\ttotal: 20.6s\tremaining: 27.1s\n",
            "432:\tlearn: 0.0361055\ttotal: 20.7s\tremaining: 27.1s\n",
            "433:\tlearn: 0.0360074\ttotal: 20.7s\tremaining: 27s\n",
            "434:\tlearn: 0.0359351\ttotal: 20.8s\tremaining: 27s\n",
            "435:\tlearn: 0.0358780\ttotal: 20.8s\tremaining: 26.9s\n",
            "436:\tlearn: 0.0358461\ttotal: 20.9s\tremaining: 26.9s\n",
            "437:\tlearn: 0.0357911\ttotal: 20.9s\tremaining: 26.8s\n",
            "438:\tlearn: 0.0357632\ttotal: 21s\tremaining: 26.8s\n",
            "439:\tlearn: 0.0357206\ttotal: 21s\tremaining: 26.7s\n",
            "440:\tlearn: 0.0356690\ttotal: 21s\tremaining: 26.7s\n",
            "441:\tlearn: 0.0356212\ttotal: 21.1s\tremaining: 26.6s\n",
            "442:\tlearn: 0.0355716\ttotal: 21.2s\tremaining: 26.6s\n",
            "443:\tlearn: 0.0355288\ttotal: 21.2s\tremaining: 26.5s\n",
            "444:\tlearn: 0.0354959\ttotal: 21.2s\tremaining: 26.5s\n",
            "445:\tlearn: 0.0354479\ttotal: 21.3s\tremaining: 26.4s\n",
            "446:\tlearn: 0.0354213\ttotal: 21.3s\tremaining: 26.4s\n",
            "447:\tlearn: 0.0353919\ttotal: 21.4s\tremaining: 26.4s\n",
            "448:\tlearn: 0.0353305\ttotal: 21.5s\tremaining: 26.3s\n",
            "449:\tlearn: 0.0352813\ttotal: 21.5s\tremaining: 26.3s\n",
            "450:\tlearn: 0.0352441\ttotal: 21.5s\tremaining: 26.2s\n",
            "451:\tlearn: 0.0352057\ttotal: 21.6s\tremaining: 26.2s\n",
            "452:\tlearn: 0.0351591\ttotal: 21.6s\tremaining: 26.1s\n",
            "453:\tlearn: 0.0351230\ttotal: 21.7s\tremaining: 26.1s\n",
            "454:\tlearn: 0.0350731\ttotal: 21.7s\tremaining: 26s\n",
            "455:\tlearn: 0.0350050\ttotal: 21.8s\tremaining: 26s\n",
            "456:\tlearn: 0.0349664\ttotal: 21.8s\tremaining: 25.9s\n",
            "457:\tlearn: 0.0349343\ttotal: 21.9s\tremaining: 25.9s\n",
            "458:\tlearn: 0.0348872\ttotal: 21.9s\tremaining: 25.8s\n",
            "459:\tlearn: 0.0348583\ttotal: 22s\tremaining: 25.8s\n",
            "460:\tlearn: 0.0348390\ttotal: 22s\tremaining: 25.7s\n",
            "461:\tlearn: 0.0348027\ttotal: 22.1s\tremaining: 25.7s\n",
            "462:\tlearn: 0.0347379\ttotal: 22.1s\tremaining: 25.6s\n",
            "463:\tlearn: 0.0346711\ttotal: 22.2s\tremaining: 25.6s\n",
            "464:\tlearn: 0.0346298\ttotal: 22.2s\tremaining: 25.5s\n",
            "465:\tlearn: 0.0345605\ttotal: 22.2s\tremaining: 25.5s\n",
            "466:\tlearn: 0.0345111\ttotal: 22.3s\tremaining: 25.4s\n",
            "467:\tlearn: 0.0344778\ttotal: 22.3s\tremaining: 25.4s\n",
            "468:\tlearn: 0.0344383\ttotal: 22.4s\tremaining: 25.4s\n",
            "469:\tlearn: 0.0344200\ttotal: 22.4s\tremaining: 25.3s\n",
            "470:\tlearn: 0.0343599\ttotal: 22.5s\tremaining: 25.3s\n",
            "471:\tlearn: 0.0343156\ttotal: 22.5s\tremaining: 25.2s\n",
            "472:\tlearn: 0.0342620\ttotal: 22.6s\tremaining: 25.2s\n",
            "473:\tlearn: 0.0342355\ttotal: 22.6s\tremaining: 25.1s\n",
            "474:\tlearn: 0.0341967\ttotal: 22.7s\tremaining: 25.1s\n",
            "475:\tlearn: 0.0341730\ttotal: 22.7s\tremaining: 25s\n",
            "476:\tlearn: 0.0341367\ttotal: 22.8s\tremaining: 25s\n",
            "477:\tlearn: 0.0340805\ttotal: 22.8s\tremaining: 24.9s\n",
            "478:\tlearn: 0.0340604\ttotal: 22.9s\tremaining: 24.9s\n",
            "479:\tlearn: 0.0340104\ttotal: 22.9s\tremaining: 24.8s\n",
            "480:\tlearn: 0.0339993\ttotal: 22.9s\tremaining: 24.8s\n",
            "481:\tlearn: 0.0339703\ttotal: 23s\tremaining: 24.7s\n",
            "482:\tlearn: 0.0339236\ttotal: 23s\tremaining: 24.7s\n",
            "483:\tlearn: 0.0338844\ttotal: 23.1s\tremaining: 24.6s\n",
            "484:\tlearn: 0.0338623\ttotal: 23.1s\tremaining: 24.6s\n",
            "485:\tlearn: 0.0337958\ttotal: 23.2s\tremaining: 24.5s\n",
            "486:\tlearn: 0.0337584\ttotal: 23.2s\tremaining: 24.5s\n",
            "487:\tlearn: 0.0337260\ttotal: 23.3s\tremaining: 24.4s\n",
            "488:\tlearn: 0.0336900\ttotal: 23.3s\tremaining: 24.4s\n",
            "489:\tlearn: 0.0336644\ttotal: 23.4s\tremaining: 24.3s\n",
            "490:\tlearn: 0.0336028\ttotal: 23.4s\tremaining: 24.3s\n",
            "491:\tlearn: 0.0335659\ttotal: 23.5s\tremaining: 24.2s\n",
            "492:\tlearn: 0.0335222\ttotal: 23.5s\tremaining: 24.2s\n",
            "493:\tlearn: 0.0334815\ttotal: 23.6s\tremaining: 24.1s\n",
            "494:\tlearn: 0.0334570\ttotal: 23.6s\tremaining: 24.1s\n",
            "495:\tlearn: 0.0334443\ttotal: 23.7s\tremaining: 24s\n",
            "496:\tlearn: 0.0333946\ttotal: 23.7s\tremaining: 24s\n",
            "497:\tlearn: 0.0333498\ttotal: 23.8s\tremaining: 24s\n",
            "498:\tlearn: 0.0333222\ttotal: 23.8s\tremaining: 23.9s\n",
            "499:\tlearn: 0.0332923\ttotal: 23.9s\tremaining: 23.9s\n",
            "500:\tlearn: 0.0332501\ttotal: 23.9s\tremaining: 23.8s\n",
            "501:\tlearn: 0.0332125\ttotal: 24s\tremaining: 23.8s\n",
            "502:\tlearn: 0.0331557\ttotal: 24s\tremaining: 23.7s\n",
            "503:\tlearn: 0.0330735\ttotal: 24s\tremaining: 23.7s\n",
            "504:\tlearn: 0.0330511\ttotal: 24.1s\tremaining: 23.6s\n",
            "505:\tlearn: 0.0330166\ttotal: 24.1s\tremaining: 23.6s\n",
            "506:\tlearn: 0.0329724\ttotal: 24.2s\tremaining: 23.5s\n",
            "507:\tlearn: 0.0329494\ttotal: 24.2s\tremaining: 23.5s\n",
            "508:\tlearn: 0.0329047\ttotal: 24.3s\tremaining: 23.4s\n",
            "509:\tlearn: 0.0328373\ttotal: 24.3s\tremaining: 23.4s\n",
            "510:\tlearn: 0.0328086\ttotal: 24.4s\tremaining: 23.3s\n",
            "511:\tlearn: 0.0327844\ttotal: 24.4s\tremaining: 23.3s\n",
            "512:\tlearn: 0.0327390\ttotal: 24.5s\tremaining: 23.2s\n",
            "513:\tlearn: 0.0326954\ttotal: 24.5s\tremaining: 23.2s\n",
            "514:\tlearn: 0.0326657\ttotal: 24.6s\tremaining: 23.1s\n",
            "515:\tlearn: 0.0326435\ttotal: 24.6s\tremaining: 23.1s\n",
            "516:\tlearn: 0.0326000\ttotal: 24.6s\tremaining: 23s\n",
            "517:\tlearn: 0.0325753\ttotal: 24.7s\tremaining: 23s\n",
            "518:\tlearn: 0.0325227\ttotal: 24.7s\tremaining: 22.9s\n",
            "519:\tlearn: 0.0324850\ttotal: 24.8s\tremaining: 22.9s\n",
            "520:\tlearn: 0.0324600\ttotal: 24.8s\tremaining: 22.8s\n",
            "521:\tlearn: 0.0324155\ttotal: 24.9s\tremaining: 22.8s\n",
            "522:\tlearn: 0.0323714\ttotal: 24.9s\tremaining: 22.7s\n",
            "523:\tlearn: 0.0323435\ttotal: 25s\tremaining: 22.7s\n",
            "524:\tlearn: 0.0323020\ttotal: 25s\tremaining: 22.6s\n",
            "525:\tlearn: 0.0322609\ttotal: 25.1s\tremaining: 22.6s\n",
            "526:\tlearn: 0.0322064\ttotal: 25.1s\tremaining: 22.5s\n",
            "527:\tlearn: 0.0321886\ttotal: 25.2s\tremaining: 22.5s\n",
            "528:\tlearn: 0.0321376\ttotal: 25.2s\tremaining: 22.4s\n",
            "529:\tlearn: 0.0321123\ttotal: 25.2s\tremaining: 22.4s\n",
            "530:\tlearn: 0.0320548\ttotal: 25.3s\tremaining: 22.3s\n",
            "531:\tlearn: 0.0320270\ttotal: 25.3s\tremaining: 22.3s\n",
            "532:\tlearn: 0.0319823\ttotal: 25.4s\tremaining: 22.2s\n",
            "533:\tlearn: 0.0319548\ttotal: 25.4s\tremaining: 22.2s\n",
            "534:\tlearn: 0.0319201\ttotal: 25.5s\tremaining: 22.2s\n",
            "535:\tlearn: 0.0318858\ttotal: 25.5s\tremaining: 22.1s\n",
            "536:\tlearn: 0.0318449\ttotal: 25.6s\tremaining: 22.1s\n",
            "537:\tlearn: 0.0317983\ttotal: 25.6s\tremaining: 22s\n",
            "538:\tlearn: 0.0317802\ttotal: 25.7s\tremaining: 22s\n",
            "539:\tlearn: 0.0317549\ttotal: 25.7s\tremaining: 21.9s\n",
            "540:\tlearn: 0.0317317\ttotal: 25.8s\tremaining: 21.9s\n",
            "541:\tlearn: 0.0317183\ttotal: 25.8s\tremaining: 21.8s\n",
            "542:\tlearn: 0.0316812\ttotal: 25.9s\tremaining: 21.8s\n",
            "543:\tlearn: 0.0316566\ttotal: 25.9s\tremaining: 21.7s\n",
            "544:\tlearn: 0.0316207\ttotal: 25.9s\tremaining: 21.7s\n",
            "545:\tlearn: 0.0315868\ttotal: 26s\tremaining: 21.6s\n",
            "546:\tlearn: 0.0315612\ttotal: 26s\tremaining: 21.6s\n",
            "547:\tlearn: 0.0315206\ttotal: 26.1s\tremaining: 21.5s\n",
            "548:\tlearn: 0.0314835\ttotal: 26.1s\tremaining: 21.5s\n",
            "549:\tlearn: 0.0314290\ttotal: 26.2s\tremaining: 21.4s\n",
            "550:\tlearn: 0.0313620\ttotal: 26.2s\tremaining: 21.4s\n",
            "551:\tlearn: 0.0313416\ttotal: 26.3s\tremaining: 21.3s\n",
            "552:\tlearn: 0.0313139\ttotal: 26.3s\tremaining: 21.3s\n",
            "553:\tlearn: 0.0312674\ttotal: 26.4s\tremaining: 21.2s\n",
            "554:\tlearn: 0.0312301\ttotal: 26.4s\tremaining: 21.2s\n",
            "555:\tlearn: 0.0311950\ttotal: 26.5s\tremaining: 21.1s\n",
            "556:\tlearn: 0.0311388\ttotal: 26.5s\tremaining: 21.1s\n",
            "557:\tlearn: 0.0311207\ttotal: 26.6s\tremaining: 21s\n",
            "558:\tlearn: 0.0311012\ttotal: 26.6s\tremaining: 21s\n",
            "559:\tlearn: 0.0310737\ttotal: 26.6s\tremaining: 20.9s\n",
            "560:\tlearn: 0.0310395\ttotal: 26.7s\tremaining: 20.9s\n",
            "561:\tlearn: 0.0309791\ttotal: 26.7s\tremaining: 20.8s\n",
            "562:\tlearn: 0.0309351\ttotal: 26.8s\tremaining: 20.8s\n",
            "563:\tlearn: 0.0308865\ttotal: 26.8s\tremaining: 20.7s\n",
            "564:\tlearn: 0.0308534\ttotal: 26.9s\tremaining: 20.7s\n",
            "565:\tlearn: 0.0308026\ttotal: 26.9s\tremaining: 20.6s\n",
            "566:\tlearn: 0.0307783\ttotal: 27s\tremaining: 20.6s\n",
            "567:\tlearn: 0.0306868\ttotal: 27s\tremaining: 20.5s\n",
            "568:\tlearn: 0.0306439\ttotal: 27.1s\tremaining: 20.5s\n",
            "569:\tlearn: 0.0306116\ttotal: 27.1s\tremaining: 20.5s\n",
            "570:\tlearn: 0.0305979\ttotal: 27.2s\tremaining: 20.4s\n",
            "571:\tlearn: 0.0305609\ttotal: 27.2s\tremaining: 20.4s\n",
            "572:\tlearn: 0.0305368\ttotal: 27.3s\tremaining: 20.3s\n",
            "573:\tlearn: 0.0304961\ttotal: 27.3s\tremaining: 20.3s\n",
            "574:\tlearn: 0.0304638\ttotal: 27.3s\tremaining: 20.2s\n",
            "575:\tlearn: 0.0304310\ttotal: 27.4s\tremaining: 20.2s\n",
            "576:\tlearn: 0.0304017\ttotal: 27.5s\tremaining: 20.1s\n",
            "577:\tlearn: 0.0303826\ttotal: 27.5s\tremaining: 20.1s\n",
            "578:\tlearn: 0.0303575\ttotal: 27.6s\tremaining: 20s\n",
            "579:\tlearn: 0.0303240\ttotal: 27.6s\tremaining: 20s\n",
            "580:\tlearn: 0.0303088\ttotal: 27.6s\tremaining: 19.9s\n",
            "581:\tlearn: 0.0302651\ttotal: 27.7s\tremaining: 19.9s\n",
            "582:\tlearn: 0.0302473\ttotal: 27.7s\tremaining: 19.8s\n",
            "583:\tlearn: 0.0302082\ttotal: 27.8s\tremaining: 19.8s\n",
            "584:\tlearn: 0.0301640\ttotal: 27.8s\tremaining: 19.8s\n",
            "585:\tlearn: 0.0301467\ttotal: 27.9s\tremaining: 19.7s\n",
            "586:\tlearn: 0.0300988\ttotal: 27.9s\tremaining: 19.7s\n",
            "587:\tlearn: 0.0300708\ttotal: 28s\tremaining: 19.6s\n",
            "588:\tlearn: 0.0300238\ttotal: 28s\tremaining: 19.6s\n",
            "589:\tlearn: 0.0300108\ttotal: 28.1s\tremaining: 19.5s\n",
            "590:\tlearn: 0.0299738\ttotal: 28.1s\tremaining: 19.5s\n",
            "591:\tlearn: 0.0299458\ttotal: 28.2s\tremaining: 19.4s\n",
            "592:\tlearn: 0.0299210\ttotal: 28.2s\tremaining: 19.4s\n",
            "593:\tlearn: 0.0298582\ttotal: 28.3s\tremaining: 19.3s\n",
            "594:\tlearn: 0.0298329\ttotal: 28.3s\tremaining: 19.3s\n",
            "595:\tlearn: 0.0297910\ttotal: 28.4s\tremaining: 19.2s\n",
            "596:\tlearn: 0.0297325\ttotal: 28.4s\tremaining: 19.2s\n",
            "597:\tlearn: 0.0297054\ttotal: 28.5s\tremaining: 19.2s\n",
            "598:\tlearn: 0.0296737\ttotal: 28.5s\tremaining: 19.1s\n",
            "599:\tlearn: 0.0296300\ttotal: 28.6s\tremaining: 19.1s\n",
            "600:\tlearn: 0.0296051\ttotal: 28.6s\tremaining: 19s\n",
            "601:\tlearn: 0.0295906\ttotal: 28.7s\tremaining: 19s\n",
            "602:\tlearn: 0.0295475\ttotal: 28.7s\tremaining: 18.9s\n",
            "603:\tlearn: 0.0295047\ttotal: 28.8s\tremaining: 18.9s\n",
            "604:\tlearn: 0.0294751\ttotal: 28.8s\tremaining: 18.8s\n",
            "605:\tlearn: 0.0294487\ttotal: 28.9s\tremaining: 18.8s\n",
            "606:\tlearn: 0.0294313\ttotal: 28.9s\tremaining: 18.7s\n",
            "607:\tlearn: 0.0294006\ttotal: 29s\tremaining: 18.7s\n",
            "608:\tlearn: 0.0293828\ttotal: 29s\tremaining: 18.6s\n",
            "609:\tlearn: 0.0293671\ttotal: 29.1s\tremaining: 18.6s\n",
            "610:\tlearn: 0.0293443\ttotal: 29.1s\tremaining: 18.5s\n",
            "611:\tlearn: 0.0292756\ttotal: 29.1s\tremaining: 18.5s\n",
            "612:\tlearn: 0.0292317\ttotal: 29.2s\tremaining: 18.4s\n",
            "613:\tlearn: 0.0291910\ttotal: 29.2s\tremaining: 18.4s\n",
            "614:\tlearn: 0.0291605\ttotal: 29.3s\tremaining: 18.3s\n",
            "615:\tlearn: 0.0291417\ttotal: 29.3s\tremaining: 18.3s\n",
            "616:\tlearn: 0.0291067\ttotal: 29.4s\tremaining: 18.2s\n",
            "617:\tlearn: 0.0290869\ttotal: 29.4s\tremaining: 18.2s\n",
            "618:\tlearn: 0.0290472\ttotal: 29.5s\tremaining: 18.1s\n",
            "619:\tlearn: 0.0290218\ttotal: 29.5s\tremaining: 18.1s\n",
            "620:\tlearn: 0.0289784\ttotal: 29.6s\tremaining: 18s\n",
            "621:\tlearn: 0.0289301\ttotal: 29.6s\tremaining: 18s\n",
            "622:\tlearn: 0.0288972\ttotal: 29.7s\tremaining: 17.9s\n",
            "623:\tlearn: 0.0288742\ttotal: 29.7s\tremaining: 17.9s\n",
            "624:\tlearn: 0.0288527\ttotal: 29.8s\tremaining: 17.9s\n",
            "625:\tlearn: 0.0288287\ttotal: 29.8s\tremaining: 17.8s\n",
            "626:\tlearn: 0.0288155\ttotal: 29.8s\tremaining: 17.8s\n",
            "627:\tlearn: 0.0287746\ttotal: 29.9s\tremaining: 17.7s\n",
            "628:\tlearn: 0.0287517\ttotal: 29.9s\tremaining: 17.7s\n",
            "629:\tlearn: 0.0287325\ttotal: 30s\tremaining: 17.6s\n",
            "630:\tlearn: 0.0286969\ttotal: 30s\tremaining: 17.6s\n",
            "631:\tlearn: 0.0286699\ttotal: 30.1s\tremaining: 17.5s\n",
            "632:\tlearn: 0.0286317\ttotal: 30.1s\tremaining: 17.5s\n",
            "633:\tlearn: 0.0286058\ttotal: 30.2s\tremaining: 17.4s\n",
            "634:\tlearn: 0.0285673\ttotal: 30.2s\tremaining: 17.4s\n",
            "635:\tlearn: 0.0285360\ttotal: 30.3s\tremaining: 17.3s\n",
            "636:\tlearn: 0.0284998\ttotal: 30.3s\tremaining: 17.3s\n",
            "637:\tlearn: 0.0284806\ttotal: 30.4s\tremaining: 17.2s\n",
            "638:\tlearn: 0.0284500\ttotal: 30.4s\tremaining: 17.2s\n",
            "639:\tlearn: 0.0284044\ttotal: 30.5s\tremaining: 17.1s\n",
            "640:\tlearn: 0.0283795\ttotal: 30.5s\tremaining: 17.1s\n",
            "641:\tlearn: 0.0283290\ttotal: 30.6s\tremaining: 17s\n",
            "642:\tlearn: 0.0283121\ttotal: 30.6s\tremaining: 17s\n",
            "643:\tlearn: 0.0282812\ttotal: 30.7s\tremaining: 16.9s\n",
            "644:\tlearn: 0.0282378\ttotal: 30.7s\tremaining: 16.9s\n",
            "645:\tlearn: 0.0282102\ttotal: 30.8s\tremaining: 16.9s\n",
            "646:\tlearn: 0.0281778\ttotal: 30.8s\tremaining: 16.8s\n",
            "647:\tlearn: 0.0281464\ttotal: 30.9s\tremaining: 16.8s\n",
            "648:\tlearn: 0.0281327\ttotal: 30.9s\tremaining: 16.7s\n",
            "649:\tlearn: 0.0281091\ttotal: 30.9s\tremaining: 16.7s\n",
            "650:\tlearn: 0.0280740\ttotal: 31s\tremaining: 16.6s\n",
            "651:\tlearn: 0.0280337\ttotal: 31s\tremaining: 16.6s\n",
            "652:\tlearn: 0.0279957\ttotal: 31.1s\tremaining: 16.5s\n",
            "653:\tlearn: 0.0279791\ttotal: 31.1s\tremaining: 16.5s\n",
            "654:\tlearn: 0.0279497\ttotal: 31.2s\tremaining: 16.4s\n",
            "655:\tlearn: 0.0279258\ttotal: 31.2s\tremaining: 16.4s\n",
            "656:\tlearn: 0.0278990\ttotal: 31.3s\tremaining: 16.3s\n",
            "657:\tlearn: 0.0278735\ttotal: 31.3s\tremaining: 16.3s\n",
            "658:\tlearn: 0.0278142\ttotal: 31.4s\tremaining: 16.2s\n",
            "659:\tlearn: 0.0277911\ttotal: 31.4s\tremaining: 16.2s\n",
            "660:\tlearn: 0.0277553\ttotal: 31.4s\tremaining: 16.1s\n",
            "661:\tlearn: 0.0277496\ttotal: 31.5s\tremaining: 16.1s\n",
            "662:\tlearn: 0.0277181\ttotal: 31.6s\tremaining: 16s\n",
            "663:\tlearn: 0.0276393\ttotal: 31.6s\tremaining: 16s\n",
            "664:\tlearn: 0.0275864\ttotal: 31.7s\tremaining: 15.9s\n",
            "665:\tlearn: 0.0275737\ttotal: 31.7s\tremaining: 15.9s\n",
            "666:\tlearn: 0.0275544\ttotal: 31.7s\tremaining: 15.8s\n",
            "667:\tlearn: 0.0275291\ttotal: 31.8s\tremaining: 15.8s\n",
            "668:\tlearn: 0.0274691\ttotal: 31.8s\tremaining: 15.7s\n",
            "669:\tlearn: 0.0274363\ttotal: 31.9s\tremaining: 15.7s\n",
            "670:\tlearn: 0.0274076\ttotal: 31.9s\tremaining: 15.7s\n",
            "671:\tlearn: 0.0273839\ttotal: 32s\tremaining: 15.6s\n",
            "672:\tlearn: 0.0273568\ttotal: 32s\tremaining: 15.6s\n",
            "673:\tlearn: 0.0273300\ttotal: 32.1s\tremaining: 15.5s\n",
            "674:\tlearn: 0.0273157\ttotal: 32.1s\tremaining: 15.5s\n",
            "675:\tlearn: 0.0273043\ttotal: 32.1s\tremaining: 15.4s\n",
            "676:\tlearn: 0.0272611\ttotal: 32.2s\tremaining: 15.4s\n",
            "677:\tlearn: 0.0272352\ttotal: 32.2s\tremaining: 15.3s\n",
            "678:\tlearn: 0.0272077\ttotal: 32.3s\tremaining: 15.3s\n",
            "679:\tlearn: 0.0271995\ttotal: 32.3s\tremaining: 15.2s\n",
            "680:\tlearn: 0.0271576\ttotal: 32.4s\tremaining: 15.2s\n",
            "681:\tlearn: 0.0271165\ttotal: 32.4s\tremaining: 15.1s\n",
            "682:\tlearn: 0.0270859\ttotal: 32.5s\tremaining: 15.1s\n",
            "683:\tlearn: 0.0270540\ttotal: 32.5s\tremaining: 15s\n",
            "684:\tlearn: 0.0270199\ttotal: 32.6s\tremaining: 15s\n",
            "685:\tlearn: 0.0269934\ttotal: 32.6s\tremaining: 14.9s\n",
            "686:\tlearn: 0.0269459\ttotal: 32.7s\tremaining: 14.9s\n",
            "687:\tlearn: 0.0269133\ttotal: 32.7s\tremaining: 14.8s\n",
            "688:\tlearn: 0.0268556\ttotal: 32.8s\tremaining: 14.8s\n",
            "689:\tlearn: 0.0268336\ttotal: 32.8s\tremaining: 14.7s\n",
            "690:\tlearn: 0.0268255\ttotal: 32.9s\tremaining: 14.7s\n",
            "691:\tlearn: 0.0268128\ttotal: 32.9s\tremaining: 14.6s\n",
            "692:\tlearn: 0.0268058\ttotal: 32.9s\tremaining: 14.6s\n",
            "693:\tlearn: 0.0267833\ttotal: 33s\tremaining: 14.5s\n",
            "694:\tlearn: 0.0267413\ttotal: 33s\tremaining: 14.5s\n",
            "695:\tlearn: 0.0267112\ttotal: 33.1s\tremaining: 14.5s\n",
            "696:\tlearn: 0.0266923\ttotal: 33.1s\tremaining: 14.4s\n",
            "697:\tlearn: 0.0266766\ttotal: 33.2s\tremaining: 14.4s\n",
            "698:\tlearn: 0.0266534\ttotal: 33.2s\tremaining: 14.3s\n",
            "699:\tlearn: 0.0266375\ttotal: 33.3s\tremaining: 14.3s\n",
            "700:\tlearn: 0.0265892\ttotal: 33.3s\tremaining: 14.2s\n",
            "701:\tlearn: 0.0265554\ttotal: 33.4s\tremaining: 14.2s\n",
            "702:\tlearn: 0.0265411\ttotal: 33.4s\tremaining: 14.1s\n",
            "703:\tlearn: 0.0265286\ttotal: 33.5s\tremaining: 14.1s\n",
            "704:\tlearn: 0.0265152\ttotal: 33.5s\tremaining: 14s\n",
            "705:\tlearn: 0.0264863\ttotal: 33.6s\tremaining: 14s\n",
            "706:\tlearn: 0.0264529\ttotal: 33.6s\tremaining: 13.9s\n",
            "707:\tlearn: 0.0264347\ttotal: 33.7s\tremaining: 13.9s\n",
            "708:\tlearn: 0.0264128\ttotal: 33.7s\tremaining: 13.8s\n",
            "709:\tlearn: 0.0263905\ttotal: 33.7s\tremaining: 13.8s\n",
            "710:\tlearn: 0.0263725\ttotal: 33.8s\tremaining: 13.7s\n",
            "711:\tlearn: 0.0263436\ttotal: 33.8s\tremaining: 13.7s\n",
            "712:\tlearn: 0.0263034\ttotal: 33.9s\tremaining: 13.6s\n",
            "713:\tlearn: 0.0262790\ttotal: 33.9s\tremaining: 13.6s\n",
            "714:\tlearn: 0.0262634\ttotal: 34s\tremaining: 13.5s\n",
            "715:\tlearn: 0.0262498\ttotal: 34s\tremaining: 13.5s\n",
            "716:\tlearn: 0.0262271\ttotal: 34.1s\tremaining: 13.4s\n",
            "717:\tlearn: 0.0261518\ttotal: 34.1s\tremaining: 13.4s\n",
            "718:\tlearn: 0.0261368\ttotal: 34.2s\tremaining: 13.3s\n",
            "719:\tlearn: 0.0261141\ttotal: 34.2s\tremaining: 13.3s\n",
            "720:\tlearn: 0.0260907\ttotal: 34.3s\tremaining: 13.3s\n",
            "721:\tlearn: 0.0260777\ttotal: 34.3s\tremaining: 13.2s\n",
            "722:\tlearn: 0.0260630\ttotal: 34.3s\tremaining: 13.2s\n",
            "723:\tlearn: 0.0260396\ttotal: 34.4s\tremaining: 13.1s\n",
            "724:\tlearn: 0.0260163\ttotal: 34.4s\tremaining: 13.1s\n",
            "725:\tlearn: 0.0259949\ttotal: 34.5s\tremaining: 13s\n",
            "726:\tlearn: 0.0259627\ttotal: 34.5s\tremaining: 13s\n",
            "727:\tlearn: 0.0258992\ttotal: 34.6s\tremaining: 12.9s\n",
            "728:\tlearn: 0.0258573\ttotal: 34.6s\tremaining: 12.9s\n",
            "729:\tlearn: 0.0258148\ttotal: 34.7s\tremaining: 12.8s\n",
            "730:\tlearn: 0.0257871\ttotal: 34.7s\tremaining: 12.8s\n",
            "731:\tlearn: 0.0257621\ttotal: 34.8s\tremaining: 12.7s\n",
            "732:\tlearn: 0.0257364\ttotal: 34.8s\tremaining: 12.7s\n",
            "733:\tlearn: 0.0257135\ttotal: 34.9s\tremaining: 12.6s\n",
            "734:\tlearn: 0.0256925\ttotal: 34.9s\tremaining: 12.6s\n",
            "735:\tlearn: 0.0256674\ttotal: 35s\tremaining: 12.5s\n",
            "736:\tlearn: 0.0256404\ttotal: 35s\tremaining: 12.5s\n",
            "737:\tlearn: 0.0256098\ttotal: 35.1s\tremaining: 12.4s\n",
            "738:\tlearn: 0.0255909\ttotal: 35.1s\tremaining: 12.4s\n",
            "739:\tlearn: 0.0255671\ttotal: 35.2s\tremaining: 12.4s\n",
            "740:\tlearn: 0.0255501\ttotal: 35.2s\tremaining: 12.3s\n",
            "741:\tlearn: 0.0255345\ttotal: 35.2s\tremaining: 12.3s\n",
            "742:\tlearn: 0.0255072\ttotal: 35.3s\tremaining: 12.2s\n",
            "743:\tlearn: 0.0254977\ttotal: 35.3s\tremaining: 12.2s\n",
            "744:\tlearn: 0.0254761\ttotal: 35.4s\tremaining: 12.1s\n",
            "745:\tlearn: 0.0254573\ttotal: 35.4s\tremaining: 12.1s\n",
            "746:\tlearn: 0.0254351\ttotal: 35.5s\tremaining: 12s\n",
            "747:\tlearn: 0.0253902\ttotal: 35.5s\tremaining: 12s\n",
            "748:\tlearn: 0.0253656\ttotal: 35.6s\tremaining: 11.9s\n",
            "749:\tlearn: 0.0253363\ttotal: 35.6s\tremaining: 11.9s\n",
            "750:\tlearn: 0.0253075\ttotal: 35.7s\tremaining: 11.8s\n",
            "751:\tlearn: 0.0252983\ttotal: 35.7s\tremaining: 11.8s\n",
            "752:\tlearn: 0.0252756\ttotal: 35.8s\tremaining: 11.7s\n",
            "753:\tlearn: 0.0252379\ttotal: 35.8s\tremaining: 11.7s\n",
            "754:\tlearn: 0.0252174\ttotal: 35.9s\tremaining: 11.6s\n",
            "755:\tlearn: 0.0251815\ttotal: 35.9s\tremaining: 11.6s\n",
            "756:\tlearn: 0.0251618\ttotal: 36s\tremaining: 11.5s\n",
            "757:\tlearn: 0.0251274\ttotal: 36s\tremaining: 11.5s\n",
            "758:\tlearn: 0.0251065\ttotal: 36s\tremaining: 11.4s\n",
            "759:\tlearn: 0.0250817\ttotal: 36.1s\tremaining: 11.4s\n",
            "760:\tlearn: 0.0250765\ttotal: 36.1s\tremaining: 11.3s\n",
            "761:\tlearn: 0.0250470\ttotal: 36.2s\tremaining: 11.3s\n",
            "762:\tlearn: 0.0250323\ttotal: 36.2s\tremaining: 11.3s\n",
            "763:\tlearn: 0.0250005\ttotal: 36.3s\tremaining: 11.2s\n",
            "764:\tlearn: 0.0249709\ttotal: 36.3s\tremaining: 11.2s\n",
            "765:\tlearn: 0.0249464\ttotal: 36.4s\tremaining: 11.1s\n",
            "766:\tlearn: 0.0249253\ttotal: 36.4s\tremaining: 11.1s\n",
            "767:\tlearn: 0.0249038\ttotal: 36.4s\tremaining: 11s\n",
            "768:\tlearn: 0.0248783\ttotal: 36.5s\tremaining: 11s\n",
            "769:\tlearn: 0.0248595\ttotal: 36.6s\tremaining: 10.9s\n",
            "770:\tlearn: 0.0248194\ttotal: 36.6s\tremaining: 10.9s\n",
            "771:\tlearn: 0.0247965\ttotal: 36.6s\tremaining: 10.8s\n",
            "772:\tlearn: 0.0247691\ttotal: 36.7s\tremaining: 10.8s\n",
            "773:\tlearn: 0.0247484\ttotal: 36.7s\tremaining: 10.7s\n",
            "774:\tlearn: 0.0247286\ttotal: 36.8s\tremaining: 10.7s\n",
            "775:\tlearn: 0.0247132\ttotal: 36.8s\tremaining: 10.6s\n",
            "776:\tlearn: 0.0247091\ttotal: 36.9s\tremaining: 10.6s\n",
            "777:\tlearn: 0.0246823\ttotal: 36.9s\tremaining: 10.5s\n",
            "778:\tlearn: 0.0246455\ttotal: 37s\tremaining: 10.5s\n",
            "779:\tlearn: 0.0246339\ttotal: 37s\tremaining: 10.4s\n",
            "780:\tlearn: 0.0246187\ttotal: 37.1s\tremaining: 10.4s\n",
            "781:\tlearn: 0.0245870\ttotal: 37.1s\tremaining: 10.3s\n",
            "782:\tlearn: 0.0245683\ttotal: 37.1s\tremaining: 10.3s\n",
            "783:\tlearn: 0.0245409\ttotal: 37.2s\tremaining: 10.2s\n",
            "784:\tlearn: 0.0245274\ttotal: 37.2s\tremaining: 10.2s\n",
            "785:\tlearn: 0.0245168\ttotal: 37.3s\tremaining: 10.2s\n",
            "786:\tlearn: 0.0245072\ttotal: 37.3s\tremaining: 10.1s\n",
            "787:\tlearn: 0.0244747\ttotal: 37.4s\tremaining: 10.1s\n",
            "788:\tlearn: 0.0244362\ttotal: 37.4s\tremaining: 10s\n",
            "789:\tlearn: 0.0244230\ttotal: 37.5s\tremaining: 9.96s\n",
            "790:\tlearn: 0.0244003\ttotal: 37.5s\tremaining: 9.91s\n",
            "791:\tlearn: 0.0243552\ttotal: 37.6s\tremaining: 9.87s\n",
            "792:\tlearn: 0.0243299\ttotal: 37.6s\tremaining: 9.82s\n",
            "793:\tlearn: 0.0243125\ttotal: 37.7s\tremaining: 9.78s\n",
            "794:\tlearn: 0.0242851\ttotal: 37.7s\tremaining: 9.73s\n",
            "795:\tlearn: 0.0242605\ttotal: 37.8s\tremaining: 9.68s\n",
            "796:\tlearn: 0.0242521\ttotal: 37.8s\tremaining: 9.63s\n",
            "797:\tlearn: 0.0242372\ttotal: 37.9s\tremaining: 9.58s\n",
            "798:\tlearn: 0.0242124\ttotal: 37.9s\tremaining: 9.54s\n",
            "799:\tlearn: 0.0241922\ttotal: 38s\tremaining: 9.49s\n",
            "800:\tlearn: 0.0241682\ttotal: 38s\tremaining: 9.44s\n",
            "801:\tlearn: 0.0241360\ttotal: 38.1s\tremaining: 9.39s\n",
            "802:\tlearn: 0.0241102\ttotal: 38.1s\tremaining: 9.35s\n",
            "803:\tlearn: 0.0240577\ttotal: 38.2s\tremaining: 9.3s\n",
            "804:\tlearn: 0.0240538\ttotal: 38.2s\tremaining: 9.25s\n",
            "805:\tlearn: 0.0240291\ttotal: 38.3s\tremaining: 9.21s\n",
            "806:\tlearn: 0.0239954\ttotal: 38.3s\tremaining: 9.16s\n",
            "807:\tlearn: 0.0239728\ttotal: 38.4s\tremaining: 9.12s\n",
            "808:\tlearn: 0.0239574\ttotal: 38.4s\tremaining: 9.07s\n",
            "809:\tlearn: 0.0239404\ttotal: 38.5s\tremaining: 9.02s\n",
            "810:\tlearn: 0.0239206\ttotal: 38.5s\tremaining: 8.98s\n",
            "811:\tlearn: 0.0238979\ttotal: 38.6s\tremaining: 8.93s\n",
            "812:\tlearn: 0.0238813\ttotal: 38.6s\tremaining: 8.88s\n",
            "813:\tlearn: 0.0238455\ttotal: 38.7s\tremaining: 8.84s\n",
            "814:\tlearn: 0.0238299\ttotal: 38.7s\tremaining: 8.79s\n",
            "815:\tlearn: 0.0238075\ttotal: 38.8s\tremaining: 8.74s\n",
            "816:\tlearn: 0.0237815\ttotal: 38.8s\tremaining: 8.69s\n",
            "817:\tlearn: 0.0237812\ttotal: 38.8s\tremaining: 8.64s\n",
            "818:\tlearn: 0.0237531\ttotal: 38.9s\tremaining: 8.59s\n",
            "819:\tlearn: 0.0237268\ttotal: 38.9s\tremaining: 8.55s\n",
            "820:\tlearn: 0.0237226\ttotal: 39s\tremaining: 8.5s\n",
            "821:\tlearn: 0.0237066\ttotal: 39s\tremaining: 8.45s\n",
            "822:\tlearn: 0.0236812\ttotal: 39.1s\tremaining: 8.4s\n",
            "823:\tlearn: 0.0236503\ttotal: 39.1s\tremaining: 8.36s\n",
            "824:\tlearn: 0.0236249\ttotal: 39.2s\tremaining: 8.31s\n",
            "825:\tlearn: 0.0235981\ttotal: 39.2s\tremaining: 8.26s\n",
            "826:\tlearn: 0.0235568\ttotal: 39.3s\tremaining: 8.22s\n",
            "827:\tlearn: 0.0235332\ttotal: 39.3s\tremaining: 8.17s\n",
            "828:\tlearn: 0.0235180\ttotal: 39.4s\tremaining: 8.12s\n",
            "829:\tlearn: 0.0235095\ttotal: 39.4s\tremaining: 8.07s\n",
            "830:\tlearn: 0.0235020\ttotal: 39.5s\tremaining: 8.02s\n",
            "831:\tlearn: 0.0234680\ttotal: 39.5s\tremaining: 7.98s\n",
            "832:\tlearn: 0.0234369\ttotal: 39.5s\tremaining: 7.93s\n",
            "833:\tlearn: 0.0234177\ttotal: 39.6s\tremaining: 7.88s\n",
            "834:\tlearn: 0.0234086\ttotal: 39.6s\tremaining: 7.83s\n",
            "835:\tlearn: 0.0233977\ttotal: 39.7s\tremaining: 7.79s\n",
            "836:\tlearn: 0.0233766\ttotal: 39.7s\tremaining: 7.74s\n",
            "837:\tlearn: 0.0233732\ttotal: 39.8s\tremaining: 7.69s\n",
            "838:\tlearn: 0.0233369\ttotal: 39.8s\tremaining: 7.64s\n",
            "839:\tlearn: 0.0233244\ttotal: 39.9s\tremaining: 7.6s\n",
            "840:\tlearn: 0.0233205\ttotal: 39.9s\tremaining: 7.55s\n",
            "841:\tlearn: 0.0233077\ttotal: 40s\tremaining: 7.5s\n",
            "842:\tlearn: 0.0232865\ttotal: 40s\tremaining: 7.45s\n",
            "843:\tlearn: 0.0232655\ttotal: 40.1s\tremaining: 7.4s\n",
            "844:\tlearn: 0.0232358\ttotal: 40.1s\tremaining: 7.36s\n",
            "845:\tlearn: 0.0232176\ttotal: 40.1s\tremaining: 7.31s\n",
            "846:\tlearn: 0.0232069\ttotal: 40.2s\tremaining: 7.26s\n",
            "847:\tlearn: 0.0231788\ttotal: 40.2s\tremaining: 7.21s\n",
            "848:\tlearn: 0.0231569\ttotal: 40.3s\tremaining: 7.16s\n",
            "849:\tlearn: 0.0231290\ttotal: 40.3s\tremaining: 7.12s\n",
            "850:\tlearn: 0.0231042\ttotal: 40.4s\tremaining: 7.07s\n",
            "851:\tlearn: 0.0230708\ttotal: 40.4s\tremaining: 7.02s\n",
            "852:\tlearn: 0.0230471\ttotal: 40.5s\tremaining: 6.97s\n",
            "853:\tlearn: 0.0230167\ttotal: 40.5s\tremaining: 6.93s\n",
            "854:\tlearn: 0.0229899\ttotal: 40.6s\tremaining: 6.88s\n",
            "855:\tlearn: 0.0229598\ttotal: 40.6s\tremaining: 6.83s\n",
            "856:\tlearn: 0.0229397\ttotal: 40.7s\tremaining: 6.79s\n",
            "857:\tlearn: 0.0229300\ttotal: 40.7s\tremaining: 6.74s\n",
            "858:\tlearn: 0.0229133\ttotal: 40.8s\tremaining: 6.69s\n",
            "859:\tlearn: 0.0228970\ttotal: 40.8s\tremaining: 6.64s\n",
            "860:\tlearn: 0.0228699\ttotal: 40.9s\tremaining: 6.6s\n",
            "861:\tlearn: 0.0228523\ttotal: 40.9s\tremaining: 6.55s\n",
            "862:\tlearn: 0.0228346\ttotal: 41s\tremaining: 6.5s\n",
            "863:\tlearn: 0.0228248\ttotal: 41s\tremaining: 6.46s\n",
            "864:\tlearn: 0.0228191\ttotal: 41.1s\tremaining: 6.41s\n",
            "865:\tlearn: 0.0227917\ttotal: 41.1s\tremaining: 6.36s\n",
            "866:\tlearn: 0.0227770\ttotal: 41.2s\tremaining: 6.32s\n",
            "867:\tlearn: 0.0227537\ttotal: 41.2s\tremaining: 6.27s\n",
            "868:\tlearn: 0.0227463\ttotal: 41.3s\tremaining: 6.22s\n",
            "869:\tlearn: 0.0227180\ttotal: 41.3s\tremaining: 6.17s\n",
            "870:\tlearn: 0.0227094\ttotal: 41.4s\tremaining: 6.13s\n",
            "871:\tlearn: 0.0226830\ttotal: 41.4s\tremaining: 6.08s\n",
            "872:\tlearn: 0.0226755\ttotal: 41.5s\tremaining: 6.03s\n",
            "873:\tlearn: 0.0226737\ttotal: 41.5s\tremaining: 5.98s\n",
            "874:\tlearn: 0.0226622\ttotal: 41.5s\tremaining: 5.93s\n",
            "875:\tlearn: 0.0226506\ttotal: 41.6s\tremaining: 5.89s\n",
            "876:\tlearn: 0.0226206\ttotal: 41.6s\tremaining: 5.84s\n",
            "877:\tlearn: 0.0225985\ttotal: 41.7s\tremaining: 5.79s\n",
            "878:\tlearn: 0.0225736\ttotal: 41.7s\tremaining: 5.75s\n",
            "879:\tlearn: 0.0225508\ttotal: 41.8s\tremaining: 5.7s\n",
            "880:\tlearn: 0.0225111\ttotal: 41.8s\tremaining: 5.65s\n",
            "881:\tlearn: 0.0224917\ttotal: 41.9s\tremaining: 5.6s\n",
            "882:\tlearn: 0.0224709\ttotal: 41.9s\tremaining: 5.55s\n",
            "883:\tlearn: 0.0224265\ttotal: 42s\tremaining: 5.51s\n",
            "884:\tlearn: 0.0224076\ttotal: 42s\tremaining: 5.46s\n",
            "885:\tlearn: 0.0223951\ttotal: 42.1s\tremaining: 5.41s\n",
            "886:\tlearn: 0.0223755\ttotal: 42.1s\tremaining: 5.37s\n",
            "887:\tlearn: 0.0223416\ttotal: 42.2s\tremaining: 5.32s\n",
            "888:\tlearn: 0.0223064\ttotal: 42.2s\tremaining: 5.27s\n",
            "889:\tlearn: 0.0222811\ttotal: 42.3s\tremaining: 5.22s\n",
            "890:\tlearn: 0.0222636\ttotal: 42.3s\tremaining: 5.18s\n",
            "891:\tlearn: 0.0222395\ttotal: 42.4s\tremaining: 5.13s\n",
            "892:\tlearn: 0.0222223\ttotal: 42.4s\tremaining: 5.08s\n",
            "893:\tlearn: 0.0221958\ttotal: 42.5s\tremaining: 5.03s\n",
            "894:\tlearn: 0.0221667\ttotal: 42.5s\tremaining: 4.99s\n",
            "895:\tlearn: 0.0221405\ttotal: 42.6s\tremaining: 4.94s\n",
            "896:\tlearn: 0.0221152\ttotal: 42.6s\tremaining: 4.89s\n",
            "897:\tlearn: 0.0221027\ttotal: 42.7s\tremaining: 4.85s\n",
            "898:\tlearn: 0.0220760\ttotal: 42.7s\tremaining: 4.8s\n",
            "899:\tlearn: 0.0220454\ttotal: 42.8s\tremaining: 4.75s\n",
            "900:\tlearn: 0.0220164\ttotal: 42.8s\tremaining: 4.71s\n",
            "901:\tlearn: 0.0219969\ttotal: 42.9s\tremaining: 4.66s\n",
            "902:\tlearn: 0.0219943\ttotal: 42.9s\tremaining: 4.61s\n",
            "903:\tlearn: 0.0219754\ttotal: 43s\tremaining: 4.56s\n",
            "904:\tlearn: 0.0219506\ttotal: 43s\tremaining: 4.51s\n",
            "905:\tlearn: 0.0219101\ttotal: 43.1s\tremaining: 4.47s\n",
            "906:\tlearn: 0.0219011\ttotal: 43.1s\tremaining: 4.42s\n",
            "907:\tlearn: 0.0218882\ttotal: 43.2s\tremaining: 4.37s\n",
            "908:\tlearn: 0.0218714\ttotal: 43.2s\tremaining: 4.33s\n",
            "909:\tlearn: 0.0218692\ttotal: 43.3s\tremaining: 4.28s\n",
            "910:\tlearn: 0.0218455\ttotal: 43.3s\tremaining: 4.23s\n",
            "911:\tlearn: 0.0218301\ttotal: 43.4s\tremaining: 4.18s\n",
            "912:\tlearn: 0.0218259\ttotal: 43.4s\tremaining: 4.13s\n",
            "913:\tlearn: 0.0218101\ttotal: 43.4s\tremaining: 4.09s\n",
            "914:\tlearn: 0.0217873\ttotal: 43.5s\tremaining: 4.04s\n",
            "915:\tlearn: 0.0217763\ttotal: 43.6s\tremaining: 3.99s\n",
            "916:\tlearn: 0.0217598\ttotal: 43.6s\tremaining: 3.95s\n",
            "917:\tlearn: 0.0217320\ttotal: 43.7s\tremaining: 3.9s\n",
            "918:\tlearn: 0.0217205\ttotal: 43.7s\tremaining: 3.85s\n",
            "919:\tlearn: 0.0217026\ttotal: 43.8s\tremaining: 3.8s\n",
            "920:\tlearn: 0.0216903\ttotal: 43.8s\tremaining: 3.76s\n",
            "921:\tlearn: 0.0216678\ttotal: 43.9s\tremaining: 3.71s\n",
            "922:\tlearn: 0.0216615\ttotal: 43.9s\tremaining: 3.66s\n",
            "923:\tlearn: 0.0216455\ttotal: 44s\tremaining: 3.62s\n",
            "924:\tlearn: 0.0216353\ttotal: 44s\tremaining: 3.57s\n",
            "925:\tlearn: 0.0216179\ttotal: 44.1s\tremaining: 3.52s\n",
            "926:\tlearn: 0.0215895\ttotal: 44.1s\tremaining: 3.47s\n",
            "927:\tlearn: 0.0215669\ttotal: 44.2s\tremaining: 3.43s\n",
            "928:\tlearn: 0.0215410\ttotal: 44.2s\tremaining: 3.38s\n",
            "929:\tlearn: 0.0215399\ttotal: 44.2s\tremaining: 3.33s\n",
            "930:\tlearn: 0.0215242\ttotal: 44.3s\tremaining: 3.28s\n",
            "931:\tlearn: 0.0215088\ttotal: 44.3s\tremaining: 3.23s\n",
            "932:\tlearn: 0.0214930\ttotal: 44.4s\tremaining: 3.19s\n",
            "933:\tlearn: 0.0214686\ttotal: 44.4s\tremaining: 3.14s\n",
            "934:\tlearn: 0.0214582\ttotal: 44.5s\tremaining: 3.09s\n",
            "935:\tlearn: 0.0214472\ttotal: 44.5s\tremaining: 3.04s\n",
            "936:\tlearn: 0.0214238\ttotal: 44.6s\tremaining: 3s\n",
            "937:\tlearn: 0.0214097\ttotal: 44.6s\tremaining: 2.95s\n",
            "938:\tlearn: 0.0213910\ttotal: 44.7s\tremaining: 2.9s\n",
            "939:\tlearn: 0.0213717\ttotal: 44.7s\tremaining: 2.86s\n",
            "940:\tlearn: 0.0213520\ttotal: 44.8s\tremaining: 2.81s\n",
            "941:\tlearn: 0.0213372\ttotal: 44.8s\tremaining: 2.76s\n",
            "942:\tlearn: 0.0213173\ttotal: 44.9s\tremaining: 2.71s\n",
            "943:\tlearn: 0.0212891\ttotal: 45s\tremaining: 2.67s\n",
            "944:\tlearn: 0.0212683\ttotal: 45s\tremaining: 2.62s\n",
            "945:\tlearn: 0.0212462\ttotal: 45.1s\tremaining: 2.57s\n",
            "946:\tlearn: 0.0212271\ttotal: 45.1s\tremaining: 2.52s\n",
            "947:\tlearn: 0.0212178\ttotal: 45.2s\tremaining: 2.48s\n",
            "948:\tlearn: 0.0212084\ttotal: 45.2s\tremaining: 2.43s\n",
            "949:\tlearn: 0.0212018\ttotal: 45.2s\tremaining: 2.38s\n",
            "950:\tlearn: 0.0211804\ttotal: 45.3s\tremaining: 2.33s\n",
            "951:\tlearn: 0.0211563\ttotal: 45.3s\tremaining: 2.29s\n",
            "952:\tlearn: 0.0211186\ttotal: 45.4s\tremaining: 2.24s\n",
            "953:\tlearn: 0.0210944\ttotal: 45.4s\tremaining: 2.19s\n",
            "954:\tlearn: 0.0210733\ttotal: 45.5s\tremaining: 2.14s\n",
            "955:\tlearn: 0.0210671\ttotal: 45.5s\tremaining: 2.1s\n",
            "956:\tlearn: 0.0210456\ttotal: 45.6s\tremaining: 2.05s\n",
            "957:\tlearn: 0.0210302\ttotal: 45.6s\tremaining: 2s\n",
            "958:\tlearn: 0.0210109\ttotal: 45.7s\tremaining: 1.95s\n",
            "959:\tlearn: 0.0210036\ttotal: 45.7s\tremaining: 1.91s\n",
            "960:\tlearn: 0.0209847\ttotal: 45.8s\tremaining: 1.86s\n",
            "961:\tlearn: 0.0209810\ttotal: 45.8s\tremaining: 1.81s\n",
            "962:\tlearn: 0.0209631\ttotal: 45.9s\tremaining: 1.76s\n",
            "963:\tlearn: 0.0209320\ttotal: 45.9s\tremaining: 1.72s\n",
            "964:\tlearn: 0.0209174\ttotal: 46s\tremaining: 1.67s\n",
            "965:\tlearn: 0.0208929\ttotal: 46s\tremaining: 1.62s\n",
            "966:\tlearn: 0.0208663\ttotal: 46.1s\tremaining: 1.57s\n",
            "967:\tlearn: 0.0208593\ttotal: 46.1s\tremaining: 1.52s\n",
            "968:\tlearn: 0.0208396\ttotal: 46.2s\tremaining: 1.48s\n",
            "969:\tlearn: 0.0208151\ttotal: 46.2s\tremaining: 1.43s\n",
            "970:\tlearn: 0.0208121\ttotal: 46.3s\tremaining: 1.38s\n",
            "971:\tlearn: 0.0207939\ttotal: 46.3s\tremaining: 1.33s\n",
            "972:\tlearn: 0.0207862\ttotal: 46.4s\tremaining: 1.29s\n",
            "973:\tlearn: 0.0207751\ttotal: 46.4s\tremaining: 1.24s\n",
            "974:\tlearn: 0.0207626\ttotal: 46.5s\tremaining: 1.19s\n",
            "975:\tlearn: 0.0207504\ttotal: 46.5s\tremaining: 1.14s\n",
            "976:\tlearn: 0.0207303\ttotal: 46.5s\tremaining: 1.09s\n",
            "977:\tlearn: 0.0207019\ttotal: 46.6s\tremaining: 1.05s\n",
            "978:\tlearn: 0.0206870\ttotal: 46.6s\tremaining: 1s\n",
            "979:\tlearn: 0.0206518\ttotal: 46.7s\tremaining: 953ms\n",
            "980:\tlearn: 0.0206407\ttotal: 46.8s\tremaining: 906ms\n",
            "981:\tlearn: 0.0206219\ttotal: 46.8s\tremaining: 858ms\n",
            "982:\tlearn: 0.0206024\ttotal: 46.8s\tremaining: 810ms\n",
            "983:\tlearn: 0.0205842\ttotal: 46.9s\tremaining: 763ms\n",
            "984:\tlearn: 0.0205742\ttotal: 46.9s\tremaining: 715ms\n",
            "985:\tlearn: 0.0205509\ttotal: 47s\tremaining: 667ms\n",
            "986:\tlearn: 0.0205315\ttotal: 47.1s\tremaining: 620ms\n",
            "987:\tlearn: 0.0205066\ttotal: 47.1s\tremaining: 572ms\n",
            "988:\tlearn: 0.0205036\ttotal: 47.1s\tremaining: 524ms\n",
            "989:\tlearn: 0.0204740\ttotal: 47.2s\tremaining: 477ms\n",
            "990:\tlearn: 0.0204603\ttotal: 47.2s\tremaining: 429ms\n",
            "991:\tlearn: 0.0204603\ttotal: 47.3s\tremaining: 381ms\n",
            "992:\tlearn: 0.0204458\ttotal: 47.3s\tremaining: 334ms\n",
            "993:\tlearn: 0.0204416\ttotal: 47.4s\tremaining: 286ms\n",
            "994:\tlearn: 0.0204240\ttotal: 47.4s\tremaining: 238ms\n",
            "995:\tlearn: 0.0204017\ttotal: 47.5s\tremaining: 191ms\n",
            "996:\tlearn: 0.0203840\ttotal: 47.5s\tremaining: 143ms\n",
            "997:\tlearn: 0.0203564\ttotal: 47.6s\tremaining: 95.4ms\n",
            "998:\tlearn: 0.0203296\ttotal: 47.6s\tremaining: 47.7ms\n",
            "999:\tlearn: 0.0202993\ttotal: 47.7s\tremaining: 0us\n"
          ],
          "name": "stdout"
        }
      ]
    },
    {
      "cell_type": "code",
      "metadata": {
        "colab": {
          "base_uri": "https://localhost:8080/"
        },
        "id": "Uau9zOeXeAwu",
        "outputId": "eb2efbe4-a4a5-49f1-c956-98abb8956a50"
      },
      "source": [
        "cb_pred"
      ],
      "execution_count": 84,
      "outputs": [
        {
          "output_type": "execute_result",
          "data": {
            "text/plain": [
              "array([1, 0, 1, ..., 1, 1, 1])"
            ]
          },
          "metadata": {
            "tags": []
          },
          "execution_count": 84
        }
      ]
    },
    {
      "cell_type": "code",
      "metadata": {
        "colab": {
          "base_uri": "https://localhost:8080/"
        },
        "id": "tOdRl9Vnd2yb",
        "outputId": "830d8788-65ab-445d-f3fc-15fac6bf85ee"
      },
      "source": [
        "cb_acc = accuracy_score(y_valid, cb_pred)\r\n",
        "cb_acc"
      ],
      "execution_count": 85,
      "outputs": [
        {
          "output_type": "execute_result",
          "data": {
            "text/plain": [
              "0.9875017593244194"
            ]
          },
          "metadata": {
            "tags": []
          },
          "execution_count": 85
        }
      ]
    },
    {
      "cell_type": "code",
      "metadata": {
        "colab": {
          "base_uri": "https://localhost:8080/",
          "height": 411
        },
        "id": "5gh6V3H7yc54",
        "outputId": "344abf94-f638-419e-c41f-18917265cf56"
      },
      "source": [
        "cb_valid_pred = pd.DataFrame(cb_pred, columns =['catboost'])\r\n",
        "cb_valid_pred"
      ],
      "execution_count": 88,
      "outputs": [
        {
          "output_type": "execute_result",
          "data": {
            "text/html": [
              "<div>\n",
              "<style scoped>\n",
              "    .dataframe tbody tr th:only-of-type {\n",
              "        vertical-align: middle;\n",
              "    }\n",
              "\n",
              "    .dataframe tbody tr th {\n",
              "        vertical-align: top;\n",
              "    }\n",
              "\n",
              "    .dataframe thead th {\n",
              "        text-align: right;\n",
              "    }\n",
              "</style>\n",
              "<table border=\"1\" class=\"dataframe\">\n",
              "  <thead>\n",
              "    <tr style=\"text-align: right;\">\n",
              "      <th></th>\n",
              "      <th>catboost</th>\n",
              "    </tr>\n",
              "  </thead>\n",
              "  <tbody>\n",
              "    <tr>\n",
              "      <th>0</th>\n",
              "      <td>1</td>\n",
              "    </tr>\n",
              "    <tr>\n",
              "      <th>1</th>\n",
              "      <td>0</td>\n",
              "    </tr>\n",
              "    <tr>\n",
              "      <th>2</th>\n",
              "      <td>1</td>\n",
              "    </tr>\n",
              "    <tr>\n",
              "      <th>3</th>\n",
              "      <td>1</td>\n",
              "    </tr>\n",
              "    <tr>\n",
              "      <th>4</th>\n",
              "      <td>1</td>\n",
              "    </tr>\n",
              "    <tr>\n",
              "      <th>...</th>\n",
              "      <td>...</td>\n",
              "    </tr>\n",
              "    <tr>\n",
              "      <th>35520</th>\n",
              "      <td>1</td>\n",
              "    </tr>\n",
              "    <tr>\n",
              "      <th>35521</th>\n",
              "      <td>0</td>\n",
              "    </tr>\n",
              "    <tr>\n",
              "      <th>35522</th>\n",
              "      <td>1</td>\n",
              "    </tr>\n",
              "    <tr>\n",
              "      <th>35523</th>\n",
              "      <td>1</td>\n",
              "    </tr>\n",
              "    <tr>\n",
              "      <th>35524</th>\n",
              "      <td>1</td>\n",
              "    </tr>\n",
              "  </tbody>\n",
              "</table>\n",
              "<p>35525 rows × 1 columns</p>\n",
              "</div>"
            ],
            "text/plain": [
              "       catboost\n",
              "0             1\n",
              "1             0\n",
              "2             1\n",
              "3             1\n",
              "4             1\n",
              "...         ...\n",
              "35520         1\n",
              "35521         0\n",
              "35522         1\n",
              "35523         1\n",
              "35524         1\n",
              "\n",
              "[35525 rows x 1 columns]"
            ]
          },
          "metadata": {
            "tags": []
          },
          "execution_count": 88
        }
      ]
    },
    {
      "cell_type": "code",
      "metadata": {
        "id": "XYwAFoHERerA"
      },
      "source": [
        "# submit\r\n",
        "\r\n",
        "cb_valid_pred.to_csv(\"cb_valid_pred.csv\", encoding=\"utf-8-sig\",index=False)"
      ],
      "execution_count": 89,
      "outputs": []
    },
    {
      "cell_type": "markdown",
      "metadata": {
        "id": "rkI9-l1kdqhb"
      },
      "source": [
        "cb_params = {\r\n",
        "    'n_estimators' : [100, 500, 1000],\r\n",
        "    'learning_rate' : [0.001, 0.01, 0.1],\r\n",
        "}\r\n",
        "\r\n",
        "\r\n",
        "grid_cv = GridSearchCV(cb_clf, param_grid = cb_params, cv = 3)\r\n",
        "grid_cv.fit(X_train, y_train)\r\n",
        "\r\n",
        "print('최적 하이퍼 파라미터:\\n', grid_cv.best_params_)\r\n",
        "print('최고 예측 정확도: {0:.6f}'.format(grid_cv.best_score_))\r\n",
        "\r\n",
        "- 최적 하이퍼 파라미터:\r\n",
        " {'learning_rate': 0.1, 'n_estimators': 100}\r\n",
        "  최고 예측 정확도: 0.887512\r\n",
        "\r\n",
        "\r\n",
        "- valid - acc = 0.9797607318789585"
      ]
    },
    {
      "cell_type": "markdown",
      "metadata": {
        "id": "aVIzTkFySP9x"
      },
      "source": [
        "### ExtraTree"
      ]
    },
    {
      "cell_type": "code",
      "metadata": {
        "colab": {
          "base_uri": "https://localhost:8080/"
        },
        "id": "hpeEQOBOSUD-",
        "outputId": "041d6d05-12bc-4a57-b5e1-b5c889555e9d"
      },
      "source": [
        "ext_clf =  ExtraTreesClassifier(random_state=42)\r\n",
        "ext_clf.fit(X_train, y_train)\r\n",
        "\r\n",
        "#default n_estimators = 100, max_depth=None"
      ],
      "execution_count": 76,
      "outputs": [
        {
          "output_type": "execute_result",
          "data": {
            "text/plain": [
              "ExtraTreesClassifier(bootstrap=False, ccp_alpha=0.0, class_weight=None,\n",
              "                     criterion='gini', max_depth=None, max_features='auto',\n",
              "                     max_leaf_nodes=None, max_samples=None,\n",
              "                     min_impurity_decrease=0.0, min_impurity_split=None,\n",
              "                     min_samples_leaf=1, min_samples_split=2,\n",
              "                     min_weight_fraction_leaf=0.0, n_estimators=100,\n",
              "                     n_jobs=None, oob_score=False, random_state=42, verbose=0,\n",
              "                     warm_start=False)"
            ]
          },
          "metadata": {
            "tags": []
          },
          "execution_count": 76
        }
      ]
    },
    {
      "cell_type": "code",
      "metadata": {
        "colab": {
          "base_uri": "https://localhost:8080/"
        },
        "id": "DmZTN5KRU1AC",
        "outputId": "4646433c-37e8-4ede-b0d9-f96743fa1590"
      },
      "source": [
        "\r\n",
        "ext_pred = ext_clf.predict(X_valid)\r\n",
        "ext_acc = accuracy_score(y_valid, ext_pred)\r\n",
        "ext_acc\r\n"
      ],
      "execution_count": 77,
      "outputs": [
        {
          "output_type": "execute_result",
          "data": {
            "text/plain": [
              "0.9818437719915553"
            ]
          },
          "metadata": {
            "tags": []
          },
          "execution_count": 77
        }
      ]
    },
    {
      "cell_type": "code",
      "metadata": {
        "colab": {
          "base_uri": "https://localhost:8080/"
        },
        "id": "jXfFxMnESZB1",
        "outputId": "27849d91-ba55-4490-b366-c9c5581820d1"
      },
      "source": [
        "ext_params = {\r\n",
        "    'n_estimators' : [100, 500, 1000]\r\n",
        "}\r\n",
        "\r\n",
        "\r\n",
        "ext_cv = GridSearchCV(ext_clf, param_grid = ext_params, cv = 3)\r\n",
        "ext_cv.fit(X_train, y_train)\r\n",
        "\r\n",
        "print('최적 하이퍼 파라미터:\\n', ext_cv.best_params_)\r\n",
        "print('최고 예측 정확도: {0:.6f}'.format(ext_cv.best_score_))"
      ],
      "execution_count": 81,
      "outputs": [
        {
          "output_type": "stream",
          "text": [
            "최적 하이퍼 파라미터:\n",
            " {'n_estimators': 1000}\n",
            "최고 예측 정확도: 0.872251\n"
          ],
          "name": "stdout"
        }
      ]
    },
    {
      "cell_type": "code",
      "metadata": {
        "colab": {
          "base_uri": "https://localhost:8080/"
        },
        "id": "NExyB_TWYvfj",
        "outputId": "84964217-56c8-48c4-88b8-f99ff3f4118c"
      },
      "source": [
        "grid_cv.get_params"
      ],
      "execution_count": 91,
      "outputs": [
        {
          "output_type": "execute_result",
          "data": {
            "text/plain": [
              "<bound method BaseEstimator.get_params of GridSearchCV(cv=3, error_score=nan,\n",
              "             estimator=ExtraTreesClassifier(bootstrap=False, ccp_alpha=0.0,\n",
              "                                            class_weight=None, criterion='gini',\n",
              "                                            max_depth=None, max_features='auto',\n",
              "                                            max_leaf_nodes=None,\n",
              "                                            max_samples=None,\n",
              "                                            min_impurity_decrease=0.0,\n",
              "                                            min_impurity_split=None,\n",
              "                                            min_samples_leaf=1,\n",
              "                                            min_samples_split=2,\n",
              "                                            min_weight_fraction_leaf=0.0,\n",
              "                                            n_estimators=100, n_jobs=None,\n",
              "                                            oob_score=False, random_state=42,\n",
              "                                            verbose=0, warm_start=False),\n",
              "             iid='deprecated', n_jobs=None,\n",
              "             param_grid={'n_estimators': [100, 500, 1000]},\n",
              "             pre_dispatch='2*n_jobs', refit=True, return_train_score=False,\n",
              "             scoring=None, verbose=0)>"
            ]
          },
          "metadata": {
            "tags": []
          },
          "execution_count": 91
        }
      ]
    },
    {
      "cell_type": "code",
      "metadata": {
        "colab": {
          "base_uri": "https://localhost:8080/"
        },
        "id": "WK15o5-3SZGC",
        "outputId": "eb4d5f71-763f-481f-e78a-50adb302446e"
      },
      "source": [
        "# predict\r\n",
        "ext_pred = ext_cv.best_estimator_.predict(X_valid)\r\n",
        "\r\n",
        "ext_acc = accuracy_score(y_valid, ext_pred)\r\n",
        "ext_acc"
      ],
      "execution_count": 90,
      "outputs": [
        {
          "output_type": "execute_result",
          "data": {
            "text/plain": [
              "0.9823786066150598"
            ]
          },
          "metadata": {
            "tags": []
          },
          "execution_count": 90
        }
      ]
    },
    {
      "cell_type": "code",
      "metadata": {
        "colab": {
          "base_uri": "https://localhost:8080/",
          "height": 411
        },
        "id": "qqbM6zXvSctD",
        "outputId": "1bda7850-a327-4d42-ed4a-bc04a330516b"
      },
      "source": [
        "ext_valid_pred = pd.DataFrame(ext_pred, columns =['ExtraTree'])\r\n",
        "ext_valid_pred\r\n"
      ],
      "execution_count": 92,
      "outputs": [
        {
          "output_type": "execute_result",
          "data": {
            "text/html": [
              "<div>\n",
              "<style scoped>\n",
              "    .dataframe tbody tr th:only-of-type {\n",
              "        vertical-align: middle;\n",
              "    }\n",
              "\n",
              "    .dataframe tbody tr th {\n",
              "        vertical-align: top;\n",
              "    }\n",
              "\n",
              "    .dataframe thead th {\n",
              "        text-align: right;\n",
              "    }\n",
              "</style>\n",
              "<table border=\"1\" class=\"dataframe\">\n",
              "  <thead>\n",
              "    <tr style=\"text-align: right;\">\n",
              "      <th></th>\n",
              "      <th>ExtraTree</th>\n",
              "    </tr>\n",
              "  </thead>\n",
              "  <tbody>\n",
              "    <tr>\n",
              "      <th>0</th>\n",
              "      <td>1</td>\n",
              "    </tr>\n",
              "    <tr>\n",
              "      <th>1</th>\n",
              "      <td>0</td>\n",
              "    </tr>\n",
              "    <tr>\n",
              "      <th>2</th>\n",
              "      <td>1</td>\n",
              "    </tr>\n",
              "    <tr>\n",
              "      <th>3</th>\n",
              "      <td>1</td>\n",
              "    </tr>\n",
              "    <tr>\n",
              "      <th>4</th>\n",
              "      <td>1</td>\n",
              "    </tr>\n",
              "    <tr>\n",
              "      <th>...</th>\n",
              "      <td>...</td>\n",
              "    </tr>\n",
              "    <tr>\n",
              "      <th>35520</th>\n",
              "      <td>1</td>\n",
              "    </tr>\n",
              "    <tr>\n",
              "      <th>35521</th>\n",
              "      <td>0</td>\n",
              "    </tr>\n",
              "    <tr>\n",
              "      <th>35522</th>\n",
              "      <td>1</td>\n",
              "    </tr>\n",
              "    <tr>\n",
              "      <th>35523</th>\n",
              "      <td>1</td>\n",
              "    </tr>\n",
              "    <tr>\n",
              "      <th>35524</th>\n",
              "      <td>1</td>\n",
              "    </tr>\n",
              "  </tbody>\n",
              "</table>\n",
              "<p>35525 rows × 1 columns</p>\n",
              "</div>"
            ],
            "text/plain": [
              "       ExtraTree\n",
              "0              1\n",
              "1              0\n",
              "2              1\n",
              "3              1\n",
              "4              1\n",
              "...          ...\n",
              "35520          1\n",
              "35521          0\n",
              "35522          1\n",
              "35523          1\n",
              "35524          1\n",
              "\n",
              "[35525 rows x 1 columns]"
            ]
          },
          "metadata": {
            "tags": []
          },
          "execution_count": 92
        }
      ]
    },
    {
      "cell_type": "code",
      "metadata": {
        "id": "6d0ZgwKhSh4s"
      },
      "source": [
        "# submit\r\n",
        "\r\n",
        "ext_valid_pred.to_csv(\"ext_valid_pred.csv\", encoding=\"utf-8-sig\",index=False)"
      ],
      "execution_count": 93,
      "outputs": []
    },
    {
      "cell_type": "markdown",
      "metadata": {
        "id": "FPKiOiLAenlg"
      },
      "source": [
        "### 스태킹"
      ]
    },
    {
      "cell_type": "code",
      "metadata": {
        "colab": {
          "base_uri": "https://localhost:8080/"
        },
        "id": "gbr5zVE_POKD",
        "outputId": "c3e82656-e000-4307-8d56-cc9d93dae55d"
      },
      "source": [
        "# 아래 LSTM_add_feature()로 만든 예측값\r\n",
        "\r\n",
        "lstm_pred1 "
      ],
      "execution_count": 224,
      "outputs": [
        {
          "output_type": "execute_result",
          "data": {
            "text/plain": [
              "array([0.99867976, 0.00227535, 0.9995058 , ..., 0.99998546, 0.9999975 ,\n",
              "       0.9999955 ], dtype=float32)"
            ]
          },
          "metadata": {
            "tags": []
          },
          "execution_count": 224
        }
      ]
    },
    {
      "cell_type": "code",
      "metadata": {
        "colab": {
          "base_uri": "https://localhost:8080/"
        },
        "id": "LvYNOy7ofS_0",
        "outputId": "50454ab1-558b-4b73-9ddd-949a28bb89ca"
      },
      "source": [
        "all_pred = np.array([gb_pred, ada_pred, cb_pred, ext_pred, lstm_pred1])\r\n",
        "all_pred.shape"
      ],
      "execution_count": 212,
      "outputs": [
        {
          "output_type": "execute_result",
          "data": {
            "text/plain": [
              "(5, 35525)"
            ]
          },
          "metadata": {
            "tags": []
          },
          "execution_count": 212
        }
      ]
    },
    {
      "cell_type": "code",
      "metadata": {
        "colab": {
          "base_uri": "https://localhost:8080/"
        },
        "id": "a-HBWADSfhvC",
        "outputId": "b0344436-d261-42df-dd44-c6f7393edd64"
      },
      "source": [
        "all_pred = np.transpose(all_pred)\r\n",
        "all_pred.shape"
      ],
      "execution_count": 213,
      "outputs": [
        {
          "output_type": "execute_result",
          "data": {
            "text/plain": [
              "(35525, 5)"
            ]
          },
          "metadata": {
            "tags": []
          },
          "execution_count": 213
        }
      ]
    },
    {
      "cell_type": "code",
      "metadata": {
        "colab": {
          "base_uri": "https://localhost:8080/"
        },
        "id": "uSBH7Hs6fqwd",
        "outputId": "b6184b3e-0431-4d5c-fba7-fcd947d0f3ed"
      },
      "source": [
        "lgbm_clf=LGBMClassifier(random_state=42)\r\n",
        "lgbm_clf.fit(all_pred, y_valid)"
      ],
      "execution_count": 214,
      "outputs": [
        {
          "output_type": "execute_result",
          "data": {
            "text/plain": [
              "LGBMClassifier(boosting_type='gbdt', class_weight=None, colsample_bytree=1.0,\n",
              "               importance_type='split', learning_rate=0.1, max_depth=-1,\n",
              "               min_child_samples=20, min_child_weight=0.001, min_split_gain=0.0,\n",
              "               n_estimators=100, n_jobs=-1, num_leaves=31, objective=None,\n",
              "               random_state=42, reg_alpha=0.0, reg_lambda=0.0, silent=True,\n",
              "               subsample=1.0, subsample_for_bin=200000, subsample_freq=0)"
            ]
          },
          "metadata": {
            "tags": []
          },
          "execution_count": 214
        }
      ]
    },
    {
      "cell_type": "code",
      "metadata": {
        "colab": {
          "base_uri": "https://localhost:8080/"
        },
        "id": "Dk58Hqrjgw-2",
        "outputId": "6f06baf2-c1a9-4c4a-d6e1-de198c00157e"
      },
      "source": [
        "\r\n",
        "lgbm_pred = lgbm_clf.predict(all_pred)\r\n",
        "lgbm_acc = accuracy_score(y_valid, lgbm_pred)\r\n",
        "lgbm_acc\r\n"
      ],
      "execution_count": 215,
      "outputs": [
        {
          "output_type": "execute_result",
          "data": {
            "text/plain": [
              "0.9929627023223082"
            ]
          },
          "metadata": {
            "tags": []
          },
          "execution_count": 215
        }
      ]
    },
    {
      "cell_type": "code",
      "metadata": {
        "colab": {
          "base_uri": "https://localhost:8080/"
        },
        "id": "crpUCQpcfq0Z",
        "outputId": "36c18cd5-1d0d-42ce-a2de-82ad9355d874"
      },
      "source": [
        "lgbm_params={'boosting':['gbdt'],\r\n",
        "               'objective':['binary'],\r\n",
        "               'learning_rate':[0.001,0.05,0.1],\r\n",
        "               'max_depth':[2,4,6,8],\r\n",
        "               'n_estimators':[100,500,1000]}\r\n",
        "\r\n",
        "grid_lgbm = GridSearchCV(lgbm_clf,param_grid=lgbm_params,cv=3)\r\n",
        "grid_lgbm.fit(all_pred,y_valid)\r\n",
        "\r\n",
        "\r\n",
        "print('최적 하이퍼 파라미터:\\n', grid_lgbm.best_params_)\r\n",
        "print('최고 예측 정확도: {0:.6f}'.format(grid_lgbm.best_score_))"
      ],
      "execution_count": 216,
      "outputs": [
        {
          "output_type": "stream",
          "text": [
            "최적 하이퍼 파라미터:\n",
            " {'boosting': 'gbdt', 'learning_rate': 0.1, 'max_depth': 2, 'n_estimators': 100, 'objective': 'binary'}\n",
            "최고 예측 정확도: 0.992484\n"
          ],
          "name": "stdout"
        }
      ]
    },
    {
      "cell_type": "code",
      "metadata": {
        "colab": {
          "base_uri": "https://localhost:8080/"
        },
        "id": "XzygWaiShTS0",
        "outputId": "f737625e-4538-4010-b2dd-5d5cd51b08be"
      },
      "source": [
        "stacking_pred=grid_lgbm.predict(all_pred)\r\n",
        "stacking_pred\r\n"
      ],
      "execution_count": 217,
      "outputs": [
        {
          "output_type": "execute_result",
          "data": {
            "text/plain": [
              "array([1, 0, 1, ..., 1, 1, 1], dtype=int64)"
            ]
          },
          "metadata": {
            "tags": []
          },
          "execution_count": 217
        }
      ]
    },
    {
      "cell_type": "code",
      "metadata": {
        "colab": {
          "base_uri": "https://localhost:8080/"
        },
        "id": "Usc9DgLWh59f",
        "outputId": "2d08daaf-4fed-4c4c-84cd-5ea22971b494"
      },
      "source": [
        "stacking_acc = accuracy_score(y_valid, stacking_pred)\r\n",
        "stacking_acc"
      ],
      "execution_count": 218,
      "outputs": [
        {
          "output_type": "execute_result",
          "data": {
            "text/plain": [
              "0.9925967628430683"
            ]
          },
          "metadata": {
            "tags": []
          },
          "execution_count": 218
        }
      ]
    },
    {
      "cell_type": "code",
      "metadata": {
        "colab": {
          "base_uri": "https://localhost:8080/",
          "height": 411
        },
        "id": "5sjWjKIPh5Xp",
        "outputId": "cdf376a9-9774-4a7b-c6a1-68e31ff34b53"
      },
      "source": [
        "stacking_valid_pred = pd.DataFrame(ext_pred, columns =['gb, cb'])\r\n",
        "stacking_valid_pred\r\n"
      ],
      "execution_count": 219,
      "outputs": [
        {
          "output_type": "execute_result",
          "data": {
            "text/html": [
              "<div>\n",
              "<style scoped>\n",
              "    .dataframe tbody tr th:only-of-type {\n",
              "        vertical-align: middle;\n",
              "    }\n",
              "\n",
              "    .dataframe tbody tr th {\n",
              "        vertical-align: top;\n",
              "    }\n",
              "\n",
              "    .dataframe thead th {\n",
              "        text-align: right;\n",
              "    }\n",
              "</style>\n",
              "<table border=\"1\" class=\"dataframe\">\n",
              "  <thead>\n",
              "    <tr style=\"text-align: right;\">\n",
              "      <th></th>\n",
              "      <th>gb, cb</th>\n",
              "    </tr>\n",
              "  </thead>\n",
              "  <tbody>\n",
              "    <tr>\n",
              "      <th>0</th>\n",
              "      <td>1</td>\n",
              "    </tr>\n",
              "    <tr>\n",
              "      <th>1</th>\n",
              "      <td>0</td>\n",
              "    </tr>\n",
              "    <tr>\n",
              "      <th>2</th>\n",
              "      <td>1</td>\n",
              "    </tr>\n",
              "    <tr>\n",
              "      <th>3</th>\n",
              "      <td>1</td>\n",
              "    </tr>\n",
              "    <tr>\n",
              "      <th>4</th>\n",
              "      <td>1</td>\n",
              "    </tr>\n",
              "    <tr>\n",
              "      <th>...</th>\n",
              "      <td>...</td>\n",
              "    </tr>\n",
              "    <tr>\n",
              "      <th>35520</th>\n",
              "      <td>1</td>\n",
              "    </tr>\n",
              "    <tr>\n",
              "      <th>35521</th>\n",
              "      <td>0</td>\n",
              "    </tr>\n",
              "    <tr>\n",
              "      <th>35522</th>\n",
              "      <td>1</td>\n",
              "    </tr>\n",
              "    <tr>\n",
              "      <th>35523</th>\n",
              "      <td>1</td>\n",
              "    </tr>\n",
              "    <tr>\n",
              "      <th>35524</th>\n",
              "      <td>1</td>\n",
              "    </tr>\n",
              "  </tbody>\n",
              "</table>\n",
              "<p>35525 rows × 1 columns</p>\n",
              "</div>"
            ],
            "text/plain": [
              "       gb, cb\n",
              "0           1\n",
              "1           0\n",
              "2           1\n",
              "3           1\n",
              "4           1\n",
              "...       ...\n",
              "35520       1\n",
              "35521       0\n",
              "35522       1\n",
              "35523       1\n",
              "35524       1\n",
              "\n",
              "[35525 rows x 1 columns]"
            ]
          },
          "metadata": {
            "tags": []
          },
          "execution_count": 219
        }
      ]
    },
    {
      "cell_type": "code",
      "metadata": {
        "id": "CoUEhmK0jWsO"
      },
      "source": [
        "# submit\r\n",
        "\r\n",
        "stacking_valid_pred.to_csv(\"stacking_valid_pred.csv\", encoding=\"utf-8-sig\",index=False)"
      ],
      "execution_count": 108,
      "outputs": []
    },
    {
      "cell_type": "markdown",
      "metadata": {
        "id": "a2Vqd61JSdLQ"
      },
      "source": [
        "#모델링"
      ]
    },
    {
      "cell_type": "code",
      "metadata": {
        "id": "IOrznz_nNk33"
      },
      "source": [
        "# EDA기반으로 만든 feature 예측변수로 추가\r\n",
        "from keras import regularizers\r\n",
        "\r\n",
        "def LSTM_add_feature(vocab_size, embedding_size = 100, max_len=100):\r\n",
        "  input1 = keras.layers.Input(shape = [max_len,]) #문장 단어 input\r\n",
        "  input2 = keras.layers.Input(shape = [feature_num,]) # EDA기반 feature input\r\n",
        "\r\n",
        "  # LSTM\r\n",
        "  embedding = keras.layers.Embedding(vocab_size, embedding_size, weights = [embedding_matrix], input_length = max_len)(input1) # 임베딩 가중치 적용\r\n",
        "  dropout1 = keras.layers.SpatialDropout1D(0.3)(embedding)\r\n",
        "  lstm1 = keras.layers.LSTM(32, return_sequences = True)(dropout1)\r\n",
        "  lstm2 = keras.layers.LSTM(32)(lstm1)\r\n",
        "  dropout2 = keras.layers.Dropout(0.5)(lstm2)\r\n",
        "  #lstm_output = keras.layers.Dense(16, activation = \"selu\")(dropout2)\r\n",
        "\r\n",
        "  # MLP\r\n",
        "  concat = keras.layers.concatenate([dropout2,input2])\r\n",
        "  hidden = keras.layers.Dense(32, activation = \"selu\")(concat)\r\n",
        "  output = keras.layers.Dense(1, activation = \"sigmoid\")(hidden)\r\n",
        "\r\n",
        "  model = keras.Model(inputs = [input1, input2], outputs = [output])\r\n",
        "\r\n",
        "  model.compile(optimizer=keras.optimizers.Adam(lr=learning_rate), loss=\"binary_crossentropy\", metrics = \"accuracy\")\r\n",
        "  model.summary()\r\n",
        "  return model\r\n"
      ],
      "execution_count": 177,
      "outputs": []
    },
    {
      "cell_type": "code",
      "metadata": {
        "id": "vLyta-R27x7b",
        "colab": {
          "base_uri": "https://localhost:8080/"
        },
        "outputId": "bb744b27-1c48-4c9f-91f2-66c4ce0ba58f"
      },
      "source": [
        "# 훈련 시\r\n",
        "tf.random.set_seed(42)\r\n",
        "\r\n",
        "\r\n",
        "checkpoint_cb = keras.callbacks.ModelCheckpoint(\"hyerim_add_feature_best_model2.h5\",\r\n",
        "                                               save_best_only = True)\r\n",
        "\r\n",
        "# 하이퍼파라미터\r\n",
        "max_epoch = 5\r\n",
        "batch_size = 32\r\n",
        "learning_rate = 0.001\r\n",
        "\r\n",
        "model = LSTM_add_feature(vocab_size, max_len = max_len, embedding_size = embedding_size)\r\n",
        "history = model.fit(x=[X_train[:,:max_len],X_train[:,-feature_num:]], y=y_train, epochs=max_epoch,\r\n",
        "                batch_size = batch_size,  validation_data = ((X_valid[:,:max_len],X_valid[:,-feature_num:]),y_valid), validation_batch_size = batch_size,\r\n",
        "                 callbacks = [checkpoint_cb])"
      ],
      "execution_count": 178,
      "outputs": [
        {
          "output_type": "stream",
          "text": [
            "Model: \"model\"\n",
            "__________________________________________________________________________________________________\n",
            "Layer (type)                    Output Shape         Param #     Connected to                     \n",
            "==================================================================================================\n",
            "input_1 (InputLayer)            [(None, 20)]         0                                            \n",
            "__________________________________________________________________________________________________\n",
            "embedding (Embedding)           (None, 20, 200)      6692200     input_1[0][0]                    \n",
            "__________________________________________________________________________________________________\n",
            "spatial_dropout1d (SpatialDropo (None, 20, 200)      0           embedding[0][0]                  \n",
            "__________________________________________________________________________________________________\n",
            "lstm (LSTM)                     (None, 20, 32)       29824       spatial_dropout1d[0][0]          \n",
            "__________________________________________________________________________________________________\n",
            "lstm_1 (LSTM)                   (None, 32)           8320        lstm[0][0]                       \n",
            "__________________________________________________________________________________________________\n",
            "dropout (Dropout)               (None, 32)           0           lstm_1[0][0]                     \n",
            "__________________________________________________________________________________________________\n",
            "input_2 (InputLayer)            [(None, 4)]          0                                            \n",
            "__________________________________________________________________________________________________\n",
            "concatenate (Concatenate)       (None, 36)           0           dropout[0][0]                    \n",
            "                                                                 input_2[0][0]                    \n",
            "__________________________________________________________________________________________________\n",
            "dense (Dense)                   (None, 32)           1184        concatenate[0][0]                \n",
            "__________________________________________________________________________________________________\n",
            "dense_1 (Dense)                 (None, 1)            33          dense[0][0]                      \n",
            "==================================================================================================\n",
            "Total params: 6,731,561\n",
            "Trainable params: 6,731,561\n",
            "Non-trainable params: 0\n",
            "__________________________________________________________________________________________________\n",
            "Epoch 1/5\n",
            "2591/2591 [==============================] - 248s 94ms/step - loss: 0.1461 - accuracy: 0.9393 - val_loss: 0.0449 - val_accuracy: 0.9847\n",
            "Epoch 2/5\n",
            "2591/2591 [==============================] - 221s 85ms/step - loss: 0.0406 - accuracy: 0.9872 - val_loss: 0.0361 - val_accuracy: 0.9885\n",
            "Epoch 3/5\n",
            "2591/2591 [==============================] - 219s 84ms/step - loss: 0.0262 - accuracy: 0.9921 - val_loss: 0.0328 - val_accuracy: 0.9896\n",
            "Epoch 4/5\n",
            "2591/2591 [==============================] - 216s 83ms/step - loss: 0.0182 - accuracy: 0.9944 - val_loss: 0.0317 - val_accuracy: 0.9901\n",
            "Epoch 5/5\n",
            "2591/2591 [==============================] - 215s 83ms/step - loss: 0.0102 - accuracy: 0.9970 - val_loss: 0.0322 - val_accuracy: 0.9906\n"
          ],
          "name": "stdout"
        }
      ]
    },
    {
      "cell_type": "code",
      "metadata": {
        "id": "JUSGWJvkDgiD",
        "colab": {
          "base_uri": "https://localhost:8080/",
          "height": 336
        },
        "outputId": "9f21d00b-2e46-4811-a82c-403e33ef0508"
      },
      "source": [
        "best_model = keras.models.load_model(\"hyerim_add_feature_best_model2.h5\") # 저장된 모델 불러오기\r\n",
        "plt.plot(pd.DataFrame(history.history)) # 0.0249 0.0211"
      ],
      "execution_count": 182,
      "outputs": [
        {
          "output_type": "execute_result",
          "data": {
            "text/plain": [
              "[<matplotlib.lines.Line2D at 0x7f08a2e13550>,\n",
              " <matplotlib.lines.Line2D at 0x7f08a2e13a58>,\n",
              " <matplotlib.lines.Line2D at 0x7f08a2e138d0>,\n",
              " <matplotlib.lines.Line2D at 0x7f08a2e135f8>]"
            ]
          },
          "metadata": {
            "tags": []
          },
          "execution_count": 182
        },
        {
          "output_type": "display_data",
          "data": {
            "image/png": "[encoded data removed]",
            "text/plain": [
              "<Figure size 432x288 with 1 Axes>"
            ]
          },
          "metadata": {
            "tags": [],
            "needs_background": "light"
          }
        }
      ]
    },
    {
      "cell_type": "code",
      "metadata": {
        "colab": {
          "base_uri": "https://localhost:8080/"
        },
        "id": "O3X-721afCH9",
        "outputId": "87cfcb9e-ed74-41c0-a76a-721a7fb83bde"
      },
      "source": [
        "# 성능\r\n",
        "best_model.evaluate((X_valid[:,:-feature_num],X_valid[:,-feature_num:]),y_valid)"
      ],
      "execution_count": 185,
      "outputs": [
        {
          "output_type": "stream",
          "text": [
            "1111/1111 [==============================] - 7s 6ms/step - loss: 0.0317 - accuracy: 0.9901\n"
          ],
          "name": "stdout"
        },
        {
          "output_type": "execute_result",
          "data": {
            "text/plain": [
              "[0.031701769679784775, 0.9900633096694946]"
            ]
          },
          "metadata": {
            "tags": []
          },
          "execution_count": 185
        }
      ]
    },
    {
      "cell_type": "code",
      "metadata": {
        "colab": {
          "base_uri": "https://localhost:8080/"
        },
        "id": "IQYpSLq4GQxc",
        "outputId": "36443b54-e506-43b4-af9a-2d763e0811a6"
      },
      "source": [
        "lstm_pred = best_model.predict((X_valid[:,:-feature_num],X_valid[:,-feature_num:]))\r\n",
        "lstm_pred"
      ],
      "execution_count": 187,
      "outputs": [
        {
          "output_type": "execute_result",
          "data": {
            "text/plain": [
              "array([[0.99867976],\n",
              "       [0.00227535],\n",
              "       [0.9995058 ],\n",
              "       ...,\n",
              "       [0.99998546],\n",
              "       [0.9999975 ],\n",
              "       [0.9999955 ]], dtype=float32)"
            ]
          },
          "metadata": {
            "tags": []
          },
          "execution_count": 187
        }
      ]
    },
    {
      "cell_type": "code",
      "metadata": {
        "colab": {
          "base_uri": "https://localhost:8080/"
        },
        "id": "lYFhoyd7SXdm",
        "outputId": "d92271ce-4032-4098-e965-4f0a6d997b6c"
      },
      "source": [
        "lstm_pred1 = lstm_pred.reshape(-1)\r\n",
        "lstm_pred1.shape"
      ],
      "execution_count": 220,
      "outputs": [
        {
          "output_type": "execute_result",
          "data": {
            "text/plain": [
              "(35525,)"
            ]
          },
          "metadata": {
            "tags": []
          },
          "execution_count": 220
        }
      ]
    },
    {
      "cell_type": "code",
      "metadata": {
        "colab": {
          "base_uri": "https://localhost:8080/",
          "height": 411
        },
        "id": "3TgG3c7MSdaE",
        "outputId": "22dd6945-223f-48ff-f589-59f9158d4c6d"
      },
      "source": [
        "lstm_valid_pred = pd.DataFrame(lstm_pred1, columns =['LSTM'])\r\n",
        "lstm_valid_pred\r\n"
      ],
      "execution_count": 222,
      "outputs": [
        {
          "output_type": "execute_result",
          "data": {
            "text/html": [
              "<div>\n",
              "<style scoped>\n",
              "    .dataframe tbody tr th:only-of-type {\n",
              "        vertical-align: middle;\n",
              "    }\n",
              "\n",
              "    .dataframe tbody tr th {\n",
              "        vertical-align: top;\n",
              "    }\n",
              "\n",
              "    .dataframe thead th {\n",
              "        text-align: right;\n",
              "    }\n",
              "</style>\n",
              "<table border=\"1\" class=\"dataframe\">\n",
              "  <thead>\n",
              "    <tr style=\"text-align: right;\">\n",
              "      <th></th>\n",
              "      <th>LSTM</th>\n",
              "    </tr>\n",
              "  </thead>\n",
              "  <tbody>\n",
              "    <tr>\n",
              "      <th>0</th>\n",
              "      <td>9.986798e-01</td>\n",
              "    </tr>\n",
              "    <tr>\n",
              "      <th>1</th>\n",
              "      <td>2.275348e-03</td>\n",
              "    </tr>\n",
              "    <tr>\n",
              "      <th>2</th>\n",
              "      <td>9.995058e-01</td>\n",
              "    </tr>\n",
              "    <tr>\n",
              "      <th>3</th>\n",
              "      <td>9.999931e-01</td>\n",
              "    </tr>\n",
              "    <tr>\n",
              "      <th>4</th>\n",
              "      <td>9.999966e-01</td>\n",
              "    </tr>\n",
              "    <tr>\n",
              "      <th>...</th>\n",
              "      <td>...</td>\n",
              "    </tr>\n",
              "    <tr>\n",
              "      <th>35520</th>\n",
              "      <td>9.999999e-01</td>\n",
              "    </tr>\n",
              "    <tr>\n",
              "      <th>35521</th>\n",
              "      <td>4.399330e-07</td>\n",
              "    </tr>\n",
              "    <tr>\n",
              "      <th>35522</th>\n",
              "      <td>9.999855e-01</td>\n",
              "    </tr>\n",
              "    <tr>\n",
              "      <th>35523</th>\n",
              "      <td>9.999975e-01</td>\n",
              "    </tr>\n",
              "    <tr>\n",
              "      <th>35524</th>\n",
              "      <td>9.999955e-01</td>\n",
              "    </tr>\n",
              "  </tbody>\n",
              "</table>\n",
              "<p>35525 rows × 1 columns</p>\n",
              "</div>"
            ],
            "text/plain": [
              "               LSTM\n",
              "0      9.986798e-01\n",
              "1      2.275348e-03\n",
              "2      9.995058e-01\n",
              "3      9.999931e-01\n",
              "4      9.999966e-01\n",
              "...             ...\n",
              "35520  9.999999e-01\n",
              "35521  4.399330e-07\n",
              "35522  9.999855e-01\n",
              "35523  9.999975e-01\n",
              "35524  9.999955e-01\n",
              "\n",
              "[35525 rows x 1 columns]"
            ]
          },
          "metadata": {
            "tags": []
          },
          "execution_count": 222
        }
      ]
    },
    {
      "cell_type": "code",
      "metadata": {
        "id": "JMhQSTLuSxAF"
      },
      "source": [
        "# submit\r\n",
        "\r\n",
        "lstm_valid_pred.to_csv(\"lstm_valid_pred.csv\", encoding=\"utf-8-sig\",index=False)"
      ],
      "execution_count": 223,
      "outputs": []
    },
    {
      "cell_type": "markdown",
      "metadata": {
        "id": "QTGrQTG0_DcA"
      },
      "source": [
        "# 최종 훈련"
      ]
    },
    {
      "cell_type": "code",
      "metadata": {
        "id": "euiZSXmb-p3h",
        "colab": {
          "base_uri": "https://localhost:8080/"
        },
        "outputId": "d7d36dfd-544e-490d-a72f-42a0c0425f1f"
      },
      "source": [
        "# 실제 예측시\r\n",
        "index_seq = (train_X.argmax(axis=1)).argsort(axis=0)\r\n",
        "train_X = train_X[index_seq]\r\n",
        "train_y = train_y.iloc[index_seq]\r\n",
        "\r\n",
        "\r\n",
        "tf.random.set_seed(40)\r\n",
        "\r\n",
        "# 하이퍼파라미터\r\n",
        "max_epoch = 2\r\n",
        "batch_size = 32\r\n",
        "learning_rate = 0.001\r\n",
        "\r\n",
        "model = LSTM_add_feature(vocab_size, max_len = max_len)\r\n",
        "history = model.fit(x=[train_X[:,:-feature_num],train_X[:,-feature_num:]], y=train_y,epochs=max_epoch,batch_size = batch_size)"
      ],
      "execution_count": null,
      "outputs": [
        {
          "output_type": "stream",
          "text": [
            "Model: \"model_12\"\n",
            "__________________________________________________________________________________________________\n",
            "Layer (type)                    Output Shape         Param #     Connected to                     \n",
            "==================================================================================================\n",
            "input_32 (InputLayer)           [(None, 20)]         0                                            \n",
            "__________________________________________________________________________________________________\n",
            "embedding_12 (Embedding)        (None, 20, 200)      6692200     input_32[0][0]                   \n",
            "__________________________________________________________________________________________________\n",
            "spatial_dropout1d_12 (SpatialDr (None, 20, 200)      0           embedding_12[0][0]               \n",
            "__________________________________________________________________________________________________\n",
            "lstm_24 (LSTM)                  (None, 20, 32)       29824       spatial_dropout1d_12[0][0]       \n",
            "__________________________________________________________________________________________________\n",
            "lstm_25 (LSTM)                  (None, 32)           8320        lstm_24[0][0]                    \n",
            "__________________________________________________________________________________________________\n",
            "dropout_12 (Dropout)            (None, 32)           0           lstm_25[0][0]                    \n",
            "__________________________________________________________________________________________________\n",
            "input_33 (InputLayer)           [(None, 4)]          0                                            \n",
            "__________________________________________________________________________________________________\n",
            "concatenate_12 (Concatenate)    (None, 36)           0           dropout_12[0][0]                 \n",
            "                                                                 input_33[0][0]                   \n",
            "__________________________________________________________________________________________________\n",
            "dense_55 (Dense)                (None, 32)           1184        concatenate_12[0][0]             \n",
            "__________________________________________________________________________________________________\n",
            "dense_56 (Dense)                (None, 1)            33          dense_55[0][0]                   \n",
            "==================================================================================================\n",
            "Total params: 6,731,561\n",
            "Trainable params: 6,731,561\n",
            "Non-trainable params: 0\n",
            "__________________________________________________________________________________________________\n",
            "Epoch 1/2\n",
            "3701/3701 [==============================] - 349s 93ms/step - loss: 0.1053 - accuracy: 0.9589\n",
            "Epoch 2/2\n",
            "3701/3701 [==============================] - 348s 94ms/step - loss: 0.0238 - accuracy: 0.9926\n"
          ],
          "name": "stdout"
        }
      ]
    },
    {
      "cell_type": "code",
      "metadata": {
        "id": "laEwou3JphOQ"
      },
      "source": [
        "model.save(\"final_model_99.2.h5\")"
      ],
      "execution_count": null,
      "outputs": []
    },
    {
      "cell_type": "code",
      "metadata": {
        "id": "0AYUPwxlrcI1"
      },
      "source": [
        "final_model = keras.models.load_model(\"final_model_99.2.h5\")"
      ],
      "execution_count": null,
      "outputs": []
    },
    {
      "cell_type": "code",
      "metadata": {
        "id": "SfCyi7aR2kDS"
      },
      "source": [
        "train_predicted = final_model.predict((train_X[:,:max_len],train_X[:,-feature_num:]))\r\n",
        "\r\n",
        "# 각 문장의 바로 앞문장과, 그 앞 문장의 예측값 생성\r\n",
        "train_pre_predicted1 = np.array([train_predicted[idx-1][0] for idx in range(len(train_predicted))]).reshape(-1,1) # 앞문장\r\n",
        "train_pre_predicted2 = np.array([train_predicted[idx-2][0] for idx in range(len(train_predicted))]).reshape(-1,1) # 앞앞문장\r\n",
        "train_pre_predicted3 = np.array([train_predicted[idx-3][0] for idx in range(len(train_predicted))]).reshape(-1,1) # 앞앞앞문장"
      ],
      "execution_count": null,
      "outputs": []
    },
    {
      "cell_type": "code",
      "metadata": {
        "id": "EI32y8JjAVEN"
      },
      "source": [
        "# ord가 1이면 과거 1년도, 2년도 자기값으로 대체\r\n",
        "# ord가 2이면 과거 2년도 자기값으로 대체\r\n",
        "\r\n",
        "train[\"predicted\"]=train_predicted\r\n",
        "train[\"pre_predicted1\"]=train_pre_predicted1\r\n",
        "train[\"pre_predicted2\"]=train_pre_predicted2\r\n",
        "\r\n",
        "train.loc[train[\"ord\"]==1,\"pre_predicted1\"]=train_predicted[train[\"ord\"]==1]\r\n",
        "train.loc[train[\"ord\"]==1,\"pre_predicted2\"]=train_predicted[train[\"ord\"]==1]\r\n",
        "train.loc[train[\"ord\"]==2,\"pre_predicted2\"]=train_predicted[train[\"ord\"]==2]"
      ],
      "execution_count": null,
      "outputs": []
    },
    {
      "cell_type": "code",
      "metadata": {
        "id": "to4KDsxX0lbj",
        "colab": {
          "base_uri": "https://localhost:8080/"
        },
        "outputId": "c9cb9abd-9f82-4945-9518-08da76b68386"
      },
      "source": [
        "# tree 모델 불러오기\r\n",
        "import pickle\r\n",
        "import xgboost as xgb\r\n",
        "from xgboost import XGBClassifier\r\n",
        "from lightgbm import LGBMClassifier\r\n",
        "\r\n",
        "# xgb model 예측\r\n",
        "xgb_model=XGBClassifier(random_state=42)\r\n",
        "lgbm_model=LGBMClassifier(random_state=42)\r\n",
        "\r\n",
        "with open(path+'model/new_xgb_model.pkl', 'wb') as f:\r\n",
        "  pickle.dump(xgb_model, f)\r\n",
        "with open(path+'model/lgbm_model.pkl','wb') as f:\r\n",
        "  pickle.dump(lgbm_model,f)\r\n",
        "\r\n",
        "xgb_model.fit(train[[\"predicted\",\"pre_predicted1\",\"pre_predicted2\"]], y=train[\"info\"])\r\n",
        "lgbm_model.fit(train[[\"predicted\",\"pre_predicted1\",\"pre_predicted2\"]], y=train[\"info\"])"
      ],
      "execution_count": null,
      "outputs": [
        {
          "output_type": "execute_result",
          "data": {
            "text/plain": [
              "LGBMClassifier(boosting_type='gbdt', class_weight=None, colsample_bytree=1.0,\n",
              "               importance_type='split', learning_rate=0.1, max_depth=-1,\n",
              "               min_child_samples=20, min_child_weight=0.001, min_split_gain=0.0,\n",
              "               n_estimators=100, n_jobs=-1, num_leaves=31, objective=None,\n",
              "               random_state=42, reg_alpha=0.0, reg_lambda=0.0, silent=True,\n",
              "               subsample=1.0, subsample_for_bin=200000, subsample_freq=0)"
            ]
          },
          "metadata": {
            "tags": []
          },
          "execution_count": 241
        }
      ]
    },
    {
      "cell_type": "code",
      "metadata": {
        "id": "gKXg-UbCp3DX"
      },
      "source": [
        "def Lag_MLP():\r\n",
        "  model = keras.models.Sequential([\r\n",
        "    keras.layers.Dense(16, input_shape = (3,)),\r\n",
        "    keras.layers.Dense(1)                \r\n",
        "  ])\r\n",
        "  model.compile(optimizer=keras.optimizers.Adam(lr=learning_rate), loss=\"binary_crossentropy\", metrics = \"accuracy\")\r\n",
        "  model.summary()\r\n",
        "  return model"
      ],
      "execution_count": null,
      "outputs": []
    },
    {
      "cell_type": "code",
      "metadata": {
        "id": "XG5Zx2ymt_hm"
      },
      "source": [
        "# 시퀀셜 LSTM 모델\r\n",
        "\r\n",
        "def Lag_RNN():\r\n",
        "    model = keras.models.Sequential()\r\n",
        "    model.add(keras.layers.Input(shape=(3,1)))\r\n",
        "    model.add(keras.layers.SimpleRNN(32))\r\n",
        "    model.add(keras.layers.Dense(1, activation='sigmoid'))\r\n",
        "    model.compile(optimizer='adam', loss='binary_crossentropy', metrics='accuracy')\r\n",
        "    model.summary()\r\n",
        "    return model"
      ],
      "execution_count": null,
      "outputs": []
    },
    {
      "cell_type": "code",
      "metadata": {
        "colab": {
          "base_uri": "https://localhost:8080/"
        },
        "id": "qqeDPwzPuFkl",
        "outputId": "649d3e72-068e-4df6-a0e6-33a2af366ad4"
      },
      "source": [
        "# 하이퍼파라미터\r\n",
        "tf.random.set_seed(42)\r\n",
        "\r\n",
        "max_epoch = 5\r\n",
        "batch_size = 32\r\n",
        "learning_rate = 0.001\r\n",
        "\r\n",
        "lag_model = Lag_RNN()\r\n",
        "lag_model.fit(x=train[:82858][[\"predicted\",\"pre_predicted1\",\"pre_predicted2\"]].values.reshape(-1,3,1), y=train[:82858][\"info\"],\r\n",
        "              validation_data = (train[82858:][[\"predicted\",\"pre_predicted1\",\"pre_predicted2\"]].values.reshape(-1,3,1),train[82858:][\"info\"]), batch_size = 16,\r\n",
        "              epochs = max_epoch)"
      ],
      "execution_count": null,
      "outputs": [
        {
          "output_type": "stream",
          "text": [
            "Model: \"sequential_22\"\n",
            "_________________________________________________________________\n",
            "Layer (type)                 Output Shape              Param #   \n",
            "=================================================================\n",
            "simple_rnn_7 (SimpleRNN)     (None, 32)                1088      \n",
            "_________________________________________________________________\n",
            "dense_31 (Dense)             (None, 1)                 33        \n",
            "=================================================================\n",
            "Total params: 1,121\n",
            "Trainable params: 1,121\n",
            "Non-trainable params: 0\n",
            "_________________________________________________________________\n",
            "Epoch 1/5\n",
            "5179/5179 [==============================] - 12s 2ms/step - loss: 0.0471 - accuracy: 0.9914 - val_loss: 0.0027 - val_accuracy: 0.9997\n",
            "Epoch 2/5\n",
            "5179/5179 [==============================] - 12s 2ms/step - loss: 0.0140 - accuracy: 0.9968 - val_loss: 0.0021 - val_accuracy: 0.9996\n",
            "Epoch 3/5\n",
            "5179/5179 [==============================] - 12s 2ms/step - loss: 0.0112 - accuracy: 0.9977 - val_loss: 0.0019 - val_accuracy: 0.9996\n",
            "Epoch 4/5\n",
            "5179/5179 [==============================] - 12s 2ms/step - loss: 0.0141 - accuracy: 0.9968 - val_loss: 0.0028 - val_accuracy: 0.9997\n",
            "Epoch 5/5\n",
            "5179/5179 [==============================] - 12s 2ms/step - loss: 0.0124 - accuracy: 0.9972 - val_loss: 0.0019 - val_accuracy: 0.9997\n"
          ],
          "name": "stdout"
        },
        {
          "output_type": "execute_result",
          "data": {
            "text/plain": [
              "<tensorflow.python.keras.callbacks.History at 0x7f39e0bf3198>"
            ]
          },
          "metadata": {
            "tags": []
          },
          "execution_count": 85
        }
      ]
    },
    {
      "cell_type": "code",
      "metadata": {
        "colab": {
          "base_uri": "https://localhost:8080/"
        },
        "id": "OVKLgFtHqpbx",
        "outputId": "cad04740-ac7b-4d77-95e4-8b1054e05910"
      },
      "source": [
        "# 하이퍼파라미터\r\n",
        "tf.random.set_seed(42)\r\n",
        "\r\n",
        "max_epoch = 5\r\n",
        "batch_size = 32\r\n",
        "learning_rate = 0.0001\r\n",
        "\r\n",
        "lag_model = Lag_MLP()\r\n",
        "lag_model.fit(x=train[:82858][[\"predicted\",\"pre_predicted1\",\"pre_predicted2\"]], y=train[:82858][\"info\"],\r\n",
        "              validation_data = (train[82858:][[\"predicted\",\"pre_predicted1\",\"pre_predicted2\"]],train[82858:][\"info\"]), batch_size = batch_size,\r\n",
        "              epochs = max_epoch, validation_batch_size = batch_size)"
      ],
      "execution_count": null,
      "outputs": [
        {
          "output_type": "stream",
          "text": [
            "Model: \"sequential_20\"\n",
            "_________________________________________________________________\n",
            "Layer (type)                 Output Shape              Param #   \n",
            "=================================================================\n",
            "dense_28 (Dense)             (None, 16)                64        \n",
            "_________________________________________________________________\n",
            "dense_29 (Dense)             (None, 1)                 17        \n",
            "=================================================================\n",
            "Total params: 81\n",
            "Trainable params: 81\n",
            "Non-trainable params: 0\n",
            "_________________________________________________________________\n",
            "Epoch 1/5\n",
            "2590/2590 [==============================] - 4s 1ms/step - loss: 0.1080 - accuracy: 0.9517 - val_loss: 0.0027 - val_accuracy: 0.9995\n",
            "Epoch 2/5\n",
            "2590/2590 [==============================] - 4s 1ms/step - loss: 0.0168 - accuracy: 0.9961 - val_loss: 0.0019 - val_accuracy: 0.9995\n",
            "Epoch 3/5\n",
            "2590/2590 [==============================] - 4s 1ms/step - loss: 0.0132 - accuracy: 0.9968 - val_loss: 0.0017 - val_accuracy: 0.9995\n",
            "Epoch 4/5\n",
            "2590/2590 [==============================] - 4s 1ms/step - loss: 0.0212 - accuracy: 0.9962 - val_loss: 0.0029 - val_accuracy: 0.9995\n",
            "Epoch 5/5\n",
            "2590/2590 [==============================] - 4s 1ms/step - loss: 0.0169 - accuracy: 0.9966 - val_loss: 0.0029 - val_accuracy: 0.9995\n"
          ],
          "name": "stdout"
        },
        {
          "output_type": "execute_result",
          "data": {
            "text/plain": [
              "<tensorflow.python.keras.callbacks.History at 0x7f39f2c0b0b8>"
            ]
          },
          "metadata": {
            "tags": []
          },
          "execution_count": 81
        }
      ]
    },
    {
      "cell_type": "markdown",
      "metadata": {
        "id": "LDjRKT6a_Tx3"
      },
      "source": [
        "# test 예측"
      ]
    },
    {
      "cell_type": "code",
      "metadata": {
        "id": "efZxw2tUiMfr"
      },
      "source": [
        "path = \"/gdrive/My Drive/dacon_news/\"\r\n",
        "feature_num = 4\r\n",
        "test = pd.read_csv(path+\"data/news_test.csv\")\r\n",
        "\r\n",
        "# EDA 기반 feature 추가\r\n",
        "test[\"info1_title\"]=test[\"title\"].apply(title_choose)\r\n",
        "test[\"info1_content\"]=test[\"content\"].apply(content_choose)\r\n",
        "test[\"content_startswith_[\"]=test.content.apply(lambda x : str(x).startswith(\"[\" ) or str(x).startswith(\"(\") or str(x).startswith(\"제목\"))+0\r\n",
        "title_group = (test.groupby([\"title\"]).count())[\"n_id\"]\r\n",
        "test[\"new_ord\"]=test.apply(lambda x: x[\"ord\"]/title_group[x[\"title\"]], axis=1)\r\n",
        "#test[\"info1_words\"]=test[\"content\"].apply(in_bull)\r\n",
        "\r\n",
        "# 전처리\r\n",
        "test['new_article'], okt = text_preprocessing(test['content'])\r\n",
        "test_X_seq = vectorizer.texts_to_sequences(test[\"new_article\"])\r\n",
        "test_X = pad_sequences(test_X_seq, maxlen = max_len) # 길이를 맞춰줌\r\n",
        "\r\n",
        "# concat\r\n",
        "test_X = np.concatenate([test_X,test[[\"info1_title\",\"info1_content\",\"new_ord\",\"content_startswith_[\"]].values.reshape(-1,feature_num)], axis=1)"
      ],
      "execution_count": null,
      "outputs": []
    },
    {
      "cell_type": "code",
      "metadata": {
        "id": "wtfXQsVKkuAQ"
      },
      "source": [
        "#final_model = keras.models.load_model(path+\"model/final_model_99_epoch2.h5\") # 저장된 모델 불러오기\r\n",
        "final_model = keras.models.load_model(\"final_model_99.2.h5\")\r\n",
        "predicted = final_model.predict([test_X[:,:max_len],test_X[:,-feature_num:]])"
      ],
      "execution_count": null,
      "outputs": []
    },
    {
      "cell_type": "code",
      "metadata": {
        "id": "_ncycsgEs4jH"
      },
      "source": [
        "# idx-1의 예측값\r\n",
        "pre_predicted1 = np.array([predicted[idx-1][0] for idx in range(len(predicted))]).reshape(-1,1)\r\n",
        "pre_predicted2 = np.array([predicted[idx-2][0] for idx in range(len(predicted))]).reshape(-1,1)\r\n",
        "\r\n",
        "test[\"predicted\"]=predicted\r\n",
        "test[\"pre_predicted1\"]=pre_predicted1\r\n",
        "test[\"pre_predicted2\"]=pre_predicted2\r\n",
        "\r\n",
        "# ord가 1이면 과거 1년도, 2년도 자기값으로 대체\r\n",
        "# ord가 2이면 과거 2년도 자기값으로 대체\r\n",
        "test.loc[test[\"ord\"]==1,\"pre_predicted1\"]=predicted[test[\"ord\"]==1]\r\n",
        "test.loc[test[\"ord\"]==1,\"pre_predicted2\"]=predicted[test[\"ord\"]==1]\r\n",
        "test.loc[test[\"ord\"]==2,\"pre_predicted2\"]=predicted[test[\"ord\"]==2]"
      ],
      "execution_count": null,
      "outputs": []
    },
    {
      "cell_type": "code",
      "metadata": {
        "id": "niuyb-3nrKxT"
      },
      "source": [
        "xgb_final_predicted = xgb_model.predict(test[[\"predicted\",\"pre_predicted1\"]])\r\n",
        "lgbm_final_predicted = lgbm_model.predict(test[[\"predicted\",\"pre_predicted1\"]])"
      ],
      "execution_count": null,
      "outputs": []
    },
    {
      "cell_type": "code",
      "metadata": {
        "id": "G8Wg-C6duF37"
      },
      "source": [
        "xgb_final_predicted = xgb_model.predict(test[[\"predicted\",\"pre_predicted1\",\"pre_predicted2\"]])\r\n",
        "lgbm_final_predicted = lgbm_model.predict(test[[\"predicted\",\"pre_predicted1\",\"pre_predicted2\"]])"
      ],
      "execution_count": null,
      "outputs": []
    },
    {
      "cell_type": "code",
      "metadata": {
        "id": "eH86eXK-1voh"
      },
      "source": [
        "wrong = test[(xgb_final_predicted)!=(lgbm_final_predicted)]"
      ],
      "execution_count": null,
      "outputs": []
    },
    {
      "cell_type": "code",
      "metadata": {
        "colab": {
          "base_uri": "https://localhost:8080/"
        },
        "id": "xRR4v_vR4Nx3",
        "outputId": "9a55a515-c912-438d-b3ff-fdec61d72a3e"
      },
      "source": [
        "wrong[\"xgb_predicted\"]=xgb_final_predicted[xgb_final_predicted!=lgbm_final_predicted]\r\n",
        "wrong[\"lgbm_predicte\"]=lgbm_final_predicted[xgb_final_predicted!=lgbm_final_predicted]"
      ],
      "execution_count": null,
      "outputs": [
        {
          "output_type": "stream",
          "text": [
            "/usr/local/lib/python3.6/dist-packages/ipykernel_launcher.py:1: SettingWithCopyWarning: \n",
            "A value is trying to be set on a copy of a slice from a DataFrame.\n",
            "Try using .loc[row_indexer,col_indexer] = value instead\n",
            "\n",
            "See the caveats in the documentation: https://pandas.pydata.org/pandas-docs/stable/user_guide/indexing.html#returning-a-view-versus-a-copy\n",
            "  \"\"\"Entry point for launching an IPython kernel.\n",
            "/usr/local/lib/python3.6/dist-packages/ipykernel_launcher.py:2: SettingWithCopyWarning: \n",
            "A value is trying to be set on a copy of a slice from a DataFrame.\n",
            "Try using .loc[row_indexer,col_indexer] = value instead\n",
            "\n",
            "See the caveats in the documentation: https://pandas.pydata.org/pandas-docs/stable/user_guide/indexing.html#returning-a-view-versus-a-copy\n",
            "  \n"
          ],
          "name": "stderr"
        }
      ]
    },
    {
      "cell_type": "code",
      "metadata": {
        "id": "8pDAbLAS6Dn5"
      },
      "source": [
        "xgb_train_p = xgb_model.predict(train[[\"predicted\",\"pre_predicted1\",\"pre_predicted2\"]])\r\n",
        "lgbm_train_p = lgbm_model.predict(train[[\"predicted\",\"pre_predicted1\",\"pre_predicted2\"]])"
      ],
      "execution_count": null,
      "outputs": []
    },
    {
      "cell_type": "code",
      "metadata": {
        "colab": {
          "base_uri": "https://localhost:8080/"
        },
        "id": "Tgw368iD8jWV",
        "outputId": "967da57e-d3e6-4eea-8031-60ccff70d2ef"
      },
      "source": [
        "wrong_train = train[(xgb_train_p)!=(lgbm_train_p)]\r\n",
        "\r\n",
        "wrong_train[\"xgb_predicted\"]=xgb_train_p[xgb_train_p!=lgbm_train_p]\r\n",
        "wrong_train[\"lgbm_predicted\"]=lgbm_train_p[xgb_train_p!=lgbm_train_p]"
      ],
      "execution_count": null,
      "outputs": [
        {
          "output_type": "stream",
          "text": [
            "/usr/local/lib/python3.6/dist-packages/ipykernel_launcher.py:3: SettingWithCopyWarning: \n",
            "A value is trying to be set on a copy of a slice from a DataFrame.\n",
            "Try using .loc[row_indexer,col_indexer] = value instead\n",
            "\n",
            "See the caveats in the documentation: https://pandas.pydata.org/pandas-docs/stable/user_guide/indexing.html#returning-a-view-versus-a-copy\n",
            "  This is separate from the ipykernel package so we can avoid doing imports until\n",
            "/usr/local/lib/python3.6/dist-packages/ipykernel_launcher.py:4: SettingWithCopyWarning: \n",
            "A value is trying to be set on a copy of a slice from a DataFrame.\n",
            "Try using .loc[row_indexer,col_indexer] = value instead\n",
            "\n",
            "See the caveats in the documentation: https://pandas.pydata.org/pandas-docs/stable/user_guide/indexing.html#returning-a-view-versus-a-copy\n",
            "  after removing the cwd from sys.path.\n"
          ],
          "name": "stderr"
        }
      ]
    },
    {
      "cell_type": "code",
      "metadata": {
        "id": "2eyxDj1Gts9k",
        "colab": {
          "base_uri": "https://localhost:8080/"
        },
        "outputId": "27185148-9cea-4366-f2d9-ec85db102417"
      },
      "source": [
        "test[\"info\"]=xgb_final_predicted\r\n",
        "#test[\"info\"][test[\"content\"].apply(lambda x: True if \"무단전재 & 재배포 금지\" in x else False)]=0\r\n",
        "test[\"info\"][test[\"content\"].apply(lambda x: True if ('http://etoday.bujane.co.kr/' in x) or ('http://bit.ly/2XrAuGJ_itoozanews' in x) or ('http://www.hisl.co.kr/0306/' in x) or ('https://www.hankyung.com/election2020/' in x) or (x==']]') else False)]=1\r\n",
        "#test[\"info\"][test[\"predicted\"]>=0.6]=1"
      ],
      "execution_count": null,
      "outputs": [
        {
          "output_type": "stream",
          "text": [
            "/usr/local/lib/python3.6/dist-packages/ipykernel_launcher.py:3: SettingWithCopyWarning: \n",
            "A value is trying to be set on a copy of a slice from a DataFrame\n",
            "\n",
            "See the caveats in the documentation: https://pandas.pydata.org/pandas-docs/stable/user_guide/indexing.html#returning-a-view-versus-a-copy\n",
            "  This is separate from the ipykernel package so we can avoid doing imports until\n",
            "/usr/local/lib/python3.6/dist-packages/ipykernel_launcher.py:4: SettingWithCopyWarning: \n",
            "A value is trying to be set on a copy of a slice from a DataFrame\n",
            "\n",
            "See the caveats in the documentation: https://pandas.pydata.org/pandas-docs/stable/user_guide/indexing.html#returning-a-view-versus-a-copy\n",
            "  after removing the cwd from sys.path.\n",
            "/usr/local/lib/python3.6/dist-packages/ipykernel_launcher.py:5: SettingWithCopyWarning: \n",
            "A value is trying to be set on a copy of a slice from a DataFrame\n",
            "\n",
            "See the caveats in the documentation: https://pandas.pydata.org/pandas-docs/stable/user_guide/indexing.html#returning-a-view-versus-a-copy\n",
            "  \"\"\"\n"
          ],
          "name": "stderr"
        }
      ]
    },
    {
      "cell_type": "code",
      "metadata": {
        "id": "BygcXFgCDoPl"
      },
      "source": [
        "submission = pd.read_csv(path+\"/data/sample_submission.csv\")\r\n",
        "submission[\"info\"]=test[\"info\"]\r\n",
        "submission.to_csv(\"xgb_drop0.5_submission.csv\", encoding=\"utf-8-sig\",index=False)"
      ],
      "execution_count": null,
      "outputs": []
    },
    {
      "cell_type": "code",
      "metadata": {
        "colab": {
          "base_uri": "https://localhost:8080/",
          "height": 407
        },
        "id": "hj-gsYUpOgOR",
        "outputId": "e0911b94-1483-4856-dc14-4f38aeece5f8"
      },
      "source": [
        "submission"
      ],
      "execution_count": null,
      "outputs": [
        {
          "output_type": "execute_result",
          "data": {
            "text/html": [
              "<div>\n",
              "<style scoped>\n",
              "    .dataframe tbody tr th:only-of-type {\n",
              "        vertical-align: middle;\n",
              "    }\n",
              "\n",
              "    .dataframe tbody tr th {\n",
              "        vertical-align: top;\n",
              "    }\n",
              "\n",
              "    .dataframe thead th {\n",
              "        text-align: right;\n",
              "    }\n",
              "</style>\n",
              "<table border=\"1\" class=\"dataframe\">\n",
              "  <thead>\n",
              "    <tr style=\"text-align: right;\">\n",
              "      <th></th>\n",
              "      <th>id</th>\n",
              "      <th>info</th>\n",
              "    </tr>\n",
              "  </thead>\n",
              "  <tbody>\n",
              "    <tr>\n",
              "      <th>0</th>\n",
              "      <td>NEWS00237_1</td>\n",
              "      <td>0.0</td>\n",
              "    </tr>\n",
              "    <tr>\n",
              "      <th>1</th>\n",
              "      <td>NEWS00237_2</td>\n",
              "      <td>0.0</td>\n",
              "    </tr>\n",
              "    <tr>\n",
              "      <th>2</th>\n",
              "      <td>NEWS00237_3</td>\n",
              "      <td>0.0</td>\n",
              "    </tr>\n",
              "    <tr>\n",
              "      <th>3</th>\n",
              "      <td>NEWS00237_4</td>\n",
              "      <td>0.0</td>\n",
              "    </tr>\n",
              "    <tr>\n",
              "      <th>4</th>\n",
              "      <td>NEWS00237_5</td>\n",
              "      <td>0.0</td>\n",
              "    </tr>\n",
              "    <tr>\n",
              "      <th>...</th>\n",
              "      <td>...</td>\n",
              "      <td>...</td>\n",
              "    </tr>\n",
              "    <tr>\n",
              "      <th>142560</th>\n",
              "      <td>NEWS09482_72</td>\n",
              "      <td>1.0</td>\n",
              "    </tr>\n",
              "    <tr>\n",
              "      <th>142561</th>\n",
              "      <td>NEWS09482_73</td>\n",
              "      <td>1.0</td>\n",
              "    </tr>\n",
              "    <tr>\n",
              "      <th>142562</th>\n",
              "      <td>NEWS09482_74</td>\n",
              "      <td>1.0</td>\n",
              "    </tr>\n",
              "    <tr>\n",
              "      <th>142563</th>\n",
              "      <td>NEWS09482_75</td>\n",
              "      <td>1.0</td>\n",
              "    </tr>\n",
              "    <tr>\n",
              "      <th>142564</th>\n",
              "      <td>NEWS09482_76</td>\n",
              "      <td>1.0</td>\n",
              "    </tr>\n",
              "  </tbody>\n",
              "</table>\n",
              "<p>142565 rows × 2 columns</p>\n",
              "</div>"
            ],
            "text/plain": [
              "                  id  info\n",
              "0        NEWS00237_1   0.0\n",
              "1        NEWS00237_2   0.0\n",
              "2        NEWS00237_3   0.0\n",
              "3        NEWS00237_4   0.0\n",
              "4        NEWS00237_5   0.0\n",
              "...              ...   ...\n",
              "142560  NEWS09482_72   1.0\n",
              "142561  NEWS09482_73   1.0\n",
              "142562  NEWS09482_74   1.0\n",
              "142563  NEWS09482_75   1.0\n",
              "142564  NEWS09482_76   1.0\n",
              "\n",
              "[142565 rows x 2 columns]"
            ]
          },
          "metadata": {
            "tags": []
          },
          "execution_count": 122
        }
      ]
    }
  ]
}