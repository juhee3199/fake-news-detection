{
  "nbformat": 4,
  "nbformat_minor": 0,
  "metadata": {
    "colab": {
      "name": "feature추가모델2.ipynb",
      "provenance": [],
      "collapsed_sections": [],
      "include_colab_link": true
    },
    "kernelspec": {
      "name": "python3",
      "display_name": "Python 3"
    }
  },
  "cells": [
    {
      "cell_type": "markdown",
      "metadata": {
        "id": "view-in-github",
        "colab_type": "text"
      },
      "source": [
        "<a href=\"https://colab.research.google.com/github/juhee3199/fake-news-detection/blob/main/new%20modeling%20/%20feature%EC%B6%94%EA%B0%80%EB%AA%A8%EB%8D%B82.ipynb\" target=\"_parent\"><img src=\"https://colab.research.google.com/assets/colab-badge.svg\" alt=\"Open In Colab\"/></a>"
      ]
    },
    {
      "cell_type": "markdown",
      "metadata": {
        "id": "_3LcHWdoaKXK"
      },
      "source": [
        "#**EDA를 통한 변수 추가 모델**"
      ]
    },
    {
      "cell_type": "code",
      "metadata": {
        "colab": {
          "base_uri": "https://localhost:8080/"
        },
        "id": "Pxp2JcmbNN_l",
        "outputId": "6543175f-40cf-4a47-961e-d7213bdedde6"
      },
      "source": [
        "# 내 드라이브에 대한 주소\r\n",
        "from google.colab import drive\r\n",
        "drive.mount('/gdrive', force_remount=True)"
      ],
      "execution_count": null,
      "outputs": [
        {
          "output_type": "stream",
          "text": [
            "Mounted at /gdrive\n"
          ],
          "name": "stdout"
        }
      ]
    },
    {
      "cell_type": "code",
      "metadata": {
        "id": "xH9XAIwVNM6i"
      },
      "source": [
        "import numpy as np\r\n",
        "import pandas as pd\r\n",
        "import tensorflow as tf\r\n",
        "from tensorflow import keras\r\n",
        "import seaborn as sns\r\n",
        "import matplotlib.pyplot as plt"
      ],
      "execution_count": null,
      "outputs": []
    },
    {
      "cell_type": "code",
      "metadata": {
        "id": "tR74GZMCBBuz"
      },
      "source": [
        "path = \"/gdrive/My Drive/dacon_news\"\r\n",
        "\r\n",
        "train = pd.read_csv(path + \"/data/news_train.csv\")\r\n",
        "test = pd.read_csv(path + \"/data/news_test.csv\")"
      ],
      "execution_count": null,
      "outputs": []
    },
    {
      "cell_type": "code",
      "metadata": {
        "id": "FwAQw1o2Av2C",
        "colab": {
          "base_uri": "https://localhost:8080/"
        },
        "outputId": "643284af-b2ad-4940-debe-5c5d264b72c2"
      },
      "source": [
        "# konlpy Mecab 사용하기\r\n",
        "\r\n",
        "!set -x \\\r\n",
        "&& pip install konlpy \\\r\n",
        "&& curl -s https://raw.githubusercontent.com/konlpy/konlpy/master/scripts/mecab.sh | bash -x"
      ],
      "execution_count": null,
      "outputs": [
        {
          "output_type": "stream",
          "text": [
            "+ pip install konlpy\n",
            "Requirement already satisfied: konlpy in /usr/local/lib/python3.6/dist-packages (0.5.2)\n",
            "Requirement already satisfied: beautifulsoup4==4.6.0 in /usr/local/lib/python3.6/dist-packages (from konlpy) (4.6.0)\n",
            "Requirement already satisfied: JPype1>=0.7.0 in /usr/local/lib/python3.6/dist-packages (from konlpy) (1.2.0)\n",
            "Requirement already satisfied: tweepy>=3.7.0 in /usr/local/lib/python3.6/dist-packages (from konlpy) (3.9.0)\n",
            "Requirement already satisfied: numpy>=1.6 in /usr/local/lib/python3.6/dist-packages (from konlpy) (1.18.5)\n",
            "Requirement already satisfied: colorama in /usr/local/lib/python3.6/dist-packages (from konlpy) (0.4.4)\n",
            "Requirement already satisfied: lxml>=4.1.0 in /usr/local/lib/python3.6/dist-packages (from konlpy) (4.2.6)\n",
            "Requirement already satisfied: typing-extensions; python_version < \"3.8\" in /usr/local/lib/python3.6/dist-packages (from JPype1>=0.7.0->konlpy) (3.7.4.3)\n",
            "Requirement already satisfied: requests[socks]>=2.11.1 in /usr/local/lib/python3.6/dist-packages (from tweepy>=3.7.0->konlpy) (2.23.0)\n",
            "Requirement already satisfied: six>=1.10.0 in /usr/local/lib/python3.6/dist-packages (from tweepy>=3.7.0->konlpy) (1.15.0)\n",
            "Requirement already satisfied: requests-oauthlib>=0.7.0 in /usr/local/lib/python3.6/dist-packages (from tweepy>=3.7.0->konlpy) (1.3.0)\n",
            "Requirement already satisfied: certifi>=2017.4.17 in /usr/local/lib/python3.6/dist-packages (from requests[socks]>=2.11.1->tweepy>=3.7.0->konlpy) (2020.12.5)\n",
            "Requirement already satisfied: chardet<4,>=3.0.2 in /usr/local/lib/python3.6/dist-packages (from requests[socks]>=2.11.1->tweepy>=3.7.0->konlpy) (3.0.4)\n",
            "Requirement already satisfied: urllib3!=1.25.0,!=1.25.1,<1.26,>=1.21.1 in /usr/local/lib/python3.6/dist-packages (from requests[socks]>=2.11.1->tweepy>=3.7.0->konlpy) (1.24.3)\n",
            "Requirement already satisfied: idna<3,>=2.5 in /usr/local/lib/python3.6/dist-packages (from requests[socks]>=2.11.1->tweepy>=3.7.0->konlpy) (2.10)\n",
            "Requirement already satisfied: PySocks!=1.5.7,>=1.5.6; extra == \"socks\" in /usr/local/lib/python3.6/dist-packages (from requests[socks]>=2.11.1->tweepy>=3.7.0->konlpy) (1.7.1)\n",
            "Requirement already satisfied: oauthlib>=3.0.0 in /usr/local/lib/python3.6/dist-packages (from requests-oauthlib>=0.7.0->tweepy>=3.7.0->konlpy) (3.1.0)\n",
            "+ curl -s https://raw.githubusercontent.com/konlpy/konlpy/master/scripts/mecab.sh\n",
            "+ bash -x\n",
            "+ mecab_dicdir=/usr/local/lib/mecab/dic/mecab-ko-dic\n",
            "+ set -e\n",
            "++ uname\n",
            "+ os=Linux\n",
            "+ [[ ! Linux == \\L\\i\\n\\u\\x ]]\n",
            "+ hash sudo\n",
            "+ sudo=sudo\n",
            "+ python=python3\n",
            "+ hash pyenv\n",
            "+ at_user_site=\n",
            "++ check_python_site_location_is_writable\n",
            "++ python3 -\n",
            "+ [[ 1 == \\0 ]]\n",
            "+ hash automake\n",
            "+ hash mecab\n",
            "+ echo 'mecab-ko is already installed'\n",
            "mecab-ko is already installed\n",
            "+ [[ -d /usr/local/lib/mecab/dic/mecab-ko-dic ]]\n",
            "+ echo 'mecab-ko-dic is already installed'\n",
            "mecab-ko-dic is already installed\n",
            "++ python3 -c 'import pkgutil; print(1 if pkgutil.find_loader(\"MeCab\") else 0)'\n",
            "+ [[ 1 == \\1 ]]\n",
            "+ echo 'mecab-python is already installed'\n",
            "mecab-python is already installed\n",
            "+ echo Done.\n",
            "Done.\n"
          ],
          "name": "stdout"
        }
      ]
    },
    {
      "cell_type": "markdown",
      "metadata": {
        "id": "o346VrtzZatW"
      },
      "source": [
        "# content 맨앞이 [이거나 (이면 0"
      ]
    },
    {
      "cell_type": "code",
      "metadata": {
        "id": "bcwUcZBRVEvd"
      },
      "source": [
        "train[\"content_startswith_[\"]=train.content.apply(lambda x : str(x).startswith(\"[\" ) or str(x).startswith(\"(\") )+0"
      ],
      "execution_count": null,
      "outputs": []
    },
    {
      "cell_type": "markdown",
      "metadata": {
        "id": "upG2RgbFWdeb"
      },
      "source": [
        "# 타이틀을 이용한 feature\r\n",
        "- 해당 title에 몇가지 단어가 들어갈 경우 약 90% 이상이 info가 1"
      ]
    },
    {
      "cell_type": "code",
      "metadata": {
        "id": "iOIXetvBV--H"
      },
      "source": [
        "title_noise = ['적중 100%', '글로벌 주요 뉴스', '[전문가 의견]', \r\n",
        "               '[포커스]', '※','■', '▶' ,'◆','★',' TOP', 'BEST',\r\n",
        "'전문가의 눈', '전문가선정', '전문가의견','】','후속주도 감사합니다',\r\n",
        "               '전문가추천', '주요이슈']\r\n",
        "\r\n",
        "def title_choose(x):\r\n",
        "  if (\"종목\" in x[\"title\"][-6:]) or (\"관련주\" in x[\"title\"][-5:]):\r\n",
        "    return 1\r\n",
        "  elif (x[\"content\"]==\"코스피\") or (x[\"content\"]==\"코스닥\"):\r\n",
        "    return 1\r\n",
        "  for noise in title_noise:\r\n",
        "    if noise in x[\"title\"].upper():\r\n",
        "      if (x[\"content\"][:2]==\"제목\") or (x[\"content\"][:1]==\"[\"):\r\n",
        "        return 0\r\n",
        "      else:\r\n",
        "        return 1\r\n",
        "  return 0"
      ],
      "execution_count": null,
      "outputs": []
    },
    {
      "cell_type": "code",
      "metadata": {
        "id": "1scNCdG8ZWRy"
      },
      "source": [
        "train[\"info1_title\"]=train.apply(title_choose, axis=1)"
      ],
      "execution_count": null,
      "outputs": []
    },
    {
      "cell_type": "markdown",
      "metadata": {
        "id": "Fogswvq5ZW1Q"
      },
      "source": [
        "# info가 1인 content에서 자주 등장하는 단어를 포함한 content를 1로하는 feature 추가"
      ]
    },
    {
      "cell_type": "code",
      "metadata": {
        "id": "DWyfHryoY4vk"
      },
      "source": [
        "def in_bull(x):\r\n",
        "    info_list = ['공개','추천','상한','무료','주식','바이오','금리','테마','탁론','카톡','실적',\r\n",
        "                 '수익', '미수', '수혜주','급등', 'http', '하이스',\"]]\"]\r\n",
        "    for i in info_list:\r\n",
        "        if i in x:\r\n",
        "            return 1\r\n",
        "    return 0\r\n",
        "train[\"info1_words\"]=train[\"content\"].apply(in_bull)"
      ],
      "execution_count": null,
      "outputs": []
    },
    {
      "cell_type": "markdown",
      "metadata": {
        "id": "vbS7TN-xgARn"
      },
      "source": [
        "# Order을 이용한 feature"
      ]
    },
    {
      "cell_type": "code",
      "metadata": {
        "id": "P5Tf50Emf-39"
      },
      "source": [
        "title_group = (train.groupby([\"title\"]).count())[\"n_id\"]\r\n",
        "train[\"new_ord\"]=train.apply(lambda x: x[\"ord\"]/title_group[x[\"title\"]], axis=1)"
      ],
      "execution_count": null,
      "outputs": []
    },
    {
      "cell_type": "markdown",
      "metadata": {
        "id": "0TOb5PyeZc40"
      },
      "source": [
        "# tokenization"
      ]
    },
    {
      "cell_type": "code",
      "metadata": {
        "id": "Piur47l5A1TI"
      },
      "source": [
        "from konlpy.tag import Mecab\r\n",
        "import re\r\n",
        "from konlpy.tag import Okt\r\n",
        "\r\n",
        "def text_preprocessing(text_list):\r\n",
        "    \r\n",
        "    stopwords = [] #불용어 설정\r\n",
        "    \r\n",
        "    tokenizer = Mecab() #형태소 분석기 \r\n",
        "    token_list = [] \r\n",
        "    \r\n",
        "    for text in text_list:\r\n",
        "        txt = re.sub('[^가-힣]', ' ', text) #한글만 남기고 다른 글자 모두 제거\r\n",
        "        txt = re.sub('[가-힣\\s]+기자]','기자', txt) #기자 이름 제거\r\n",
        "        token = tokenizer.morphs(txt) #형태소 분석\r\n",
        "\r\n",
        "        #형태소 분석 결과 중 stopwords에 해당하지 않고, float type이 아닌 것만 수집\r\n",
        "        token = [t for t in token if t not in stopwords and type(t) != float] \r\n",
        "        token_list.append(token)\r\n",
        "        \r\n",
        "    return token_list, tokenizer\r\n",
        "\r\n",
        "#형태소 분석기를 따로 저장한 이유는 후에 test 데이터 전처리를 진행할 때 이용해야 되기 때문입니다. \r\n",
        "train['new_article'], okt = text_preprocessing(train['content'])"
      ],
      "execution_count": null,
      "outputs": []
    },
    {
      "cell_type": "code",
      "metadata": {
        "id": "9fJgEe3joxSc"
      },
      "source": [
        "# 결측치 제거\r\n",
        "train = train[train[\"new_article\"].apply(lambda x: False if len(x)==0 else True)]"
      ],
      "execution_count": null,
      "outputs": []
    },
    {
      "cell_type": "markdown",
      "metadata": {
        "id": "Cyht3PbGT7SR"
      },
      "source": [
        "# Vectorization"
      ]
    },
    {
      "cell_type": "code",
      "metadata": {
        "id": "F5O1nOzRK2AR",
        "colab": {
          "base_uri": "https://localhost:8080/"
        },
        "outputId": "73db9d2c-7bcc-439b-f60f-0cc8d003ccfe"
      },
      "source": [
        "from tensorflow.keras.preprocessing.text import Tokenizer\r\n",
        "from tensorflow.keras.preprocessing.sequence import pad_sequences\r\n",
        "max_len = 40\r\n",
        "\r\n",
        "def text2sequence(train_text, max_len=100):\r\n",
        "    \r\n",
        "    tokenizer = Tokenizer()\r\n",
        "    tokenizer.fit_on_texts(train_text)\r\n",
        "    train_X_seq = tokenizer.texts_to_sequences(train_text)\r\n",
        "    vocab_size = len(tokenizer.word_index) + 1\r\n",
        "    print('vocab_size : ', vocab_size)\r\n",
        "    X_train = pad_sequences(train_X_seq, maxlen = max_len, truncating=\"post\") # 길이를 맞춰줌\r\n",
        "    return X_train, vocab_size, tokenizer\r\n",
        "\r\n",
        "train_y = train['info']\r\n",
        "train_X, vocab_size, vectorizer = text2sequence(train['new_article'], max_len = max_len)\r\n",
        "\r\n",
        "print(train_X.shape, train_y.shape)"
      ],
      "execution_count": null,
      "outputs": [
        {
          "output_type": "stream",
          "text": [
            "vocab_size :  33443\n",
            "(118140, 100) (118140,)\n"
          ],
          "name": "stdout"
        }
      ]
    },
    {
      "cell_type": "code",
      "metadata": {
        "id": "VD2cSguB8uG6"
      },
      "source": [
        "import gensim\r\n",
        "from gensim.models.keyedvectors import KeyedVectors\r\n",
        "path = \"/gdrive/My Drive/dacon_news\""
      ],
      "execution_count": null,
      "outputs": []
    },
    {
      "cell_type": "code",
      "metadata": {
        "id": "xd5zy8_5fwvT"
      },
      "source": [
        "# 한국어 word2vec model\r\n",
        "word2vec2 = gensim.models.Word2Vec.load(path+'/embedding/ko.bin')"
      ],
      "execution_count": null,
      "outputs": []
    },
    {
      "cell_type": "code",
      "metadata": {
        "id": "EdSnbO4xWykD",
        "colab": {
          "base_uri": "https://localhost:8080/",
          "height": 238
        },
        "outputId": "3eb7da95-b68f-42d7-d4d0-ce1620d51b06"
      },
      "source": [
        "# embedding_matrix = np.zeros((vocab_size, 200))\r\n",
        "vocab = vectorizer.word_index\r\n",
        "count = 0\r\n",
        "\r\n",
        "for idx, word in enumerate(vocab):\r\n",
        "    if word in word2vec2:\r\n",
        "      embedding_vector = word2vec2[word]\r\n",
        "      embedding_matrix[idx] = embedding_vector\r\n",
        "    else: # 임베딩 모델에 없는 것\r\n",
        "   #    print(word, \"word2vec에 없는 단어입니다.\")\r\n",
        "      count += 1\r\n",
        "      pass\r\n",
        "\r\n",
        "print('count: ', count)  "
      ],
      "execution_count": null,
      "outputs": [
        {
          "output_type": "error",
          "ename": "NameError",
          "evalue": "ignored",
          "traceback": [
            "\u001b[0;31m---------------------------------------------------------------------------\u001b[0m",
            "\u001b[0;31mNameError\u001b[0m                                 Traceback (most recent call last)",
            "\u001b[0;32m<ipython-input-1-ca248c9fdee8>\u001b[0m in \u001b[0;36m<module>\u001b[0;34m()\u001b[0m\n\u001b[1;32m      1\u001b[0m \u001b[0;31m# embedding_matrix = np.zeros((vocab_size, 200))\u001b[0m\u001b[0;34m\u001b[0m\u001b[0;34m\u001b[0m\u001b[0;34m\u001b[0m\u001b[0m\n\u001b[0;32m----> 2\u001b[0;31m \u001b[0mvocab\u001b[0m \u001b[0;34m=\u001b[0m \u001b[0mvectorizer\u001b[0m\u001b[0;34m.\u001b[0m\u001b[0mword_index\u001b[0m\u001b[0;34m\u001b[0m\u001b[0;34m\u001b[0m\u001b[0m\n\u001b[0m\u001b[1;32m      3\u001b[0m \u001b[0mcount\u001b[0m \u001b[0;34m=\u001b[0m \u001b[0;36m0\u001b[0m\u001b[0;34m\u001b[0m\u001b[0;34m\u001b[0m\u001b[0m\n\u001b[1;32m      4\u001b[0m \u001b[0;34m\u001b[0m\u001b[0m\n\u001b[1;32m      5\u001b[0m \u001b[0;32mfor\u001b[0m \u001b[0midx\u001b[0m\u001b[0;34m,\u001b[0m \u001b[0mword\u001b[0m \u001b[0;32min\u001b[0m \u001b[0menumerate\u001b[0m\u001b[0;34m(\u001b[0m\u001b[0mvocab\u001b[0m\u001b[0;34m)\u001b[0m\u001b[0;34m:\u001b[0m\u001b[0;34m\u001b[0m\u001b[0;34m\u001b[0m\u001b[0m\n",
            "\u001b[0;31mNameError\u001b[0m: name 'vectorizer' is not defined"
          ]
        }
      ]
    },
    {
      "cell_type": "code",
      "metadata": {
        "colab": {
          "base_uri": "https://localhost:8080/"
        },
        "id": "X9YjQu_geixu",
        "outputId": "49e247be-4936-4695-8b9f-35a38fe15be7"
      },
      "source": [
        "count"
      ],
      "execution_count": null,
      "outputs": [
        {
          "output_type": "execute_result",
          "data": {
            "text/plain": [
              "17727"
            ]
          },
          "metadata": {
            "tags": []
          },
          "execution_count": 97
        }
      ]
    },
    {
      "cell_type": "markdown",
      "metadata": {
        "id": "6E9L7Gp6HcxM"
      },
      "source": [
        "#train test split"
      ]
    },
    {
      "cell_type": "code",
      "metadata": {
        "id": "OoqDYSIMXgSE"
      },
      "source": [
        "train_X = np.concatenate([train_X,train[[\"info1_title\",\"new_ord\",\"content_startswith_[\"]].values.reshape(-1,3)], axis=1)"
      ],
      "execution_count": null,
      "outputs": []
    },
    {
      "cell_type": "code",
      "metadata": {
        "id": "oi6C62j2JDAC"
      },
      "source": [
        "# 문장별로 train_test set 분리\r\n",
        "from sklearn.model_selection import train_test_split\r\n",
        "\r\n",
        "#num_article = len(train[\"n_id\"].unique())\r\n",
        "#trainnp.random.randint(0,num_article,int(0.7*num_article))\r\n",
        "\r\n",
        "X_train, X_valid, y_train, y_valid = train_test_split(train_X, train_y, random_state = 42, test_size = 0.3)"
      ],
      "execution_count": null,
      "outputs": []
    },
    {
      "cell_type": "code",
      "metadata": {
        "id": "TPG9MRVr24ot"
      },
      "source": [
        "index_seq = (X_train.argmax(axis=1)).argsort(axis=0)\r\n",
        "X_train = X_train[index_seq]\r\n",
        "y_train = y_train.iloc[index_seq]"
      ],
      "execution_count": null,
      "outputs": []
    },
    {
      "cell_type": "markdown",
      "metadata": {
        "id": "a2Vqd61JSdLQ"
      },
      "source": [
        "#모델링 비교"
      ]
    },
    {
      "cell_type": "markdown",
      "metadata": {
        "id": "tjhtD1RqCGE2"
      },
      "source": [
        "1. embedding vector만을 통한 모델링"
      ]
    },
    {
      "cell_type": "code",
      "metadata": {
        "id": "IOrznz_nNk33"
      },
      "source": [
        "# EDA기반으로 만든 feature 예측변수로 추가\r\n",
        "from keras import regularizers\r\n",
        "\r\n",
        "def LSTM_add_feature(vocab_size, embedding_size = 200, max_len=100):\r\n",
        "  input1 = keras.layers.Input(shape = [max_len,]) #문장 단어 input\r\n",
        "  input2 = keras.layers.Input(shape = [3,]) # EDA기반 feature input\r\n",
        "\r\n",
        "  # LSTM\r\n",
        "  embedding = keras.layers.Embedding(vocab_size, embedding_size, weights = [embedding_matrix], input_length = max_len)(input1) # 임베딩 가중치 적용\r\n",
        "  dropout1 = keras.layers.SpatialDropout1D(0.2)(embedding)\r\n",
        "  lstm1 = keras.layers.LSTM(32, return_sequences = True)(dropout1)\r\n",
        "  lstm2 = keras.layers.LSTM(32)(lstm1)\r\n",
        "  dropout2 = keras.layers.Dropout(0.5)(lstm2)\r\n",
        "  #lstm_output = keras.layers.Dense(16, activation = \"selu\")(dropout2)\r\n",
        "\r\n",
        "  # MLP\r\n",
        "  concat = keras.layers.concatenate([dropout2,input2])\r\n",
        "  hidden = keras.layers.Dense(16, activation = \"selu\")(concat)\r\n",
        "  output = keras.layers.Dense(1, activation = \"sigmoid\")(hidden)\r\n",
        "\r\n",
        "  model = keras.Model(inputs = [input1, input2], outputs = [output])\r\n",
        "\r\n",
        "  model.compile(optimizer=keras.optimizers.Adam(lr=learning_rate), loss=\"binary_crossentropy\", metrics = \"accuracy\")\r\n",
        "  model.summary()\r\n",
        "  return model\r\n"
      ],
      "execution_count": null,
      "outputs": []
    },
    {
      "cell_type": "code",
      "metadata": {
        "id": "vLyta-R27x7b"
      },
      "source": [
        "# 훈련 시\r\n",
        "tf.random.set_seed(42)\r\n",
        "\r\n",
        "\r\n",
        "checkpoint_cb = keras.callbacks.ModelCheckpoint(\"hyerim_add_feature_best_model2.h5\",\r\n",
        "                                               save_best_only = True)\r\n",
        "\r\n",
        "# 하이퍼파라미터\r\n",
        "max_epoch = 5\r\n",
        "batch_size = 32\r\n",
        "learning_rate = 0.001\r\n",
        "\r\n",
        "model = LSTM_add_feature(vocab_size, max_len = max_len)\r\n",
        "history = model.fit(x=[X_train[:,:-3],X_train[:,-3:]], y=y_train,epochs=max_epoch,\r\n",
        "                batch_size = batch_size,  validation_data = ((X_valid[:,:-3],X_valid[:,-3:]),y_valid), validation_batch_size = batch_size,\r\n",
        "                 callbacks = [checkpoint_cb])"
      ],
      "execution_count": null,
      "outputs": []
    },
    {
      "cell_type": "code",
      "metadata": {
        "id": "JUSGWJvkDgiD"
      },
      "source": [
        "best_model = keras.models.load_model(\"hyerim_add_feature_best_model.h5\") # 저장된 모델 불러오기\r\n",
        "plt.plot(pd.DataFrame(history.history))"
      ],
      "execution_count": null,
      "outputs": []
    },
    {
      "cell_type": "code",
      "metadata": {
        "colab": {
          "base_uri": "https://localhost:8080/"
        },
        "id": "1pUdVuxnZRWb",
        "outputId": "cf562e3a-55ce-49d9-dc30-2b6bcf0a9d98"
      },
      "source": [
        "best_model.evaluate((X_valid[:,:-3],X_valid[:,-3:]),y_valid)"
      ],
      "execution_count": null,
      "outputs": [
        {
          "output_type": "stream",
          "text": [
            "WARNING:tensorflow:Model was constructed with shape (None, 300) for input Tensor(\"input_23_1:0\", shape=(None, 300), dtype=float32), but it was called on an input with incompatible shape (None, 100).\n",
            "1108/1108 [==============================] - 15s 14ms/step - loss: 0.0730 - accuracy: 0.9768\n"
          ],
          "name": "stdout"
        },
        {
          "output_type": "execute_result",
          "data": {
            "text/plain": [
              "[0.0730186253786087, 0.9768353700637817]"
            ]
          },
          "metadata": {
            "tags": []
          },
          "execution_count": 139
        }
      ]
    },
    {
      "cell_type": "code",
      "metadata": {
        "colab": {
          "base_uri": "https://localhost:8080/"
        },
        "id": "O3X-721afCH9",
        "outputId": "8b5c547a-8b84-4e8e-f643-f83c414b48b2"
      },
      "source": [
        "# 성능\r\n",
        "best_model.evaluate((X_valid[:,:-3],X_valid[:,-3:]),y_valid)"
      ],
      "execution_count": null,
      "outputs": [
        {
          "output_type": "stream",
          "text": [
            "WARNING:tensorflow:Model was constructed with shape (None, 300) for input Tensor(\"input_23_1:0\", shape=(None, 300), dtype=float32), but it was called on an input with incompatible shape (None, 100).\n"
          ],
          "name": "stdout"
        }
      ]
    },
    {
      "cell_type": "markdown",
      "metadata": {
        "id": "QTGrQTG0_DcA"
      },
      "source": [
        "# 최종 훈련"
      ]
    },
    {
      "cell_type": "code",
      "metadata": {
        "id": "euiZSXmb-p3h"
      },
      "source": [
        "# 실제 예측시\r\n",
        "index_seq = (train_X.argmax(axis=1)).argsort(axis=0)\r\n",
        "train_X = train_X[index_seq]\r\n",
        "train_y = train_y.iloc[index_seq]\r\n",
        "\r\n",
        "\r\n",
        "tf.random.set_seed(40)\r\n",
        "\r\n",
        "# 하이퍼파라미터\r\n",
        "max_epoch = 2\r\n",
        "batch_size = 32\r\n",
        "learning_rate = 0.001\r\n",
        "\r\n",
        "model = LSTM_add_feature(vocab_size, max_len = max_len)\r\n",
        "history = model.fit(x=[train_X[:,:-3],train_X[:,-3:]], y=train_y,epochs=max_epoch,batch_size = batch_size)"
      ],
      "execution_count": null,
      "outputs": []
    },
    {
      "cell_type": "markdown",
      "metadata": {
        "id": "LDjRKT6a_Tx3"
      },
      "source": [
        "# test 예측"
      ]
    },
    {
      "cell_type": "code",
      "metadata": {
        "colab": {
          "base_uri": "https://localhost:8080/",
          "height": 300
        },
        "id": "sPwtAYl2---w",
        "outputId": "2927b472-a0ea-4678-f690-acdf86955abd"
      },
      "source": [
        "plt.plot(pd.DataFrame(history.history))"
      ],
      "execution_count": null,
      "outputs": [
        {
          "output_type": "execute_result",
          "data": {
            "text/plain": [
              "[<matplotlib.lines.Line2D at 0x7fcf5b2946d8>,\n",
              " <matplotlib.lines.Line2D at 0x7fcf5b2947f0>]"
            ]
          },
          "metadata": {
            "tags": []
          },
          "execution_count": 114
        },
        {
          "output_type": "display_data",
          "data": {
            "image/png": "[encoded data removed]",
            "text/plain": [
              "<Figure size 432x288 with 1 Axes>"
            ]
          },
          "metadata": {
            "tags": [],
            "needs_background": "light"
          }
        }
      ]
    },
    {
      "cell_type": "code",
      "metadata": {
        "id": "wQvNHc7iNmaI"
      },
      "source": [
        "model.save('final_model.h5')"
      ],
      "execution_count": null,
      "outputs": []
    },
    {
      "cell_type": "code",
      "metadata": {
        "id": "efZxw2tUiMfr"
      },
      "source": [
        "test = pd.read_csv(path+\"news_test.csv\")\r\n",
        "\r\n",
        "test[\"info1_title\"]=test.apply(title_choose, axis=1)\r\n",
        "#test[\"info1_words\"]=test[\"content\"].apply(in_bull)\r\n",
        "\r\n",
        "test['new_article'], okt = text_preprocessing(test['content'])\r\n",
        "test_X_seq = vectorizer.texts_to_sequences(test[\"new_article\"])\r\n",
        "test_X = pad_sequences(test_X_seq, maxlen = max_len) # 길이를 맞춰줌\r\n",
        "test[\"content_startswith_[\"]=test.content.apply(lambda x : str(x).startswith(\"[\" ) or str(x).startswith(\"(\") )+0\r\n",
        "\r\n",
        "title_group = (test.groupby([\"title\"]).count())[\"n_id\"]\r\n",
        "test[\"new_ord\"]=test.apply(lambda x: x[\"ord\"]/title_group[x[\"title\"]], axis=1)\r\n",
        "\r\n",
        "test_X = np.concatenate([test_X,test[[\"info1_title\",\"new_ord\",\"content_startswith_[\"]].values.reshape(-1,3)], axis=1)"
      ],
      "execution_count": null,
      "outputs": []
    },
    {
      "cell_type": "code",
      "metadata": {
        "colab": {
          "base_uri": "https://localhost:8080/"
        },
        "id": "wtfXQsVKkuAQ",
        "outputId": "c091874c-5bbb-4532-c687-e3c5d504f777"
      },
      "source": [
        "final_model = keras.models.load_model(\"final_model.h5\") # 저장된 모델 불러오기\r\n",
        "predicted = final_model.predict([test_X[:,:-3],test_X[:,-3:]])"
      ],
      "execution_count": null,
      "outputs": [
        {
          "output_type": "stream",
          "text": [
            "WARNING:tensorflow:Model was constructed with shape (None, 300) for input Tensor(\"input_19:0\", shape=(None, 300), dtype=float32), but it was called on an input with incompatible shape (None, 102).\n"
          ],
          "name": "stdout"
        }
      ]
    },
    {
      "cell_type": "code",
      "metadata": {
        "id": "BJbH3cjw4-4u"
      },
      "source": [
        "test[\"info\"]=predicted\r\n",
        "predicted[test[\"content\"]==\"종합 경제정보 미디어 이데일리 - 무단전재 & 재배포 금지\"]=0"
      ],
      "execution_count": null,
      "outputs": []
    },
    {
      "cell_type": "code",
      "metadata": {
        "id": "BygcXFgCDoPl"
      },
      "source": [
        "submission = pd.read_csv(path+\"/data/sample_submission.csv\")\r\n",
        "submission[\"info\"]=(test[\"info\"]>=0.6)+0\r\n",
        "submission.to_csv(\"hyerim_submission.csv\", encoding=\"utf-8-sig\",index=False)"
      ],
      "execution_count": null,
      "outputs": []
    },
    {
      "cell_type": "code",
      "metadata": {
        "colab": {
          "base_uri": "https://localhost:8080/",
          "height": 407
        },
        "id": "hj-gsYUpOgOR",
        "outputId": "e0911b94-1483-4856-dc14-4f38aeece5f8"
      },
      "source": [
        "submission"
      ],
      "execution_count": null,
      "outputs": [
        {
          "output_type": "execute_result",
          "data": {
            "text/html": [
              "<div>\n",
              "<style scoped>\n",
              "    .dataframe tbody tr th:only-of-type {\n",
              "        vertical-align: middle;\n",
              "    }\n",
              "\n",
              "    .dataframe tbody tr th {\n",
              "        vertical-align: top;\n",
              "    }\n",
              "\n",
              "    .dataframe thead th {\n",
              "        text-align: right;\n",
              "    }\n",
              "</style>\n",
              "<table border=\"1\" class=\"dataframe\">\n",
              "  <thead>\n",
              "    <tr style=\"text-align: right;\">\n",
              "      <th></th>\n",
              "      <th>id</th>\n",
              "      <th>info</th>\n",
              "    </tr>\n",
              "  </thead>\n",
              "  <tbody>\n",
              "    <tr>\n",
              "      <th>0</th>\n",
              "      <td>NEWS00237_1</td>\n",
              "      <td>0.0</td>\n",
              "    </tr>\n",
              "    <tr>\n",
              "      <th>1</th>\n",
              "      <td>NEWS00237_2</td>\n",
              "      <td>0.0</td>\n",
              "    </tr>\n",
              "    <tr>\n",
              "      <th>2</th>\n",
              "      <td>NEWS00237_3</td>\n",
              "      <td>0.0</td>\n",
              "    </tr>\n",
              "    <tr>\n",
              "      <th>3</th>\n",
              "      <td>NEWS00237_4</td>\n",
              "      <td>0.0</td>\n",
              "    </tr>\n",
              "    <tr>\n",
              "      <th>4</th>\n",
              "      <td>NEWS00237_5</td>\n",
              "      <td>0.0</td>\n",
              "    </tr>\n",
              "    <tr>\n",
              "      <th>...</th>\n",
              "      <td>...</td>\n",
              "      <td>...</td>\n",
              "    </tr>\n",
              "    <tr>\n",
              "      <th>142560</th>\n",
              "      <td>NEWS09482_72</td>\n",
              "      <td>1.0</td>\n",
              "    </tr>\n",
              "    <tr>\n",
              "      <th>142561</th>\n",
              "      <td>NEWS09482_73</td>\n",
              "      <td>1.0</td>\n",
              "    </tr>\n",
              "    <tr>\n",
              "      <th>142562</th>\n",
              "      <td>NEWS09482_74</td>\n",
              "      <td>1.0</td>\n",
              "    </tr>\n",
              "    <tr>\n",
              "      <th>142563</th>\n",
              "      <td>NEWS09482_75</td>\n",
              "      <td>1.0</td>\n",
              "    </tr>\n",
              "    <tr>\n",
              "      <th>142564</th>\n",
              "      <td>NEWS09482_76</td>\n",
              "      <td>1.0</td>\n",
              "    </tr>\n",
              "  </tbody>\n",
              "</table>\n",
              "<p>142565 rows × 2 columns</p>\n",
              "</div>"
            ],
            "text/plain": [
              "                  id  info\n",
              "0        NEWS00237_1   0.0\n",
              "1        NEWS00237_2   0.0\n",
              "2        NEWS00237_3   0.0\n",
              "3        NEWS00237_4   0.0\n",
              "4        NEWS00237_5   0.0\n",
              "...              ...   ...\n",
              "142560  NEWS09482_72   1.0\n",
              "142561  NEWS09482_73   1.0\n",
              "142562  NEWS09482_74   1.0\n",
              "142563  NEWS09482_75   1.0\n",
              "142564  NEWS09482_76   1.0\n",
              "\n",
              "[142565 rows x 2 columns]"
            ]
          },
          "metadata": {
            "tags": []
          },
          "execution_count": 122
        }
      ]
    }
  ]
}